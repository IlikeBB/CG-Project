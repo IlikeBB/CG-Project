{
 "cells": [
  {
   "cell_type": "code",
   "execution_count": 1,
   "metadata": {},
   "outputs": [],
   "source": [
    "import torch, glob, os\n",
    "import numpy as np"
   ]
  },
  {
   "cell_type": "code",
   "execution_count": 2,
   "metadata": {},
   "outputs": [
    {
     "name": "stdout",
     "output_type": "stream",
     "text": [
      "train:  723 || test:  284\n"
     ]
    }
   ],
   "source": [
    "from sklearn.model_selection import StratifiedShuffleSplit\n",
    "from sklearn.model_selection import train_test_split\n",
    "# train val data path, checkpoint config\n",
    "model_type = 'mlp'\n",
    "version_type = 'ver1'\n",
    "convet_index_dict = {'ver1': 'Integer', 'ver2': 'EIIP', 'ver3': 'Atomic', 'ver4': 'Voss'}\n",
    "if model_type == 'cnn':\n",
    "    npy_path = f'./np_image_totalunit/tsne-binary-perplexity=5-pixel=100[{convet_index_dict[version_type]}]/'\n",
    "    save_weight_path = f'./model/weights_res18_tsne-binary-perplexity=50-pixel=100[{convet_index_dict[version_type]}]/'\n",
    "    npy_data_list = [os.path.join(npy_path,'image_npy',i ) for i in sorted(os.listdir(os.path.join(npy_path,'image_npy')))]\n",
    "else:\n",
    "    npy_path = f'./np_image_totalunit/mlp_{convet_index_dict[version_type]}/'\n",
    "    save_weight_path =f'./model/weights_mlp-binary-[{convet_index_dict[version_type]}]/'\n",
    "    npy_data_list = np.load(f'./np_image_totalunit/mlp_{convet_index_dict[version_type]}/gene.npy')\n",
    "\n",
    "weights_name = f\"weights_binaryclass_Covid19[-NACGT].final-{convet_index_dict[version_type]}.pt\"\n",
    "path2weights = os.path.join(save_weight_path,weights_name)\n",
    "label_ = np.load(os.path.join(npy_path,'label.npy'))\n",
    "\n",
    "# split train, val data\n",
    "X_train, X_test, y_train, y_test = train_test_split(npy_data_list, label_,stratify = label_, test_size=0.25, random_state=42)\n",
    "X_train, _, y_train, _ = train_test_split(X_train, y_train,stratify = y_train, test_size=0.15, random_state=42)\n",
    "print('train: ', len(X_train), '|| test: ', len(X_test)) "
   ]
  },
  {
   "cell_type": "code",
   "execution_count": 3,
   "metadata": {},
   "outputs": [],
   "source": [
    "from function import torch_dataset_func\n",
    "from train_val import test_model\n",
    "test_ld = torch_dataset_func(model_type = model_type)\n",
    "test_ds = test_ld.get_TransferDataset(data_list= X_test, labels= y_test, batch_size = len(X_test), shuffle = False)\n",
    "start_test = test_model()\n",
    "\n",
    "if model_type !='cnn':\n",
    "    start_test.model_config(model_type = model_type, data_shape = X_train.shape, class_num = 1, use_cuda = False)\n",
    "else:\n",
    "    start_test.model_config(model_type = model_type, data_shape = None, class_num = 1, use_cuda = False)\n",
    "start_test.ck_loader(path2weights)"
   ]
  },
  {
   "cell_type": "code",
   "execution_count": 4,
   "metadata": {},
   "outputs": [],
   "source": [
    "prob, label_ = start_test.test_process(test_ds, output='numpy')"
   ]
  },
  {
   "cell_type": "code",
   "execution_count": 5,
   "metadata": {},
   "outputs": [
    {
     "data": {
      "image/png": "[encoded data removed]",
      "text/plain": [
       "<Figure size 432x288 with 1 Axes>"
      ]
     },
     "metadata": {
      "needs_background": "light"
     },
     "output_type": "display_data"
    }
   ],
   "source": [
    "start_test.get_metric(save_name=os.path.join('./log_',weights_name[0:-3]+'-AUROC.jpg'), \n",
    "                                            fig_name=f'{model_type} {convet_index_dict[version_type]} - AUROC')"
   ]
  },
  {
   "cell_type": "code",
   "execution_count": 6,
   "metadata": {},
   "outputs": [],
   "source": [
    "def pred_fun(X_test, model = start_test.get_model()):\n",
    "    X_tensor = torch.from_numpy(X_test).float()\n",
    "    model.eval()\n",
    "    with torch.no_grad():\n",
    "        prob = model(X_tensor.to('cpu'))\n",
    "        # prob = torch.nn.functional.softmax(prob, dim=1)\n",
    "    return prob.detach().cpu().numpy()"
   ]
  },
  {
   "cell_type": "code",
   "execution_count": 7,
   "metadata": {},
   "outputs": [
    {
     "data": {
      "text/plain": [
       "[266, 268, 269, 270, 271]"
      ]
     },
     "execution_count": 7,
     "metadata": {},
     "output_type": "execute_result"
    }
   ],
   "source": [
    "import pandas as pd\n",
    "filter_csv_1000 = pd.read_csv('./dataset_1401/ver1 to ver3  boruta choose 1000 position summary upate  ver2 20220531.csv')\n",
    "selection_filter = sorted(np.array(filter_csv_1000[version_type])) #python list index start from 0\n",
    "selection_filter[0:5]"
   ]
  },
  {
   "cell_type": "code",
   "execution_count": 8,
   "metadata": {},
   "outputs": [
    {
     "name": "stderr",
     "output_type": "stream",
     "text": [
      "Using 723 background data samples could cause slower run times. Consider using shap.sample(data, K) or shap.kmeans(data, K) to summarize the background as K samples.\n"
     ]
    },
    {
     "name": "stdout",
     "output_type": "stream",
     "text": [
      "(723, 1000)\n"
     ]
    },
    {
     "name": "stderr",
     "output_type": "stream",
     "text": [
      "  0%|          | 0/20 [00:00<?, ?it/s]"
     ]
    },
    {
     "ename": "",
     "evalue": "",
     "output_type": "error",
     "traceback": [
      "\u001b[1;31mThe Kernel crashed while executing code in the the current cell or a previous cell. Please review the code in the cell(s) to identify a possible cause of the failure. Click <a href='https://aka.ms/vscodeJupyterKernelCrash'>here</a> for more info. View Jupyter <a href='command:jupyter.viewOutput'>log</a> for further details."
     ]
    },
    {
     "ename": "",
     "evalue": "",
     "output_type": "error",
     "traceback": [
      "\u001b[1;31mCanceled future for execute_request message before replies were done"
     ]
    }
   ],
   "source": [
    "import matplotlib.pyplot as plt\n",
    "if model_type=='mlp':\n",
    "    import shap\n",
    "    print(X_train.shape)\n",
    "    explainer = shap.KernelExplainer(pred_fun, X_train[0:50])\n",
    "    shap_values = explainer.shap_values(X_train[0:20])\n",
    "    \n",
    "    shap.initjs()\n",
    "    if version_type=='ver4':\n",
    "\n",
    "        voss_feature_name = []\n",
    "        for i in selection_filter:\n",
    "            for j in '-ACGNT':\n",
    "                voss_feature_name.append(f'{i} {j}')\n",
    "        selection_filter = voss_feature_name\n",
    "    else:\n",
    "        pass\n",
    "    shap.summary_plot(shap_values,\n",
    "                                                X_train[0:20].astype(np.float64),\n",
    "                                                feature_names=selection_filter, \n",
    "                                                plot_size=(10,14),\n",
    "                                                show=False)\n",
    "    plt.title(f'{convet_index_dict[version_type]} - {model_type}')                                        \n",
    "    plt.savefig(f'./log_/{model_type} - {convet_index_dict[version_type]}.jpg',format = \"jpg\",bbox_inches = 'tight')\n",
    "else:\n",
    "    import pickle as pk\n",
    "    from function import grad_cam\n",
    "    device = torch.device(\"cuda:0\" if torch.cuda.is_available() else \"cpu\")\n",
    "    class_dict = {0:'N', 1:'Y'}\n",
    "    pkl = f'./deepinsight_location_npy/tsne-binary-perplexity=50-pixel=100[{convet_index_dict[version_type]}].pkl'\n",
    "    it = pk.load(open(os.path.join(pkl),'rb'))\n",
    "    test_ds = test_ld.get_TransferDataset(data_list= X_test, labels= y_test, batch_size = 1, shuffle = False)\n",
    "    gradcam_fun = grad_cam(device = device, path2weights = path2weights, pkl_path = pkl, class_num = 1)\n",
    "    sum_image = np.zeros((100,100))\n",
    "    tsne_image = np.zeros((100,100))\n",
    "    for idx, (img, lab) in enumerate(test_ds):\n",
    "        if int(lab)==1:\n",
    "            images = img\n",
    "            label = lab\n",
    "            temp, temp2 = gradcam_fun.loader_cam(images, label, class_dict = class_dict, ths=0.75)\n",
    "            tsne_image = tsne_image + temp2\n",
    "            sum_image = sum_image + temp\n",
    "    if True:\n",
    "        _, axes = plt.subplots(1, 3, figsize=(20, 10))\n",
    "\n",
    "        axes[0].imshow(tsne_image, cmap='bone'); axes[0].axis('off'); axes[0].set_title(f'lineage diff = [Y]')\n",
    "        axes[1].imshow(tsne_image, cmap='bone')\n",
    "        axes[1].imshow(sum_image, alpha=0.7, cmap='hot'); axes[1].axis('off'); axes[1].set_title(f'MIX')\n",
    "        axes[2].imshow(sum_image, cmap='hot'); axes[2].axis('on'); axes[2].set_title(f'test diff= [Y] image stack')\n",
    "        plt.show()\n",
    "    feature_dict = {}\n",
    "    for x, first_array in enumerate(sum_image):\n",
    "        for y, second_array in enumerate(first_array):\n",
    "            if second_array>0.0:\n",
    "                feature_dict[x,y] = second_array\n",
    "                # print((x,y), round(second_array,8))\n",
    "    if version_type=='ver4':\n",
    "        voss_feature_name = []\n",
    "        for i in selection_filter:\n",
    "            for j in '-ACGNT':\n",
    "                voss_feature_name.append(f'{i} {j}')\n",
    "        selection_filter = voss_feature_name\n",
    "    else:\n",
    "        pass\n",
    "    total_feature_stack = []\n",
    "    for seq_index, xy in enumerate(it.coords()):\n",
    "        if tuple(xy) in list(feature_dict.keys()):\n",
    "            total_feature_stack.append([round(feature_dict[tuple(xy)], 2), list(xy), str(selection_filter[seq_index])])\n",
    "    total_feature_stack = sorted(total_feature_stack, reverse=True)\n",
    "    plot_pd = (pd.DataFrame(total_feature_stack, columns = ['value', 'position', 'index']))[['index', 'value']].sort_values('value').tail(40)\n",
    "    fig, ax = plt.subplots(figsize=(5, 10))  \n",
    "    ax.barh(plot_pd['index'], plot_pd['value'])\n",
    "    plt.title(f'{model_type} - {convet_index_dict[version_type]}')\n",
    "    plt.savefig(os.path.join('./log_', weights_name[0:-3]+f' - {model_type} - {convet_index_dict[version_type]}.jpg'))\n",
    "    plt.show()"
   ]
  }
 ],
 "metadata": {
  "interpreter": {
   "hash": "7c0815397989ad25c71c665a7e64b3d3379784b20599ad6a79d9a2d1ac17d389"
  },
  "kernelspec": {
   "display_name": "Python 3.7.11 ('covid')",
   "language": "python",
   "name": "python3"
  },
  "language_info": {
   "codemirror_mode": {
    "name": "ipython",
    "version": 3
   },
   "file_extension": ".py",
   "mimetype": "text/x-python",
   "name": "python",
   "nbconvert_exporter": "python",
   "pygments_lexer": "ipython3",
   "version": "3.7.11"
  }
 },
 "nbformat": 4,
 "nbformat_minor": 2
}
