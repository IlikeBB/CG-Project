{
 "cells": [
  {
   "cell_type": "code",
   "execution_count": 1,
   "metadata": {},
   "outputs": [],
   "source": [
    "import pandas as pd\n",
    "import numpy as np\n",
    "from Bio import SeqIO\n",
    "from tqdm.notebook import tqdm\n",
    "import scprep\n",
    "import phate"
   ]
  },
  {
   "cell_type": "code",
   "execution_count": 2,
   "metadata": {},
   "outputs": [],
   "source": [
    "\n",
    "nas_path = \"./dataset_1401/\"\n",
    "lineage_label = np.array(pd.read_csv('./dataset_1401/1404_lineage_report and metadata 20220316.csv')[['lineage_x','diff']])\n",
    "label_ = []\n",
    "new_lineage_label = []\n",
    "for idx, rna in enumerate(SeqIO.parse('./dataset_1401/1404.sequences.aln.fasta',\"fasta\")):\n",
    "    if \"B.1.617.2\" == lineage_label[idx][0]:\n",
    "    # break\n",
    "    # print(lineage_label[idx][0].split(' ')[0])\n",
    "        label_.append(lineage_label[idx][1].split(' ')[0])\n",
    "\n",
    "        new_lineage_label.append(str(rna.seq))"
   ]
  },
  {
   "cell_type": "code",
   "execution_count": 3,
   "metadata": {},
   "outputs": [],
   "source": [
    "class_,_ ,_,_= np.unique(label_,return_counts=True,return_index=True,return_inverse=True)"
   ]
  },
  {
   "cell_type": "code",
   "execution_count": 4,
   "metadata": {},
   "outputs": [
    {
     "name": "stdout",
     "output_type": "stream",
     "text": [
      "{'-': 0, 'N': 1, 'A': 2, 'C': 3, 'G': 4, 'T': 5}\n"
     ]
    },
    {
     "data": {
      "application/vnd.jupyter.widget-view+json": {
       "model_id": "9ce8aa041bda455992b8abb3d6bb7a83",
       "version_major": 2,
       "version_minor": 0
      },
      "text/plain": [
       "  0%|          | 0/1135 [00:00<?, ?it/s]"
      ]
     },
     "metadata": {},
     "output_type": "display_data"
    },
    {
     "name": "stdout",
     "output_type": "stream",
     "text": [
      "(1135, 29903)\n"
     ]
    }
   ],
   "source": [
    "# # only tcga rna unit\n",
    "def clean(x):\n",
    "\tx = x.upper() \n",
    "\t\n",
    "\tif x == 'T' or x == 'A' or x == 'G' or x == 'C' or x == '-' or x == 'N':\n",
    "\t\treturn x\n",
    "\n",
    "\tif x == 'U' or x == 'Y':\n",
    "\t\treturn 'T'\n",
    "\t\n",
    "\tif x == 'K' or x == 'S':\n",
    "\t\treturn 'G'\n",
    "\n",
    "\tif x == 'M' or x == 'R' or x == 'W' or x == 'H' or x=='V' or x=='D':\n",
    "\t\treturn 'A'\n",
    "\n",
    "\tif x== 'B':\n",
    "\t\treturn 'C'\n",
    "from itertools import product\n",
    "dict_search = {}\n",
    "for idx, i in enumerate('-NACGT'):\n",
    "\n",
    "    dict_search[i] = idx\n",
    "print(dict_search)\n",
    "from tqdm.notebook import tqdm\n",
    "num_new_sequences =[]\n",
    "for k in tqdm(new_lineage_label):\n",
    "\ttemp_store=[]\n",
    "\tfor j in k:\n",
    "\t\ttemp_store.append(dict_search[clean(j)])\n",
    "\tnum_new_sequences.append(temp_store)\n",
    "total_sequence_array = np.array(num_new_sequences)\n",
    "print(total_sequence_array.shape)"
   ]
  },
  {
   "cell_type": "code",
   "execution_count": 5,
   "metadata": {},
   "outputs": [
    {
     "name": "stdout",
     "output_type": "stream",
     "text": [
      "{'N': 0, 'Y': 1}\n"
     ]
    }
   ],
   "source": [
    "class_dict_ = {}\n",
    "for idx, i in enumerate(class_):\n",
    "    class_dict_[i] = idx\n",
    "print(class_dict_)\n",
    "multi_label = []\n",
    "for i in label_:\n",
    "    multi_label.append(class_dict_[i])"
   ]
  },
  {
   "cell_type": "code",
   "execution_count": 6,
   "metadata": {},
   "outputs": [
    {
     "name": "stdout",
     "output_type": "stream",
     "text": [
      "['Y', 'N', 'N', 'Y', 'N', 'N', 'Y', 'N', 'N', 'Y', 'N', 'Y', 'Y', 'N', 'N', 'Y', 'Y', 'N', 'N', 'Y']\n",
      "[1, 0, 0, 1, 0, 0, 1, 0, 0, 1, 0, 1, 1, 0, 0, 1, 1, 0, 0, 1]\n"
     ]
    }
   ],
   "source": [
    "print(label_[0:20])\n",
    "print(multi_label[0:20])"
   ]
  },
  {
   "cell_type": "code",
   "execution_count": 7,
   "metadata": {},
   "outputs": [
    {
     "data": {
      "text/plain": [
       "265"
      ]
     },
     "execution_count": 7,
     "metadata": {},
     "output_type": "execute_result"
    }
   ],
   "source": [
    "len(total_sequence_array[0][0:265])"
   ]
  },
  {
   "cell_type": "code",
   "execution_count": 8,
   "metadata": {},
   "outputs": [],
   "source": [
    "search_dict = {(266,21555): ['ORF1ab',], \n",
    "                              (21563, 25384): ['S',], \n",
    "                              (25393, 26220): ['ORF3a',], \n",
    "                              (26245, 26472): ['E',], \n",
    "                              (26523, 27191): ['M',], \n",
    "                              (27202, 27387): ['ORF6',],\n",
    "                              (27394, 27759): ['ORF7a',], \n",
    "                              (27756, 27887): ['ORF7b',], \n",
    "                              (27894, 28259): ['ORF8',],\n",
    "                              (28274, 29533): ['N',], \n",
    "                              (29558, 29674): ['ORF10',]}"
   ]
  },
  {
   "cell_type": "code",
   "execution_count": 9,
   "metadata": {},
   "outputs": [],
   "source": [
    "gene_region_dict = {}\n",
    "for next_gene in search_dict:\n",
    "    gene_region_dict[search_dict[next_gene][0]]=[]\n",
    "\n",
    "for gets, next_gene in zip(gene_region_dict, search_dict):\n",
    "    for i in range(len(total_sequence_array)):\n",
    "        gene_region_dict[gets].append(total_sequence_array[i][next_gene[0]-1:next_gene[1]])\n",
    "        # print(total_sequence_array[i][next_gene[0]-1:next_gene[1]])"
   ]
  },
  {
   "cell_type": "code",
   "execution_count": 10,
   "metadata": {},
   "outputs": [
    {
     "name": "stdout",
     "output_type": "stream",
     "text": [
      "Calculating PHATE...\n",
      "  Running PHATE on 1135 observations and 21290 variables.\n",
      "  Calculating graph and diffusion operator...\n",
      "    Calculating PCA...\n",
      "    Calculated PCA in 4.17 seconds.\n",
      "    Calculating KNN search...\n",
      "    Calculated KNN search in 0.19 seconds.\n",
      "    Calculating affinities...\n"
     ]
    },
    {
     "name": "stderr",
     "output_type": "stream",
     "text": [
      "/home/john/anaconda3/envs/phate/lib/python3.7/site-packages/graphtools/graphs.py:293: RuntimeWarning: Detected zero distance between 165 pairs of samples. Consider removing duplicates to avoid errors in downstream processing.\n",
      "  RuntimeWarning,\n"
     ]
    },
    {
     "name": "stdout",
     "output_type": "stream",
     "text": [
      "    Calculated affinities in 0.34 seconds.\n",
      "  Calculated graph and diffusion operator in 4.72 seconds.\n",
      "  Calculating diffusion potential...\n"
     ]
    },
    {
     "name": "stderr",
     "output_type": "stream",
     "text": [
      "/home/john/anaconda3/envs/phate/lib/python3.7/site-packages/graphtools/graphs.py:451: RuntimeWarning: overflow encountered in power\n",
      "  K.data = np.exp(-1 * np.power(K.data, self.decay))\n"
     ]
    },
    {
     "name": "stdout",
     "output_type": "stream",
     "text": [
      "  Calculated diffusion potential in 0.96 seconds.\n",
      "  Calculating metric MDS...\n",
      "  Calculated metric MDS in 1.72 seconds.\n",
      "Calculated PHATE in 7.70 seconds.\n",
      "Calculating PHATE...\n",
      "  Running PHATE on 1135 observations and 3822 variables.\n",
      "  Calculating graph and diffusion operator...\n",
      "    Calculating PCA...\n",
      "    Calculated PCA in 1.26 seconds.\n",
      "    Calculating KNN search...\n",
      "    Calculated KNN search in 0.18 seconds.\n",
      "    Calculating affinities...\n"
     ]
    },
    {
     "name": "stderr",
     "output_type": "stream",
     "text": [
      "/home/john/anaconda3/envs/phate/lib/python3.7/site-packages/graphtools/graphs.py:293: RuntimeWarning: Detected zero distance between 4200 pairs of samples. Consider removing duplicates to avoid errors in downstream processing.\n",
      "  RuntimeWarning,\n"
     ]
    },
    {
     "name": "stdout",
     "output_type": "stream",
     "text": [
      "    Calculated affinities in 0.29 seconds.\n",
      "  Calculated graph and diffusion operator in 1.75 seconds.\n",
      "  Calculating diffusion potential...\n"
     ]
    },
    {
     "name": "stderr",
     "output_type": "stream",
     "text": [
      "/home/john/anaconda3/envs/phate/lib/python3.7/site-packages/graphtools/graphs.py:451: RuntimeWarning: overflow encountered in power\n",
      "  K.data = np.exp(-1 * np.power(K.data, self.decay))\n"
     ]
    },
    {
     "name": "stdout",
     "output_type": "stream",
     "text": [
      "  Calculated diffusion potential in 0.84 seconds.\n",
      "  Calculating metric MDS...\n",
      "    Using SMACOF because SGD returned NaN\n",
      "  Calculated metric MDS in 8.89 seconds.\n",
      "Calculated PHATE in 11.49 seconds.\n",
      "Calculating PHATE...\n",
      "  Running PHATE on 1135 observations and 828 variables.\n",
      "  Calculating graph and diffusion operator...\n",
      "    Calculating PCA...\n",
      "    Calculated PCA in 0.41 seconds.\n",
      "    Calculating KNN search...\n",
      "    Calculated KNN search in 0.20 seconds.\n",
      "    Calculating affinities...\n"
     ]
    },
    {
     "name": "stderr",
     "output_type": "stream",
     "text": [
      "/home/john/anaconda3/envs/phate/lib/python3.7/site-packages/graphtools/graphs.py:293: RuntimeWarning: Detected zero distance between 12639 pairs of samples. Consider removing duplicates to avoid errors in downstream processing.\n",
      "  RuntimeWarning,\n"
     ]
    },
    {
     "name": "stdout",
     "output_type": "stream",
     "text": [
      "    Calculated affinities in 0.57 seconds.\n",
      "  Calculated graph and diffusion operator in 1.21 seconds.\n",
      "  Calculating diffusion potential...\n"
     ]
    },
    {
     "name": "stderr",
     "output_type": "stream",
     "text": [
      "/home/john/anaconda3/envs/phate/lib/python3.7/site-packages/graphtools/graphs.py:451: RuntimeWarning: overflow encountered in power\n",
      "  K.data = np.exp(-1 * np.power(K.data, self.decay))\n",
      "/home/john/anaconda3/envs/phate/lib/python3.7/site-packages/graphtools/base.py:553: RuntimeWarning: K should have a non-zero diagonal\n",
      "  warnings.warn(\"K should have a non-zero diagonal\", RuntimeWarning)\n"
     ]
    },
    {
     "name": "stdout",
     "output_type": "stream",
     "text": [
      "  Calculated diffusion potential in 0.65 seconds.\n",
      "  Calculating metric MDS...\n",
      "    Using SMACOF because SGD returned NaN\n",
      "  Calculated metric MDS in 43.48 seconds.\n",
      "Calculated PHATE in 45.36 seconds.\n",
      "Calculating PHATE...\n",
      "  Running PHATE on 1135 observations and 228 variables.\n",
      "  Calculating graph and diffusion operator...\n",
      "    Calculating PCA...\n",
      "    Calculated PCA in 0.28 seconds.\n",
      "    Calculating KNN search...\n",
      "    Calculated KNN search in 0.19 seconds.\n",
      "    Calculating affinities...\n"
     ]
    },
    {
     "name": "stderr",
     "output_type": "stream",
     "text": [
      "/home/john/anaconda3/envs/phate/lib/python3.7/site-packages/graphtools/graphs.py:293: RuntimeWarning: Detected zero distance between 19024 pairs of samples. Consider removing duplicates to avoid errors in downstream processing.\n",
      "  RuntimeWarning,\n"
     ]
    },
    {
     "name": "stdout",
     "output_type": "stream",
     "text": [
      "    Calculated affinities in 0.52 seconds.\n",
      "  Calculated graph and diffusion operator in 1.06 seconds.\n",
      "  Calculating diffusion potential...\n"
     ]
    },
    {
     "name": "stderr",
     "output_type": "stream",
     "text": [
      "/home/john/anaconda3/envs/phate/lib/python3.7/site-packages/graphtools/graphs.py:451: RuntimeWarning: overflow encountered in power\n",
      "  K.data = np.exp(-1 * np.power(K.data, self.decay))\n"
     ]
    },
    {
     "name": "stdout",
     "output_type": "stream",
     "text": [
      "  Calculated diffusion potential in 0.66 seconds.\n",
      "  Calculating metric MDS...\n",
      "    Using SMACOF because SGD returned NaN\n",
      "  Calculated metric MDS in 1.85 seconds.\n",
      "Calculated PHATE in 3.60 seconds.\n",
      "Calculating PHATE...\n",
      "  Running PHATE on 1135 observations and 669 variables.\n",
      "  Calculating graph and diffusion operator...\n",
      "    Calculating PCA...\n",
      "    Calculated PCA in 0.63 seconds.\n",
      "    Calculating KNN search...\n",
      "    Calculated KNN search in 0.19 seconds.\n",
      "    Calculating affinities...\n"
     ]
    },
    {
     "name": "stderr",
     "output_type": "stream",
     "text": [
      "/home/john/anaconda3/envs/phate/lib/python3.7/site-packages/graphtools/graphs.py:293: RuntimeWarning: Detected zero distance between 16098 pairs of samples. Consider removing duplicates to avoid errors in downstream processing.\n",
      "  RuntimeWarning,\n"
     ]
    },
    {
     "name": "stdout",
     "output_type": "stream",
     "text": [
      "    Calculated affinities in 0.46 seconds.\n",
      "  Calculated graph and diffusion operator in 1.30 seconds.\n",
      "  Calculating diffusion potential...\n"
     ]
    },
    {
     "name": "stderr",
     "output_type": "stream",
     "text": [
      "/home/john/anaconda3/envs/phate/lib/python3.7/site-packages/graphtools/graphs.py:451: RuntimeWarning: overflow encountered in power\n",
      "  K.data = np.exp(-1 * np.power(K.data, self.decay))\n",
      "/home/john/anaconda3/envs/phate/lib/python3.7/site-packages/graphtools/base.py:553: RuntimeWarning: K should have a non-zero diagonal\n",
      "  warnings.warn(\"K should have a non-zero diagonal\", RuntimeWarning)\n"
     ]
    },
    {
     "name": "stdout",
     "output_type": "stream",
     "text": [
      "  Calculated diffusion potential in 0.63 seconds.\n",
      "  Calculating metric MDS...\n",
      "    Using SMACOF because SGD returned NaN\n",
      "  Calculated metric MDS in 29.39 seconds.\n",
      "Calculated PHATE in 31.34 seconds.\n",
      "Calculating PHATE...\n",
      "  Running PHATE on 1135 observations and 186 variables.\n",
      "  Calculating graph and diffusion operator...\n",
      "    Calculating PCA...\n",
      "    Calculated PCA in 0.36 seconds.\n",
      "    Calculating KNN search...\n",
      "    Calculated KNN search in 0.19 seconds.\n",
      "    Calculating affinities...\n"
     ]
    },
    {
     "name": "stderr",
     "output_type": "stream",
     "text": [
      "/home/john/anaconda3/envs/phate/lib/python3.7/site-packages/graphtools/graphs.py:293: RuntimeWarning: Detected zero distance between 18287 pairs of samples. Consider removing duplicates to avoid errors in downstream processing.\n",
      "  RuntimeWarning,\n"
     ]
    },
    {
     "name": "stdout",
     "output_type": "stream",
     "text": [
      "    Calculated affinities in 0.55 seconds.\n",
      "  Calculated graph and diffusion operator in 1.12 seconds.\n",
      "  Calculating diffusion potential...\n"
     ]
    },
    {
     "name": "stderr",
     "output_type": "stream",
     "text": [
      "/home/john/anaconda3/envs/phate/lib/python3.7/site-packages/graphtools/graphs.py:451: RuntimeWarning: overflow encountered in power\n",
      "  K.data = np.exp(-1 * np.power(K.data, self.decay))\n",
      "/home/john/anaconda3/envs/phate/lib/python3.7/site-packages/graphtools/base.py:553: RuntimeWarning: K should have a non-zero diagonal\n",
      "  warnings.warn(\"K should have a non-zero diagonal\", RuntimeWarning)\n"
     ]
    },
    {
     "name": "stdout",
     "output_type": "stream",
     "text": [
      "  Calculated diffusion potential in 0.64 seconds.\n",
      "  Calculating metric MDS...\n",
      "    Using SMACOF because SGD returned NaN\n",
      "  Calculated metric MDS in 1.92 seconds.\n",
      "Calculated PHATE in 3.69 seconds.\n",
      "Calculating PHATE...\n",
      "  Running PHATE on 1135 observations and 366 variables.\n",
      "  Calculating graph and diffusion operator...\n",
      "    Calculating PCA...\n",
      "    Calculated PCA in 0.30 seconds.\n",
      "    Calculating KNN search...\n",
      "    Calculated KNN search in 0.21 seconds.\n",
      "    Calculating affinities...\n"
     ]
    },
    {
     "name": "stderr",
     "output_type": "stream",
     "text": [
      "/home/john/anaconda3/envs/phate/lib/python3.7/site-packages/graphtools/graphs.py:293: RuntimeWarning: Detected zero distance between 15546 pairs of samples. Consider removing duplicates to avoid errors in downstream processing.\n",
      "  RuntimeWarning,\n"
     ]
    },
    {
     "name": "stdout",
     "output_type": "stream",
     "text": [
      "    Calculated affinities in 0.44 seconds.\n",
      "  Calculated graph and diffusion operator in 1.00 seconds.\n",
      "  Calculating diffusion potential...\n"
     ]
    },
    {
     "name": "stderr",
     "output_type": "stream",
     "text": [
      "/home/john/anaconda3/envs/phate/lib/python3.7/site-packages/graphtools/graphs.py:451: RuntimeWarning: overflow encountered in power\n",
      "  K.data = np.exp(-1 * np.power(K.data, self.decay))\n"
     ]
    },
    {
     "name": "stdout",
     "output_type": "stream",
     "text": [
      "  Calculated diffusion potential in 0.71 seconds.\n",
      "  Calculating metric MDS...\n",
      "    Using SMACOF because SGD returned NaN\n",
      "  Calculated metric MDS in 11.52 seconds.\n",
      "Calculated PHATE in 13.25 seconds.\n",
      "Calculating PHATE...\n",
      "  Running PHATE on 1135 observations and 132 variables.\n",
      "  Calculating graph and diffusion operator...\n",
      "    Calculating PCA...\n",
      "    Calculated PCA in 0.18 seconds.\n",
      "    Calculating KNN search...\n",
      "    Calculated KNN search in 0.20 seconds.\n",
      "    Calculating affinities...\n"
     ]
    },
    {
     "name": "stderr",
     "output_type": "stream",
     "text": [
      "/home/john/anaconda3/envs/phate/lib/python3.7/site-packages/graphtools/graphs.py:293: RuntimeWarning: Detected zero distance between 18854 pairs of samples. Consider removing duplicates to avoid errors in downstream processing.\n",
      "  RuntimeWarning,\n"
     ]
    },
    {
     "name": "stdout",
     "output_type": "stream",
     "text": [
      "    Calculated affinities in 0.62 seconds.\n",
      "  Calculated graph and diffusion operator in 1.04 seconds.\n",
      "  Calculating diffusion potential...\n"
     ]
    },
    {
     "name": "stderr",
     "output_type": "stream",
     "text": [
      "/home/john/anaconda3/envs/phate/lib/python3.7/site-packages/graphtools/graphs.py:451: RuntimeWarning: overflow encountered in power\n",
      "  K.data = np.exp(-1 * np.power(K.data, self.decay))\n"
     ]
    },
    {
     "name": "stdout",
     "output_type": "stream",
     "text": [
      "  Calculated diffusion potential in 0.70 seconds.\n",
      "  Calculating metric MDS...\n",
      "    Using SMACOF because SGD returned NaN\n",
      "  Calculated metric MDS in 9.54 seconds.\n",
      "Calculated PHATE in 11.30 seconds.\n",
      "Calculating PHATE...\n",
      "  Running PHATE on 1135 observations and 366 variables.\n",
      "  Calculating graph and diffusion operator...\n",
      "    Calculating PCA...\n",
      "    Calculated PCA in 0.42 seconds.\n",
      "    Calculating KNN search...\n",
      "    Calculated KNN search in 0.19 seconds.\n",
      "    Calculating affinities...\n"
     ]
    },
    {
     "name": "stderr",
     "output_type": "stream",
     "text": [
      "/home/john/anaconda3/envs/phate/lib/python3.7/site-packages/graphtools/graphs.py:293: RuntimeWarning: Detected zero distance between 16752 pairs of samples. Consider removing duplicates to avoid errors in downstream processing.\n",
      "  RuntimeWarning,\n"
     ]
    },
    {
     "name": "stdout",
     "output_type": "stream",
     "text": [
      "    Calculated affinities in 0.49 seconds.\n",
      "  Calculated graph and diffusion operator in 1.11 seconds.\n",
      "  Calculating diffusion potential...\n"
     ]
    },
    {
     "name": "stderr",
     "output_type": "stream",
     "text": [
      "/home/john/anaconda3/envs/phate/lib/python3.7/site-packages/graphtools/graphs.py:451: RuntimeWarning: overflow encountered in power\n",
      "  K.data = np.exp(-1 * np.power(K.data, self.decay))\n",
      "/home/john/anaconda3/envs/phate/lib/python3.7/site-packages/graphtools/base.py:553: RuntimeWarning: K should have a non-zero diagonal\n",
      "  warnings.warn(\"K should have a non-zero diagonal\", RuntimeWarning)\n"
     ]
    },
    {
     "name": "stdout",
     "output_type": "stream",
     "text": [
      "  Calculated diffusion potential in 0.78 seconds.\n",
      "  Calculating metric MDS...\n",
      "    Using SMACOF because SGD returned NaN\n",
      "  Calculated metric MDS in 33.34 seconds.\n",
      "Calculated PHATE in 35.24 seconds.\n",
      "Calculating PHATE...\n",
      "  Running PHATE on 1135 observations and 1260 variables.\n",
      "  Calculating graph and diffusion operator...\n",
      "    Calculating PCA...\n",
      "    Calculated PCA in 0.83 seconds.\n",
      "    Calculating KNN search...\n",
      "    Calculated KNN search in 0.17 seconds.\n",
      "    Calculating affinities...\n"
     ]
    },
    {
     "name": "stderr",
     "output_type": "stream",
     "text": [
      "/home/john/anaconda3/envs/phate/lib/python3.7/site-packages/graphtools/graphs.py:293: RuntimeWarning: Detected zero distance between 11806 pairs of samples. Consider removing duplicates to avoid errors in downstream processing.\n",
      "  RuntimeWarning,\n"
     ]
    },
    {
     "name": "stdout",
     "output_type": "stream",
     "text": [
      "    Calculated affinities in 0.42 seconds.\n",
      "  Calculated graph and diffusion operator in 1.44 seconds.\n",
      "  Calculating diffusion potential...\n"
     ]
    },
    {
     "name": "stderr",
     "output_type": "stream",
     "text": [
      "/home/john/anaconda3/envs/phate/lib/python3.7/site-packages/graphtools/graphs.py:451: RuntimeWarning: overflow encountered in power\n",
      "  K.data = np.exp(-1 * np.power(K.data, self.decay))\n",
      "/home/john/anaconda3/envs/phate/lib/python3.7/site-packages/graphtools/base.py:553: RuntimeWarning: K should have a non-zero diagonal\n",
      "  warnings.warn(\"K should have a non-zero diagonal\", RuntimeWarning)\n"
     ]
    },
    {
     "name": "stdout",
     "output_type": "stream",
     "text": [
      "  Calculated diffusion potential in 0.84 seconds.\n",
      "  Calculating metric MDS...\n",
      "    Using SMACOF because SGD returned NaN\n",
      "  Calculated metric MDS in 27.95 seconds.\n",
      "Calculated PHATE in 30.24 seconds.\n",
      "Calculating PHATE...\n",
      "  Running PHATE on 1135 observations and 117 variables.\n",
      "  Calculating graph and diffusion operator...\n",
      "    Calculating PCA...\n",
      "    Calculated PCA in 0.21 seconds.\n",
      "    Calculating KNN search...\n",
      "    Calculated KNN search in 0.18 seconds.\n",
      "    Calculating affinities...\n"
     ]
    },
    {
     "name": "stderr",
     "output_type": "stream",
     "text": [
      "/home/john/anaconda3/envs/phate/lib/python3.7/site-packages/graphtools/graphs.py:293: RuntimeWarning: Detected zero distance between 18451 pairs of samples. Consider removing duplicates to avoid errors in downstream processing.\n",
      "  RuntimeWarning,\n"
     ]
    },
    {
     "name": "stdout",
     "output_type": "stream",
     "text": [
      "    Calculated affinities in 0.51 seconds.\n",
      "  Calculated graph and diffusion operator in 0.97 seconds.\n",
      "  Calculating diffusion potential...\n"
     ]
    },
    {
     "name": "stderr",
     "output_type": "stream",
     "text": [
      "/home/john/anaconda3/envs/phate/lib/python3.7/site-packages/graphtools/graphs.py:451: RuntimeWarning: overflow encountered in power\n",
      "  K.data = np.exp(-1 * np.power(K.data, self.decay))\n"
     ]
    },
    {
     "name": "stdout",
     "output_type": "stream",
     "text": [
      "  Calculated diffusion potential in 0.88 seconds.\n",
      "  Calculating metric MDS...\n",
      "    Using SMACOF because SGD returned NaN\n",
      "  Calculated metric MDS in 84.81 seconds.\n",
      "Calculated PHATE in 86.68 seconds.\n"
     ]
    }
   ],
   "source": [
    "import matplotlib.pyplot as plt\n",
    "save_matrix_fuc = {i:None for i in gene_region_dict.keys()}\n",
    "for i in save_matrix_fuc:\n",
    "    # save_matrix_fuc[i] = phate.PHATE(n_jobs=-2).fit_transform(np.array(gene_region_dict[i]))\n",
    "    save_matrix_fuc[i] = (phate.PHATE(n_jobs=-2).set_params(gamma=1, t=1000)).fit_transform(np.array(gene_region_dict[i]))\n",
    "# phate_op = phate.PHATE(n_jobs=-2)\n",
    "# data_phate = phate_op.fit_transform(np.array(gene_region_dict['ORF10']))"
   ]
  },
  {
   "cell_type": "code",
   "execution_count": 11,
   "metadata": {},
   "outputs": [
    {
     "data": {
      "text/plain": [
       "11"
      ]
     },
     "execution_count": 11,
     "metadata": {},
     "output_type": "execute_result"
    }
   ],
   "source": [
    "len(gene_region_dict.keys())"
   ]
  },
  {
   "cell_type": "code",
   "execution_count": 12,
   "metadata": {},
   "outputs": [],
   "source": [
    "yn_label = ['N' if i==0 else 'Y' for i in multi_label]"
   ]
  },
  {
   "cell_type": "code",
   "execution_count": 13,
   "metadata": {},
   "outputs": [
    {
     "name": "stderr",
     "output_type": "stream",
     "text": [
      "/home/john/anaconda3/envs/phate/lib/python3.7/site-packages/ipykernel_launcher.py:9: DeprecationWarning: Call to deprecated function (or staticmethod) scatter2d. (Use scprep.plot.scatter2d instead) -- Deprecated since version 1.0.0.\n",
      "  if __name__ == '__main__':\n",
      "/home/john/anaconda3/envs/phate/lib/python3.7/site-packages/ipykernel_launcher.py:9: DeprecationWarning: Call to deprecated function (or staticmethod) scatter2d. (Use scprep.plot.scatter2d instead) -- Deprecated since version 1.0.0.\n",
      "  if __name__ == '__main__':\n",
      "/home/john/anaconda3/envs/phate/lib/python3.7/site-packages/ipykernel_launcher.py:9: DeprecationWarning: Call to deprecated function (or staticmethod) scatter2d. (Use scprep.plot.scatter2d instead) -- Deprecated since version 1.0.0.\n",
      "  if __name__ == '__main__':\n",
      "/home/john/anaconda3/envs/phate/lib/python3.7/site-packages/ipykernel_launcher.py:9: DeprecationWarning: Call to deprecated function (or staticmethod) scatter2d. (Use scprep.plot.scatter2d instead) -- Deprecated since version 1.0.0.\n",
      "  if __name__ == '__main__':\n",
      "/home/john/anaconda3/envs/phate/lib/python3.7/site-packages/ipykernel_launcher.py:9: DeprecationWarning: Call to deprecated function (or staticmethod) scatter2d. (Use scprep.plot.scatter2d instead) -- Deprecated since version 1.0.0.\n",
      "  if __name__ == '__main__':\n",
      "/home/john/anaconda3/envs/phate/lib/python3.7/site-packages/ipykernel_launcher.py:9: DeprecationWarning: Call to deprecated function (or staticmethod) scatter2d. (Use scprep.plot.scatter2d instead) -- Deprecated since version 1.0.0.\n",
      "  if __name__ == '__main__':\n",
      "/home/john/anaconda3/envs/phate/lib/python3.7/site-packages/ipykernel_launcher.py:9: DeprecationWarning: Call to deprecated function (or staticmethod) scatter2d. (Use scprep.plot.scatter2d instead) -- Deprecated since version 1.0.0.\n",
      "  if __name__ == '__main__':\n",
      "/home/john/anaconda3/envs/phate/lib/python3.7/site-packages/ipykernel_launcher.py:9: DeprecationWarning: Call to deprecated function (or staticmethod) scatter2d. (Use scprep.plot.scatter2d instead) -- Deprecated since version 1.0.0.\n",
      "  if __name__ == '__main__':\n",
      "/home/john/anaconda3/envs/phate/lib/python3.7/site-packages/ipykernel_launcher.py:9: DeprecationWarning: Call to deprecated function (or staticmethod) scatter2d. (Use scprep.plot.scatter2d instead) -- Deprecated since version 1.0.0.\n",
      "  if __name__ == '__main__':\n",
      "/home/john/anaconda3/envs/phate/lib/python3.7/site-packages/ipykernel_launcher.py:9: DeprecationWarning: Call to deprecated function (or staticmethod) scatter2d. (Use scprep.plot.scatter2d instead) -- Deprecated since version 1.0.0.\n",
      "  if __name__ == '__main__':\n",
      "/home/john/anaconda3/envs/phate/lib/python3.7/site-packages/ipykernel_launcher.py:9: DeprecationWarning: Call to deprecated function (or staticmethod) scatter2d. (Use scprep.plot.scatter2d instead) -- Deprecated since version 1.0.0.\n",
      "  if __name__ == '__main__':\n"
     ]
    },
    {
     "data": {
      "image/png": "[encoded data removed]",
      "text/plain": [
       "<Figure size 1152x720 with 12 Axes>"
      ]
     },
     "metadata": {
      "needs_background": "light"
     },
     "output_type": "display_data"
    }
   ],
   "source": [
    "import matplotlib.pyplot as plt\n",
    "f, axes = plt.subplots(3,4, figsize=(16,10))\n",
    "[ax1, ax2, ax3, ax4, ax5, ax6, ax7, ax8, ax9, ax10, ax11, ax12] = axes.ravel()\n",
    "\n",
    "#plotting PCA\n",
    "for ax_i, matrix_keys in zip([ax1, ax2, ax3, ax4, ax5, ax6, ax7, ax8, ax9, ax10, ax11, ax12], save_matrix_fuc):\n",
    "    phate.plot.scatter2d(save_matrix_fuc[matrix_keys], s=10, \n",
    "                        c=yn_label, title=matrix_keys, \n",
    "                        legend=True, ax=ax_i)\n",
    "plt.tight_layout()\n",
    "plt.show()"
   ]
  },
  {
   "cell_type": "code",
   "execution_count": null,
   "metadata": {},
   "outputs": [],
   "source": []
  }
 ],
 "metadata": {
  "interpreter": {
   "hash": "6b9239fba4b89fdb5a830bb528c242887a373bc945d22a042a9c2a3603e2ab52"
  },
  "kernelspec": {
   "display_name": "Python 3.7.13 ('phate')",
   "language": "python",
   "name": "python3"
  },
  "language_info": {
   "codemirror_mode": {
    "name": "ipython",
    "version": 3
   },
   "file_extension": ".py",
   "mimetype": "text/x-python",
   "name": "python",
   "nbconvert_exporter": "python",
   "pygments_lexer": "ipython3",
   "version": "3.7.13"
  },
  "orig_nbformat": 4
 },
 "nbformat": 4,
 "nbformat_minor": 2
}
