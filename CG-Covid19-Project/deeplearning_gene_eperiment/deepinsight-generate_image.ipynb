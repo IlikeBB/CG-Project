{
 "cells": [
  {
   "cell_type": "code",
   "execution_count": 1,
   "metadata": {},
   "outputs": [],
   "source": [
    "from feedback import *\n",
    "import pandas as pd\n",
    "import numpy as np\n",
    "from tqdm.notebook import tqdm"
   ]
  },
  {
   "cell_type": "code",
   "execution_count": 2,
   "metadata": {},
   "outputs": [],
   "source": [
    "nas_path = \"./dataset_1401/\"\n",
    "lineage_label = pd.read_csv('./dataset_1401/1404_lineage_report and metadata 20220316.csv')[['scorpio_call_y','diff']]\n",
    "lineage_label = np.array(lineage_label.fillna(\"None\"))\n",
    "label_ = []\n",
    "new_lineage_label = []\n",
    "for idx, rna in enumerate(SeqIO.parse('./dataset_1401/1404.sequences.aln.fasta',\"fasta\")):\n",
    "    # print(lineage_label[idx][0].split(' ')[0])\n",
    "    label_.append(lineage_label[idx][0].split(' ')[0])\n",
    "\n",
    "    new_lineage_label.append(str(rna.seq).replace('-','N'))"
   ]
  },
  {
   "cell_type": "code",
   "execution_count": 3,
   "metadata": {},
   "outputs": [
    {
     "name": "stdout",
     "output_type": "stream",
     "text": [
      "sample: 1404\n"
     ]
    }
   ],
   "source": [
    "print('sample:', len(new_lineage_label))\n",
    "# kmer_3 = []\n",
    "# for Seq in new_lineage_label:\n",
    "#         temp_store = []\n",
    "#         for i in range(len(Seq)):\n",
    "#             if len(Seq[i:i+3])==3:\n",
    "                \n",
    "#                 temp_store.append(''.join(Seq[i:i+3]))\n",
    "#         kmer_3.append(temp_store)"
   ]
  },
  {
   "cell_type": "code",
   "execution_count": 4,
   "metadata": {},
   "outputs": [],
   "source": [
    "class_,_ ,_,_= np.unique(label_,return_counts=True,return_index=True,return_inverse=True)"
   ]
  },
  {
   "cell_type": "code",
   "execution_count": 5,
   "metadata": {},
   "outputs": [
    {
     "name": "stdout",
     "output_type": "stream",
     "text": [
      "{'N': 0, 'A': 1, 'C': 2, 'G': 3, 'T': 4}\n"
     ]
    },
    {
     "data": {
      "application/vnd.jupyter.widget-view+json": {
       "model_id": "5410bec306fe4ed290da560f4cf3a3df",
       "version_major": 2,
       "version_minor": 0
      },
      "text/plain": [
       "  0%|          | 0/1404 [00:00<?, ?it/s]"
      ]
     },
     "metadata": {},
     "output_type": "display_data"
    },
    {
     "name": "stdout",
     "output_type": "stream",
     "text": [
      "(1404, 29903)\n"
     ]
    }
   ],
   "source": [
    "# # only tcga rna unit\n",
    "def clean(x):\n",
    "\tx = x.upper() \n",
    "\t\n",
    "\tif x == 'T' or x == 'A' or x == 'G' or x == 'C' or x == '-' or x == 'N':\n",
    "\t\treturn x\n",
    "\n",
    "\tif x == 'U' or x == 'Y':\n",
    "\t\treturn 'T'\n",
    "\t\n",
    "\tif x == 'K' or x == 'S':\n",
    "\t\treturn 'G'\n",
    "\n",
    "\tif x == 'M' or x == 'R' or x == 'W' or x == 'H' or x=='V' or x=='D':\n",
    "\t\treturn 'A'\n",
    "\n",
    "\tif x== 'B':\n",
    "\t\treturn 'C'\n",
    "from itertools import product\n",
    "dict_search = {}\n",
    "for idx, i in enumerate('NACGT'):\n",
    "\n",
    "    dict_search[i] = idx\n",
    "print(dict_search)\n",
    "from tqdm.notebook import tqdm\n",
    "num_new_sequences =[]\n",
    "for k in tqdm(new_lineage_label):\n",
    "\ttemp_store=[]\n",
    "\tfor j in k:\n",
    "\t\ttemp_store.append(dict_search[clean(j)])\n",
    "\tnum_new_sequences.append(temp_store)\n",
    "total_sequence_array = np.array(num_new_sequences)\n",
    "print(total_sequence_array.shape)\n",
    "# # total rna unit\n",
    "# dict_search = {}\n",
    "# for idx, i in enumerate('NACGTRYKMSWBDHV'):\n",
    "#     dict_search[i] = idx\n",
    "# print(dict_search)\n",
    "# total_sequence_array = []\n",
    "# for Seq in new_lineage_label:\n",
    "#     temp_list = []\n",
    "#     for tcga in Seq:\n",
    "#         temp_list.append(dict_search[tcga])\n",
    "#     total_sequence_array.append(temp_list)\n",
    "# total_sequence_array = np.array(total_sequence_array)\n",
    "# print(total_sequence_array.shape)"
   ]
  },
  {
   "cell_type": "code",
   "execution_count": 6,
   "metadata": {},
   "outputs": [
    {
     "name": "stdout",
     "output_type": "stream",
     "text": [
      "{'Alpha': 0, 'B.1.1.318-like': 1, 'Beta': 2, 'Delta': 3, 'Eta': 4, 'Gamma': 5, 'Iota': 6, 'Lambda': 7, 'Mu': 8, 'None': 9}\n"
     ]
    }
   ],
   "source": [
    "class_dict_ = {}\n",
    "for idx, i in enumerate(class_):\n",
    "    class_dict_[i] = idx\n",
    "print(class_dict_)\n",
    "multi_label = []\n",
    "for i in label_:\n",
    "    multi_label.append(class_dict_[i])"
   ]
  },
  {
   "cell_type": "code",
   "execution_count": 7,
   "metadata": {},
   "outputs": [],
   "source": [
    "from pyDeepInsight import ImageTransformer, LogScaler\n",
    "from tsnecuda import TSNE\n",
    "from tqdm.notebook import tqdm\n",
    "ln = LogScaler()\n",
    "X_train_norm = ln.fit_transform(total_sequence_array)\n",
    "tsne = TSNE(n_components=2, metric='innerproduct',\n",
    "            random_seed=1701)\n",
    "            \n",
    "it =  ImageTransformer(feature_extractor=tsne, pixels=100)\n",
    "X_train_img = it.fit_transform(X_train_norm)"
   ]
  },
  {
   "cell_type": "code",
   "execution_count": 8,
   "metadata": {},
   "outputs": [
    {
     "data": {
      "image/png": "[encoded data removed]",
      "text/plain": [
       "<Figure size 720x504 with 2 Axes>"
      ]
     },
     "metadata": {
      "needs_background": "light"
     },
     "output_type": "display_data"
    }
   ],
   "source": [
    "fdm = it.feature_density_matrix()\n",
    "fdm[fdm == 0] = np.nan\n",
    "\n",
    "plt.figure(figsize=(10, 7))\n",
    "\n",
    "ax = sns.heatmap(fdm, cmap=\"viridis\", linewidths=0.01, \n",
    "                 linecolor=\"lightgrey\", square=True)\n",
    "ax.xaxis.set_major_locator(ticker.MultipleLocator(5))\n",
    "ax.yaxis.set_major_locator(ticker.MultipleLocator(5))\n",
    "for _, spine in ax.spines.items():\n",
    "    spine.set_visible(True)\n",
    "_ = plt.title(\"Genes per pixel\")"
   ]
  },
  {
   "cell_type": "code",
   "execution_count": 9,
   "metadata": {},
   "outputs": [
    {
     "data": {
      "image/png": "[encoded data removed]",
      "text/plain": [
       "<Figure size 1800x504 with 4 Axes>"
      ]
     },
     "metadata": {
      "needs_background": "light"
     },
     "output_type": "display_data"
    }
   ],
   "source": [
    "fig, ax = plt.subplots(1, 4, figsize=(25, 7))\n",
    "for i in range(0,4):\n",
    "    ax[i].imshow(X_train_img[i])\n",
    "    ax[i].title.set_text(\"Train[{}] \".format(i))\n",
    "plt.tight_layout()"
   ]
  },
  {
   "cell_type": "code",
   "execution_count": 10,
   "metadata": {},
   "outputs": [
    {
     "name": "stdout",
     "output_type": "stream",
     "text": [
      "(100, 100)\n",
      "(29903, 2)\n"
     ]
    }
   ],
   "source": [
    "print(it.feature_density_matrix().shape)\n",
    "print(it.coords().shape)"
   ]
  },
  {
   "cell_type": "code",
   "execution_count": 11,
   "metadata": {},
   "outputs": [],
   "source": [
    "# np.save(\"deepinsight_location_npy/feature_density_matrix_[NACGTRYKMSWBDHV]-multiclass=1404.npy\",it.feature_density_matrix())\n",
    "# np.save(\"deepinsight_location_npy/coords_[NACGTRYKMSWBDHV]-multiclass=1404.npy\",it.coords())\n",
    "np.save(\"deepinsight_location_npy/feature_density_matrix_[NACGT]-multiclass=1404.npy\",it.feature_density_matrix())\n",
    "np.save(\"deepinsight_location_npy/coords_[NACGT]-multiclass=1404.npy\",it.coords())"
   ]
  },
  {
   "cell_type": "code",
   "execution_count": 12,
   "metadata": {},
   "outputs": [],
   "source": [
    "# multiclass_nactg multiclass_totalunit\n",
    "np.save('./np_image_totalunit/multiclass_nactg/label.npy',multi_label)\n",
    "for idx, image in enumerate(X_train_img):\n",
    "    if (idx)<10:\n",
    "        np.save(f\"./np_image_totalunit/multiclass_nactg/image_npy/000{idx}.npy\", image)\n",
    "    elif (idx)<100:\n",
    "        np.save(f\"./np_image_totalunit/multiclass_nactg/image_npy/00{idx}.npy\", image)\n",
    "    elif (idx)<1000:\n",
    "        np.save(f\"./np_image_totalunit/multiclass_nactg/image_npy/0{idx}.npy\", image)\n",
    "    else:\n",
    "        np.save(f\"./np_image_totalunit/multiclass_nactg/image_npy/{idx}.npy\", image)\n"
   ]
  },
  {
   "cell_type": "code",
   "execution_count": null,
   "metadata": {},
   "outputs": [],
   "source": [
    "# fig, ax = plt.subplots(1, 4, figsize=(25, 7))\n",
    "# for i in range(0,4):\n",
    "#     ax[i].imshow(X_train_img[i], cmap='bone')\n",
    "#     ax[i].title.set_text(\"Train[{}] - class '{}'\".format(i, \"\"))\n",
    "# plt.tight_layout()"
   ]
  },
  {
   "cell_type": "code",
   "execution_count": null,
   "metadata": {},
   "outputs": [],
   "source": [
    "# from PIL import Image\n",
    "\n",
    "# new_p = Image.fromarray((X_train_img[0]*255).astype(np.uint8))\n",
    "# if new_p.mode != 'RGB':\n",
    "#     new_p = new_p.convert('RGB')\n",
    "# new_p.save(\"filename.png\")"
   ]
  },
  {
   "cell_type": "code",
   "execution_count": null,
   "metadata": {},
   "outputs": [],
   "source": [
    "# fig, ax = plt.subplots(1, 4, figsize=(25, 7))\n",
    "# for i in range(0,4):\n",
    "#     ax[i].imshow(X_train_img[i][:,:,0], cmap='bone')\n",
    "#     ax[i].title.set_text(\"Train[{}] - class '{}'\".format(i, \"\"))\n",
    "# plt.tight_layout()"
   ]
  },
  {
   "cell_type": "code",
   "execution_count": null,
   "metadata": {},
   "outputs": [],
   "source": [
    "from PIL import Image\n"
   ]
  },
  {
   "cell_type": "code",
   "execution_count": null,
   "metadata": {},
   "outputs": [],
   "source": []
  }
 ],
 "metadata": {
  "interpreter": {
   "hash": "8321bd8566c95cfb71ed6984ab2cc826637fe1a46d23cdd98050f8cb49c597e9"
  },
  "kernelspec": {
   "display_name": "Python 3.7.11 ('deepinsightlearning')",
   "language": "python",
   "name": "python3"
  },
  "language_info": {
   "codemirror_mode": {
    "name": "ipython",
    "version": 3
   },
   "file_extension": ".py",
   "mimetype": "text/x-python",
   "name": "python",
   "nbconvert_exporter": "python",
   "pygments_lexer": "ipython3",
   "version": "3.7.11"
  },
  "orig_nbformat": 4
 },
 "nbformat": 4,
 "nbformat_minor": 2
}
