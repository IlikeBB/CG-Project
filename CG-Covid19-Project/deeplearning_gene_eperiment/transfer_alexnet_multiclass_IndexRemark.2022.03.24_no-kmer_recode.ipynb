{
 "cells": [
  {
   "cell_type": "code",
   "execution_count": 1,
   "metadata": {},
   "outputs": [],
   "source": [
    "from feedback import *\n",
    "import pandas as pd\n",
    "import numpy as np\n",
    "from tqdm.notebook import tqdm"
   ]
  },
  {
   "cell_type": "code",
   "execution_count": 2,
   "metadata": {},
   "outputs": [],
   "source": [
    "# npy_path = './np_image_totalunit/multiclass_totalunit/'\n",
    "npy_path = './np_image_totalunit/multiclass_nactg/'"
   ]
  },
  {
   "cell_type": "code",
   "execution_count": 3,
   "metadata": {},
   "outputs": [],
   "source": [
    "npy_data_list = [os.path.join(npy_path,'image_npy',i ) for i in sorted(os.listdir(os.path.join(npy_path,'image_npy')))]\n",
    "label_ = np.load(os.path.join(npy_path,'label.npy'))"
   ]
  },
  {
   "cell_type": "code",
   "execution_count": 4,
   "metadata": {},
   "outputs": [
    {
     "name": "stdout",
     "output_type": "stream",
     "text": [
      "1053 1053\n",
      "351 351\n"
     ]
    }
   ],
   "source": [
    "from sklearn.model_selection import StratifiedShuffleSplit\n",
    "sss = StratifiedShuffleSplit(n_splits=2, test_size=0.25, random_state=42)\n",
    "\n",
    "train_indx, test_indx = next(sss.split(npy_data_list, label_))\n",
    "train_ids = [npy_data_list[ind] for ind in train_indx]\n",
    "train_labels = [label_[ind] for ind in train_indx]\n",
    "print(len(train_ids), len(train_labels)) \n",
    "\n",
    "test_ids = [npy_data_list[ind] for ind in test_indx]\n",
    "test_labels = [label_[ind] for ind in test_indx]\n",
    "print(len(test_ids), len(test_labels))"
   ]
  },
  {
   "cell_type": "code",
   "execution_count": 5,
   "metadata": {},
   "outputs": [],
   "source": [
    "from torch.utils.data import Dataset, DataLoader, Subset\n",
    "import torchvision.transforms as transforms\n",
    "import glob\n",
    "from PIL import Image\n",
    "import torch\n",
    "import numpy as np\n",
    "import random\n",
    "np.random.seed(2020)\n",
    "random.seed(2020)\n",
    "torch.manual_seed(2020)\n",
    "\n",
    "class TransferDataset(Dataset):\n",
    "    def __init__(self, ids, labels, transform):\n",
    "        self.transform = transform\n",
    "        self.ids = ids\n",
    "        self.labels = labels\n",
    "    def __len__(self):\n",
    "        return len(self.ids)\n",
    "    def __getitem__(self, idx):\n",
    "        # print(self.ids[idx])\n",
    "        singel_image_ = np.load(self.ids[idx]).astype(np.float32)\n",
    "        seed = np.random.randint(1e9)       \n",
    "        random.seed(seed)\n",
    "        np.random.seed(seed)\n",
    "        singel_image_ = self.transform(singel_image_)\n",
    "        # singel_image_ = torch.unsqueeze(self.transform(singel_image_)[0], axis=0)\n",
    "        label = int(self.labels[idx])\n",
    "        # print(label)\n",
    "\n",
    "        return singel_image_, label"
   ]
  },
  {
   "cell_type": "code",
   "execution_count": 6,
   "metadata": {},
   "outputs": [
    {
     "name": "stdout",
     "output_type": "stream",
     "text": [
      "1053 351\n"
     ]
    }
   ],
   "source": [
    "transformer = transforms.Compose([\n",
    "            transforms.ToTensor(),\n",
    "            # transforms.Normalize(mean, std),\n",
    "            ])     \n",
    "\n",
    "train_ds = TransferDataset(ids= train_ids, labels= train_labels, transform= transformer)\n",
    "test_ds = TransferDataset(ids= test_ids, labels= test_labels, transform= transformer)\n",
    "print(len(train_ds), len(test_ds))"
   ]
  },
  {
   "cell_type": "code",
   "execution_count": 7,
   "metadata": {},
   "outputs": [],
   "source": [
    "from torchvision.models import alexnet\n",
    "from torch.nn import Module\n",
    "from torch import nn\n",
    "model = alexnet(pretrained=False, num_classes=max(label_)+1)\n",
    "# model.features[0] = nn.Conv2d(1, 64, kernel_size=(11, 11), stride=(4, 4), padding=(2, 2))\n",
    "device = torch.device(\"cuda:0\" if torch.cuda.is_available() else \"cpu\")\n",
    "model = model.to(device)\n",
    "# model"
   ]
  },
  {
   "cell_type": "code",
   "execution_count": 8,
   "metadata": {},
   "outputs": [],
   "source": [
    "from torch import optim\n",
    "from torch.optim.lr_scheduler import CosineAnnealingLR, ReduceLROnPlateau\n",
    "\n",
    "# loss_func = nn.CrossEntropyLoss(reduction=\"sum\", weight=class_weights)\n",
    "loss_func = nn.CrossEntropyLoss(reduction=\"sum\")\n",
    "opt = optim.Adam(model.parameters(), lr=0.001)\n",
    "lr_scheduler = ReduceLROnPlateau(opt, mode='min',factor=0.5, patience=5,verbose=1)\n",
    "os.makedirs(\"./models\", exist_ok=True)\n",
    "# path2weights = \"./models/weights_Multiclass_Covid19(Non-kmer3)_IndexRemark.2022.03.22.pt\"\n",
    "path2weights = \"./models/weights_Multiclass_Covid19(Non-kmer3)_IndexRemark.2022.03.24[NATCG]/weights_Multiclass_Covid19(Non-kmer3)[NACGT].2022.03.24.pt\"\n",
    "# torch.save(model.state_dict(), path2weights)\n",
    "params_train={\n",
    "    \"num_epochs\": 100,\n",
    "    \"optimizer\": opt,\n",
    "    \"loss_func\": loss_func,\n",
    "    \"sanity_check\": False,\n",
    "    \"lr_scheduler\": lr_scheduler,\n",
    "    \"path2weights\": path2weights,\n",
    "    }"
   ]
  },
  {
   "cell_type": "code",
   "execution_count": 9,
   "metadata": {},
   "outputs": [],
   "source": [
    "import copy\n",
    "import datetime\n",
    "from tqdm import tqdm_notebook\n",
    "def clip_gradient(optimizer, grad_clip):\n",
    "    for group in optimizer.param_groups:\n",
    "        for param in group['params']:\n",
    "            if param.grad is not None:\n",
    "                param.grad.data.clamp_(-grad_clip, grad_clip)\n",
    "\n",
    "def get_lr(opt):\n",
    "    for param_group in opt.param_groups:\n",
    "        return param_group['lr']\n",
    "\n",
    "class logs_realtime_reply:\n",
    "    def __init__(self):\n",
    "        self.avg_loss=np.inf\n",
    "        self.running_metic = {\"Loss\":0, \"Accuracy\":0}\n",
    "        self.end_epoch_metric = None\n",
    "    def metric_stack(self, inputs, targets, loss):\n",
    "\n",
    "        classes = torch.argmax(inputs, dim=1)\n",
    "        self.running_metic['Loss'] +=loss\n",
    "        classes = torch.argmax(inputs, dim=1)\n",
    "        acc = torch.mean((classes == targets).float())\n",
    "        # print(acc)\n",
    "        self.running_metic['Accuracy'] += np.round(acc.numpy(), 5)*100\n",
    "    def mini_batch_reply(self, current_step, epoch, iter_len):\n",
    "        # avg_reply_metric = {\"Loss\":None, \"TP\":None, \"FP\":None, \"FN\": None, \"Spec\": None, \"Sens\": None}\n",
    "        avg_reply_metric = {\"Loss\":None, \"Accuracy\": None}\n",
    "        for j in avg_reply_metric:\n",
    "            avg_reply_metric[j] = round(self.running_metic[j]/int(current_step),5)\n",
    "        \n",
    "        if current_step ==iter_len:\n",
    "            self.end_epoch_metric = avg_reply_metric\n",
    "        return avg_reply_metric\n",
    "    def epoch_reply(self):\n",
    "        return self.end_epoch_metric\n",
    "        \n",
    "def train(train_loader, model, criterion, optimizer, epoch):\n",
    "    get_logs_reply = logs_realtime_reply()\n",
    "    model.train()\n",
    "    stream = tqdm(train_loader)\n",
    "   \n",
    "    for i, (image, label) in enumerate(stream, start=1):\n",
    "        image=image.to(device)\n",
    "        label=label.to(device)\n",
    "        output=model(image)\n",
    "        loss = criterion(output, label)\n",
    "        optimizer.zero_grad()\n",
    "        loss.backward()\n",
    "        clip_gradient(optimizer, 0.5)\n",
    "        optimizer.step()\n",
    "        \n",
    "        get_logs_reply.metric_stack(output, label, loss = round(loss.item(), 5))\n",
    "        avg_reply_metric = get_logs_reply.mini_batch_reply(i, epoch, len(stream))\n",
    "        avg_reply_metric['lr'] = optimizer.param_groups[0]['lr']\n",
    "        stream.set_description(f\"Epoch: {epoch}. Train. {str(avg_reply_metric)}\")\n",
    "    return avg_reply_metric['Loss'], avg_reply_metric['Accuracy']\n",
    "# model validate\n",
    "def validate(valid_loader, model, criterion, epoch):\n",
    "    global best_vloss, best_vacc\n",
    "    get_logs_reply2 = logs_realtime_reply()\n",
    "    model.eval()\n",
    "    stream_v = tqdm(valid_loader)\n",
    "    with torch.no_grad():\n",
    "        for i, (image, label) in enumerate(stream_v, start=1):\n",
    "            image=image.to(device)\n",
    "            label=label.to(device)\n",
    "            output=model(image)\n",
    "            loss = criterion(output, label)\n",
    "            get_logs_reply2.metric_stack(output, label, loss = round(loss.item(), 5))\n",
    "            avg_reply_metric = get_logs_reply2.mini_batch_reply(i, epoch, len(stream_v))\n",
    "            stream_v.set_description(f\"Epoch: {epoch}. Valid. {str(avg_reply_metric)}\")\n",
    "        avg_reply_metric = get_logs_reply2.epoch_reply()\n",
    "\n",
    "    for x in avg_reply_metric:\n",
    "        if x=='Loss' and avg_reply_metric[x]<best_vloss:\n",
    "            best_vloss = avg_reply_metric[x]\n",
    "            current_loss = avg_reply_metric['Loss']\n",
    "            best_ck_name = path2weights\n",
    "            torch.save({\n",
    "                    'epoch': epoch, 'model_state_dict': model.state_dict(), 'optimizer_state_dict': opt.state_dict(), \n",
    "                    'loss':  current_loss,}, best_ck_name)\n",
    "            print('save...', best_ck_name)\n",
    "    return avg_reply_metric['Loss'], avg_reply_metric['Accuracy']\n",
    "\n",
    "\n",
    "\n",
    "def  train_valid_process_main(model):\n",
    "    global best_vloss, best_vacc\n",
    "    best_vloss = np.inf\n",
    "    best_vacc = 0.00\n",
    "    loss_history={\n",
    "        \"train\": [],\n",
    "        \"val\": [],\n",
    "    }\n",
    "    \n",
    "    metric_history={\n",
    "        \"train\": [],\n",
    "        \"val\": [],\n",
    "    }\n",
    "    # Subject Dataloader Building\n",
    "    batch_size = 32\n",
    "    train_dl = DataLoader(train_ds, batch_size= batch_size, \n",
    "                            shuffle=True)\n",
    "    test_dl = DataLoader(test_ds, batch_size= 2*batch_size, \n",
    "                            shuffle=False)  \n",
    "\n",
    "    for epoch in range(1, params_train[\"num_epochs\"] + 1):\n",
    "        train_loss, train_metric = train(train_dl, model, loss_func, opt, epoch)\n",
    "        val_loss, val_metric = validate(test_dl, model, loss_func, epoch)\n",
    "        print(\"Epoch: \",epoch, f\" Train/Valid Loss: {train_loss}|{val_loss}  \", f\" Train/Valid Accuracy: {train_metric}|{val_metric}\")\n",
    "        loss_history[\"train\"].append(train_loss)\n",
    "        metric_history[\"train\"].append(train_metric)\n",
    "        loss_history[\"val\"].append(val_loss)\n",
    "        metric_history[\"val\"].append(val_metric)\n",
    "        lr_scheduler.step(val_loss)\n",
    "    return loss_history, metric_history"
   ]
  },
  {
   "cell_type": "code",
   "execution_count": 10,
   "metadata": {},
   "outputs": [
    {
     "data": {
      "application/vnd.jupyter.widget-view+json": {
       "model_id": "ef3938f5f35d4538a7a23886989800dd",
       "version_major": 2,
       "version_minor": 0
      },
      "text/plain": [
       "  0%|          | 0/33 [00:00<?, ?it/s]"
      ]
     },
     "metadata": {},
     "output_type": "display_data"
    },
    {
     "data": {
      "application/vnd.jupyter.widget-view+json": {
       "model_id": "ae86e4a84c3a4bd387d35c66a54f552e",
       "version_major": 2,
       "version_minor": 0
      },
      "text/plain": [
       "  0%|          | 0/6 [00:00<?, ?it/s]"
      ]
     },
     "metadata": {},
     "output_type": "display_data"
    },
    {
     "name": "stdout",
     "output_type": "stream",
     "text": [
      "save... ./models/weights_Multiclass_Covid19(Non-kmer3)_IndexRemark.2022.03.24[NATCG]/weights_Multiclass_Covid19(Non-kmer3)[NACGT].2022.03.24.pt\n",
      "Epoch:  1  Train/Valid Loss: 28.3229|41.61699    Train/Valid Accuracy: 81.56021|84.56817\n"
     ]
    },
    {
     "data": {
      "application/vnd.jupyter.widget-view+json": {
       "model_id": "4adc45b8241447c4856a0c5ba3ecb3ae",
       "version_major": 2,
       "version_minor": 0
      },
      "text/plain": [
       "  0%|          | 0/33 [00:00<?, ?it/s]"
      ]
     },
     "metadata": {},
     "output_type": "display_data"
    },
    {
     "data": {
      "application/vnd.jupyter.widget-view+json": {
       "model_id": "474a3d0df4ef4789b086d6afdf42afe1",
       "version_major": 2,
       "version_minor": 0
      },
      "text/plain": [
       "  0%|          | 0/6 [00:00<?, ?it/s]"
      ]
     },
     "metadata": {},
     "output_type": "display_data"
    },
    {
     "name": "stdout",
     "output_type": "stream",
     "text": [
      "Epoch:  2  Train/Valid Loss: 23.21447|43.90699    Train/Valid Accuracy: 84.30642|84.56817\n"
     ]
    },
    {
     "data": {
      "application/vnd.jupyter.widget-view+json": {
       "model_id": "287ed266b4aa40cbbc56478a46af776e",
       "version_major": 2,
       "version_minor": 0
      },
      "text/plain": [
       "  0%|          | 0/33 [00:00<?, ?it/s]"
      ]
     },
     "metadata": {},
     "output_type": "display_data"
    },
    {
     "data": {
      "application/vnd.jupyter.widget-view+json": {
       "model_id": "9af2c1063b2843fca3473e173258d51f",
       "version_major": 2,
       "version_minor": 0
      },
      "text/plain": [
       "  0%|          | 0/6 [00:00<?, ?it/s]"
      ]
     },
     "metadata": {},
     "output_type": "display_data"
    },
    {
     "name": "stdout",
     "output_type": "stream",
     "text": [
      "save... ./models/weights_Multiclass_Covid19(Non-kmer3)_IndexRemark.2022.03.24[NATCG]/weights_Multiclass_Covid19(Non-kmer3)[NACGT].2022.03.24.pt\n",
      "Epoch:  3  Train/Valid Loss: 22.99597|41.00892    Train/Valid Accuracy: 84.30642|84.56817\n"
     ]
    },
    {
     "data": {
      "application/vnd.jupyter.widget-view+json": {
       "model_id": "b84b401c2b814c5899c9816100758889",
       "version_major": 2,
       "version_minor": 0
      },
      "text/plain": [
       "  0%|          | 0/33 [00:00<?, ?it/s]"
      ]
     },
     "metadata": {},
     "output_type": "display_data"
    },
    {
     "data": {
      "application/vnd.jupyter.widget-view+json": {
       "model_id": "0f9bbf40e7f7420b89a2cd7a5da923cc",
       "version_major": 2,
       "version_minor": 0
      },
      "text/plain": [
       "  0%|          | 0/6 [00:00<?, ?it/s]"
      ]
     },
     "metadata": {},
     "output_type": "display_data"
    },
    {
     "name": "stdout",
     "output_type": "stream",
     "text": [
      "Epoch:  4  Train/Valid Loss: 24.22505|42.78736    Train/Valid Accuracy: 84.32603|84.56817\n"
     ]
    },
    {
     "data": {
      "application/vnd.jupyter.widget-view+json": {
       "model_id": "45d22aa598114d9b8a4b3c416cb724fc",
       "version_major": 2,
       "version_minor": 0
      },
      "text/plain": [
       "  0%|          | 0/33 [00:00<?, ?it/s]"
      ]
     },
     "metadata": {},
     "output_type": "display_data"
    },
    {
     "data": {
      "application/vnd.jupyter.widget-view+json": {
       "model_id": "e1a505ba757640179ec837fc0e3a7c85",
       "version_major": 2,
       "version_minor": 0
      },
      "text/plain": [
       "  0%|          | 0/6 [00:00<?, ?it/s]"
      ]
     },
     "metadata": {},
     "output_type": "display_data"
    },
    {
     "name": "stdout",
     "output_type": "stream",
     "text": [
      "save... ./models/weights_Multiclass_Covid19(Non-kmer3)_IndexRemark.2022.03.24[NATCG]/weights_Multiclass_Covid19(Non-kmer3)[NACGT].2022.03.24.pt\n",
      "Epoch:  5  Train/Valid Loss: 23.74917|40.84743    Train/Valid Accuracy: 84.29664|84.56817\n"
     ]
    },
    {
     "data": {
      "application/vnd.jupyter.widget-view+json": {
       "model_id": "d2e6965aafba40dab37a06214854ed7c",
       "version_major": 2,
       "version_minor": 0
      },
      "text/plain": [
       "  0%|          | 0/33 [00:00<?, ?it/s]"
      ]
     },
     "metadata": {},
     "output_type": "display_data"
    },
    {
     "data": {
      "application/vnd.jupyter.widget-view+json": {
       "model_id": "49bccafd8fec4cb68edcee2ae27e48b6",
       "version_major": 2,
       "version_minor": 0
      },
      "text/plain": [
       "  0%|          | 0/6 [00:00<?, ?it/s]"
      ]
     },
     "metadata": {},
     "output_type": "display_data"
    },
    {
     "name": "stdout",
     "output_type": "stream",
     "text": [
      "Epoch:  6  Train/Valid Loss: 22.93151|41.07509    Train/Valid Accuracy: 84.29664|84.56817\n"
     ]
    },
    {
     "data": {
      "application/vnd.jupyter.widget-view+json": {
       "model_id": "658848233eb145c0b9755a8ed17dc0ab",
       "version_major": 2,
       "version_minor": 0
      },
      "text/plain": [
       "  0%|          | 0/33 [00:00<?, ?it/s]"
      ]
     },
     "metadata": {},
     "output_type": "display_data"
    },
    {
     "data": {
      "application/vnd.jupyter.widget-view+json": {
       "model_id": "e932a9cbd18844a283f1a4145f1dc754",
       "version_major": 2,
       "version_minor": 0
      },
      "text/plain": [
       "  0%|          | 0/6 [00:00<?, ?it/s]"
      ]
     },
     "metadata": {},
     "output_type": "display_data"
    },
    {
     "name": "stdout",
     "output_type": "stream",
     "text": [
      "Epoch:  7  Train/Valid Loss: 23.37253|43.46422    Train/Valid Accuracy: 84.31621|84.56817\n"
     ]
    },
    {
     "data": {
      "application/vnd.jupyter.widget-view+json": {
       "model_id": "f991df269681483cac977a2bc7cb4bd2",
       "version_major": 2,
       "version_minor": 0
      },
      "text/plain": [
       "  0%|          | 0/33 [00:00<?, ?it/s]"
      ]
     },
     "metadata": {},
     "output_type": "display_data"
    },
    {
     "data": {
      "application/vnd.jupyter.widget-view+json": {
       "model_id": "fc149cc867f04045b78ad6d588505433",
       "version_major": 2,
       "version_minor": 0
      },
      "text/plain": [
       "  0%|          | 0/6 [00:00<?, ?it/s]"
      ]
     },
     "metadata": {},
     "output_type": "display_data"
    },
    {
     "name": "stdout",
     "output_type": "stream",
     "text": [
      "save... ./models/weights_Multiclass_Covid19(Non-kmer3)_IndexRemark.2022.03.24[NATCG]/weights_Multiclass_Covid19(Non-kmer3)[NACGT].2022.03.24.pt\n",
      "Epoch:  8  Train/Valid Loss: 22.45999|40.69112    Train/Valid Accuracy: 84.30642|84.56817\n"
     ]
    },
    {
     "data": {
      "application/vnd.jupyter.widget-view+json": {
       "model_id": "94b536e347fd41328ca7c207be4e7bf2",
       "version_major": 2,
       "version_minor": 0
      },
      "text/plain": [
       "  0%|          | 0/33 [00:00<?, ?it/s]"
      ]
     },
     "metadata": {},
     "output_type": "display_data"
    },
    {
     "data": {
      "application/vnd.jupyter.widget-view+json": {
       "model_id": "7c93da90c3aa4d8188c8f1b5b50088cd",
       "version_major": 2,
       "version_minor": 0
      },
      "text/plain": [
       "  0%|          | 0/6 [00:00<?, ?it/s]"
      ]
     },
     "metadata": {},
     "output_type": "display_data"
    },
    {
     "name": "stdout",
     "output_type": "stream",
     "text": [
      "Epoch:  9  Train/Valid Loss: 23.07018|40.96653    Train/Valid Accuracy: 84.32603|84.56817\n"
     ]
    },
    {
     "data": {
      "application/vnd.jupyter.widget-view+json": {
       "model_id": "0cce299d94964b3bbde5c3c34a1d0058",
       "version_major": 2,
       "version_minor": 0
      },
      "text/plain": [
       "  0%|          | 0/33 [00:00<?, ?it/s]"
      ]
     },
     "metadata": {},
     "output_type": "display_data"
    },
    {
     "data": {
      "application/vnd.jupyter.widget-view+json": {
       "model_id": "800f0d05acc44143aa38e99d6e146758",
       "version_major": 2,
       "version_minor": 0
      },
      "text/plain": [
       "  0%|          | 0/6 [00:00<?, ?it/s]"
      ]
     },
     "metadata": {},
     "output_type": "display_data"
    },
    {
     "name": "stdout",
     "output_type": "stream",
     "text": [
      "Epoch:  10  Train/Valid Loss: 22.74569|41.19935    Train/Valid Accuracy: 84.34561|84.56817\n"
     ]
    },
    {
     "data": {
      "application/vnd.jupyter.widget-view+json": {
       "model_id": "86a4f404a8494b9ab0949dc13a1a0aff",
       "version_major": 2,
       "version_minor": 0
      },
      "text/plain": [
       "  0%|          | 0/33 [00:00<?, ?it/s]"
      ]
     },
     "metadata": {},
     "output_type": "display_data"
    },
    {
     "data": {
      "application/vnd.jupyter.widget-view+json": {
       "model_id": "cbaf62e72dc9467a88f37574cc7e035c",
       "version_major": 2,
       "version_minor": 0
      },
      "text/plain": [
       "  0%|          | 0/6 [00:00<?, ?it/s]"
      ]
     },
     "metadata": {},
     "output_type": "display_data"
    },
    {
     "name": "stdout",
     "output_type": "stream",
     "text": [
      "Epoch:  11  Train/Valid Loss: 23.60967|41.14549    Train/Valid Accuracy: 84.34561|84.56817\n"
     ]
    },
    {
     "data": {
      "application/vnd.jupyter.widget-view+json": {
       "model_id": "aae8e1bf4a9d4052aaacb253e08bda4a",
       "version_major": 2,
       "version_minor": 0
      },
      "text/plain": [
       "  0%|          | 0/33 [00:00<?, ?it/s]"
      ]
     },
     "metadata": {},
     "output_type": "display_data"
    },
    {
     "data": {
      "application/vnd.jupyter.widget-view+json": {
       "model_id": "cf071f4ecd1e41cab66e42dff63af81b",
       "version_major": 2,
       "version_minor": 0
      },
      "text/plain": [
       "  0%|          | 0/6 [00:00<?, ?it/s]"
      ]
     },
     "metadata": {},
     "output_type": "display_data"
    },
    {
     "name": "stdout",
     "output_type": "stream",
     "text": [
      "Epoch:  12  Train/Valid Loss: 22.94642|40.99472    Train/Valid Accuracy: 84.33582|84.56817\n"
     ]
    },
    {
     "data": {
      "application/vnd.jupyter.widget-view+json": {
       "model_id": "781ae9d955fd42ebb3bc11648c012875",
       "version_major": 2,
       "version_minor": 0
      },
      "text/plain": [
       "  0%|          | 0/33 [00:00<?, ?it/s]"
      ]
     },
     "metadata": {},
     "output_type": "display_data"
    },
    {
     "data": {
      "application/vnd.jupyter.widget-view+json": {
       "model_id": "abcce46d454244de9d9558ab7689d8ff",
       "version_major": 2,
       "version_minor": 0
      },
      "text/plain": [
       "  0%|          | 0/6 [00:00<?, ?it/s]"
      ]
     },
     "metadata": {},
     "output_type": "display_data"
    },
    {
     "name": "stdout",
     "output_type": "stream",
     "text": [
      "Epoch:  13  Train/Valid Loss: 22.6154|42.51561    Train/Valid Accuracy: 84.30642|84.56817\n"
     ]
    },
    {
     "data": {
      "application/vnd.jupyter.widget-view+json": {
       "model_id": "2abcdc1afc884cfca757a1e491292dc0",
       "version_major": 2,
       "version_minor": 0
      },
      "text/plain": [
       "  0%|          | 0/33 [00:00<?, ?it/s]"
      ]
     },
     "metadata": {},
     "output_type": "display_data"
    }
   ],
   "source": [
    "loss_history, metric_history  = train_valid_process_main(model)"
   ]
  },
  {
   "cell_type": "code",
   "execution_count": null,
   "metadata": {},
   "outputs": [],
   "source": [
    "def plot_loss(loss_hist, metric_hist):\n",
    "    num_epochs= len(loss_hist[\"train\"])\n",
    "    # exper_name = 'RandomAffine'\n",
    "    exper_name = 'LR3e-3'\n",
    "    plt.title(f\"Train-Val Loss {exper_name}\")\n",
    "    plt.plot(range(1,num_epochs+1),loss_hist[\"train\"],label=\"train\")\n",
    "    plt.plot(range(1,num_epochs+1),loss_hist[\"val\"],label=\"val\")\n",
    "    plt.ylabel(\"Loss\")\n",
    "    plt.xlabel(\"Training Epochs\")\n",
    "    plt.legend()\n",
    "    plt.show()\n",
    "\n",
    "    plt.title(f\"Train-Val Accuracy {exper_name}\")\n",
    "    plt.plot(range(1,num_epochs+1), metric_hist[\"train\"],label=\"train\")\n",
    "    plt.plot(range(1,num_epochs+1), metric_hist[\"val\"],label=\"val\")\n",
    "    plt.ylabel(\"Accuracy\")\n",
    "    plt.xlabel(\"Training Epochs\")\n",
    "    plt.legend()\n",
    "    plt.show()\n",
    "\n",
    "plot_loss(loss_history, metric_history)"
   ]
  }
 ],
 "metadata": {
  "interpreter": {
   "hash": "cefeaee0cb99e52f47ecbf6a0fec4d636206690d7e9c62031f057a9471691d65"
  },
  "kernelspec": {
   "display_name": "Python 3.6.13 ('lstm_pyt')",
   "language": "python",
   "name": "python3"
  },
  "language_info": {
   "codemirror_mode": {
    "name": "ipython",
    "version": 3
   },
   "file_extension": ".py",
   "mimetype": "text/x-python",
   "name": "python",
   "nbconvert_exporter": "python",
   "pygments_lexer": "ipython3",
   "version": "3.7.11"
  },
  "orig_nbformat": 4
 },
 "nbformat": 4,
 "nbformat_minor": 2
}
