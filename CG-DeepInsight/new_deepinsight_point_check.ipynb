{
 "cells": [
  {
   "cell_type": "code",
   "execution_count": 1,
   "metadata": {},
   "outputs": [],
   "source": [
    "import pickle as pk, os\n",
    "import pandas as pd\n",
    "import numpy as np\n",
    "import matplotlib.pyplot as plt\n",
    "from Bio import SeqIO\n",
    "from tqdm.notebook import tqdm\n"
   ]
  },
  {
   "cell_type": "code",
   "execution_count": 46,
   "metadata": {},
   "outputs": [],
   "source": [
    "save_model_path = './deepinsight_location_npy/'\n",
    "save_name = 'tsne-binary-perplexity=50-pixel=400[onehot].pkl'\n",
    "# save_name = 'tsne-binary-perplexity=50-pixel=400.pkl'\n",
    "it = pk.load(open(os.path.join(save_model_path,save_name),'rb'))"
   ]
  },
  {
   "cell_type": "code",
   "execution_count": 47,
   "metadata": {},
   "outputs": [
    {
     "name": "stdout",
     "output_type": "stream",
     "text": [
      "(440, 440)\n",
      "(179418, 2)\n"
     ]
    },
    {
     "data": {
      "text/plain": [
       "75681"
      ]
     },
     "execution_count": 47,
     "metadata": {},
     "output_type": "execute_result"
    }
   ],
   "source": [
    "print(it.feature_density_matrix().shape)\n",
    "print(it.coords().shape)\n",
    "index_location, counts = np.unique(it.coords(),  return_index=False, return_inverse=False, return_counts=True, axis=0)\n",
    "np.sum(np.array(it.feature_density_matrix())>0)"
   ]
  },
  {
   "cell_type": "code",
   "execution_count": 48,
   "metadata": {},
   "outputs": [
    {
     "data": {
      "text/plain": [
       "32122"
      ]
     },
     "execution_count": 48,
     "metadata": {},
     "output_type": "execute_result"
    }
   ],
   "source": [
    "len([(list(x),y) for x, y in zip(index_location, counts) if y>1])"
   ]
  },
  {
   "cell_type": "code",
   "execution_count": null,
   "metadata": {},
   "outputs": [],
   "source": []
  }
 ],
 "metadata": {
  "interpreter": {
   "hash": "8321bd8566c95cfb71ed6984ab2cc826637fe1a46d23cdd98050f8cb49c597e9"
  },
  "kernelspec": {
   "display_name": "Python 3.7.11 ('deepinsightlearning')",
   "language": "python",
   "name": "python3"
  },
  "language_info": {
   "codemirror_mode": {
    "name": "ipython",
    "version": 3
   },
   "file_extension": ".py",
   "mimetype": "text/x-python",
   "name": "python",
   "nbconvert_exporter": "python",
   "pygments_lexer": "ipython3",
   "version": "3.7.11"
  },
  "orig_nbformat": 4
 },
 "nbformat": 4,
 "nbformat_minor": 2
}
