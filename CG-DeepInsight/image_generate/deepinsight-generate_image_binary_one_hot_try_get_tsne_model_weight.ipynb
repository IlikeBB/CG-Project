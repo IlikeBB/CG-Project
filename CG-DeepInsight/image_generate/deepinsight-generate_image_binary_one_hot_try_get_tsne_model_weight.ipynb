{
 "cells": [
  {
   "cell_type": "code",
   "execution_count": 1,
   "metadata": {},
   "outputs": [],
   "source": [
    "import pandas as pd\n",
    "import numpy as np\n",
    "from Bio import SeqIO\n",
    "from tqdm.notebook import tqdm"
   ]
  },
  {
   "cell_type": "code",
   "execution_count": 2,
   "metadata": {},
   "outputs": [
    {
     "name": "stdout",
     "output_type": "stream",
     "text": [
      "sample: 1135\n"
     ]
    }
   ],
   "source": [
    "nas_path = \"./dataset_1401/\"\n",
    "lineage_label = np.array(pd.read_csv('./dataset_1401/1404_lineage_report and metadata 20220316.csv')[['lineage_x','diff']])\n",
    "label_ = []\n",
    "new_lineage_label = []\n",
    "for idx, rna in enumerate(SeqIO.parse('./dataset_1401/1404.sequences.aln.fasta',\"fasta\")):\n",
    "    if \"B.1.617.2\" == lineage_label[idx][0]:\n",
    "    # break\n",
    "    # print(lineage_label[idx][0].split(' ')[0])\n",
    "        label_.append(lineage_label[idx][1].split(' ')[0])\n",
    "\n",
    "        new_lineage_label.append(str(rna.seq))\n",
    "print('sample:', len(new_lineage_label))"
   ]
  },
  {
   "cell_type": "code",
   "execution_count": 3,
   "metadata": {},
   "outputs": [
    {
     "name": "stdout",
     "output_type": "stream",
     "text": [
      "['N' 'Y']\n"
     ]
    }
   ],
   "source": [
    "class_,_ ,_,_= np.unique(label_,return_counts=True,return_index=True,return_inverse=True)\n",
    "print(class_)"
   ]
  },
  {
   "cell_type": "code",
   "execution_count": 4,
   "metadata": {},
   "outputs": [
    {
     "name": "stdout",
     "output_type": "stream",
     "text": [
      "{'-': 0, 'N': 1, 'A': 2, 'C': 3, 'G': 4, 'T': 5}\n"
     ]
    },
    {
     "data": {
      "application/vnd.jupyter.widget-view+json": {
       "model_id": "a7c62ca3c382499e9b1a2411c46987e9",
       "version_major": 2,
       "version_minor": 0
      },
      "text/plain": [
       "  0%|          | 0/1135 [00:00<?, ?it/s]"
      ]
     },
     "metadata": {},
     "output_type": "display_data"
    },
    {
     "name": "stdout",
     "output_type": "stream",
     "text": [
      "(1135, 29903)\n"
     ]
    }
   ],
   "source": [
    "# # only tcga rna unit\n",
    "def clean(x):\n",
    "\tx = x.upper() \n",
    "\t\n",
    "\tif x == 'T' or x == 'A' or x == 'G' or x == 'C' or x == '-' or x == 'N':\n",
    "\t\treturn x\n",
    "\n",
    "\tif x == 'U' or x == 'Y':\n",
    "\t\treturn 'T'\n",
    "\t\n",
    "\tif x == 'K' or x == 'S':\n",
    "\t\treturn 'G'\n",
    "\n",
    "\tif x == 'M' or x == 'R' or x == 'W' or x == 'H' or x=='V' or x=='D':\n",
    "\t\treturn 'A'\n",
    "\n",
    "\tif x== 'B':\n",
    "\t\treturn 'C'\n",
    "from itertools import product\n",
    "dict_search = {}\n",
    "for idx, i in enumerate('-NACGT'):\n",
    "\n",
    "    dict_search[i] = idx\n",
    "print(dict_search)\n",
    "from tqdm.notebook import tqdm\n",
    "num_new_sequences =[]\n",
    "for k in tqdm(new_lineage_label):\n",
    "\ttemp_store=[]\n",
    "\tfor j in k:\n",
    "\t\ttemp_store.append(clean(j)) #one hot\n",
    "\t\t# temp_store.append(dict_search[clean(j)])\n",
    "\tnum_new_sequences.append(temp_store)\n",
    "total_sequence_array = np.array(num_new_sequences)\n",
    "print(total_sequence_array.shape)"
   ]
  },
  {
   "cell_type": "code",
   "execution_count": 5,
   "metadata": {},
   "outputs": [
    {
     "data": {
      "application/vnd.jupyter.widget-view+json": {
       "model_id": "5043b5fdb58e48a8ba7d8be17b33a795",
       "version_major": 2,
       "version_minor": 0
      },
      "text/plain": [
       "  0%|          | 0/1135 [00:00<?, ?it/s]"
      ]
     },
     "metadata": {},
     "output_type": "display_data"
    },
    {
     "name": "stdout",
     "output_type": "stream",
     "text": [
      "(1135, 179418)\n"
     ]
    }
   ],
   "source": [
    "del new_lineage_label, num_new_sequences\n",
    "new_lineage_label = total_sequence_array\n",
    "one_hot_search_dict = {'C': [1,0,0,0,0,0], 'G': [0,1,0,0,0,0], 'A': [0,0,1,0,0,0],  'T': [0,0,0,1,0,0], 'N': [0,0,0,0,1,0],  '-': [0,0,0,0,0,1]}\n",
    "\n",
    "num_new_sequences =[]\n",
    "for k in tqdm(new_lineage_label):\n",
    "\ttemp_single_seq_transfer = []\n",
    "\tfor j in k:\n",
    "\t\ttemp_single_seq_transfer+=one_hot_search_dict[j]\n",
    "\tnum_new_sequences.append(temp_single_seq_transfer)\n",
    "total_sequence_array = np.array(num_new_sequences)\n",
    "print(total_sequence_array.shape)\n"
   ]
  },
  {
   "cell_type": "code",
   "execution_count": 6,
   "metadata": {},
   "outputs": [
    {
     "name": "stdout",
     "output_type": "stream",
     "text": [
      "{'N': 0, 'Y': 1}\n"
     ]
    }
   ],
   "source": [
    "class_dict_ = {}\n",
    "for idx, i in enumerate(class_):\n",
    "    class_dict_[i] = idx\n",
    "print(class_dict_)\n",
    "multi_label = []\n",
    "for i in label_:\n",
    "    multi_label.append(class_dict_[i])"
   ]
  },
  {
   "cell_type": "code",
   "execution_count": 7,
   "metadata": {},
   "outputs": [],
   "source": [
    "from pyDeepInsight import ImageTransformer, LogScaler\n",
    "from sklearn.manifold import TSNE\n",
    "from tqdm.notebook import tqdm\n",
    "ln = LogScaler()\n",
    "X_train_norm = ln.fit_transform(total_sequence_array)\n",
    "# tsne = TSNE(n_components=2, perplexity=30, metric='cosine',\n",
    "#             random_state=1701, n_jobs=-1)\n",
    "            \n",
    "# it =  ImageTransformer(feature_extractor=tsne, pixels=100)\n",
    "# X_train_img = it.fit_transform(X_train_norm)"
   ]
  },
  {
   "cell_type": "code",
   "execution_count": 8,
   "metadata": {},
   "outputs": [],
   "source": [
    "# save fiter matrix\n",
    "import pickle as pk\n",
    "# pk.dump(it, open(\"tsne_try-get-model-matrix.pkl\",\"wb\"))\n",
    "tsne_reload = pk.load(open(\"tsne_try-get-model-matrix.pkl\",'rb'))\n",
    "result_new = tsne_reload .transform(X_train_norm[0:4])"
   ]
  },
  {
   "cell_type": "code",
   "execution_count": 9,
   "metadata": {},
   "outputs": [
    {
     "data": {
      "image/png": "[encoded data removed]",
      "text/plain": [
       "<Figure size 1800x504 with 4 Axes>"
      ]
     },
     "metadata": {
      "needs_background": "light"
     },
     "output_type": "display_data"
    }
   ],
   "source": [
    "import matplotlib.pyplot as plt\n",
    "fig, ax = plt.subplots(1, 4, figsize=(25, 7))\n",
    "for i in range(0,4):\n",
    "    ax[i].imshow(result_new[i])\n",
    "    ax[i].title.set_text(\"Train[{}] \".format(i))\n",
    "plt.tight_layout()"
   ]
  },
  {
   "cell_type": "code",
   "execution_count": 11,
   "metadata": {},
   "outputs": [
    {
     "name": "stdout",
     "output_type": "stream",
     "text": [
      "(440, 440)\n",
      "(179418, 2)\n"
     ]
    }
   ],
   "source": [
    "print(it.feature_density_matrix().shape)\n",
    "print(it.coords().shape)"
   ]
  },
  {
   "cell_type": "code",
   "execution_count": 12,
   "metadata": {},
   "outputs": [],
   "source": [
    "# np.save(\"deepinsight_location_npy/feature_density_matrix_[NACGTRYKMSWBDHV]-multiclass=1404.npy\",it.feature_density_matrix())\n",
    "# np.save(\"deepinsight_location_npy/coords_[NACGTRYKMSWBDHV]-multiclass=1404.npy\",it.coords())\n",
    "np.save(\"deepinsight_location_npy/feature_density_matrix_[NACGT]-binaryclass=1135_onehoe440px.npy\",it.feature_density_matrix())\n",
    "np.save(\"deepinsight_location_npy/coords_[NACGT]-binaryclass=1135_onehoe440px.npy\",it.coords())"
   ]
  },
  {
   "cell_type": "code",
   "execution_count": 13,
   "metadata": {},
   "outputs": [],
   "source": [
    "# multiclass_nactg multiclass_totalunit\n",
    "save_path = './np_image_totalunit/binaryclass_nactg_onehoe440px/'\n",
    "if not os.path.exists(save_path):\n",
    "    os.mkdir(save_path)\n",
    "if not os.path.exists(os.path.join(save_path,'image_npy')):\n",
    "    os.mkdir(os.path.join(save_path,'image_npy'))\n",
    "\n",
    "np.save(f'{save_path}/label.npy',multi_label)\n",
    "for idx, image in enumerate(X_train_img):\n",
    "    if (idx)<10:\n",
    "        np.save(f\"{save_path}/image_npy/000{idx}.npy\", image)\n",
    "    elif (idx)<100:\n",
    "        np.save(f\"{save_path}/image_npy/00{idx}.npy\", image)\n",
    "    elif (idx)<1000:\n",
    "        np.save(f\"{save_path}/image_npy/0{idx}.npy\", image)\n",
    "    else:\n",
    "        np.save(f\"{save_path}/image_npy/{idx}.npy\", image)\n"
   ]
  },
  {
   "cell_type": "code",
   "execution_count": 14,
   "metadata": {},
   "outputs": [],
   "source": [
    "# fig, ax = plt.subplots(1, 4, figsize=(25, 7))\n",
    "# for i in range(0,4):\n",
    "#     ax[i].imshow(X_train_img[i], cmap='bone')\n",
    "#     ax[i].title.set_text(\"Train[{}] - class '{}'\".format(i, \"\"))\n",
    "# plt.tight_layout()"
   ]
  },
  {
   "cell_type": "code",
   "execution_count": 15,
   "metadata": {},
   "outputs": [],
   "source": [
    "# from PIL import Image\n",
    "\n",
    "# new_p = Image.fromarray((X_train_img[0]*255).astype(np.uint8))\n",
    "# if new_p.mode != 'RGB':\n",
    "#     new_p = new_p.convert('RGB')\n",
    "# new_p.save(\"filename.png\")"
   ]
  },
  {
   "cell_type": "code",
   "execution_count": 16,
   "metadata": {},
   "outputs": [],
   "source": [
    "# fig, ax = plt.subplots(1, 4, figsize=(25, 7))\n",
    "# for i in range(0,4):\n",
    "#     ax[i].imshow(X_train_img[i][:,:,0], cmap='bone')\n",
    "#     ax[i].title.set_text(\"Train[{}] - class '{}'\".format(i, \"\"))\n",
    "# plt.tight_layout()"
   ]
  },
  {
   "cell_type": "code",
   "execution_count": 17,
   "metadata": {},
   "outputs": [],
   "source": [
    "from PIL import Image\n"
   ]
  },
  {
   "cell_type": "code",
   "execution_count": null,
   "metadata": {},
   "outputs": [],
   "source": []
  }
 ],
 "metadata": {
  "interpreter": {
   "hash": "8321bd8566c95cfb71ed6984ab2cc826637fe1a46d23cdd98050f8cb49c597e9"
  },
  "kernelspec": {
   "display_name": "Python 3.7.11 ('deepinsightlearning')",
   "language": "python",
   "name": "python3"
  },
  "language_info": {
   "codemirror_mode": {
    "name": "ipython",
    "version": 3
   },
   "file_extension": ".py",
   "mimetype": "text/x-python",
   "name": "python",
   "nbconvert_exporter": "python",
   "pygments_lexer": "ipython3",
   "version": "3.7.11"
  },
  "orig_nbformat": 4
 },
 "nbformat": 4,
 "nbformat_minor": 2
}
