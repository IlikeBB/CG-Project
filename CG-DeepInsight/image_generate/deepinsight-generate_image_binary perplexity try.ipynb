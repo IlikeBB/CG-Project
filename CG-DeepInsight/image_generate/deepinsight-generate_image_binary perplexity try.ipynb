{
 "cells": [
  {
   "cell_type": "code",
   "execution_count": 3,
   "metadata": {},
   "outputs": [],
   "source": [
    "import pandas as pd\n",
    "import numpy as np\n",
    "from tqdm.notebook import tqdm\n",
    "from Bio import SeqIO"
   ]
  },
  {
   "cell_type": "code",
   "execution_count": 4,
   "metadata": {},
   "outputs": [],
   "source": [
    "nas_path = \"./dataset_1401/\"\n",
    "lineage_label = np.array(pd.read_csv('./dataset_1401/1404_lineage_report and metadata 20220316.csv')[['lineage_x','diff']])\n",
    "label_ = []\n",
    "new_lineage_label = []\n",
    "for idx, rna in enumerate(SeqIO.parse('./dataset_1401/1404.sequences.aln.fasta',\"fasta\")):\n",
    "    if \"B.1.617.2\" == lineage_label[idx][0]:\n",
    "    # break\n",
    "    # print(lineage_label[idx][0].split(' ')[0])\n",
    "        label_.append(lineage_label[idx][1].split(' ')[0])\n",
    "\n",
    "        new_lineage_label.append(str(rna.seq))"
   ]
  },
  {
   "cell_type": "code",
   "execution_count": 5,
   "metadata": {},
   "outputs": [
    {
     "name": "stdout",
     "output_type": "stream",
     "text": [
      "sample: 1135\n"
     ]
    }
   ],
   "source": [
    "print('sample:', len(new_lineage_label))\n",
    "# kmer_3 = []\n",
    "# for Seq in new_lineage_label:\n",
    "#         temp_store = []\n",
    "#         for i in range(len(Seq)):\n",
    "#             if len(Seq[i:i+3])==3:\n",
    "                \n",
    "#                 temp_store.append(''.join(Seq[i:i+3]))\n",
    "#         kmer_3.append(temp_store)"
   ]
  },
  {
   "cell_type": "code",
   "execution_count": 6,
   "metadata": {},
   "outputs": [
    {
     "name": "stdout",
     "output_type": "stream",
     "text": [
      "['N' 'Y']\n"
     ]
    }
   ],
   "source": [
    "class_,_ ,_,_= np.unique(label_,return_counts=True,return_index=True,return_inverse=True)\n",
    "print(class_)"
   ]
  },
  {
   "cell_type": "code",
   "execution_count": 7,
   "metadata": {},
   "outputs": [
    {
     "name": "stdout",
     "output_type": "stream",
     "text": [
      "{'-': 0, 'N': 1, 'A': 2, 'C': 3, 'G': 4, 'T': 5}\n"
     ]
    },
    {
     "data": {
      "application/vnd.jupyter.widget-view+json": {
       "model_id": "895902794722400f9eff6959dd82373c",
       "version_major": 2,
       "version_minor": 0
      },
      "text/plain": [
       "  0%|          | 0/1135 [00:00<?, ?it/s]"
      ]
     },
     "metadata": {},
     "output_type": "display_data"
    },
    {
     "name": "stdout",
     "output_type": "stream",
     "text": [
      "(1135, 29903)\n"
     ]
    }
   ],
   "source": [
    "# # only tcga rna unit\n",
    "def clean(x):\n",
    "\tx = x.upper() \n",
    "\t\n",
    "\tif x == 'T' or x == 'A' or x == 'G' or x == 'C' or x == '-' or x == 'N':\n",
    "\t\treturn x\n",
    "\n",
    "\tif x == 'U' or x == 'Y':\n",
    "\t\treturn 'T'\n",
    "\t\n",
    "\tif x == 'K' or x == 'S':\n",
    "\t\treturn 'G'\n",
    "\n",
    "\tif x == 'M' or x == 'R' or x == 'W' or x == 'H' or x=='V' or x=='D':\n",
    "\t\treturn 'A'\n",
    "\n",
    "\tif x== 'B':\n",
    "\t\treturn 'C'\n",
    "from itertools import product\n",
    "dict_search = {}\n",
    "for idx, i in enumerate('-NACGT'):\n",
    "\n",
    "    dict_search[i] = idx\n",
    "print(dict_search)\n",
    "from tqdm.notebook import tqdm\n",
    "num_new_sequences =[]\n",
    "for k in tqdm(new_lineage_label):\n",
    "\ttemp_store=[]\n",
    "\tfor j in k:\n",
    "\t\ttemp_store.append(dict_search[clean(j)])\n",
    "\tnum_new_sequences.append(temp_store)\n",
    "total_sequence_array = np.array(num_new_sequences)\n",
    "print(total_sequence_array.shape)\n"
   ]
  },
  {
   "cell_type": "code",
   "execution_count": 8,
   "metadata": {},
   "outputs": [
    {
     "name": "stdout",
     "output_type": "stream",
     "text": [
      "{'N': 0, 'Y': 1}\n"
     ]
    }
   ],
   "source": [
    "class_dict_ = {}\n",
    "for idx, i in enumerate(class_):\n",
    "    class_dict_[i] = idx\n",
    "print(class_dict_)\n",
    "multi_label = []\n",
    "for i in label_:\n",
    "    multi_label.append(class_dict_[i])"
   ]
  },
  {
   "cell_type": "code",
   "execution_count": 9,
   "metadata": {},
   "outputs": [
    {
     "name": "stdout",
     "output_type": "stream",
     "text": [
      "['Y', 'N', 'N', 'Y', 'N', 'N', 'Y', 'N', 'N', 'Y', 'N', 'Y', 'Y', 'N', 'N', 'Y', 'Y', 'N', 'N', 'Y']\n",
      "[1, 0, 0, 1, 0, 0, 1, 0, 0, 1, 0, 1, 1, 0, 0, 1, 1, 0, 0, 1]\n"
     ]
    }
   ],
   "source": [
    "print(label_[0:20])\n",
    "print(multi_label[0:20])"
   ]
  },
  {
   "cell_type": "code",
   "execution_count": 10,
   "metadata": {},
   "outputs": [
    {
     "data": {
      "text/plain": [
       "(1135, 29903)"
      ]
     },
     "execution_count": 10,
     "metadata": {},
     "output_type": "execute_result"
    }
   ],
   "source": [
    "total_sequence_array.shape"
   ]
  },
  {
   "cell_type": "code",
   "execution_count": 59,
   "metadata": {},
   "outputs": [
    {
     "name": "stderr",
     "output_type": "stream",
     "text": [
      "/home/john/anaconda3/envs/deepinsightlearning/lib/python3.7/site-packages/sklearn/manifold/_t_sne.py:783: FutureWarning: The default initialization in TSNE will change from 'random' to 'pca' in 1.2.\n",
      "  FutureWarning,\n",
      "/home/john/anaconda3/envs/deepinsightlearning/lib/python3.7/site-packages/sklearn/manifold/_t_sne.py:793: FutureWarning: The default learning rate in TSNE will change from 200.0 to 'auto' in 1.2.\n",
      "  FutureWarning,\n",
      "/home/john/anaconda3/envs/deepinsightlearning/lib/python3.7/site-packages/sklearn/manifold/_t_sne.py:827: FutureWarning: 'square_distances' has been introduced in 0.24 to help phase out legacy squaring behavior. The 'legacy' setting will be removed in 1.1 (renaming of 0.26), and the default setting will be changed to True. In 1.3, 'square_distances' will be removed altogether, and distances will be squared by default. Set 'square_distances'=True to silence this warning.\n",
      "  FutureWarning,\n"
     ]
    }
   ],
   "source": [
    "from pyDeepInsight import ImageTransformer, LogScaler\n",
    "from sklearn.manifold import TSNE\n",
    "from tqdm.notebook import tqdm\n",
    "ln = LogScaler()\n",
    "X_train_norm = ln.fit_transform(total_sequence_array)\n",
    "tsne = TSNE(n_components=2, perplexity=50, metric='cosine',\n",
    "            random_state=1701, n_jobs=-1)\n",
    "\n",
    "it = ImageTransformer(feature_extractor=tsne, pixels=400)\n",
    "X_train_img = it.fit_transform(X_train_norm)"
   ]
  },
  {
   "cell_type": "code",
   "execution_count": 60,
   "metadata": {},
   "outputs": [],
   "source": [
    "import matplotlib.ticker as ticker\n",
    "import matplotlib.pyplot as plt\n",
    "import seaborn as sns\n",
    "# fdm = it.feature_density_matrix()\n",
    "# fdm[fdm == 0] = np.nan\n",
    "\n",
    "# plt.figure(figsize=(50, 50))\n",
    "\n",
    "# ax = sns.heatmap(fdm, cmap=\"viridis\", linewidths=0.01, \n",
    "#                  linecolor=\"lightgrey\", square=True)\n",
    "# ax.xaxis.set_major_locator(ticker.MultipleLocator(5))\n",
    "# ax.yaxis.set_major_locator(ticker.MultipleLocator(5))\n",
    "# for _, spine in ax.spines.items():\n",
    "#     spine.set_visible(True)\n",
    "# _ = plt.title(\"Genes per pixel\")"
   ]
  },
  {
   "cell_type": "code",
   "execution_count": 61,
   "metadata": {},
   "outputs": [
    {
     "data": {
      "text/plain": [
       "6777"
      ]
     },
     "execution_count": 61,
     "metadata": {},
     "output_type": "execute_result"
    }
   ],
   "source": [
    "np.sum(np.array(it.feature_density_matrix())>0)"
   ]
  },
  {
   "cell_type": "code",
   "execution_count": 62,
   "metadata": {},
   "outputs": [],
   "source": [
    "# fig, ax = plt.subplots(1, 4, figsize=(25, 7))\n",
    "# for i in range(0,4):\n",
    "#     ax[i].imshow(X_train_img[i])\n",
    "#     ax[i].title.set_text(\"Train[{}] \".format(i))\n",
    "# plt.tight_layout()"
   ]
  },
  {
   "cell_type": "code",
   "execution_count": 1,
   "metadata": {},
   "outputs": [
    {
     "ename": "NameError",
     "evalue": "name 'it' is not defined",
     "output_type": "error",
     "traceback": [
      "\u001b[0;31m---------------------------------------------------------------------------\u001b[0m",
      "\u001b[0;31mNameError\u001b[0m                                 Traceback (most recent call last)",
      "\u001b[0;32m/tmp/ipykernel_30476/2985967175.py\u001b[0m in \u001b[0;36m<module>\u001b[0;34m\u001b[0m\n\u001b[0;32m----> 1\u001b[0;31m \u001b[0mprint\u001b[0m\u001b[0;34m(\u001b[0m\u001b[0mit\u001b[0m\u001b[0;34m.\u001b[0m\u001b[0mfeature_density_matrix\u001b[0m\u001b[0;34m(\u001b[0m\u001b[0;34m)\u001b[0m\u001b[0;34m.\u001b[0m\u001b[0mshape\u001b[0m\u001b[0;34m)\u001b[0m\u001b[0;34m\u001b[0m\u001b[0;34m\u001b[0m\u001b[0m\n\u001b[0m\u001b[1;32m      2\u001b[0m \u001b[0mprint\u001b[0m\u001b[0;34m(\u001b[0m\u001b[0mit\u001b[0m\u001b[0;34m.\u001b[0m\u001b[0mcoords\u001b[0m\u001b[0;34m(\u001b[0m\u001b[0;34m)\u001b[0m\u001b[0;34m.\u001b[0m\u001b[0mshape\u001b[0m\u001b[0;34m)\u001b[0m\u001b[0;34m\u001b[0m\u001b[0;34m\u001b[0m\u001b[0m\n",
      "\u001b[0;31mNameError\u001b[0m: name 'it' is not defined"
     ]
    }
   ],
   "source": [
    "print(it.feature_density_matrix().shape)\n",
    "print(it.coords().shape)"
   ]
  },
  {
   "cell_type": "code",
   "execution_count": 64,
   "metadata": {},
   "outputs": [],
   "source": [
    "import pickle as pk, os\n",
    "save_model_path = './deepinsight_location_npy/'\n",
    "save_name = 'tsne-binary-perplexity=50-pixel=400.pkl'\n",
    "pk.dump(it, open(os.path.join(save_model_path, save_name),\"wb\"))\n"
   ]
  },
  {
   "cell_type": "code",
   "execution_count": 65,
   "metadata": {},
   "outputs": [],
   "source": [
    "# multiclass_nactg multiclass_totalunit\n",
    "save_path = './np_image_totalunit/tsne-binary-perplexity=50-pixel=400/'\n",
    "if not os.path.exists(save_path):\n",
    "    os.mkdir(save_path)\n",
    "if not os.path.exists(os.path.join(save_path,'image_npy')):\n",
    "    os.mkdir(os.path.join(save_path,'image_npy'))\n",
    "\n",
    "np.save(f'{save_path}/label.npy',multi_label)\n",
    "for idx, image in enumerate(X_train_img):\n",
    "    if (idx)<10:\n",
    "        np.save(f\"{save_path}/image_npy/000{idx}.npy\", image)\n",
    "    elif (idx)<100:\n",
    "        np.save(f\"{save_path}/image_npy/00{idx}.npy\", image)\n",
    "    elif (idx)<1000:\n",
    "        np.save(f\"{save_path}/image_npy/0{idx}.npy\", image)\n",
    "    else:\n",
    "        np.save(f\"{save_path}/image_npy/{idx}.npy\", image)\n"
   ]
  },
  {
   "cell_type": "code",
   "execution_count": 15,
   "metadata": {},
   "outputs": [],
   "source": [
    "# fig, ax = plt.subplots(1, 4, figsize=(25, 7))\n",
    "# for i in range(0,4):\n",
    "#     ax[i].imshow(X_train_img[i], cmap='bone')\n",
    "#     ax[i].title.set_text(\"Train[{}] - class '{}'\".format(i, \"\"))\n",
    "# plt.tight_layout()"
   ]
  },
  {
   "cell_type": "code",
   "execution_count": 16,
   "metadata": {},
   "outputs": [],
   "source": [
    "# from PIL import Image\n",
    "\n",
    "# new_p = Image.fromarray((X_train_img[0]*255).astype(np.uint8))\n",
    "# if new_p.mode != 'RGB':\n",
    "#     new_p = new_p.convert('RGB')\n",
    "# new_p.save(\"filename.png\")"
   ]
  },
  {
   "cell_type": "code",
   "execution_count": 17,
   "metadata": {},
   "outputs": [],
   "source": [
    "# fig, ax = plt.subplots(1, 4, figsize=(25, 7))\n",
    "# for i in range(0,4):\n",
    "#     ax[i].imshow(X_train_img[i][:,:,0], cmap='bone')\n",
    "#     ax[i].title.set_text(\"Train[{}] - class '{}'\".format(i, \"\"))\n",
    "# plt.tight_layout()"
   ]
  },
  {
   "cell_type": "code",
   "execution_count": 18,
   "metadata": {},
   "outputs": [],
   "source": [
    "from PIL import Image\n"
   ]
  },
  {
   "cell_type": "code",
   "execution_count": null,
   "metadata": {},
   "outputs": [],
   "source": []
  }
 ],
 "metadata": {
  "interpreter": {
   "hash": "8321bd8566c95cfb71ed6984ab2cc826637fe1a46d23cdd98050f8cb49c597e9"
  },
  "kernelspec": {
   "display_name": "Python 3.7.11 ('deepinsightlearning')",
   "language": "python",
   "name": "python3"
  },
  "language_info": {
   "codemirror_mode": {
    "name": "ipython",
    "version": 3
   },
   "file_extension": ".py",
   "mimetype": "text/x-python",
   "name": "python",
   "nbconvert_exporter": "python",
   "pygments_lexer": "ipython3",
   "version": "3.7.11"
  },
  "orig_nbformat": 4
 },
 "nbformat": 4,
 "nbformat_minor": 2
}
