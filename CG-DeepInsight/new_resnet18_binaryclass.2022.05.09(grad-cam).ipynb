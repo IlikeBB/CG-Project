{
 "cells": [
  {
   "cell_type": "code",
   "execution_count": null,
   "metadata": {},
   "outputs": [],
   "source": [
    "import torch, shap, glob, os\n",
    "import numpy as np, pandas as pd, torchvision.transforms as transforms\n",
    "import random\n",
    "\n",
    "from Bio import SeqIO\n",
    "from tqdm.notebook import tqdm\n",
    "from torch.nn import Module\n",
    "from torch import nn\n",
    "from torch.utils.data import Dataset, DataLoader, Subset\n",
    "from PIL import Image\n",
    "from sklearn.model_selection import StratifiedShuffleSplit\n",
    "from sklearn.model_selection import train_test_split\n",
    "from torchvision.models import  resnet18, alexnet\n",
    "\n",
    "np.random.seed(2020)\n",
    "random.seed(2020)\n",
    "torch.manual_seed(2020)"
   ]
  },
  {
   "cell_type": "code",
   "execution_count": null,
   "metadata": {},
   "outputs": [],
   "source": [
    "npy_path = './np_image_totalunit/tsne-binary-perplexity=5-pixel=400[onehot]/'\n",
    "# npy_path = './np_image_totalunit/multiclass_totalunit/'\n",
    "\n",
    "save_weight_path ='./models/weights_res18_tsne-binary-perplexity=5-pixel=400[onehot]/'\n",
    "# save_weight_path = './models/weights_Multiclass_Covid19(Non-kmer3)_IndexRemark.2022.03.24[NACGTRYKMSWBDHV]/'\n",
    "\n",
    "weights_name = \"weights_binaryclass_Covid19(Non-kmer3)[NACGT].2022.05.09-onehot.pt\"\n",
    "# weights_name = \"weights_Multiclass_Covid19(Non-kmer3)[NACGTRYKMSWBDHV].2022.03.24.pt\"\n",
    "\n",
    "path2weights = os.path.join(save_weight_path,weights_name)"
   ]
  },
  {
   "cell_type": "code",
   "execution_count": null,
   "metadata": {},
   "outputs": [],
   "source": [
    "npy_data_list = [os.path.join(npy_path,'image_npy',i ) for i in sorted(os.listdir(os.path.join(npy_path,'image_npy')))]\n",
    "label_ = np.load(os.path.join(npy_path,'label.npy'))"
   ]
  },
  {
   "cell_type": "code",
   "execution_count": null,
   "metadata": {},
   "outputs": [],
   "source": [
    "nas_path = \"./dataset_1401/\"\n",
    "lineage_label = pd.read_csv('./dataset_1401/1404_lineage_report and metadata 20220316.csv')[['scorpio_call_y','diff']]\n",
    "lineage_label = np.array(lineage_label.fillna(\"None\"))\n",
    "label_s = []\n",
    "name_ = []\n",
    "new_lineage_label = []\n",
    "for idx, rna in enumerate(SeqIO.parse('./dataset_1401/1404.sequences.aln.fasta',\"fasta\")):\n",
    "    if \"B.1.617.2\" == lineage_label[idx][0]:\n",
    "    # print(lineage_label[idx][0].split(' ')[0])\n",
    "        label_s.append(lineage_label[idx][1].split(' ')[0])\n",
    "        name_.append(lineage_label[idx][0])\n",
    "        new_lineage_label.append(str(rna.seq))"
   ]
  },
  {
   "cell_type": "code",
   "execution_count": null,
   "metadata": {},
   "outputs": [],
   "source": [
    "class_,_ ,_,_= np.unique(label_s,return_counts=True,return_index=True,return_inverse=True)\n",
    "print(class_)"
   ]
  },
  {
   "cell_type": "code",
   "execution_count": null,
   "metadata": {},
   "outputs": [],
   "source": [
    "from sklearn.model_selection import StratifiedShuffleSplit\n",
    "from sklearn.model_selection import train_test_split\n",
    "X_train, X_test, y_train, y_test = train_test_split(npy_data_list, label_,stratify = label_, test_size=0.25, random_state=42)\n",
    "\n",
    "print(len(X_train), len(y_train)) \n",
    "\n",
    "print(len(X_test), len(y_test))"
   ]
  },
  {
   "cell_type": "code",
   "execution_count": null,
   "metadata": {},
   "outputs": [],
   "source": [
    "from torch.utils.data import Dataset, DataLoader, Subset\n",
    "import torchvision.transforms as transforms\n",
    "import glob\n",
    "from PIL import Image\n",
    "import torch\n",
    "import numpy as np\n",
    "import random\n",
    "np.random.seed(2020)\n",
    "random.seed(2020)\n",
    "torch.manual_seed(2020)\n",
    "\n",
    "class TransferDataset(Dataset):\n",
    "    def __init__(self, s_path, labels, transform):\n",
    "        self.transform = transform\n",
    "        self.s_path = s_path\n",
    "        self.labels = labels\n",
    "        \n",
    "    def __len__(self):\n",
    "        return len(self.s_path)\n",
    "\n",
    "    def __getitem__(self, idx):\n",
    "        singel_image_ = np.load(self.s_path[idx]).astype(np.float32)\n",
    "        seed = np.random.randint(1e9)       \n",
    "        random.seed(seed)\n",
    "        np.random.seed(seed)\n",
    "        singel_image_ = self.transform(singel_image_)\n",
    "        label = float(self.labels[idx])\n",
    "        # print(label)\n",
    "\n",
    "        return singel_image_, label"
   ]
  },
  {
   "cell_type": "code",
   "execution_count": null,
   "metadata": {},
   "outputs": [],
   "source": [
    "transformer = transforms.Compose([\n",
    "            transforms.ToTensor(),\n",
    "            # transforms.Normalize(mean, std),\n",
    "            ])     \n",
    "\n",
    "train_ds = TransferDataset(s_path= X_train, labels= y_train, transform= transformer)\n",
    "test_ds = TransferDataset(s_path= X_test, labels= y_test, transform= transformer)\n",
    "print(len(train_ds), len(test_ds))"
   ]
  },
  {
   "cell_type": "code",
   "execution_count": null,
   "metadata": {},
   "outputs": [],
   "source": [
    "imgs, label = train_ds[10]\n",
    "batch_size = 32\n",
    "train_dl = DataLoader(train_ds, batch_size= batch_size, \n",
    "                        shuffle=True)\n",
    "test_dl = DataLoader(test_ds, batch_size= 2*batch_size, \n",
    "                        shuffle=False)  "
   ]
  },
  {
   "cell_type": "code",
   "execution_count": null,
   "metadata": {},
   "outputs": [],
   "source": [
    "# eval\n",
    "def reload_model():\n",
    "    models = resnet18(pretrained=False, num_classes=1)\n",
    "    checkpoint = torch.load(path2weights, map_location=torch.device('cpu'))\n",
    "    # checkpoint = torch.load('./models/weights_Multiclass_Covid19(Non-kmer3)_IndexRemark.2022.03.24[NACGTRYKMSWBDHV]/weights_Multiclass_Covid19(Non-kmer3)[NACGTRYKMSWBDHV].2022.03.24.pt', map_location=torch.device('cpu'))\n",
    "    models.load_state_dict(checkpoint['model_state_dict'])\n",
    "    return models"
   ]
  },
  {
   "cell_type": "code",
   "execution_count": null,
   "metadata": {},
   "outputs": [],
   "source": [
    "test_dl = DataLoader(test_ds, batch_size= 1, \n",
    "                        shuffle=False) \n",
    "images, label =next(iter(test_dl))\n",
    "print(images.shape, label)"
   ]
  },
  {
   "cell_type": "code",
   "execution_count": null,
   "metadata": {},
   "outputs": [],
   "source": [
    "import matplotlib.pyplot as plt\n",
    "from torchvision.transforms.functional import normalize, resize, to_pil_image\n",
    "from torchcam.methods import SmoothGradCAMpp, LayerCAM, GradCAM\n",
    "from torchcam.utils import overlay_mask\n",
    "device = torch.device(\"cuda:0\" if torch.cuda.is_available() else \"cpu\")\n",
    "class_dict = {0:'N', 1:'Y'}\n",
    "def loader_cam(image_, lable_, idx): #single classes loader\n",
    "    model = reload_model().to(device).eval()\n",
    "    cam_extractor = LayerCAM(model, [\"layer4\"])\n",
    "    classes__ = class_dict[int(lable_)]\n",
    "    out = model(image_.to(device))\n",
    "    # print(torch.sigmoid(out))\n",
    "    cams = cam_extractor(out.squeeze(0).argmax().item(), out)\n",
    "    \n",
    "    cam_extractor.clear_hooks()\n",
    "    # for i in cams:\n",
    "    #     print(i.shape)\n",
    "    # Resize it\n",
    "    ths = 0.5\n",
    "    resized_cams = [resize(to_pil_image(cam), img.shape[-2:]) for cam in cams]\n",
    "    segmaps = [to_pil_image((resize(cam.unsqueeze(0), img.shape[-2:]).squeeze(0) >= ths).to(dtype=torch.float32)) for cam in cams]\n",
    "\n",
    "    # Calc cam weight\n",
    "    for name, cam, seg in zip(cam_extractor.target_names, resized_cams, segmaps):\n",
    "        capture_image = np.where(np.array(seg), np.array(images[0][0]), np.array(images[0][0])*0)\n",
    "    \n",
    "    # Plot it\n",
    "    if False:\n",
    "        for name, cam, seg in zip(cam_extractor.target_names, resized_cams, segmaps):\n",
    "            _, axes = plt.subplots(1, 5, figsize=(25, 7))\n",
    "            axes[0].imshow(cam); axes[0].axis('off'); axes[0].set_title(f'heatmap')\n",
    "            axes[1].imshow(seg); axes[1].axis('off'); axes[1].set_title(f' mask > {ths} [ths]')\n",
    "            axes[2].imshow(images[0][0]); axes[2].axis('off'); axes[2].set_title(f'seq image - Ground Truth: {classes__}')\n",
    "            axes[3].imshow(images[0][0], cmap='bone')\n",
    "            axes[3].imshow(seg, alpha=0.5, cmap='bone'); axes[3].axis('off'); axes[3].set_title(f'MIX image - Pred Results: {class_dict[torch.sigmoid(out).item()>0.5]}')\n",
    "\n",
    "            capture_image = np.where(np.array(seg), np.array(images[0][0]), np.array(images[0][0])*0)\n",
    "            axes[4].imshow(capture_image); axes[4].axis('off'); axes[4].set_title(f'Captrue Area')\n",
    "            plt.savefig(os.path.join(save_fig_path, project_name, f'{idx}.png'))\n",
    "            plt.show()\n",
    "    return capture_image, images[0][0].cpu().numpy()\n",
    "    \n",
    "save_fig_path = './GramCam_FIG/'\n",
    "project_name = 'weights_res18_tsne-binary-perplexity=5-pixel=400[onehot]'\n",
    "if not os.path.exists(os.path.join(save_fig_path)):\n",
    "    os.mkdir(os.path.join(save_fig_path))\n",
    "if not os.path.exists(os.path.join(save_fig_path, project_name)):\n",
    "    os.mkdir(os.path.join(save_fig_path, project_name))\n",
    "\n",
    "sum_image = np.zeros((440,440))\n",
    "tsne_image = np.zeros((440,440))\n",
    "for idx, (img, lab) in enumerate(test_dl):\n",
    "    if int(lab)==1:\n",
    "        images = img\n",
    "        label = lab\n",
    "        temp, temp2 = loader_cam(images, label, idx)\n",
    "        tsne_image = tsne_image + temp2\n",
    "        sum_image = sum_image + temp\n",
    "        # tsne_image = temp2\n",
    "        # sum_image = temp\n",
    "        # break"
   ]
  },
  {
   "cell_type": "code",
   "execution_count": null,
   "metadata": {},
   "outputs": [],
   "source": [
    "import pickle as pk, os\n",
    "save_model_path = './deepinsight_location_npy/'\n",
    "save_name = 'tsne-binary-perplexity=50-pixel=400[onehot].pkl'\n",
    "# save_name = 'tsne-binary-perplexity=50-pixel=400.pkl'\n",
    "it = pk.load(open(os.path.join(save_model_path,save_name),'rb'))"
   ]
  },
  {
   "cell_type": "code",
   "execution_count": null,
   "metadata": {},
   "outputs": [],
   "source": [
    "_, axes = plt.subplots(1, 3, figsize=(30, 15))\n",
    "\n",
    "axes[0].imshow(tsne_image, cmap='bone'); axes[0].axis('off'); axes[0].set_title(f'lineage diff = [Y]')\n",
    "axes[1].imshow(tsne_image, cmap='bone')\n",
    "axes[1].imshow(sum_image, alpha=0.7, cmap='hot'); axes[1].axis('on'); axes[1].set_title(f'MIX')\n",
    "axes[2].imshow(sum_image, cmap='hot'); axes[2].axis('on'); axes[2].set_title(f'test diff= [Y] image stack')\n",
    "\n",
    "plt.show()"
   ]
  },
  {
   "cell_type": "code",
   "execution_count": null,
   "metadata": {},
   "outputs": [],
   "source": [
    "feature_dict = {}\n",
    "for x, first_array in enumerate(sum_image, ):\n",
    "    for y, second_array in enumerate(first_array):\n",
    "        if second_array>0.0:\n",
    "            feature_dict[x,y] = second_array\n",
    "            # print((x,y), round(second_array,8))"
   ]
  },
  {
   "cell_type": "code",
   "execution_count": null,
   "metadata": {},
   "outputs": [],
   "source": [
    "RNA_SEQ = {0:'-', 1:'N', 2:'A', 3:'C', 4:'G', 5:'T'}\n",
    "total_feature_stack = []\n",
    "for seq_index, xy in enumerate(it.coords()):\n",
    "    if tuple(xy) in list(feature_dict.keys()):\n",
    "        total_feature_stack.append([feature_dict[tuple(xy)], int(seq_index/6)+1, RNA_SEQ[seq_index%6]])\n",
    "        # print('index', seq_index, 'rna: ', RNA_SEQ[seq_index%6], 'weight', feature_dict[tuple(xy)])"
   ]
  },
  {
   "cell_type": "code",
   "execution_count": null,
   "metadata": {},
   "outputs": [],
   "source": [
    "# len(it.coords())\n",
    "# ml_pos_stack = [1048, 13482, 15952, 17236, 21846, 21987, 22792, 23593, 23896, 24928, 25352, 26107]\n",
    "# ml_gene_stack = [['G', 'T'], ['G'], ['A'], ['A'], ['C', 'T'], ['G', 'N', 'A'], ['C', 'T'], ['C','G'], ['C'], ['G'], ['G'], ['C', 'G']]\n"
   ]
  },
  {
   "cell_type": "code",
   "execution_count": null,
   "metadata": {},
   "outputs": [],
   "source": [
    "# ml_save_feature_stack = []\n",
    "# for pos, genes in zip(ml_pos_stack, ml_gene_stack):\n",
    "#     for ge_ in genes:\n",
    "#         ml_save_feature_stack.append([pos, ge_])\n",
    "# # (pd.DataFrame(ml_save_feature_stack, columns =['Position', 'Gene'])).to_csv('../Gene-Translation/demo/ml_feature_list.csv', index=False)"
   ]
  },
  {
   "cell_type": "code",
   "execution_count": null,
   "metadata": {},
   "outputs": [],
   "source": [
    "# pos2xy = []\n",
    "# NUM_SEQ = {'-':0, 'N':1, 'A':2, 'C':3, 'G':4, 'T':5}\n",
    "# for i in ml_save_feature_stack:\n",
    "#     print((i[0]-1)*6, ((i[0]-1)*6)-(5-NUM_SEQ[i[1]]), i[1])\n",
    "#     # print(it.coords()[((i[0]-1)*6)-(5-NUM_SEQ[i[1]])])\n",
    "#     pos2xy.append(it.coords()[((i[0]-1)*6)-(5-NUM_SEQ[i[1]])])"
   ]
  },
  {
   "cell_type": "code",
   "execution_count": null,
   "metadata": {},
   "outputs": [],
   "source": [
    "# ml_image = np.zeros((440,440))\n",
    "# for draw_ in pos2xy:\n",
    "#     ml_image[draw_[0]][draw_[1]] = 0.5\n",
    "\n",
    "# for draw_ in ml_image:\n",
    "#     for draw_2 in draw_:\n",
    "#         if (draw_2 >0):\n",
    "#             print(draw_, draw_2)"
   ]
  },
  {
   "cell_type": "code",
   "execution_count": null,
   "metadata": {},
   "outputs": [],
   "source": [
    "\n",
    "# _, axes = plt.subplots(1, 2, figsize=(20, 15))\n",
    "\n",
    "# axes[0].imshow(tsne_image, cmap='bone')\n",
    "# axes[0].imshow(ml_image, alpha=0.7, cmap='hot'); axes[0].axis('on'); axes[0].set_title(f'Machine Learning')\n",
    "# axes[1].imshow(tsne_image, cmap='bone')\n",
    "# axes[1].imshow(sum_image, alpha=0.7, cmap='hot'); axes[1].axis('on'); axes[1].set_title(f'Deep Learning')\n",
    "\n",
    "# plt.show()"
   ]
  },
  {
   "cell_type": "code",
   "execution_count": null,
   "metadata": {},
   "outputs": [],
   "source": [
    "total_feature_stack = sorted(total_feature_stack, reverse=True)\n",
    "# total_feature_stack = sorted(total_feature_stack, key = lambda seq_index : seq_index[1])"
   ]
  },
  {
   "cell_type": "code",
   "execution_count": null,
   "metadata": {},
   "outputs": [],
   "source": [
    "save_feature_stack = [[i[1],i[2]] for i in total_feature_stack]"
   ]
  },
  {
   "cell_type": "code",
   "execution_count": null,
   "metadata": {},
   "outputs": [],
   "source": [
    "(pd.DataFrame(save_feature_stack, columns =['Position', 'Gene'])).to_csv('../Gene-Translation/demo/feature_list_ths0.5.csv', index=False)\n",
    "# (pd.DataFrame(save_feature_stack, columns =['Position', 'Gene'])).to_csv('../Gene-Translation/demo/feature_list_ths0.5.csv', sep='\\t', index=False)"
   ]
  },
  {
   "cell_type": "code",
   "execution_count": null,
   "metadata": {},
   "outputs": [],
   "source": []
  }
 ],
 "metadata": {
  "interpreter": {
   "hash": "8321bd8566c95cfb71ed6984ab2cc826637fe1a46d23cdd98050f8cb49c597e9"
  },
  "kernelspec": {
   "display_name": "Python 3.7.11 ('deepinsightlearning')",
   "language": "python",
   "name": "python3"
  },
  "language_info": {
   "codemirror_mode": {
    "name": "ipython",
    "version": 3
   },
   "file_extension": ".py",
   "mimetype": "text/x-python",
   "name": "python",
   "nbconvert_exporter": "python",
   "pygments_lexer": "ipython3",
   "version": "3.7.11"
  },
  "orig_nbformat": 4
 },
 "nbformat": 4,
 "nbformat_minor": 2
}
