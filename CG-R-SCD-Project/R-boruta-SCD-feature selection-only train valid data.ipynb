{
 "cells": [
  {
   "cell_type": "code",
   "execution_count": 1,
   "metadata": {
    "vscode": {
     "languageId": "r"
    }
   },
   "outputs": [
    {
     "name": "stderr",
     "output_type": "stream",
     "text": [
      "R.matlab v3.6.2 (2018-09-26) successfully loaded. See ?R.matlab for help.\n",
      "\n",
      "\n",
      "Attaching package: ‘R.matlab’\n",
      "\n",
      "\n",
      "The following objects are masked from ‘package:base’:\n",
      "\n",
      "    getOption, isOpen\n",
      "\n",
      "\n",
      "randomForest 4.7-1.1\n",
      "\n",
      "Type rfNews() to see new features/changes/bug fixes.\n",
      "\n",
      "\n",
      "Attaching package: ‘randomForest’\n",
      "\n",
      "\n",
      "The following object is masked from ‘package:ggplot2’:\n",
      "\n",
      "    margin\n",
      "\n",
      "\n",
      "\n",
      "Attaching package: ‘dplyr’\n",
      "\n",
      "\n",
      "The following objects are masked from ‘package:data.table’:\n",
      "\n",
      "    between, first, last\n",
      "\n",
      "\n",
      "The following object is masked from ‘package:randomForest’:\n",
      "\n",
      "    combine\n",
      "\n",
      "\n",
      "The following objects are masked from ‘package:stats’:\n",
      "\n",
      "    filter, lag\n",
      "\n",
      "\n",
      "The following objects are masked from ‘package:base’:\n",
      "\n",
      "    intersect, setdiff, setequal, union\n",
      "\n",
      "\n"
     ]
    }
   ],
   "source": [
    "# Libraries\n",
    "library(R.matlab)\n",
    "library(ggplot2)\n",
    "library(lattice)\n",
    "library(Boruta)\n",
    "library(mlbench)\n",
    "library(caret)\n",
    "library(randomForest)\n",
    "library(data.table)\n",
    "library(magrittr)\n",
    "library(dplyr)"
   ]
  },
  {
   "cell_type": "code",
   "execution_count": 2,
   "metadata": {
    "vscode": {
     "languageId": "r"
    }
   },
   "outputs": [],
   "source": [
    "# loading csv data\n",
    "df_ad8_ <- fread(input=\"./dataset/AD8主觀認知障礙[0-1,>=2][mean].csv\")\n",
    "df_moca_ <- fread(input = \"./dataset/MOCA客觀認知測驗分數[<=23,>=24][mean].csv\")\n",
    "# print(colnames(df_outcome))\n",
    "# print(colnames(df_value))"
   ]
  },
  {
   "cell_type": "code",
   "execution_count": 3,
   "metadata": {
    "vscode": {
     "languageId": "r"
    }
   },
   "outputs": [
    {
     "data": {
      "text/html": [
       "<table class=\"dataframe\">\n",
       "<caption>A data.table: 3 × 301</caption>\n",
       "<thead>\n",
       "\t<tr><th scope=col>1_unassigned</th><th scope=col>10_unassigned</th><th scope=col>100_DefaultMode</th><th scope=col>101_DefaultMode</th><th scope=col>102_DefaultMode</th><th scope=col>103_DefaultMode</th><th scope=col>104_DefaultMode</th><th scope=col>105_DefaultMode</th><th scope=col>106_DefaultMode</th><th scope=col>107_DefaultMode</th><th scope=col>⋯</th><th scope=col>91_DefaultMode</th><th scope=col>92_DefaultMode</th><th scope=col>93_DefaultMode</th><th scope=col>94_DefaultMode</th><th scope=col>95_DefaultMode</th><th scope=col>96_DefaultMode</th><th scope=col>97_DefaultMode</th><th scope=col>98_DefaultMode</th><th scope=col>99_DefaultMode</th><th scope=col>outcome</th></tr>\n",
       "\t<tr><th scope=col>&lt;dbl&gt;</th><th scope=col>&lt;dbl&gt;</th><th scope=col>&lt;dbl&gt;</th><th scope=col>&lt;dbl&gt;</th><th scope=col>&lt;dbl&gt;</th><th scope=col>&lt;dbl&gt;</th><th scope=col>&lt;dbl&gt;</th><th scope=col>&lt;dbl&gt;</th><th scope=col>&lt;dbl&gt;</th><th scope=col>&lt;dbl&gt;</th><th scope=col>⋯</th><th scope=col>&lt;dbl&gt;</th><th scope=col>&lt;dbl&gt;</th><th scope=col>&lt;dbl&gt;</th><th scope=col>&lt;dbl&gt;</th><th scope=col>&lt;dbl&gt;</th><th scope=col>&lt;dbl&gt;</th><th scope=col>&lt;dbl&gt;</th><th scope=col>&lt;dbl&gt;</th><th scope=col>&lt;dbl&gt;</th><th scope=col>&lt;int&gt;</th></tr>\n",
       "</thead>\n",
       "<tbody>\n",
       "\t<tr><td>0.7061689</td><td>0.8575445</td><td>0.7052558</td><td>0.7982326</td><td>0.7138551</td><td>0.7378071</td><td>0.9653893</td><td>1.022310</td><td>2.035718</td><td>1.111226</td><td>⋯</td><td>0.8121306</td><td>0.8154143</td><td>0.7535726</td><td>0.7508472</td><td>1.2553424</td><td>0.4121088</td><td>0.7589343</td><td>1.2509834</td><td>1.310278</td><td>1</td></tr>\n",
       "\t<tr><td>1.0849213</td><td>0.8849982</td><td>1.0307140</td><td>1.1849732</td><td>1.0972043</td><td>1.0459110</td><td>1.4902368</td><td>1.160965</td><td>2.124221</td><td>1.343091</td><td>⋯</td><td>0.8265397</td><td>1.3062833</td><td>1.4046950</td><td>1.1461399</td><td>1.9450089</td><td>1.7712055</td><td>1.0357548</td><td>1.3217860</td><td>1.118118</td><td>1</td></tr>\n",
       "\t<tr><td>0.7289415</td><td>0.3793027</td><td>1.0309113</td><td>2.1049465</td><td>0.9905913</td><td>0.8511426</td><td>1.6731609</td><td>1.573165</td><td>3.194865</td><td>1.180309</td><td>⋯</td><td>0.8923878</td><td>1.3893740</td><td>0.8931532</td><td>1.3763585</td><td>0.8761261</td><td>1.2406956</td><td>1.0028500</td><td>0.9780304</td><td>1.197015</td><td>5</td></tr>\n",
       "</tbody>\n",
       "</table>\n"
      ],
      "text/latex": [
       "A data.table: 3 × 301\n",
       "\\begin{tabular}{lllllllllllllllllllll}\n",
       " 1\\_unassigned & 10\\_unassigned & 100\\_DefaultMode & 101\\_DefaultMode & 102\\_DefaultMode & 103\\_DefaultMode & 104\\_DefaultMode & 105\\_DefaultMode & 106\\_DefaultMode & 107\\_DefaultMode & ⋯ & 91\\_DefaultMode & 92\\_DefaultMode & 93\\_DefaultMode & 94\\_DefaultMode & 95\\_DefaultMode & 96\\_DefaultMode & 97\\_DefaultMode & 98\\_DefaultMode & 99\\_DefaultMode & outcome\\\\\n",
       " <dbl> & <dbl> & <dbl> & <dbl> & <dbl> & <dbl> & <dbl> & <dbl> & <dbl> & <dbl> & ⋯ & <dbl> & <dbl> & <dbl> & <dbl> & <dbl> & <dbl> & <dbl> & <dbl> & <dbl> & <int>\\\\\n",
       "\\hline\n",
       "\t 0.7061689 & 0.8575445 & 0.7052558 & 0.7982326 & 0.7138551 & 0.7378071 & 0.9653893 & 1.022310 & 2.035718 & 1.111226 & ⋯ & 0.8121306 & 0.8154143 & 0.7535726 & 0.7508472 & 1.2553424 & 0.4121088 & 0.7589343 & 1.2509834 & 1.310278 & 1\\\\\n",
       "\t 1.0849213 & 0.8849982 & 1.0307140 & 1.1849732 & 1.0972043 & 1.0459110 & 1.4902368 & 1.160965 & 2.124221 & 1.343091 & ⋯ & 0.8265397 & 1.3062833 & 1.4046950 & 1.1461399 & 1.9450089 & 1.7712055 & 1.0357548 & 1.3217860 & 1.118118 & 1\\\\\n",
       "\t 0.7289415 & 0.3793027 & 1.0309113 & 2.1049465 & 0.9905913 & 0.8511426 & 1.6731609 & 1.573165 & 3.194865 & 1.180309 & ⋯ & 0.8923878 & 1.3893740 & 0.8931532 & 1.3763585 & 0.8761261 & 1.2406956 & 1.0028500 & 0.9780304 & 1.197015 & 5\\\\\n",
       "\\end{tabular}\n"
      ],
      "text/markdown": [
       "\n",
       "A data.table: 3 × 301\n",
       "\n",
       "| 1_unassigned &lt;dbl&gt; | 10_unassigned &lt;dbl&gt; | 100_DefaultMode &lt;dbl&gt; | 101_DefaultMode &lt;dbl&gt; | 102_DefaultMode &lt;dbl&gt; | 103_DefaultMode &lt;dbl&gt; | 104_DefaultMode &lt;dbl&gt; | 105_DefaultMode &lt;dbl&gt; | 106_DefaultMode &lt;dbl&gt; | 107_DefaultMode &lt;dbl&gt; | ⋯ ⋯ | 91_DefaultMode &lt;dbl&gt; | 92_DefaultMode &lt;dbl&gt; | 93_DefaultMode &lt;dbl&gt; | 94_DefaultMode &lt;dbl&gt; | 95_DefaultMode &lt;dbl&gt; | 96_DefaultMode &lt;dbl&gt; | 97_DefaultMode &lt;dbl&gt; | 98_DefaultMode &lt;dbl&gt; | 99_DefaultMode &lt;dbl&gt; | outcome &lt;int&gt; |\n",
       "|---|---|---|---|---|---|---|---|---|---|---|---|---|---|---|---|---|---|---|---|---|\n",
       "| 0.7061689 | 0.8575445 | 0.7052558 | 0.7982326 | 0.7138551 | 0.7378071 | 0.9653893 | 1.022310 | 2.035718 | 1.111226 | ⋯ | 0.8121306 | 0.8154143 | 0.7535726 | 0.7508472 | 1.2553424 | 0.4121088 | 0.7589343 | 1.2509834 | 1.310278 | 1 |\n",
       "| 1.0849213 | 0.8849982 | 1.0307140 | 1.1849732 | 1.0972043 | 1.0459110 | 1.4902368 | 1.160965 | 2.124221 | 1.343091 | ⋯ | 0.8265397 | 1.3062833 | 1.4046950 | 1.1461399 | 1.9450089 | 1.7712055 | 1.0357548 | 1.3217860 | 1.118118 | 1 |\n",
       "| 0.7289415 | 0.3793027 | 1.0309113 | 2.1049465 | 0.9905913 | 0.8511426 | 1.6731609 | 1.573165 | 3.194865 | 1.180309 | ⋯ | 0.8923878 | 1.3893740 | 0.8931532 | 1.3763585 | 0.8761261 | 1.2406956 | 1.0028500 | 0.9780304 | 1.197015 | 5 |\n",
       "\n"
      ],
      "text/plain": [
       "  1_unassigned 10_unassigned 100_DefaultMode 101_DefaultMode 102_DefaultMode\n",
       "1 0.7061689    0.8575445     0.7052558       0.7982326       0.7138551      \n",
       "2 1.0849213    0.8849982     1.0307140       1.1849732       1.0972043      \n",
       "3 0.7289415    0.3793027     1.0309113       2.1049465       0.9905913      \n",
       "  103_DefaultMode 104_DefaultMode 105_DefaultMode 106_DefaultMode\n",
       "1 0.7378071       0.9653893       1.022310        2.035718       \n",
       "2 1.0459110       1.4902368       1.160965        2.124221       \n",
       "3 0.8511426       1.6731609       1.573165        3.194865       \n",
       "  107_DefaultMode ⋯ 91_DefaultMode 92_DefaultMode 93_DefaultMode 94_DefaultMode\n",
       "1 1.111226        ⋯ 0.8121306      0.8154143      0.7535726      0.7508472     \n",
       "2 1.343091        ⋯ 0.8265397      1.3062833      1.4046950      1.1461399     \n",
       "3 1.180309        ⋯ 0.8923878      1.3893740      0.8931532      1.3763585     \n",
       "  95_DefaultMode 96_DefaultMode 97_DefaultMode 98_DefaultMode 99_DefaultMode\n",
       "1 1.2553424      0.4121088      0.7589343      1.2509834      1.310278      \n",
       "2 1.9450089      1.7712055      1.0357548      1.3217860      1.118118      \n",
       "3 0.8761261      1.2406956      1.0028500      0.9780304      1.197015      \n",
       "  outcome\n",
       "1 1      \n",
       "2 1      \n",
       "3 5      "
      ]
     },
     "metadata": {},
     "output_type": "display_data"
    },
    {
     "data": {
      "text/html": [
       "<table class=\"dataframe\">\n",
       "<caption>A data.table: 3 × 301</caption>\n",
       "<thead>\n",
       "\t<tr><th scope=col>1_unassigned</th><th scope=col>10_unassigned</th><th scope=col>100_DefaultMode</th><th scope=col>101_DefaultMode</th><th scope=col>102_DefaultMode</th><th scope=col>103_DefaultMode</th><th scope=col>104_DefaultMode</th><th scope=col>105_DefaultMode</th><th scope=col>106_DefaultMode</th><th scope=col>107_DefaultMode</th><th scope=col>⋯</th><th scope=col>91_DefaultMode</th><th scope=col>92_DefaultMode</th><th scope=col>93_DefaultMode</th><th scope=col>94_DefaultMode</th><th scope=col>95_DefaultMode</th><th scope=col>96_DefaultMode</th><th scope=col>97_DefaultMode</th><th scope=col>98_DefaultMode</th><th scope=col>99_DefaultMode</th><th scope=col>outcome</th></tr>\n",
       "\t<tr><th scope=col>&lt;dbl&gt;</th><th scope=col>&lt;dbl&gt;</th><th scope=col>&lt;dbl&gt;</th><th scope=col>&lt;dbl&gt;</th><th scope=col>&lt;dbl&gt;</th><th scope=col>&lt;dbl&gt;</th><th scope=col>&lt;dbl&gt;</th><th scope=col>&lt;dbl&gt;</th><th scope=col>&lt;dbl&gt;</th><th scope=col>&lt;dbl&gt;</th><th scope=col>⋯</th><th scope=col>&lt;dbl&gt;</th><th scope=col>&lt;dbl&gt;</th><th scope=col>&lt;dbl&gt;</th><th scope=col>&lt;dbl&gt;</th><th scope=col>&lt;dbl&gt;</th><th scope=col>&lt;dbl&gt;</th><th scope=col>&lt;dbl&gt;</th><th scope=col>&lt;dbl&gt;</th><th scope=col>&lt;dbl&gt;</th><th scope=col>&lt;int&gt;</th></tr>\n",
       "</thead>\n",
       "<tbody>\n",
       "\t<tr><td>0.3717417</td><td>0.2522757</td><td>0.8975669</td><td>1.422525</td><td>0.7762359</td><td>0.6675160</td><td>1.275439</td><td>1.0858376</td><td>1.763560</td><td>1.0175207</td><td>⋯</td><td>0.8928204</td><td>1.833623</td><td>1.5664630</td><td>0.9330516</td><td>1.168554</td><td>0.5361413</td><td>0.7684926</td><td>1.216418</td><td>1.232424</td><td>29</td></tr>\n",
       "\t<tr><td>0.7856422</td><td>0.7837878</td><td>0.9562682</td><td>1.082560</td><td>0.7710374</td><td>0.8022433</td><td>1.031848</td><td>0.9062507</td><td>1.509226</td><td>0.9429646</td><td>⋯</td><td>0.8928404</td><td>1.019845</td><td>0.9143425</td><td>1.0407412</td><td>1.741321</td><td>2.3785811</td><td>0.7637207</td><td>1.096368</td><td>1.074213</td><td>26</td></tr>\n",
       "\t<tr><td>1.0849213</td><td>0.8849982</td><td>1.0307140</td><td>1.184973</td><td>1.0972043</td><td>1.0459110</td><td>1.490237</td><td>1.1609652</td><td>2.124221</td><td>1.3430908</td><td>⋯</td><td>0.8265397</td><td>1.306283</td><td>1.4046950</td><td>1.1461399</td><td>1.945009</td><td>1.7712055</td><td>1.0357548</td><td>1.321786</td><td>1.118118</td><td>31</td></tr>\n",
       "</tbody>\n",
       "</table>\n"
      ],
      "text/latex": [
       "A data.table: 3 × 301\n",
       "\\begin{tabular}{lllllllllllllllllllll}\n",
       " 1\\_unassigned & 10\\_unassigned & 100\\_DefaultMode & 101\\_DefaultMode & 102\\_DefaultMode & 103\\_DefaultMode & 104\\_DefaultMode & 105\\_DefaultMode & 106\\_DefaultMode & 107\\_DefaultMode & ⋯ & 91\\_DefaultMode & 92\\_DefaultMode & 93\\_DefaultMode & 94\\_DefaultMode & 95\\_DefaultMode & 96\\_DefaultMode & 97\\_DefaultMode & 98\\_DefaultMode & 99\\_DefaultMode & outcome\\\\\n",
       " <dbl> & <dbl> & <dbl> & <dbl> & <dbl> & <dbl> & <dbl> & <dbl> & <dbl> & <dbl> & ⋯ & <dbl> & <dbl> & <dbl> & <dbl> & <dbl> & <dbl> & <dbl> & <dbl> & <dbl> & <int>\\\\\n",
       "\\hline\n",
       "\t 0.3717417 & 0.2522757 & 0.8975669 & 1.422525 & 0.7762359 & 0.6675160 & 1.275439 & 1.0858376 & 1.763560 & 1.0175207 & ⋯ & 0.8928204 & 1.833623 & 1.5664630 & 0.9330516 & 1.168554 & 0.5361413 & 0.7684926 & 1.216418 & 1.232424 & 29\\\\\n",
       "\t 0.7856422 & 0.7837878 & 0.9562682 & 1.082560 & 0.7710374 & 0.8022433 & 1.031848 & 0.9062507 & 1.509226 & 0.9429646 & ⋯ & 0.8928404 & 1.019845 & 0.9143425 & 1.0407412 & 1.741321 & 2.3785811 & 0.7637207 & 1.096368 & 1.074213 & 26\\\\\n",
       "\t 1.0849213 & 0.8849982 & 1.0307140 & 1.184973 & 1.0972043 & 1.0459110 & 1.490237 & 1.1609652 & 2.124221 & 1.3430908 & ⋯ & 0.8265397 & 1.306283 & 1.4046950 & 1.1461399 & 1.945009 & 1.7712055 & 1.0357548 & 1.321786 & 1.118118 & 31\\\\\n",
       "\\end{tabular}\n"
      ],
      "text/markdown": [
       "\n",
       "A data.table: 3 × 301\n",
       "\n",
       "| 1_unassigned &lt;dbl&gt; | 10_unassigned &lt;dbl&gt; | 100_DefaultMode &lt;dbl&gt; | 101_DefaultMode &lt;dbl&gt; | 102_DefaultMode &lt;dbl&gt; | 103_DefaultMode &lt;dbl&gt; | 104_DefaultMode &lt;dbl&gt; | 105_DefaultMode &lt;dbl&gt; | 106_DefaultMode &lt;dbl&gt; | 107_DefaultMode &lt;dbl&gt; | ⋯ ⋯ | 91_DefaultMode &lt;dbl&gt; | 92_DefaultMode &lt;dbl&gt; | 93_DefaultMode &lt;dbl&gt; | 94_DefaultMode &lt;dbl&gt; | 95_DefaultMode &lt;dbl&gt; | 96_DefaultMode &lt;dbl&gt; | 97_DefaultMode &lt;dbl&gt; | 98_DefaultMode &lt;dbl&gt; | 99_DefaultMode &lt;dbl&gt; | outcome &lt;int&gt; |\n",
       "|---|---|---|---|---|---|---|---|---|---|---|---|---|---|---|---|---|---|---|---|---|\n",
       "| 0.3717417 | 0.2522757 | 0.8975669 | 1.422525 | 0.7762359 | 0.6675160 | 1.275439 | 1.0858376 | 1.763560 | 1.0175207 | ⋯ | 0.8928204 | 1.833623 | 1.5664630 | 0.9330516 | 1.168554 | 0.5361413 | 0.7684926 | 1.216418 | 1.232424 | 29 |\n",
       "| 0.7856422 | 0.7837878 | 0.9562682 | 1.082560 | 0.7710374 | 0.8022433 | 1.031848 | 0.9062507 | 1.509226 | 0.9429646 | ⋯ | 0.8928404 | 1.019845 | 0.9143425 | 1.0407412 | 1.741321 | 2.3785811 | 0.7637207 | 1.096368 | 1.074213 | 26 |\n",
       "| 1.0849213 | 0.8849982 | 1.0307140 | 1.184973 | 1.0972043 | 1.0459110 | 1.490237 | 1.1609652 | 2.124221 | 1.3430908 | ⋯ | 0.8265397 | 1.306283 | 1.4046950 | 1.1461399 | 1.945009 | 1.7712055 | 1.0357548 | 1.321786 | 1.118118 | 31 |\n",
       "\n"
      ],
      "text/plain": [
       "  1_unassigned 10_unassigned 100_DefaultMode 101_DefaultMode 102_DefaultMode\n",
       "1 0.3717417    0.2522757     0.8975669       1.422525        0.7762359      \n",
       "2 0.7856422    0.7837878     0.9562682       1.082560        0.7710374      \n",
       "3 1.0849213    0.8849982     1.0307140       1.184973        1.0972043      \n",
       "  103_DefaultMode 104_DefaultMode 105_DefaultMode 106_DefaultMode\n",
       "1 0.6675160       1.275439        1.0858376       1.763560       \n",
       "2 0.8022433       1.031848        0.9062507       1.509226       \n",
       "3 1.0459110       1.490237        1.1609652       2.124221       \n",
       "  107_DefaultMode ⋯ 91_DefaultMode 92_DefaultMode 93_DefaultMode 94_DefaultMode\n",
       "1 1.0175207       ⋯ 0.8928204      1.833623       1.5664630      0.9330516     \n",
       "2 0.9429646       ⋯ 0.8928404      1.019845       0.9143425      1.0407412     \n",
       "3 1.3430908       ⋯ 0.8265397      1.306283       1.4046950      1.1461399     \n",
       "  95_DefaultMode 96_DefaultMode 97_DefaultMode 98_DefaultMode 99_DefaultMode\n",
       "1 1.168554       0.5361413      0.7684926      1.216418       1.232424      \n",
       "2 1.741321       2.3785811      0.7637207      1.096368       1.074213      \n",
       "3 1.945009       1.7712055      1.0357548      1.321786       1.118118      \n",
       "  outcome\n",
       "1 29     \n",
       "2 26     \n",
       "3 31     "
      ]
     },
     "metadata": {},
     "output_type": "display_data"
    }
   ],
   "source": [
    "# remove subj patient smaple name\n",
    "df_ad8_ <- df_ad8_[ ,setdiff(colnames(df_ad8_), 'Subj'), with=FALSE]\n",
    "df_moca_ <- df_moca_[ ,setdiff(colnames(df_moca_), 'Subj'), with=FALSE]\n",
    "head(df_ad8_,3)\n",
    "head(df_moca_,3)"
   ]
  },
  {
   "cell_type": "code",
   "execution_count": 4,
   "metadata": {
    "vscode": {
     "languageId": "r"
    }
   },
   "outputs": [],
   "source": [
    "set.seed(123)\n",
    "# boruta_AD8 <- Boruta(outcome ~ ., data = df_ad8_, doTrace = 0, maxRuns = 500)\n",
    "# boruta_MOCA <- Boruta(outcome ~ ., data = df_moca_, doTrace = 0, maxRuns = 500)"
   ]
  },
  {
   "cell_type": "code",
   "execution_count": 5,
   "metadata": {
    "vscode": {
     "languageId": "r"
    }
   },
   "outputs": [],
   "source": [
    "# Feature Selection\n",
    "set.seed(123)\n",
    "boruta_AD8 <- Boruta(outcome ~ ., data = df_ad8_, doTrace = 0, maxRuns = 500)\n",
    "boruta_MOCA <- Boruta(outcome ~ ., data = df_moca_, doTrace = 0, maxRuns = 500)"
   ]
  },
  {
   "cell_type": "code",
   "execution_count": 6,
   "metadata": {
    "vscode": {
     "languageId": "r"
    }
   },
   "outputs": [],
   "source": [
    "AD8_shadow <- attStats(boruta_AD8)\n",
    "MOCA_shadow <- attStats(boruta_MOCA)\n",
    "MOCA_shadow <- MOCA_shadow[order(MOCA_shadow$'normHits', decreasing = TRUE),]\n",
    "AD8_shadow <- AD8_shadow[order(AD8_shadow$'normHits', decreasing = TRUE),]"
   ]
  },
  {
   "cell_type": "code",
   "execution_count": 7,
   "metadata": {
    "vscode": {
     "languageId": "r"
    }
   },
   "outputs": [
    {
     "data": {
      "text/html": [
       "<table class=\"dataframe\">\n",
       "<caption>A data.frame: 10 × 6</caption>\n",
       "<thead>\n",
       "\t<tr><th></th><th scope=col>meanImp</th><th scope=col>medianImp</th><th scope=col>minImp</th><th scope=col>maxImp</th><th scope=col>normHits</th><th scope=col>decision</th></tr>\n",
       "\t<tr><th></th><th scope=col>&lt;dbl&gt;</th><th scope=col>&lt;dbl&gt;</th><th scope=col>&lt;dbl&gt;</th><th scope=col>&lt;dbl&gt;</th><th scope=col>&lt;dbl&gt;</th><th scope=col>&lt;fct&gt;</th></tr>\n",
       "</thead>\n",
       "<tbody>\n",
       "\t<tr><th scope=row>`255_SomatomotorLateral`</th><td>11.79879957</td><td>12.6938872</td><td> 1.8822461</td><td>15.7868138</td><td>0.93103448</td><td>Confirmed</td></tr>\n",
       "\t<tr><th scope=row>`60_CinguloOpercular`</th><td> 6.68259323</td><td> 7.3854498</td><td>-2.0090982</td><td>11.4300647</td><td>0.81896552</td><td>Confirmed</td></tr>\n",
       "\t<tr><th scope=row>`1_unassigned`</th><td> 4.42985141</td><td> 4.4565216</td><td>-0.6528898</td><td> 8.9412304</td><td>0.68965517</td><td>Confirmed</td></tr>\n",
       "\t<tr><th scope=row>`44_SomatomotorDorsal`</th><td> 0.78339497</td><td> 0.7334220</td><td>-1.9770764</td><td> 4.2442487</td><td>0.12931034</td><td>Rejected </td></tr>\n",
       "\t<tr><th scope=row>`253_SomatomotorDorsal`</th><td> 0.53314028</td><td> 0.7302286</td><td>-1.6144744</td><td> 2.9657606</td><td>0.03448276</td><td>Rejected </td></tr>\n",
       "\t<tr><th scope=row>`155_Visual`</th><td>-0.25360959</td><td>-0.3686951</td><td>-1.3745151</td><td> 2.1443678</td><td>0.00862069</td><td>Rejected </td></tr>\n",
       "\t<tr><th scope=row>`180_FrontoParietal`</th><td>-0.30311669</td><td>-0.6824830</td><td>-2.9104800</td><td> 2.0220433</td><td>0.00862069</td><td>Rejected </td></tr>\n",
       "\t<tr><th scope=row>`190_FrontoParietal`</th><td>-0.06876686</td><td>-0.4928795</td><td>-1.4092344</td><td> 2.1443923</td><td>0.00862069</td><td>Rejected </td></tr>\n",
       "\t<tr><th scope=row>`10_unassigned`</th><td>-0.76240938</td><td>-0.8887395</td><td>-1.9039057</td><td> 0.5861817</td><td>0.00000000</td><td>Rejected </td></tr>\n",
       "\t<tr><th scope=row>`100_DefaultMode`</th><td>-0.56135984</td><td>-0.8783090</td><td>-1.7383993</td><td> 1.3528996</td><td>0.00000000</td><td>Rejected </td></tr>\n",
       "</tbody>\n",
       "</table>\n"
      ],
      "text/latex": [
       "A data.frame: 10 × 6\n",
       "\\begin{tabular}{r|llllll}\n",
       "  & meanImp & medianImp & minImp & maxImp & normHits & decision\\\\\n",
       "  & <dbl> & <dbl> & <dbl> & <dbl> & <dbl> & <fct>\\\\\n",
       "\\hline\n",
       "\t`255\\_SomatomotorLateral` & 11.79879957 & 12.6938872 &  1.8822461 & 15.7868138 & 0.93103448 & Confirmed\\\\\n",
       "\t`60\\_CinguloOpercular` &  6.68259323 &  7.3854498 & -2.0090982 & 11.4300647 & 0.81896552 & Confirmed\\\\\n",
       "\t`1\\_unassigned` &  4.42985141 &  4.4565216 & -0.6528898 &  8.9412304 & 0.68965517 & Confirmed\\\\\n",
       "\t`44\\_SomatomotorDorsal` &  0.78339497 &  0.7334220 & -1.9770764 &  4.2442487 & 0.12931034 & Rejected \\\\\n",
       "\t`253\\_SomatomotorDorsal` &  0.53314028 &  0.7302286 & -1.6144744 &  2.9657606 & 0.03448276 & Rejected \\\\\n",
       "\t`155\\_Visual` & -0.25360959 & -0.3686951 & -1.3745151 &  2.1443678 & 0.00862069 & Rejected \\\\\n",
       "\t`180\\_FrontoParietal` & -0.30311669 & -0.6824830 & -2.9104800 &  2.0220433 & 0.00862069 & Rejected \\\\\n",
       "\t`190\\_FrontoParietal` & -0.06876686 & -0.4928795 & -1.4092344 &  2.1443923 & 0.00862069 & Rejected \\\\\n",
       "\t`10\\_unassigned` & -0.76240938 & -0.8887395 & -1.9039057 &  0.5861817 & 0.00000000 & Rejected \\\\\n",
       "\t`100\\_DefaultMode` & -0.56135984 & -0.8783090 & -1.7383993 &  1.3528996 & 0.00000000 & Rejected \\\\\n",
       "\\end{tabular}\n"
      ],
      "text/markdown": [
       "\n",
       "A data.frame: 10 × 6\n",
       "\n",
       "| <!--/--> | meanImp &lt;dbl&gt; | medianImp &lt;dbl&gt; | minImp &lt;dbl&gt; | maxImp &lt;dbl&gt; | normHits &lt;dbl&gt; | decision &lt;fct&gt; |\n",
       "|---|---|---|---|---|---|---|\n",
       "| `255_SomatomotorLateral` | 11.79879957 | 12.6938872 |  1.8822461 | 15.7868138 | 0.93103448 | Confirmed |\n",
       "| `60_CinguloOpercular` |  6.68259323 |  7.3854498 | -2.0090982 | 11.4300647 | 0.81896552 | Confirmed |\n",
       "| `1_unassigned` |  4.42985141 |  4.4565216 | -0.6528898 |  8.9412304 | 0.68965517 | Confirmed |\n",
       "| `44_SomatomotorDorsal` |  0.78339497 |  0.7334220 | -1.9770764 |  4.2442487 | 0.12931034 | Rejected  |\n",
       "| `253_SomatomotorDorsal` |  0.53314028 |  0.7302286 | -1.6144744 |  2.9657606 | 0.03448276 | Rejected  |\n",
       "| `155_Visual` | -0.25360959 | -0.3686951 | -1.3745151 |  2.1443678 | 0.00862069 | Rejected  |\n",
       "| `180_FrontoParietal` | -0.30311669 | -0.6824830 | -2.9104800 |  2.0220433 | 0.00862069 | Rejected  |\n",
       "| `190_FrontoParietal` | -0.06876686 | -0.4928795 | -1.4092344 |  2.1443923 | 0.00862069 | Rejected  |\n",
       "| `10_unassigned` | -0.76240938 | -0.8887395 | -1.9039057 |  0.5861817 | 0.00000000 | Rejected  |\n",
       "| `100_DefaultMode` | -0.56135984 | -0.8783090 | -1.7383993 |  1.3528996 | 0.00000000 | Rejected  |\n",
       "\n"
      ],
      "text/plain": [
       "                         meanImp     medianImp  minImp     maxImp    \n",
       "`255_SomatomotorLateral` 11.79879957 12.6938872  1.8822461 15.7868138\n",
       "`60_CinguloOpercular`     6.68259323  7.3854498 -2.0090982 11.4300647\n",
       "`1_unassigned`            4.42985141  4.4565216 -0.6528898  8.9412304\n",
       "`44_SomatomotorDorsal`    0.78339497  0.7334220 -1.9770764  4.2442487\n",
       "`253_SomatomotorDorsal`   0.53314028  0.7302286 -1.6144744  2.9657606\n",
       "`155_Visual`             -0.25360959 -0.3686951 -1.3745151  2.1443678\n",
       "`180_FrontoParietal`     -0.30311669 -0.6824830 -2.9104800  2.0220433\n",
       "`190_FrontoParietal`     -0.06876686 -0.4928795 -1.4092344  2.1443923\n",
       "`10_unassigned`          -0.76240938 -0.8887395 -1.9039057  0.5861817\n",
       "`100_DefaultMode`        -0.56135984 -0.8783090 -1.7383993  1.3528996\n",
       "                         normHits   decision \n",
       "`255_SomatomotorLateral` 0.93103448 Confirmed\n",
       "`60_CinguloOpercular`    0.81896552 Confirmed\n",
       "`1_unassigned`           0.68965517 Confirmed\n",
       "`44_SomatomotorDorsal`   0.12931034 Rejected \n",
       "`253_SomatomotorDorsal`  0.03448276 Rejected \n",
       "`155_Visual`             0.00862069 Rejected \n",
       "`180_FrontoParietal`     0.00862069 Rejected \n",
       "`190_FrontoParietal`     0.00862069 Rejected \n",
       "`10_unassigned`          0.00000000 Rejected \n",
       "`100_DefaultMode`        0.00000000 Rejected "
      ]
     },
     "metadata": {},
     "output_type": "display_data"
    }
   ],
   "source": [
    "head(MOCA_shadow, 10)"
   ]
  },
  {
   "cell_type": "code",
   "execution_count": 8,
   "metadata": {
    "vscode": {
     "languageId": "r"
    }
   },
   "outputs": [
    {
     "data": {
      "text/html": [
       "<table class=\"dataframe\">\n",
       "<caption>A data.frame: 10 × 6</caption>\n",
       "<thead>\n",
       "\t<tr><th></th><th scope=col>meanImp</th><th scope=col>medianImp</th><th scope=col>minImp</th><th scope=col>maxImp</th><th scope=col>normHits</th><th scope=col>decision</th></tr>\n",
       "\t<tr><th></th><th scope=col>&lt;dbl&gt;</th><th scope=col>&lt;dbl&gt;</th><th scope=col>&lt;dbl&gt;</th><th scope=col>&lt;dbl&gt;</th><th scope=col>&lt;dbl&gt;</th><th scope=col>&lt;fct&gt;</th></tr>\n",
       "</thead>\n",
       "<tbody>\n",
       "\t<tr><th scope=row>`288_FrontoParietal`</th><td> 7.45530790</td><td> 7.55676554</td><td> 2.43526146</td><td>10.077133</td><td>0.971943888</td><td>Confirmed</td></tr>\n",
       "\t<tr><th scope=row>`211_VentralAttention`</th><td> 8.10534529</td><td> 8.24609009</td><td> 1.00784215</td><td>10.871136</td><td>0.955911824</td><td>Confirmed</td></tr>\n",
       "\t<tr><th scope=row>`159_Visual`</th><td> 5.03145752</td><td> 5.12696190</td><td>-0.96553789</td><td> 8.705427</td><td>0.849699399</td><td>Confirmed</td></tr>\n",
       "\t<tr><th scope=row>`248_Salience`</th><td> 4.86058474</td><td> 4.94118700</td><td>-0.05296698</td><td> 7.811495</td><td>0.827655311</td><td>Confirmed</td></tr>\n",
       "\t<tr><th scope=row>`277_DefaultMode`</th><td> 4.39920837</td><td> 4.52213378</td><td>-1.14778427</td><td> 7.087937</td><td>0.789579158</td><td>Confirmed</td></tr>\n",
       "\t<tr><th scope=row>`279_DefaultMode`</th><td> 3.92542672</td><td> 3.98386120</td><td> 0.42528716</td><td> 7.069565</td><td>0.751503006</td><td>Confirmed</td></tr>\n",
       "\t<tr><th scope=row>`65_CinguloOpercular`</th><td> 3.82466419</td><td> 3.81547802</td><td> 0.25221041</td><td> 7.637239</td><td>0.715430862</td><td>Confirmed</td></tr>\n",
       "\t<tr><th scope=row>`285_FrontoParietal`</th><td> 2.96349552</td><td> 2.94625787</td><td>-0.53788619</td><td> 6.364743</td><td>0.575150301</td><td>Tentative</td></tr>\n",
       "\t<tr><th scope=row>`127_DefaultMode`</th><td> 0.17333149</td><td> 0.05360774</td><td>-1.84516662</td><td> 2.176586</td><td>0.002004008</td><td>Rejected </td></tr>\n",
       "\t<tr><th scope=row>`228_DorsalAttention`</th><td>-0.08623532</td><td>-0.04672187</td><td>-2.76231353</td><td> 2.259041</td><td>0.002004008</td><td>Rejected </td></tr>\n",
       "</tbody>\n",
       "</table>\n"
      ],
      "text/latex": [
       "A data.frame: 10 × 6\n",
       "\\begin{tabular}{r|llllll}\n",
       "  & meanImp & medianImp & minImp & maxImp & normHits & decision\\\\\n",
       "  & <dbl> & <dbl> & <dbl> & <dbl> & <dbl> & <fct>\\\\\n",
       "\\hline\n",
       "\t`288\\_FrontoParietal` &  7.45530790 &  7.55676554 &  2.43526146 & 10.077133 & 0.971943888 & Confirmed\\\\\n",
       "\t`211\\_VentralAttention` &  8.10534529 &  8.24609009 &  1.00784215 & 10.871136 & 0.955911824 & Confirmed\\\\\n",
       "\t`159\\_Visual` &  5.03145752 &  5.12696190 & -0.96553789 &  8.705427 & 0.849699399 & Confirmed\\\\\n",
       "\t`248\\_Salience` &  4.86058474 &  4.94118700 & -0.05296698 &  7.811495 & 0.827655311 & Confirmed\\\\\n",
       "\t`277\\_DefaultMode` &  4.39920837 &  4.52213378 & -1.14778427 &  7.087937 & 0.789579158 & Confirmed\\\\\n",
       "\t`279\\_DefaultMode` &  3.92542672 &  3.98386120 &  0.42528716 &  7.069565 & 0.751503006 & Confirmed\\\\\n",
       "\t`65\\_CinguloOpercular` &  3.82466419 &  3.81547802 &  0.25221041 &  7.637239 & 0.715430862 & Confirmed\\\\\n",
       "\t`285\\_FrontoParietal` &  2.96349552 &  2.94625787 & -0.53788619 &  6.364743 & 0.575150301 & Tentative\\\\\n",
       "\t`127\\_DefaultMode` &  0.17333149 &  0.05360774 & -1.84516662 &  2.176586 & 0.002004008 & Rejected \\\\\n",
       "\t`228\\_DorsalAttention` & -0.08623532 & -0.04672187 & -2.76231353 &  2.259041 & 0.002004008 & Rejected \\\\\n",
       "\\end{tabular}\n"
      ],
      "text/markdown": [
       "\n",
       "A data.frame: 10 × 6\n",
       "\n",
       "| <!--/--> | meanImp &lt;dbl&gt; | medianImp &lt;dbl&gt; | minImp &lt;dbl&gt; | maxImp &lt;dbl&gt; | normHits &lt;dbl&gt; | decision &lt;fct&gt; |\n",
       "|---|---|---|---|---|---|---|\n",
       "| `288_FrontoParietal` |  7.45530790 |  7.55676554 |  2.43526146 | 10.077133 | 0.971943888 | Confirmed |\n",
       "| `211_VentralAttention` |  8.10534529 |  8.24609009 |  1.00784215 | 10.871136 | 0.955911824 | Confirmed |\n",
       "| `159_Visual` |  5.03145752 |  5.12696190 | -0.96553789 |  8.705427 | 0.849699399 | Confirmed |\n",
       "| `248_Salience` |  4.86058474 |  4.94118700 | -0.05296698 |  7.811495 | 0.827655311 | Confirmed |\n",
       "| `277_DefaultMode` |  4.39920837 |  4.52213378 | -1.14778427 |  7.087937 | 0.789579158 | Confirmed |\n",
       "| `279_DefaultMode` |  3.92542672 |  3.98386120 |  0.42528716 |  7.069565 | 0.751503006 | Confirmed |\n",
       "| `65_CinguloOpercular` |  3.82466419 |  3.81547802 |  0.25221041 |  7.637239 | 0.715430862 | Confirmed |\n",
       "| `285_FrontoParietal` |  2.96349552 |  2.94625787 | -0.53788619 |  6.364743 | 0.575150301 | Tentative |\n",
       "| `127_DefaultMode` |  0.17333149 |  0.05360774 | -1.84516662 |  2.176586 | 0.002004008 | Rejected  |\n",
       "| `228_DorsalAttention` | -0.08623532 | -0.04672187 | -2.76231353 |  2.259041 | 0.002004008 | Rejected  |\n",
       "\n"
      ],
      "text/plain": [
       "                       meanImp     medianImp   minImp      maxImp   \n",
       "`288_FrontoParietal`    7.45530790  7.55676554  2.43526146 10.077133\n",
       "`211_VentralAttention`  8.10534529  8.24609009  1.00784215 10.871136\n",
       "`159_Visual`            5.03145752  5.12696190 -0.96553789  8.705427\n",
       "`248_Salience`          4.86058474  4.94118700 -0.05296698  7.811495\n",
       "`277_DefaultMode`       4.39920837  4.52213378 -1.14778427  7.087937\n",
       "`279_DefaultMode`       3.92542672  3.98386120  0.42528716  7.069565\n",
       "`65_CinguloOpercular`   3.82466419  3.81547802  0.25221041  7.637239\n",
       "`285_FrontoParietal`    2.96349552  2.94625787 -0.53788619  6.364743\n",
       "`127_DefaultMode`       0.17333149  0.05360774 -1.84516662  2.176586\n",
       "`228_DorsalAttention`  -0.08623532 -0.04672187 -2.76231353  2.259041\n",
       "                       normHits    decision \n",
       "`288_FrontoParietal`   0.971943888 Confirmed\n",
       "`211_VentralAttention` 0.955911824 Confirmed\n",
       "`159_Visual`           0.849699399 Confirmed\n",
       "`248_Salience`         0.827655311 Confirmed\n",
       "`277_DefaultMode`      0.789579158 Confirmed\n",
       "`279_DefaultMode`      0.751503006 Confirmed\n",
       "`65_CinguloOpercular`  0.715430862 Confirmed\n",
       "`285_FrontoParietal`   0.575150301 Tentative\n",
       "`127_DefaultMode`      0.002004008 Rejected \n",
       "`228_DorsalAttention`  0.002004008 Rejected "
      ]
     },
     "metadata": {},
     "output_type": "display_data"
    }
   ],
   "source": [
    "head(AD8_shadow, 10)"
   ]
  },
  {
   "cell_type": "code",
   "execution_count": 9,
   "metadata": {
    "vscode": {
     "languageId": "r"
    }
   },
   "outputs": [],
   "source": [
    "# print(boruta_AD8)\n",
    "# plot(boruta_AD8, las=2, cex.axis=1)\n",
    "# plotImpHistory(boruta_AD8)\n",
    "# print(boruta_MOCA)\n",
    "# plot(boruta_MOCA, las=2, cex.axis=0.7)"
   ]
  },
  {
   "cell_type": "code",
   "execution_count": null,
   "metadata": {
    "vscode": {
     "languageId": "r"
    }
   },
   "outputs": [],
   "source": []
  }
 ],
 "metadata": {
  "kernelspec": {
   "display_name": "R",
   "language": "R",
   "name": "ir"
  },
  "language_info": {
   "codemirror_mode": "r",
   "file_extension": ".r",
   "mimetype": "text/x-r-source",
   "name": "R",
   "pygments_lexer": "r",
   "version": "4.1.3"
  },
  "orig_nbformat": 4
 },
 "nbformat": 4,
 "nbformat_minor": 2
}
