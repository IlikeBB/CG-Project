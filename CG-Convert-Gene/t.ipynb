{
 "cells": [
  {
   "cell_type": "code",
   "execution_count": 14,
   "metadata": {},
   "outputs": [],
   "source": [
    "import os, sys\n",
    "import vcf\n",
    "import pandas as pd"
   ]
  },
  {
   "cell_type": "code",
   "execution_count": 15,
   "metadata": {},
   "outputs": [],
   "source": [
    "feature_data = list(pd.read_csv('./demo/test.csv').values)"
   ]
  },
  {
   "cell_type": "code",
   "execution_count": 16,
   "metadata": {},
   "outputs": [],
   "source": [
    "# search gene name\n",
    "search_dict = {(266,21555): ['ORF1ab',], \n",
    "                              (21563, 25384): ['S',], \n",
    "                              (25393, 26220): ['ORF3a',], \n",
    "                              (26245, 26472): ['E',], \n",
    "                              (26523, 27191): ['M',], \n",
    "                              (27202, 27387): ['ORF6',],\n",
    "                              (27394, 27759): ['ORF7a',], \n",
    "                              (27756, 27887): ['ORF7b',], \n",
    "                              (27894, 28259): ['ORF8',],\n",
    "                              (28274, 29533): ['N',], \n",
    "                              (29558, 29674): ['ORF10',]}"
   ]
  },
  {
   "cell_type": "code",
   "execution_count": 17,
   "metadata": {},
   "outputs": [],
   "source": [
    "f = open('./demo/sequence.txt', 'r')\n",
    "gene_dict = [i.replace('\\n','').split('[gbkey=Gene]')[1] for i in f.read().split('>') if len(i)>0 ]\n",
    "for idx, i in enumerate(search_dict):\n",
    "    search_dict[i].append(gene_dict[idx])\n",
    "f.close()"
   ]
  },
  {
   "cell_type": "code",
   "execution_count": 18,
   "metadata": {},
   "outputs": [],
   "source": [
    "start = 266\n",
    "end=21555\n",
    "count = []\n",
    "while True:\n",
    "    if start < 21556:\n",
    "        count.append(start)\n",
    "        start+=1\n",
    "    else:\n",
    "        break"
   ]
  },
  {
   "cell_type": "code",
   "execution_count": 19,
   "metadata": {},
   "outputs": [
    {
     "data": {
      "text/plain": [
       "(21555, 266, 21290)"
      ]
     },
     "execution_count": 19,
     "metadata": {},
     "output_type": "execute_result"
    }
   ],
   "source": [
    "count[-1],count[0], len(count)"
   ]
  },
  {
   "cell_type": "code",
   "execution_count": 20,
   "metadata": {},
   "outputs": [
    {
     "name": "stdout",
     "output_type": "stream",
     "text": [
      "13466 A\n",
      "13467 A\n",
      "13468 C\n",
      "13469 G\n",
      "13470 G\n",
      "13471 G\n",
      "13472 T\n",
      "13473 T\n",
      "13474 T\n"
     ]
    }
   ],
   "source": [
    "for c, next  in zip(count, search_dict[(266,21555)][1]):\n",
    "    if c>13465 and c < 13475:\n",
    "        print(c, next)"
   ]
  },
  {
   "cell_type": "code",
   "execution_count": 21,
   "metadata": {},
   "outputs": [
    {
     "name": "stdout",
     "output_type": "stream",
     "text": [
      "['A', 'A', 'C', 'G', 'G'] [13466, 13467, 13468, 13469, 13470]\n",
      "['A', 'A', 'C', 'C', 'G'] [13466, 13467, 13468, 13469, 13470]\n"
     ]
    }
   ],
   "source": [
    "split_strings = ' '.join(search_dict[(266,21555)][1]).split()\n",
    "print(split_strings[13200:13205], count[13200:13205])\n",
    "split_strings.insert(13202, 'C')\n",
    "print(split_strings[13200:13205], count[13200:13205])"
   ]
  },
  {
   "cell_type": "code",
   "execution_count": 22,
   "metadata": {},
   "outputs": [
    {
     "name": "stdout",
     "output_type": "stream",
     "text": [
      "ATG GTG\n",
      "ATG CTG\n",
      "ATG GTG\n",
      "ATG CTG\n",
      "[13468 ' G']\n",
      "AAC AAG\n"
     ]
    },
    {
     "data": {
      "text/html": [
       "<div>\n",
       "<style scoped>\n",
       "    .dataframe tbody tr th:only-of-type {\n",
       "        vertical-align: middle;\n",
       "    }\n",
       "\n",
       "    .dataframe tbody tr th {\n",
       "        vertical-align: top;\n",
       "    }\n",
       "\n",
       "    .dataframe thead th {\n",
       "        text-align: right;\n",
       "    }\n",
       "</style>\n",
       "<table border=\"1\" class=\"dataframe\">\n",
       "  <thead>\n",
       "    <tr style=\"text-align: right;\">\n",
       "      <th></th>\n",
       "      <th>CHROM</th>\n",
       "      <th>POS</th>\n",
       "      <th>REF</th>\n",
       "      <th>ALT</th>\n",
       "      <th>Gene</th>\n",
       "      <th>Gene LOC</th>\n",
       "      <th>Translate</th>\n",
       "    </tr>\n",
       "  </thead>\n",
       "  <tbody>\n",
       "    <tr>\n",
       "      <th>0</th>\n",
       "      <td>NC_045512.2</td>\n",
       "      <td>266</td>\n",
       "      <td>A</td>\n",
       "      <td>G</td>\n",
       "      <td>ORF1ab</td>\n",
       "      <td>1</td>\n",
       "      <td>M2V</td>\n",
       "    </tr>\n",
       "    <tr>\n",
       "      <th>1</th>\n",
       "      <td>NC_045512.2</td>\n",
       "      <td>21563</td>\n",
       "      <td>A</td>\n",
       "      <td>C</td>\n",
       "      <td>S</td>\n",
       "      <td>1</td>\n",
       "      <td>M2L</td>\n",
       "    </tr>\n",
       "    <tr>\n",
       "      <th>2</th>\n",
       "      <td>NC_045512.2</td>\n",
       "      <td>25393</td>\n",
       "      <td>A</td>\n",
       "      <td>G</td>\n",
       "      <td>ORF3a</td>\n",
       "      <td>1</td>\n",
       "      <td>M2V</td>\n",
       "    </tr>\n",
       "    <tr>\n",
       "      <th>3</th>\n",
       "      <td>NC_045512.2</td>\n",
       "      <td>26245</td>\n",
       "      <td>A</td>\n",
       "      <td>C</td>\n",
       "      <td>E</td>\n",
       "      <td>1</td>\n",
       "      <td>M2L</td>\n",
       "    </tr>\n",
       "    <tr>\n",
       "      <th>4</th>\n",
       "      <td>NC_045512.2</td>\n",
       "      <td>13468</td>\n",
       "      <td>C</td>\n",
       "      <td>G</td>\n",
       "      <td>ORF1ab</td>\n",
       "      <td>13203</td>\n",
       "      <td>N2K</td>\n",
       "    </tr>\n",
       "  </tbody>\n",
       "</table>\n",
       "</div>"
      ],
      "text/plain": [
       "         CHROM    POS REF ALT    Gene  Gene LOC Translate\n",
       "0  NC_045512.2    266   A   G  ORF1ab         1       M2V\n",
       "1  NC_045512.2  21563   A   C       S         1       M2L\n",
       "2  NC_045512.2  25393   A   G   ORF3a         1       M2V\n",
       "3  NC_045512.2  26245   A   C       E         1       M2L\n",
       "4  NC_045512.2  13468   C   G  ORF1ab     13203       N2K"
      ]
     },
     "execution_count": 22,
     "metadata": {},
     "output_type": "execute_result"
    }
   ],
   "source": [
    "from Bio.Seq import Seq\n",
    "class convert_process:\n",
    "    def __init__(self,):\n",
    "        # parameter list\n",
    "        self.chrom = [] #sequence name\n",
    "        self.position = [] #gene position\n",
    "        self.ref = [] #before gene\n",
    "        self.alt = [] #after gene\n",
    "        self.dp = [] #-\n",
    "        self.ad = [] #-\n",
    "        self.gene = [] #RNA name\n",
    "        self.gene_loc = []\n",
    "        self.trans = [] #Gene\n",
    "    def convert_gene(self, or_seq, loc_p, loc_gene):\n",
    "        if 21555 >= loc_gene[0] and 13468<=loc_gene[0]:\n",
    "            print(loc_gene)\n",
    "            split_strings = ''.join(or_seq).split()\n",
    "            split_strings.insert(13202, 'C')\n",
    "            or_seq = ''.join(split_strings)\n",
    "        if loc_p%3==0:\n",
    "            b_rna = f'{or_seq[loc_p] + or_seq[loc_p+1] + or_seq[loc_p+2]}'.replace(' ','')\n",
    "            a_rna = f'{loc_gene[1] + or_seq[loc_p+1] + or_seq[loc_p+2]}'.replace(' ','')\n",
    "        elif loc_p%3==1:\n",
    "            b_rna = f'{or_seq[loc_p-1] + or_seq[loc_p] + or_seq[loc_p+1]}'.replace(' ','')\n",
    "            a_rna = f'{or_seq[loc_p-1] + loc_gene[1] + or_seq[loc_p+1]}'.replace(' ','')\n",
    "        else:\n",
    "            b_rna = f'{or_seq[loc_p-2] + or_seq[loc_p-1] + or_seq[loc_p]}'.replace(' ','')\n",
    "            a_rna = f'{or_seq[loc_p-2] + or_seq[loc_p-1] + loc_gene[1]}'.replace(' ','')\n",
    "        print(b_rna, a_rna)\n",
    "        try:\n",
    "            return f'{Seq(b_rna).translate()[0]}2{ Seq(a_rna).translate()[0]}'\n",
    "        except:\n",
    "            return f'{Seq(b_rna).translate()[0]}2-'\n",
    "        \n",
    "    def search_position(self, pos):\n",
    "        for idx, i in enumerate(search_dict):\n",
    "            if (pos[0] >=i[0] and pos[0]<=i[1]) and (pos[1]!=search_dict[i][1][pos[0] - i[0]]):\n",
    "                self.chrom.append('NC_045512.2')\n",
    "                self.position.append(pos[0])\n",
    "                self.ref.append(search_dict[i][1][pos[0] - i[0]])\n",
    "                self.alt.append(pos[1])\n",
    "                self.gene.append(search_dict[i][0])\n",
    "                self.gene_loc.append(pos[0] - i[0]+1)\n",
    "                self.trans.append(self.convert_gene(search_dict[i][1], pos[0] - i[0], pos))\n",
    "    def standard(self,):\n",
    "        # data_vcf = {'CHROM': self.chrom, 'POS': self.position, 'REF': self.ref, 'ALT': self.alt1, 'Gene': self.gene, 'REF_Position': self.debug}\n",
    "        data_vcf = {'CHROM': self.chrom, 'POS': self.position, 'REF': self.ref, 'ALT': self.alt, 'Gene': self.gene, 'Gene LOC': self.gene_loc, 'Translate': self.trans}\n",
    "        return pd.DataFrame(data_vcf)\n",
    "        \n",
    "start_convert = convert_process()\n",
    "for i in feature_data:\n",
    "    start_convert.search_position(i)\n",
    "    # break\n",
    "start_convert.standard()"
   ]
  },
  {
   "cell_type": "code",
   "execution_count": 23,
   "metadata": {},
   "outputs": [],
   "source": [
    "# LOC from lcl | NC_045512.2_gene_2\n",
    "\n",
    "# LOC [location=00266..21555] Gene = ORF1ab\n",
    "# LOC [location=21563..25384] Gene = S\n",
    "# LOC [location=25393..26220] Gene = ORF3a\n",
    "# LOC [location=26245..26472] Gene = E\n",
    "# LOC [location=26523..27191] Gene = M\n",
    "# LOC [location=27202..27387] Gene = ORF6\n",
    "# LOC [location=27394..27759] Gene = ORF7a\n",
    "# LOC [location=27756..27887] Gene = ORF7b\n",
    "# LOC [location=27894..28259] Gene = ORF8\n",
    "# LOC [location=28274..29533]  Gene = N\n",
    "# LOC [location=29558..29674]  Gene = ORF10"
   ]
  },
  {
   "cell_type": "code",
   "execution_count": null,
   "metadata": {},
   "outputs": [],
   "source": []
  }
 ],
 "metadata": {
  "interpreter": {
   "hash": "2f690071fd536a4c2b16f056bee9446619918c70bfb20cf6a1e32919f0f8c2e3"
  },
  "kernelspec": {
   "display_name": "Python 3.7.13 ('gene-convert')",
   "language": "python",
   "name": "python3"
  },
  "language_info": {
   "codemirror_mode": {
    "name": "ipython",
    "version": 3
   },
   "file_extension": ".py",
   "mimetype": "text/x-python",
   "name": "python",
   "nbconvert_exporter": "python",
   "pygments_lexer": "ipython3",
   "version": "3.7.13"
  },
  "orig_nbformat": 4
 },
 "nbformat": 4,
 "nbformat_minor": 2
}
