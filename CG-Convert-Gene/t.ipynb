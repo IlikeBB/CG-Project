{
 "cells": [
  {
   "cell_type": "code",
   "execution_count": 1,
   "metadata": {},
   "outputs": [],
   "source": [
    "import os, sys, Bio, argparse\n",
    "import pandas as pd\n",
    "# search gene name\n",
    "search_dict = {(266,21555): ['ORF1ab',], \n",
    "                              (21563, 25384): ['S',], \n",
    "                              (25393, 26220): ['ORF3a',], \n",
    "                              (26245, 26472): ['E',], \n",
    "                              (26523, 27191): ['M',], \n",
    "                              (27202, 27387): ['ORF6',],\n",
    "                              (27394, 27759): ['ORF7a',], \n",
    "                              (27756, 27887): ['ORF7b',], \n",
    "                              (27894, 28259): ['ORF8',],\n",
    "                              (28274, 29533): ['N',], \n",
    "                              (29558, 29674): ['ORF10',]}\n",
    "\n",
    "from Bio.Seq import Seq\n",
    "class convert_process:\n",
    "    def __init__(self,nullchange=True):\n",
    "        # parameter list\n",
    "        self.chrom = [] #sequence name\n",
    "        self.position = [] #gene position\n",
    "        self.ref = [] #before gene\n",
    "        self.alt = [] #after gene\n",
    "        self.dp = [] #-\n",
    "        self.ad = [] #-\n",
    "        self.gene = [] #RNA name\n",
    "        self.gene_loc = []\n",
    "        self.trans = [] #Gene\n",
    "        self.nullchange = nullchange\n",
    "    def convert_gene(self, or_seq, loc_p, loc_gene):\n",
    "        if 21555 >= loc_gene[0] and 13468<=loc_gene[0]:\n",
    "            split_strings = ''.join(or_seq).split()\n",
    "            split_strings.insert(13202, 'C')\n",
    "            or_seq = ''.join(split_strings)\n",
    "        first_loc = None\n",
    "        if loc_p%3==0:\n",
    "            b_rna = f'{or_seq[loc_p] + or_seq[loc_p+1] + or_seq[loc_p+2]}'.replace(' ','')\n",
    "            a_rna = f'{loc_gene[1] + or_seq[loc_p+1] + or_seq[loc_p+2]}'.replace(' ','')\n",
    "            first_loc = loc_p\n",
    "            # print(loc_p, loc_p+1, loc_p+2)\n",
    "        elif loc_p%3==1:\n",
    "            b_rna = f'{or_seq[loc_p-1] + or_seq[loc_p] + or_seq[loc_p+1]}'.replace(' ','')\n",
    "            a_rna = f'{or_seq[loc_p-1] + loc_gene[1] + or_seq[loc_p+1]}'.replace(' ','')\n",
    "            first_loc = loc_p-1\n",
    "            # print(loc_p-1, loc_p, loc_p+1)\n",
    "        else:\n",
    "            b_rna = f'{or_seq[loc_p-2] + or_seq[loc_p-1] + or_seq[loc_p]}'.replace(' ','')\n",
    "            a_rna = f'{or_seq[loc_p-2] + or_seq[loc_p-1] + loc_gene[1]}'.replace(' ','')\n",
    "            first_loc = loc_p-2\n",
    "        #     print(loc_p-2, loc_p-1, loc_p)\n",
    "        # print('first loc', int(first_loc/3))\n",
    "\n",
    "        try:\n",
    "            return f'{Seq(b_rna).translate()[0]}{int(first_loc/3)+1}{ Seq(a_rna).translate()[0]}'\n",
    "        except:\n",
    "            return f'{Seq(b_rna).translate()[0]}{int(first_loc/3)+1}X'\n",
    "    \n",
    "    def process_rna(self, pos, i):\n",
    "        self.chrom.append('NC_045512.2')\n",
    "        self.position.append(pos[0])\n",
    "        self.ref.append(search_dict[i][1][pos[0] - i[0]])\n",
    "        self.alt.append(pos[1])\n",
    "        self.gene.append(search_dict[i][0])\n",
    "        self.gene_loc.append(pos[0] - i[0]+1)\n",
    "        self.trans.append(self.convert_gene(search_dict[i][1], pos[0] - i[0], pos))\n",
    "\n",
    "    def search_position(self, pos):\n",
    "        for idx, i in enumerate(search_dict):\n",
    "            # if ==\n",
    "            if (pos[0] >=i[0] and pos[0]<=i[1]) and (self.nullchange)==True:\n",
    "                self.process_rna(pos, i)\n",
    "            elif (pos[0] >=i[0] and pos[0]<=i[1]) and bool(self.nullchange==False) and (pos[1]!=search_dict[i][1][pos[0] - i[0]]):\n",
    "                self.process_rna(pos, i)\n",
    "\n",
    "    def standard(self,):\n",
    "        # data_vcf = {'CHROM': self.chrom, 'POS': self.position, 'REF': self.ref, 'ALT': self.alt1, 'Gene': self.gene, 'REF_Position': self.debug}\n",
    "        data_vcf = {'CHROM': self.chrom, 'POS': self.position, 'REF': self.ref, 'ALT': self.alt, 'Gene': self.gene, 'Gene LOC': self.gene_loc, 'Translate': self.trans}\n",
    "        return pd.DataFrame(data_vcf)"
   ]
  },
  {
   "cell_type": "code",
   "execution_count": 2,
   "metadata": {},
   "outputs": [
    {
     "name": "stdout",
     "output_type": "stream",
     "text": [
      "         CHROM    POS REF ALT Gene  Gene LOC Translate\n",
      "0  NC_045512.2  29293   T   G    N      1020     D340E\n"
     ]
    }
   ],
   "source": [
    "input = './test_erro_gene.csv'\n",
    "output = 'test_out'\n",
    "nullchange = False\n",
    "feature_data = list(pd.read_csv(input).values)\n",
    "\n",
    "f = open('./demo/sequence.txt', 'r')\n",
    "gene_dict = [i.replace('\\n','').split('[gbkey=Gene]')[1] for i in f.read().split('>') if len(i)>0 ]\n",
    "for idx, i in enumerate(search_dict):\n",
    "    search_dict[i].append(gene_dict[idx])\n",
    "f.close()\n",
    "\n",
    "start_convert = convert_process(nullchange=nullchange)\n",
    "for i in feature_data:\n",
    "    start_convert.search_position(i)\n",
    "    # break\n",
    "print(start_convert.standard())\n",
    "(start_convert.standard()).to_csv('{}.csv'.format(output))"
   ]
  }
 ],
 "metadata": {
  "kernelspec": {
   "display_name": "Python 3.8.13 ('tutorial')",
   "language": "python",
   "name": "python3"
  },
  "language_info": {
   "codemirror_mode": {
    "name": "ipython",
    "version": 3
   },
   "file_extension": ".py",
   "mimetype": "text/x-python",
   "name": "python",
   "nbconvert_exporter": "python",
   "pygments_lexer": "ipython3",
   "version": "3.8.13"
  },
  "orig_nbformat": 4,
  "vscode": {
   "interpreter": {
    "hash": "5972fd9a4fd49b272e5b50a28b76b9cdbf31df445a86c01bb5a50fb3f30d2101"
   }
  }
 },
 "nbformat": 4,
 "nbformat_minor": 2
}
