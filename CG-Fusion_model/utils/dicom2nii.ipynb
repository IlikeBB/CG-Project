{
 "cells": [
  {
   "cell_type": "code",
   "execution_count": null,
   "metadata": {},
   "outputs": [],
   "source": [
    "import os, sys, numpy as np,  shutil, dicom2nifti\n",
    "import nibabel as nib\n",
    "from skimage import morphology\n",
    "from scipy import ndimage\n",
    "from PIL import Image"
   ]
  },
  {
   "cell_type": "code",
   "execution_count": null,
   "metadata": {},
   "outputs": [],
   "source": [
    "base_path = '/media/john/ischemic stroke/MRA/2021/'\n",
    "num_listdir = os.listdir(os.path.join(base_path))\n",
    "\n",
    "save_path = '../dataset/T1/'\n",
    "for i in num_listdir:\n",
    "    for patient in os.listdir(os.path.join(base_path, i)):\n",
    "        if not os.path.exists(os.path.join(save_path, patient)):\n",
    "            os.makedirs(os.path.join(save_path, patient))\n",
    "        dicom2nifti.convert_directory(os.path.join(base_path, i, patient), os.path.join(save_path, patient))\n",
    "        print(f\"{patient} PASS!!!!\")\n"
   ]
  },
  {
   "cell_type": "code",
   "execution_count": null,
   "metadata": {},
   "outputs": [],
   "source": []
  }
 ],
 "metadata": {
  "interpreter": {
   "hash": "c7173b66b0b7b9d3ef17108453430ecf43b59c5f40b531d440cd8bb0e5f91238"
  },
  "kernelspec": {
   "display_name": "Python 3.8.0 64-bit ('torch-SGD': conda)",
   "language": "python",
   "name": "python3"
  },
  "language_info": {
   "codemirror_mode": {
    "name": "ipython",
    "version": 3
   },
   "file_extension": ".py",
   "mimetype": "text/x-python",
   "name": "python",
   "nbconvert_exporter": "python",
   "pygments_lexer": "ipython3",
   "version": "3.8.0"
  },
  "orig_nbformat": 4
 },
 "nbformat": 4,
 "nbformat_minor": 2
}
