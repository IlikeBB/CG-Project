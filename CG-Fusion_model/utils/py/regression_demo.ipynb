{
 "cells": [
  {
   "cell_type": "code",
   "execution_count": 3,
   "metadata": {},
   "outputs": [
    {
     "data": {
      "text/plain": [
       "<torch._C.Generator at 0x7fc1176aa2d0>"
      ]
     },
     "execution_count": 3,
     "metadata": {},
     "output_type": "execute_result"
    }
   ],
   "source": [
    "from scipy.sparse.construct import rand\n",
    "import torch, random, os, multiprocessing\n",
    "import numpy as np, pandas as pd, nibabel as nib \n",
    "import torch.nn as nn\n",
    "import torch.nn.functional as F\n",
    "import torch.backends.cudnn as cudnn\n",
    "import torchio as tio\n",
    "# multiprocess cpu \n",
    "from sklearn.metrics import *\n",
    "from sklearn.preprocessing import MinMaxScaler\n",
    "from sklearn.utils.class_weight import compute_class_weight\n",
    "from sklearn.model_selection import train_test_split\n",
    "from torch.utils.tensorboard import SummaryWriter\n",
    "from torch.optim import Adam\n",
    "from torch.optim.lr_scheduler import CosineAnnealingLR\n",
    "from tqdm import tqdm\n",
    "from utils.S1_utils import clip_gradient\n",
    "num_workers = multiprocessing.cpu_count()\n",
    "os.environ[\"CUDA_VISIBLE_DEVICES\"] = \"0\"\n",
    "device = torch.device(\"cuda\" if torch.cuda.is_available() else \"cpu\")\n",
    "cudnn.benchmark = True\n",
    "random.seed(1234)\n",
    "torch.manual_seed(1234)"
   ]
  },
  {
   "cell_type": "code",
   "execution_count": 2,
   "metadata": {},
   "outputs": [
    {
     "name": "stdout",
     "output_type": "stream",
     "text": [
      "Index(['ID', 'A/P_01', 'N/L_01', 'age', 'gender',\n",
      "       'onset-to-image(有acute-發病日期)', 'onset-to-ward(病房日期-發病日期)', 'NIHSS: 1a',\n",
      "       'NIHSS: 1b', 'NIHSS: 1c', 'NIHSS: 2', 'NiHSS: 3', 'NIHSS: 4',\n",
      "       'NIHSS: 5a', 'NIHSS: 5b', 'NIHSS: 6a', 'NIHSS:6b', 'NIHSS:7', 'NIHSS:8',\n",
      "       'NIHSS:9', 'NIHSS:10', 'NIHSS:11', 'NIHSS  total', 'out_sum',\n",
      "       'rnn_sum(out-in)'],\n",
      "      dtype='object')\n",
      "table_label.columns.values 23\n",
      "     A/P_01  N/L_01  age  gender  onset-to-image(有acute-發病日期)  \\\n",
      "0         1       1   86       1                            6   \n",
      "1         1       0   89       0                            0   \n",
      "2         0       0   78       1                            2   \n",
      "3         0       1   91       1                            3   \n",
      "4         0       0   61       1                            4   \n",
      "..      ...     ...  ...     ...                          ...   \n",
      "217       1       1   59       0                            1   \n",
      "218       0       0   80       1                            2   \n",
      "219       0       1   80       0                            2   \n",
      "220       0       1   63       1                            2   \n",
      "221       0       1   40       0                            3   \n",
      "\n",
      "     onset-to-ward(病房日期-發病日期)  NIHSS: 1a  NIHSS: 1b  NIHSS: 1c  NIHSS: 2  ...  \\\n",
      "0                           0          0          0          0         0  ...   \n",
      "1                           0          0          0          0         0  ...   \n",
      "2                           0          0          0          0         0  ...   \n",
      "3                           0          0          0          0         0  ...   \n",
      "4                           1          0          0          0         1  ...   \n",
      "..                        ...        ...        ...        ...       ...  ...   \n",
      "217                         1          0          0          0         0  ...   \n",
      "218                         0          0          0          0         0  ...   \n",
      "219                         1          0          0          0         0  ...   \n",
      "220                         0          0          0          0         0  ...   \n",
      "221                         0          0          0          0         0  ...   \n",
      "\n",
      "     NIHSS: 5b  NIHSS: 6a  NIHSS:6b  NIHSS:7  NIHSS:8  NIHSS:9  NIHSS:10  \\\n",
      "0            0          3         0        0        1        0         1   \n",
      "1            1          0         0        0        0        0         1   \n",
      "2            0          0         0        0        0        0         0   \n",
      "3            1          0         1        0        0        0         1   \n",
      "4            0          0         0        0        0        0         1   \n",
      "..         ...        ...       ...      ...      ...      ...       ...   \n",
      "217          1          1         1        0        1        0         1   \n",
      "218          0          0         0        0        0        0         0   \n",
      "219          0          1         0        0        0        0         0   \n",
      "220          1          0         1        0        0        0         0   \n",
      "221          0          1         0        0        0        0         1   \n",
      "\n",
      "     NIHSS:11  NIHSS  total  out_sum  \n",
      "0           0            10       23  \n",
      "1           0             3        2  \n",
      "2           0             2        1  \n",
      "3           0             4        2  \n",
      "4           0             4        3  \n",
      "..        ...           ...      ...  \n",
      "217         0             7        6  \n",
      "218         0             1        2  \n",
      "219         0             3        3  \n",
      "220         0             2        2  \n",
      "221         0             3        3  \n",
      "\n",
      "[222 rows x 23 columns]\n"
     ]
    }
   ],
   "source": [
    "csv_path = './NIHSS_Continuous_Variable_222patient.csv'\n",
    "table_ =  pd.read_csv(csv_path, index_col=False)\n",
    "# print(table_.columns)\n",
    "table_label = table_.drop(['ID','rnn_sum(out-in)'] ,axis=1)\n",
    "# print(table_.columns)                           \n",
    "print(\"table_label.columns.values\", len(table_label.columns.values))\n",
    "# table_label.to_csv('./NIHSS_fiter_222patient.csv',index=False)\n",
    "# print(table_label)"
   ]
  },
  {
   "cell_type": "code",
   "execution_count": 3,
   "metadata": {},
   "outputs": [],
   "source": [
    "scaler = MinMaxScaler(feature_range=(0, 1))\n",
    "scaler = scaler.fit(table_label)\n",
    "\n",
    "y_nor = scaler.transform(table_label)\n",
    "# print(y_nor)\n",
    "new_table_nor = pd.DataFrame(y_nor, columns=table_label.columns)\n",
    "\n",
    "X_table = new_table_nor.drop(['out_sum'] ,axis=1)\n",
    "y_table = new_table_nor['out_sum']"
   ]
  },
  {
   "cell_type": "code",
   "execution_count": 4,
   "metadata": {},
   "outputs": [
    {
     "name": "stdout",
     "output_type": "stream",
     "text": [
      "train (166,) test (56,)\n"
     ]
    }
   ],
   "source": [
    "from torch.utils.data import TensorDataset, DataLoader\n",
    "X_train, X_test, y_train, y_test = train_test_split(np.array(X_table), np.array(y_table), test_size=0.25, random_state=123) #seed = 42, 123\n",
    "print(\"train\", y_train.shape, \"test\", y_test.shape)\n",
    "training_set = TensorDataset(torch.FloatTensor(X_train), torch.FloatTensor(y_train))\n",
    "validation_set = TensorDataset(torch.FloatTensor(X_test), torch.FloatTensor(y_test))\n"
   ]
  },
  {
   "cell_type": "code",
   "execution_count": 5,
   "metadata": {},
   "outputs": [],
   "source": [
    "class Net(nn.Module):\n",
    "   def __init__(self):\n",
    "       super(Net, self).__init__()\n",
    "       self.layer = torch.nn.Linear(22, 1)\n",
    "\n",
    "   def forward(self, x):\n",
    "       x = self.layer(x)      \n",
    "       return x\n",
    "\n",
    "net = Net().to(device)\n",
    "optimizer = torch.optim.SGD(net.parameters(), lr=0.2)\n",
    "loss_func = torch.nn.MSELoss()\n",
    "print(net)"
   ]
  },
  {
   "cell_type": "code",
   "execution_count": null,
   "metadata": {},
   "outputs": [],
   "source": [
    "def train(train_loader, model, criterion, optimizer, epoch):\n",
    "   model.train()\n",
    "   stream = tqdm(train_loader)\n",
    "   for i, (value, count) in enumerate(stream, start=1):\n",
    "      # print(nihss)\n",
    "      output = model(value.to(device))\n",
    "      # print(output)\n",
    "      loss = criterion(output, count.to(device))\n",
    "      optimizer.zero_grad()\n",
    "      loss.backward()\n",
    "      optimizer.step()\n",
    "\n",
    "      stream.set_description(f\"Epoch: {epoch}. Train. loss: {loss}\")\n",
    "\n",
    "def validate(valid_loader, model, criterion, epoch):\n",
    "   global best_vloss, best_vacc\n",
    "   model.eval()\n",
    "   stream_v = tqdm(valid_loader)\n",
    "   with torch.no_grad():\n",
    "      for i, (value, count) in enumerate(stream_v, start=1):\n",
    "         # print(nihss)\n",
    "         output = model(value.to(device))\n",
    "         # print(output)\n",
    "         loss = criterion(output, count.to(device))\n",
    "         stream_v.set_description(f\"Epoch: {epoch}. Valid. loss: {loss}\")\n",
    "# X\n",
    "def  train_valid_process_main(model, training_set, validation_set, batch_size):\n",
    "   global best_vloss, best_vacc\n",
    "   best_vloss = np.inf\n",
    "   best_vacc = 0.00\n",
    "   # Subject Dataloader Building\n",
    "   train_loader = DataLoader(training_set, batch_size=8, shuffle=True, num_workers=10)\n",
    "   valid_loader = DataLoader(validation_set, batch_size=1, shuffle=False, num_workers=4)\n",
    "\n",
    "   for epoch in range(1, 200 + 1):\n",
    "      train(train_loader, model, loss_func, optimizer, epoch)\n",
    "      validate(valid_loader, model, loss_func, epoch)\n",
    "   return model"
   ]
  },
  {
   "cell_type": "code",
   "execution_count": null,
   "metadata": {},
   "outputs": [],
   "source": [
    "logs  = train_valid_process_main(net, training_set, validation_set, 8)"
   ]
  },
  {
   "cell_type": "code",
   "execution_count": null,
   "metadata": {},
   "outputs": [],
   "source": []
  }
 ],
 "metadata": {
  "interpreter": {
   "hash": "c7173b66b0b7b9d3ef17108453430ecf43b59c5f40b531d440cd8bb0e5f91238"
  },
  "kernelspec": {
   "display_name": "Python 3.8.0 64-bit ('torch-SGD': conda)",
   "language": "python",
   "name": "python3"
  },
  "language_info": {
   "codemirror_mode": {
    "name": "ipython",
    "version": 3
   },
   "file_extension": ".py",
   "mimetype": "text/x-python",
   "name": "python",
   "nbconvert_exporter": "python",
   "pygments_lexer": "ipython3",
   "version": "3.8.0"
  },
  "orig_nbformat": 4
 },
 "nbformat": 4,
 "nbformat_minor": 2
}
