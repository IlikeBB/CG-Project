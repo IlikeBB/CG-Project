{
 "cells": [
  {
   "cell_type": "code",
   "execution_count": 1,
   "metadata": {},
   "outputs": [],
   "source": [
    "import pandas as pd, numpy as np, os, sys, glob, nibabel as nib\n",
    "from scipy import ndimage\n"
   ]
  },
  {
   "cell_type": "code",
   "execution_count": 2,
   "metadata": {},
   "outputs": [
    {
     "data": {
      "text/plain": [
       "0      is0002\n",
       "1      is0003\n",
       "2      is0004\n",
       "3      is0005\n",
       "4      is0007\n",
       "        ...  \n",
       "217    is0345\n",
       "218    is0346\n",
       "219    is0347\n",
       "220    is0348\n",
       "221    is0349\n",
       "Name: ID, Length: 222, dtype: object"
      ]
     },
     "execution_count": 2,
     "metadata": {},
     "output_type": "execute_result"
    }
   ],
   "source": [
    "csv_path = './NIHSS_score223.csv'\n",
    "table_1_5t3_0t =  pd.read_csv(csv_path)\n",
    "table_1_5t3_0t['ID']"
   ]
  },
  {
   "cell_type": "code",
   "execution_count": 3,
   "metadata": {},
   "outputs": [],
   "source": [
    "class nii_process:\n",
    "    def __init__(self, base_):\n",
    "        self.base_ = base_\n",
    "        self.volume = np.array([])\n",
    "\n",
    "    def normalize(self, volume):\n",
    "        img_o = np.float32(volume.copy())\n",
    "        m = np.mean(img_o)\n",
    "        s = np.std(img_o)\n",
    "        volume = np.divide((img_o - m), s)\n",
    "        image = volume.astype(\"float32\")\n",
    "        return image\n",
    "\n",
    "    def resize_volume(self, img,size,depth):\n",
    "        \"\"\"Resize across z-axis\"\"\"\n",
    "        # Set the desired depth\n",
    "        current_depth = img.shape[-1]\n",
    "        current_width = img.shape[0]\n",
    "        current_height = img.shape[1]\n",
    "        img = ndimage.zoom(img, (size/current_height, size/current_width, 1), order=0)\n",
    "        return img\n",
    "\n",
    "    def process_scan(self,path_img, path_msg):\n",
    "\n",
    "        image_o = nib.load(path_img)\n",
    "        masks_o = nib.load(path_msg)\n",
    "        affine = image_o.header.get_best_affine()\n",
    "\n",
    "        if len(image_o.shape) == 4:\n",
    "            image = image_o.get_fdata()\n",
    "            masks = masks_o.get_fdata()\n",
    "            width,height,queue,_ = image.shape\n",
    "            image = image[:,:,:,1]\n",
    "            image = np.reshape(image,(width,height,queue))\n",
    "            masks = np.reshape(masks,(width,height,queue))\n",
    "        else:\n",
    "            image = image_o.get_fdata()\n",
    "            masks = masks_o.get_fdata()\n",
    "\n",
    "        image = self.normalize(image)\n",
    "        if True:\n",
    "            image = self.resize_volume(image, 384, 28)\n",
    "            masks = self.resize_volume(masks, 384, 28)\n",
    "\n",
    "            image = np.where(masks, image, image*0)\n",
    "        \n",
    "        self.slice_n = image.shape[-1]\n",
    "        nii_name_slices = (os.path.split(path_img))\n",
    "        nii_name_slices = nii_name_slices[1].split('.')[0]\n",
    "        # print(nii_name_slices)\n",
    "        size = image.shape[0]\n",
    "        if image.shape[-1] >28:\n",
    "            print(image.shape[-1], path_img)\n",
    "        if image.shape[-1] !=28:\n",
    "            black_slice = np.zeros((size,size,))\n",
    "            new_mask = np.concatenate((masks, np.zeros((size,size, (28-image.shape[-1])))), axis=-1)\n",
    "            new_image = np.concatenate((image, np.zeros((size,size, (28-image.shape[-1])))), axis=-1)\n",
    "            adjusted_msk = nib.Nifti1Image(new_mask, affine)\n",
    "            adjusted_seg = nib.Nifti1Image(new_image, affine)\n",
    "            adjusted_msk.header['pixdim'] = masks_o.header['pixdim']\n",
    "            adjusted_seg.header['pixdim'] = image_o.header['pixdim']\n",
    "            # Save as NiBabel file\n",
    "            adjusted_seg.to_filename(os.path.join(self.base_, f'{nii_name_slices[0:-1]}.nii.gz'))"
   ]
  },
  {
   "cell_type": "code",
   "execution_count": 4,
   "metadata": {},
   "outputs": [],
   "source": [
    "process_stack = ['train','valid','test']\n",
    "# process_stack = ['train']\n",
    "prepare_data = nii_process('./dataset/S2_data1.5&3.0_seg/')\n",
    "\n",
    "_list = sorted(os.listdir(os.path.join('./dataset/original_data1.5&3.0/')))\n",
    "_len = len(_list)\n",
    "for j in range(0, _len, 2):\n",
    "    for x in table_1_5t3_0t['ID']:\n",
    "        if x in _list[j]:\n",
    "            prepare_data.process_scan(f'./dataset/original_data1.5&3.0/{_list[j]}', f'./dataset/original_data1.5&3.0/{_list[j+1]}')    \n",
    "            # prepare_data.process_scan(i, f'./dataset/original_data1.5&3.0/{i}/{_list[j]}', f'./dataset/original_data1.5&3.0/{i}/{_list[j+1]}')\n",
    "        "
   ]
  },
  {
   "cell_type": "code",
   "execution_count": 5,
   "metadata": {},
   "outputs": [],
   "source": [
    "            # import matplotlib.pyplot as plt\n",
    "\n",
    "            # for i in range (new_image.shape[-1]):\n",
    "            #     print(new_image[...,i].shape)\n",
    "            #     fig = plt.figure(figsize=(10,10))\n",
    "            #     ax1 = fig.add_subplot(1,4,1)\n",
    "            #     ax1.imshow(new_image[...,i], cmap='bone')\n",
    "            #     ax2 = fig.add_subplot(1,4,2)\n",
    "            #     ax2.imshow(image[...,i], cmap='bone')\n",
    "            #     ax3 = fig.add_subplot(1,4,3)\n",
    "            #     ax3.imshow(images[...,i], cmap='bone')\n",
    "            #     ax4 = fig.add_subplot(1,4,4)\n",
    "            #     ax4.imshow(masks[...,i], cmap='bone')\n",
    "            #     plt.show()  "
   ]
  }
 ],
 "metadata": {
  "interpreter": {
   "hash": "c7173b66b0b7b9d3ef17108453430ecf43b59c5f40b531d440cd8bb0e5f91238"
  },
  "kernelspec": {
   "display_name": "Python 3.8.0 64-bit ('torch-SGD': conda)",
   "name": "python3"
  },
  "language_info": {
   "codemirror_mode": {
    "name": "ipython",
    "version": 3
   },
   "file_extension": ".py",
   "mimetype": "text/x-python",
   "name": "python",
   "nbconvert_exporter": "python",
   "pygments_lexer": "ipython3",
   "version": "3.8.0"
  },
  "orig_nbformat": 4
 },
 "nbformat": 4,
 "nbformat_minor": 2
}
