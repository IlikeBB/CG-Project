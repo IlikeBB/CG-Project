{
 "cells": [
  {
   "cell_type": "code",
   "execution_count": 1,
   "metadata": {},
   "outputs": [],
   "source": [
    "import numpy as np, torch, os, multiprocessing, pandas as pd, sys\n",
    "import torch.backends.cudnn as cudnn, torchio as tio, random\n",
    "import torch.backends.cudnn as cudnn\n",
    "import matplotlib.pyplot as plt\n",
    "from sklearn.model_selection import train_test_split\n",
    "from sklearn.metrics import *\n",
    "sys.path.append(\"..\")\n",
    "# from utils.model_res_fu import generate_model\n",
    "from utils.model_res import generate_model\n",
    "from tqdm import tqdm   \n",
    "\n",
    "num_workers = multiprocessing.cpu_count()\n",
    "os.environ[\"CUDA_VISIBLE_DEVICES\"] = \"1\"\n",
    "device = torch.device(\"cuda\" if torch.cuda.is_available() else \"cpu\")\n",
    "cudnn.benchmark = True\n",
    "random.seed(1234)\n",
    "torch.manual_seed(1234)\n",
    "# csv_path = '../NIHSS_score223+NL+AP.csv'\n",
    "csv_path = '../NIHSS_score223.csv'\n",
    "basepath_ = '../dataset/S2_data1.5&3.0/'\n",
    "# basepath_ = '../dataset/S2_data1.5&3.0_seg/'\n",
    "# S2_weight_stack = '../checkpoint/TEST12.24-01-223_patient_sum_NIHSS_score/mRS - 3dresnet18 - lr_0.01 - CEL --  epoch:16 | vLoss:0.38176 | vAcc:88.3333.pt'\n",
    "# S2_weight_stack = '../checkpoint/TEST12.27-01-223_patient_sum_NIHSS_score_Nontextdata/mRS - 3dresnet18 - lr_0.01 - CEL --  epoch:47 | vLoss:0.60983 | vAcc:70.0001.pt'\n",
    "S2_weight_stack = '../checkpoint/TEST12.28-01-223_patient_sum_NIHSS_score_NonSegmentation/mRS - 3dresnet18 - lr_0.01 - CEL --  epoch:27 | vLoss:0.37101 | vAcc:88.3333.pt'\n",
    "# S2_weight_stack = '../checkpoint/TEST12.29-01-223_patient_sum_NIHSS_score_Nontextdata/mRS - 3dresnet18 - lr_0.01 - CEL --  epoch:68 | vLoss:0.78976 | vAcc:70.0.pt'"
   ]
  },
  {
   "cell_type": "code",
   "execution_count": 2,
   "metadata": {},
   "outputs": [
    {
     "name": "stdout",
     "output_type": "stream",
     "text": [
      "table_['Out_mRS'] 222\n",
      "table_label.columns.values 21\n",
      "train  0:  90 1: 76\n",
      "valid 0:  30 1: 26\n"
     ]
    }
   ],
   "source": [
    "def norm_one_zero(table):\n",
    "    import math\n",
    "    # print(table)\n",
    "    for i in table:\n",
    "        if (i in ['age_norm','gender','onset-to-image(datys)','onset-to-ward(days)','nihss_sum_norm','Out_mRS'])==False:\n",
    "            # print(i)\n",
    "            cols_filter = [x for x in table[i] if math.isnan(float(x))==False ]\n",
    "            med = np.median(cols_filter)\n",
    "            table[i] = [med if math.isnan(float(x))==True else x for x in table[i]]\n",
    "            min_cols, max_cols =np.min(cols_filter), np.max(cols_filter)\n",
    "\n",
    "            normal = lambda x: (x - min_cols)/(max_cols - min_cols)\n",
    "            table[i] = [normal(x) for x in table[i]]\n",
    "            table[i] = [0 if math.isnan(float(x))==True else x for x in table[i]]\n",
    "    # print(table)\n",
    "    return table\n",
    "    \n",
    "table_ =  pd.read_csv(csv_path)\n",
    "print(\"table_['Out_mRS']\", len(table_['Out_mRS']))\n",
    "# print(table_.columns.values)\n",
    "table_label = table_.drop(['ID', 'predict (0-2\"good\", 3-6\"bad\")', 'age', '發病日期', \n",
    "                                                        '有acute MRA/日期 (2wk內)', '病房日期', 'onset-to-image(有acute-發病日期)',\n",
    "                                                        'onset-to-ward(病房日期-發病日期)', '入院mRS', 'NIHSS  total', '出院mRS'],axis=1)\n",
    "# table_label = table_.drop(['ID', 'predict (0-2\"good\", 3-6\"bad\")', '1/0: 3T/1.5T MRI', 'A/P', 'N/L','age', '發病日期', \n",
    "#                                                        '有acute MRA/日期 (2wk內)', '病房日期', 'onset-to-image(有acute-發病日期)',\n",
    "#                                                        'onset-to-ward(病房日期-發病日期)', '入院mRS', 'NIHSS  total', '出院mRS'],axis=1)                                                        \n",
    "print(\"table_label.columns.values\", len(table_label.columns.values))\n",
    "# print(table_label)\n",
    "nii_3t_train = sorted([i for i in os.listdir(os.path.join('../dataset/S2_data1.5&3.0/'))])\n",
    "\n",
    "table_label_norm = norm_one_zero(table_label)\n",
    "X_train, X_test, y_train, y_test = train_test_split(nii_3t_train, table_label_norm,  stratify=list(table_label['Out_mRS']), test_size=0.25, random_state=123) #seed = 42, 123\n",
    "# print(y_train)\n",
    "print('train', ' 0: ', len(y_train['Out_mRS'])-sum(y_train['Out_mRS']),'1:',sum(y_train['Out_mRS']))\n",
    "print('valid', '0: ', len(y_test['Out_mRS'])-sum(y_test['Out_mRS']), '1:',sum(y_test['Out_mRS']))"
   ]
  },
  {
   "cell_type": "code",
   "execution_count": 3,
   "metadata": {},
   "outputs": [],
   "source": [
    "def tio_process(nii_3t_, table_3t_, basepath_='./dataset/S2_data1.5&3.0/'):\n",
    "    subjects_ = []\n",
    "    for  (nii_path, nii_table) in zip(nii_3t_ , table_3t_):\n",
    "        tb_len = nii_table.shape[-1]\n",
    "        subject = tio.Subject(\n",
    "            dwi = tio.ScalarImage(os.path.join(basepath_, nii_path)), \n",
    "            mRS = int(nii_table[-1]),\n",
    "            score= nii_table[0:20])\n",
    "        subjects_.append(subject)\n",
    "    return subjects_"
   ]
  },
  {
   "cell_type": "code",
   "execution_count": 4,
   "metadata": {},
   "outputs": [
    {
     "name": "stderr",
     "output_type": "stream",
     "text": [
      "100%|██████████| 56/56 [00:27<00:00,  2.00it/s]\n"
     ]
    }
   ],
   "source": [
    "def S2_evaluate(model,valid_loader):\n",
    "    predict_array = {'target':[], 'predict':[]}\n",
    "    model.eval()\n",
    "    stream_v = tqdm(valid_loader)\n",
    "    with torch.no_grad():\n",
    "        for i, data in enumerate(stream_v, start=1):\n",
    "            images = data['dwi'][tio.DATA].to(device)\n",
    "            nihss = data['score'].to(device)\n",
    "            target = torch.LongTensor(data['mRS']).to(device)\n",
    "            # print(nihss, target)\n",
    "            output = model(images).squeeze(1)\n",
    "            # output = model(images, nihss.to(torch.float32)).squeeze(1)\n",
    "            output = torch.sigmoid(output)\n",
    "            # output = (output - output.min()) / (output.max() - output.min() + 1e-8)\n",
    "            # print(output)\n",
    "            # _, outputs = torch.max(output, 1)\n",
    "            predict_array['predict'].append(np.array(output.cpu()))\n",
    "            predict_array['target'].append(target.item())\n",
    "    return predict_array\n",
    "    \n",
    "if True:\n",
    "    test_transform = tio.Compose([])\n",
    "    S2_reply = []\n",
    "    model = generate_model(model_depth=18, n_input_channels=1, n_classes=2)\n",
    "    checkpoint = torch.load(S2_weight_stack, map_location=torch.device(device))\n",
    "    model.load_state_dict(checkpoint['model_state_dict'])\n",
    "\n",
    "    model.to(device)\n",
    "    # //////////////////////////////////////////////////\n",
    "    validation_subjects = tio_process(X_test, np.array(y_test), basepath_ = basepath_)\n",
    "    # validation_subjects = tio_process(X_test, np.array(y_test), basepath_ = '../dataset/S2_data1.5&3.0_seg/')\n",
    "    validation_set = tio.SubjectsDataset(validation_subjects, transform=test_transform)\n",
    "    valid_loader = torch.utils.data.DataLoader(validation_set, batch_size=1,  shuffle=False, num_workers=2)\n",
    "    S2_reply.append(S2_evaluate(model, valid_loader))"
   ]
  },
  {
   "cell_type": "code",
   "execution_count": 5,
   "metadata": {},
   "outputs": [
    {
     "data": {
      "text/html": [
       "<div>\n",
       "<style scoped>\n",
       "    .dataframe tbody tr th:only-of-type {\n",
       "        vertical-align: middle;\n",
       "    }\n",
       "\n",
       "    .dataframe tbody tr th {\n",
       "        vertical-align: top;\n",
       "    }\n",
       "\n",
       "    .dataframe thead th {\n",
       "        text-align: right;\n",
       "    }\n",
       "</style>\n",
       "<table border=\"1\" class=\"dataframe\">\n",
       "  <thead>\n",
       "    <tr style=\"text-align: right;\">\n",
       "      <th></th>\n",
       "      <th>ID</th>\n",
       "      <th>Ground Truth</th>\n",
       "      <th>Predict 0-3</th>\n",
       "      <th>Predict 3-6</th>\n",
       "    </tr>\n",
       "  </thead>\n",
       "  <tbody>\n",
       "  </tbody>\n",
       "</table>\n",
       "</div>"
      ],
      "text/plain": [
       "Empty DataFrame\n",
       "Columns: [ID, Ground Truth, Predict 0-3, Predict 3-6]\n",
       "Index: []"
      ]
     },
     "execution_count": 5,
     "metadata": {},
     "output_type": "execute_result"
    }
   ],
   "source": [
    "pred_table = pd.DataFrame([], columns=['ID', 'Ground Truth', 'Predict 0-3', 'Predict 3-6'])\n",
    "pred_table"
   ]
  },
  {
   "cell_type": "code",
   "execution_count": 6,
   "metadata": {},
   "outputs": [],
   "source": [
    "for g,p,d in zip(S2_reply[0]['target'], S2_reply[0]['predict'] , validation_subjects):\n",
    "    p_0 = p[0][0]\n",
    "    p_1 = p[0][1]\n",
    "    ID = d['dwi']['path'].replace(basepath_,'')\n",
    "    new_user = pd.DataFrame([[ID, g, p_0, p_1]], columns=['ID', 'Ground Truth', 'Predict 0-3', 'Predict 3-6'])\n",
    "    pred_table = pred_table.append(new_user)"
   ]
  },
  {
   "cell_type": "code",
   "execution_count": 7,
   "metadata": {},
   "outputs": [
    {
     "data": {
      "text/html": [
       "<div>\n",
       "<style scoped>\n",
       "    .dataframe tbody tr th:only-of-type {\n",
       "        vertical-align: middle;\n",
       "    }\n",
       "\n",
       "    .dataframe tbody tr th {\n",
       "        vertical-align: top;\n",
       "    }\n",
       "\n",
       "    .dataframe thead th {\n",
       "        text-align: right;\n",
       "    }\n",
       "</style>\n",
       "<table border=\"1\" class=\"dataframe\">\n",
       "  <thead>\n",
       "    <tr style=\"text-align: right;\">\n",
       "      <th></th>\n",
       "      <th>ID</th>\n",
       "      <th>Ground Truth</th>\n",
       "      <th>Predict 0-3</th>\n",
       "      <th>Predict 3-6</th>\n",
       "      <th>Predict_Result</th>\n",
       "    </tr>\n",
       "  </thead>\n",
       "  <tbody>\n",
       "    <tr>\n",
       "      <th>0</th>\n",
       "      <td>is0317.nii.gz</td>\n",
       "      <td>1</td>\n",
       "      <td>0.335039</td>\n",
       "      <td>0.637591</td>\n",
       "      <td>1</td>\n",
       "    </tr>\n",
       "    <tr>\n",
       "      <th>0</th>\n",
       "      <td>is0232.nii.gz</td>\n",
       "      <td>1</td>\n",
       "      <td>0.058540</td>\n",
       "      <td>0.926400</td>\n",
       "      <td>1</td>\n",
       "    </tr>\n",
       "    <tr>\n",
       "      <th>0</th>\n",
       "      <td>is0184.nii.gz</td>\n",
       "      <td>0</td>\n",
       "      <td>0.684941</td>\n",
       "      <td>0.316477</td>\n",
       "      <td>0</td>\n",
       "    </tr>\n",
       "    <tr>\n",
       "      <th>0</th>\n",
       "      <td>is0265.nii.gz</td>\n",
       "      <td>1</td>\n",
       "      <td>0.066057</td>\n",
       "      <td>0.918560</td>\n",
       "      <td>1</td>\n",
       "    </tr>\n",
       "    <tr>\n",
       "      <th>0</th>\n",
       "      <td>is0152.nii.gz</td>\n",
       "      <td>0</td>\n",
       "      <td>0.629007</td>\n",
       "      <td>0.358032</td>\n",
       "      <td>0</td>\n",
       "    </tr>\n",
       "  </tbody>\n",
       "</table>\n",
       "</div>"
      ],
      "text/plain": [
       "              ID Ground Truth  Predict 0-3  Predict 3-6  Predict_Result\n",
       "0  is0317.nii.gz            1     0.335039     0.637591               1\n",
       "0  is0232.nii.gz            1     0.058540     0.926400               1\n",
       "0  is0184.nii.gz            0     0.684941     0.316477               0\n",
       "0  is0265.nii.gz            1     0.066057     0.918560               1\n",
       "0  is0152.nii.gz            0     0.629007     0.358032               0"
      ]
     },
     "execution_count": 7,
     "metadata": {},
     "output_type": "execute_result"
    }
   ],
   "source": [
    "temp = list(pred_table['Predict 3-6']>0.5)\n",
    "temp = [int(x) for x in temp]\n",
    "pred_table['Predict_Result'] = temp\n",
    "# pred_table.to_csv('./Only MRI image - patient222.csv')\n",
    "# pred_table.to_csv('./Fusion_model - patient222.csv')\n",
    "pred_table.head()"
   ]
  },
  {
   "cell_type": "code",
   "execution_count": 8,
   "metadata": {},
   "outputs": [
    {
     "name": "stdout",
     "output_type": "stream",
     "text": [
      "Accuracy  : 88.0 %\n",
      "Sensitivity  : 0.84615\n",
      "Specificity  : 0.9\n"
     ]
    }
   ],
   "source": [
    "\n",
    "GT =np.array(pred_table['Ground Truth'])\n",
    "SR = np.array(pred_table['Predict_Result'])\n",
    "TP = int((SR * GT).sum()) #TP\n",
    "FN = int((GT * (1-SR)).sum()) #FN\n",
    "TN = int(((1-GT) * (1-SR)).sum()) #TN\n",
    "FP = int(((1-GT) * SR).sum()) #FP\n",
    "print(f'Accuracy  :', round((TP + TN)/(TP + TN + FP + FN), 2)*100, '%')\n",
    "print(f'Sensitivity  :', round(float(TP)/(float(TP+FN) + 1e-6), 5))\n",
    "print(f'Specificity  :', round(float(TN)/(float(TN+FP) + 1e-6), 5))"
   ]
  },
  {
   "cell_type": "code",
   "execution_count": 9,
   "metadata": {},
   "outputs": [],
   "source": [
    "def CI(y_pred, y_true):\n",
    "    n_bootstraps = 1000\n",
    "    rng_seed = 42  # control reproducibility\n",
    "    bootstrapped_scores = []\n",
    "    rng = np.random.RandomState(rng_seed)\n",
    "    for i in range(n_bootstraps):\n",
    "        indices = rng.randint(0, len(y_pred), len(y_pred))\n",
    "        if len(np.unique(y_true[indices])) < 2:\n",
    "            continue\n",
    "        score = roc_auc_score(y_true[indices], y_pred[indices])\n",
    "        bootstrapped_scores.append(score)\n",
    "    sorted_scores = np.array(bootstrapped_scores)\n",
    "    sorted_scores.sort()\n",
    "    confidence_lower = sorted_scores[int(0.025 * len(sorted_scores))]\n",
    "    confidence_upper = sorted_scores[int(0.975 * len(sorted_scores))]\n",
    "    return confidence_lower, confidence_upper"
   ]
  },
  {
   "cell_type": "code",
   "execution_count": 10,
   "metadata": {},
   "outputs": [
    {
     "name": "stdout",
     "output_type": "stream",
     "text": [
      "0.908974358974359 [ (0.8307692307692308, 0.9789196310935441) ]\n"
     ]
    }
   ],
   "source": [
    "from sklearn import metrics\n",
    "fpr, tpr, threshold = metrics.roc_curve(np.array(pred_table['Ground Truth']).astype(np.int8), np.array(pred_table['Predict 3-6']))\n",
    "roc_auc = metrics.auc(fpr, tpr)\n",
    "print(roc_auc, '[',CI(np.array(pred_table['Predict 3-6']),np.array(pred_table['Ground Truth']).astype(np.int8)),']')"
   ]
  },
  {
   "cell_type": "code",
   "execution_count": 11,
   "metadata": {},
   "outputs": [
    {
     "data": {
      "image/png": "[encoded data removed]",
      "text/plain": [
       "<Figure size 432x288 with 1 Axes>"
      ]
     },
     "metadata": {
      "needs_background": "light"
     },
     "output_type": "display_data"
    }
   ],
   "source": [
    "import matplotlib.pyplot as plt\n",
    "plt.title('Fusion model (mRS) - Non-Seg DWI Image + NIHSS Score 22(AP+NL)')\n",
    "plt.plot(fpr, tpr, 'b', label = 'AUC = %0.5f' % roc_auc)\n",
    "plt.legend(loc = 'lower right')\n",
    "plt.plot([0, 1], [0, 1],'r--')\n",
    "plt.xlim([-0.05, 1.05])\n",
    "plt.ylim([-0.05, 1.05])\n",
    "plt.ylabel('True Positive Rate')\n",
    "plt.xlabel('False Positive Rate')\n",
    "plt.show()"
   ]
  },
  {
   "cell_type": "code",
   "execution_count": null,
   "metadata": {},
   "outputs": [],
   "source": []
  }
 ],
 "metadata": {
  "interpreter": {
   "hash": "c7173b66b0b7b9d3ef17108453430ecf43b59c5f40b531d440cd8bb0e5f91238"
  },
  "kernelspec": {
   "display_name": "Python 3.8.0 64-bit ('torch-SGD': conda)",
   "language": "python",
   "name": "python3"
  },
  "language_info": {
   "codemirror_mode": {
    "name": "ipython",
    "version": 3
   },
   "file_extension": ".py",
   "mimetype": "text/x-python",
   "name": "python",
   "nbconvert_exporter": "python",
   "pygments_lexer": "ipython3",
   "version": "3.8.0"
  },
  "orig_nbformat": 4
 },
 "nbformat": 4,
 "nbformat_minor": 2
}
