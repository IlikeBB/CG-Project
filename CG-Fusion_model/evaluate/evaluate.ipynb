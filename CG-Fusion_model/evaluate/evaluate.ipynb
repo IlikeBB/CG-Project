{
 "cells": [
  {
   "cell_type": "code",
   "execution_count": null,
   "metadata": {},
   "outputs": [],
   "source": [
    "import numpy as np, torch, os, glob\n",
    "import torch.backends.cudnn as cudnn\n",
    "import segmentation_models_pytorch as smp\n",
    "import nibabel as nib\n",
    "import matplotlib.pyplot as plt\n",
    "import albumentations as A\n",
    "from sklearn.metrics import *\n",
    "from albumentations.pytorch import ToTensorV2\n",
    "from torch.utils.data import DataLoader\n",
    "from scipy import ndimage\n",
    "from tqdm import tqdm   \n",
    "os.environ[\"CUDA_VISIBLE_DEVICES\"] = \"1\"\n",
    "device = torch.device(\"cuda\" if torch.cuda.is_available() else \"cpu\")\n",
    "cudnn.benchmark = True"
   ]
  },
  {
   "cell_type": "code",
   "execution_count": null,
   "metadata": {},
   "outputs": [],
   "source": [
    "class DataLoaderSegmentation(object):\n",
    "    def __init__(self, base_path, transform=None):\n",
    "        super(DataLoaderSegmentation, self).__init__()\n",
    "        # path\n",
    "        # get single or mini batch nii data\n",
    "        self.data_image_path = sorted(glob.glob(os.path.join(base_path,'image','*.*')))\n",
    "        self.data_masks_path = sorted(glob.glob(os.path.join(base_path,'masks','*.*')))\n",
    "        self.transform = transform\n",
    "    def __getitem__(self, index):\n",
    "        img_path = self.data_image_path[index]\n",
    "        mask_path = self.data_masks_path[index]\n",
    "        image = self.__nii_load__(img_path)\n",
    "        masks = self.__nii_load__(mask_path)\n",
    "        if self.transform is not None: #image and masks must be transformed to numpy array\n",
    "            transformed = self.transform(image=image.copy(), mask=masks.copy())\n",
    "            image = transformed[\"image\"]\n",
    "            masks = transformed[\"mask\"]\n",
    "            return image, masks\n",
    "        return torch.from_numpy(image.copy()), torch.from_numpy(masks.copy())\n",
    "\n",
    "    def __len__(self):\n",
    "        return len(self.data_image_path)\n",
    "        \n",
    "    def __getpath__(self):\n",
    "        return self.path\n",
    "\n",
    "    def __nii_load__(self, nii_path):\n",
    "        self.path = nii_path\n",
    "        image = nib.load(nii_path)\n",
    "        # print(nii_path)\n",
    "        affine = image.header.get_best_affine()\n",
    "        image = image.get_fdata()\n",
    "        volume = np.float32(image.copy())\n",
    "        if affine[1, 1] > 0:\n",
    "            volume = ndimage.rotate(volume, 90, reshape=False, mode=\"nearest\")\n",
    "        if affine[1, 1] < 0:\n",
    "            volume = ndimage.rotate(volume, -90, reshape=False, mode=\"nearest\")\n",
    "        if affine[1, 1] < 0:                 \n",
    "            volume = np.fliplr(volume)\n",
    "        return volume\n",
    "\n",
    "transformv = A.Compose([ToTensorV2(),])"
   ]
  },
  {
   "cell_type": "code",
   "execution_count": null,
   "metadata": {},
   "outputs": [],
   "source": [
    "def model_create():\n",
    "    checkpoint = torch.load(weight_path, map_location=torch.device('cpu'))\n",
    "    model = smp.Unet(encoder_name='resnet18', encoder_weights=None, in_channels=1, classes=1)\n",
    "    \n",
    "    model.load_state_dict(checkpoint['model_state_dict'])\n",
    "    model.to('cpu')\n",
    "    return model"
   ]
  },
  {
   "cell_type": "code",
   "execution_count": null,
   "metadata": {},
   "outputs": [],
   "source": [
    "def validate(valid_loader, model):\n",
    "    predict_array = []\n",
    "    model.eval()\n",
    "    stream = tqdm(valid_loader)\n",
    "    with torch.no_grad():\n",
    "        for i, (images, target) in enumerate(stream, start=1):\n",
    "            images = images.to('cpu')\n",
    "            target = target.to('cpu')\n",
    "            output =  model(images).squeeze(1)\n",
    "            predict_array.append(output.detach().numpy()>0.3)\n",
    "    return predict_array\n",
    "\n",
    "def  train_valid_process_main(model, valid_dataset, batch_size):\n",
    "    valid_loader = DataLoader(valid_dataset, batch_size=batch_size, shuffle=False)\n",
    "    predict_array = validate(valid_loader, model)\n",
    "\n",
    "    return np.array(predict_array)"
   ]
  },
  {
   "cell_type": "code",
   "execution_count": null,
   "metadata": {},
   "outputs": [],
   "source": [
    "# source data setting\n",
    "valid_dataset = DataLoaderSegmentation('./dataset/normalized_zscore/valid/', transform=transformv)\n",
    "# torch weight setting\n",
    "weight_path = './checkpoint/2021.11.03.t1 - 2DRes18Unet/best-2DRes18Unet - lr_0.003 - DCEL.pt'\n",
    "# model loader\n",
    "model = model_create()\n",
    "predict_array = train_valid_process_main(model, valid_dataset, 1)"
   ]
  },
  {
   "cell_type": "code",
   "execution_count": null,
   "metadata": {},
   "outputs": [],
   "source": [
    "valid_loader = DataLoader(valid_dataset, batch_size=782, shuffle=False)"
   ]
  },
  {
   "cell_type": "code",
   "execution_count": null,
   "metadata": {},
   "outputs": [],
   "source": [
    "for idx, (img, msk) in enumerate(valid_loader):\n",
    "    if idx ==0:\n",
    "        for idx2, j in enumerate(img):\n",
    "            fig = plt.figure()\n",
    "            ax1 = fig.add_subplot(1,3,1)\n",
    "            ax1.imshow(np.squeeze(j, axis=0), cmap='bone')\n",
    "            ax1.set_title(\"DWI Slice\")\n",
    "            ax1.get_xaxis().set_visible(False)\n",
    "            ax1.get_yaxis().set_visible(False)\n",
    "\n",
    "            ax2 = fig.add_subplot(1,3,2)\n",
    "            ax2.imshow(np.squeeze(msk[idx2], axis=0), cmap='bone')\n",
    "            ax2.set_title(\"Masks\")\n",
    "            ax2.get_xaxis().set_visible(False)\n",
    "            ax2.get_yaxis().set_visible(False)\n",
    "\n",
    "            ax3 = fig.add_subplot(1,3,3)\n",
    "            ax3.imshow(np.squeeze(predict_array[idx2], axis=0), cmap='bone')\n",
    "            ax3.set_title(\"Predict\")\n",
    "            ax3.get_xaxis().set_visible(False)\n",
    "            ax3.get_yaxis().set_visible(False)\n",
    "            plt.show()\n",
    "        break"
   ]
  }
 ],
 "metadata": {
  "interpreter": {
   "hash": "c7173b66b0b7b9d3ef17108453430ecf43b59c5f40b531d440cd8bb0e5f91238"
  },
  "kernelspec": {
   "display_name": "Python 3.8.0 64-bit ('torch-SGD': conda)",
   "name": "python3"
  },
  "language_info": {
   "codemirror_mode": {
    "name": "ipython",
    "version": 3
   },
   "file_extension": ".py",
   "mimetype": "text/x-python",
   "name": "python",
   "nbconvert_exporter": "python",
   "pygments_lexer": "ipython3",
   "version": "3.8.0"
  },
  "orig_nbformat": 4
 },
 "nbformat": 4,
 "nbformat_minor": 2
}
