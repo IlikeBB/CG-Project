{
 "cells": [
  {
   "cell_type": "code",
   "execution_count": 1,
   "metadata": {},
   "outputs": [],
   "source": [
    "import keras,pandas as pd,os\n",
    "import tensorflow as tf\n",
    "from sklearn.metrics import roc_auc_score\n",
    "from keras.models import Sequential\n",
    "from keras.layers import Dense,Activation,Dropout\n",
    "from keras.layers.normalization import BatchNormalization\n",
    "from keras.optimizers import SGD\n",
    "from keras.callbacks import Callback, EarlyStopping\n",
    "from tensorflow.keras import regularizers\n",
    "from tensorflow_addons.optimizers import AdamW\n",
    "from keras.optimizers import SGD,Adamax,RMSprop,Adam\n",
    "# os.environ['TF_CPP_MIN_LOG_LEVEL'] = '4'"
   ]
  },
  {
   "cell_type": "code",
   "execution_count": 2,
   "metadata": {},
   "outputs": [
    {
     "name": "stdout",
     "output_type": "stream",
     "text": [
      "(4314,)\n",
      "(4314, 20)\n"
     ]
    }
   ],
   "source": [
    "S_3=pd.read_csv('dataset/Sepsis3_rf_top20_data.csv')\n",
    "S_1=pd.read_csv('dataset/Siover1_rf_top20_data.csv')\n",
    "S_7=pd.read_csv('dataset/Sipt7_rf_top20_data.csv')\n",
    "from utils.dataloader import csv_loader\n",
    "Seps3,Sio1,Sipt7,data_shape=csv_loader(S_3,S_1,S_7)\n",
    "\n",
    "\n",
    "Seps3_x=Seps3.iloc[:,1:data_shape[0]]\n",
    "Seps3_y=Seps3['sofa3m']\n",
    "\n",
    "Siov1_x=Sio1.iloc[:,1:data_shape[1]]\n",
    "Siov1_y=Sio1['si1m']\n",
    "\n",
    "Sipt7_x=Sipt7.iloc[:,1:data_shape[2]]\n",
    "Sipt7_y=Sipt7['si0.7m']\n",
    "print(Seps3_y.shape)\n",
    "print(Seps3_x.shape)\n"
   ]
  },
  {
   "cell_type": "code",
   "execution_count": 3,
   "metadata": {
    "scrolled": true
   },
   "outputs": [
    {
     "name": "stdout",
     "output_type": "stream",
     "text": [
      "(3235,)\n",
      "(3235, 20)\n",
      "(1079,)\n",
      "(1079, 20)\n",
      "135\n"
     ]
    },
    {
     "name": "stderr",
     "output_type": "stream",
     "text": [
      "/ssd1/nn/HRV/utils/dataloader.py:30: SettingWithCopyWarning: \n",
      "A value is trying to be set on a copy of a slice from a DataFrame.\n",
      "Try using .loc[row_indexer,col_indexer] = value instead\n",
      "\n",
      "See the caveats in the documentation: https://pandas.pydata.org/pandas-docs/stable/user_guide/indexing.html#returning-a-view-versus-a-copy\n",
      "  X[conti_var] = X_conti[conti_var].values\n",
      "/home/john/anaconda3/envs/er_tf2/lib/python3.7/site-packages/pandas/core/frame.py:3072: SettingWithCopyWarning: \n",
      "A value is trying to be set on a copy of a slice from a DataFrame\n",
      "\n",
      "See the caveats in the documentation: https://pandas.pydata.org/pandas-docs/stable/user_guide/indexing.html#returning-a-view-versus-a-copy\n",
      "  self.iloc._setitem_with_indexer((slice(None), indexer), value)\n",
      "/home/john/anaconda3/envs/er_tf2/lib/python3.7/site-packages/pandas/core/frame.py:3037: SettingWithCopyWarning: \n",
      "A value is trying to be set on a copy of a slice from a DataFrame\n",
      "\n",
      "See the caveats in the documentation: https://pandas.pydata.org/pandas-docs/stable/user_guide/indexing.html#returning-a-view-versus-a-copy\n",
      "  self._setitem_array(key, value)\n",
      "/ssd1/nn/HRV/utils/dataloader.py:30: SettingWithCopyWarning: \n",
      "A value is trying to be set on a copy of a slice from a DataFrame.\n",
      "Try using .loc[row_indexer,col_indexer] = value instead\n",
      "\n",
      "See the caveats in the documentation: https://pandas.pydata.org/pandas-docs/stable/user_guide/indexing.html#returning-a-view-versus-a-copy\n",
      "  X[conti_var] = X_conti[conti_var].values\n",
      "/home/john/anaconda3/envs/er_tf2/lib/python3.7/site-packages/pandas/core/frame.py:3072: SettingWithCopyWarning: \n",
      "A value is trying to be set on a copy of a slice from a DataFrame\n",
      "\n",
      "See the caveats in the documentation: https://pandas.pydata.org/pandas-docs/stable/user_guide/indexing.html#returning-a-view-versus-a-copy\n",
      "  self.iloc._setitem_with_indexer((slice(None), indexer), value)\n",
      "/home/john/anaconda3/envs/er_tf2/lib/python3.7/site-packages/pandas/core/frame.py:3037: SettingWithCopyWarning: \n",
      "A value is trying to be set on a copy of a slice from a DataFrame\n",
      "\n",
      "See the caveats in the documentation: https://pandas.pydata.org/pandas-docs/stable/user_guide/indexing.html#returning-a-view-versus-a-copy\n",
      "  self._setitem_array(key, value)\n"
     ]
    }
   ],
   "source": [
    "from sklearn.model_selection import train_test_split\n",
    "from utils.dataloader import normalized\n",
    "train_x, test_x, train_y, test_y = train_test_split(Seps3_x,Seps3_y,test_size = 0.25, random_state = 1234, stratify =Seps3_y)\n",
    "# print(train_x)\n",
    "train_x=normalized(train_x)\n",
    "test_x=normalized(test_x)\n",
    "print(train_y.shape)\n",
    "print(train_x.shape)\n",
    "print(test_y.shape)\n",
    "print(test_x.shape)\n",
    "print(sum(test_y))"
   ]
  },
  {
   "cell_type": "code",
   "execution_count": 4,
   "metadata": {},
   "outputs": [],
   "source": [
    "\n",
    "# count=0\n",
    "# only_true_y=test_y\n",
    "# only_true_x=test_x\n",
    "# compare=pd.concat([test_x,test_y],axis=1)\n",
    "# print(compare.shape)\n",
    "# datalen=compare.shape[1]\n",
    "# compare.head()\n",
    "# sv_index=compare.index\n",
    "# count=0\n",
    "\n",
    "# # print(compare.index[2])\n",
    "# for i in range(datalen):\n",
    "#     if compare.iloc[i,20]==0:\n",
    "#         print(compare.iloc[i,20])\n",
    "#         compare=compare.drop(index=compare.index[i])\n",
    "#     count+=1\n",
    "\n",
    "# print(compare.shape)"
   ]
  },
  {
   "cell_type": "code",
   "execution_count": 5,
   "metadata": {},
   "outputs": [],
   "source": [
    "def auroc(y_true, y_pred):\n",
    "    return tf.py_function(roc_auc_score, (y_true, y_pred), tf.double)"
   ]
  },
  {
   "cell_type": "code",
   "execution_count": 6,
   "metadata": {
    "scrolled": true
   },
   "outputs": [
    {
     "name": "stdout",
     "output_type": "stream",
     "text": [
      "Epoch 1/300\n",
      "30/30 [==============================] - 0s 13ms/step - loss: 0.3648 - accuracy: 0.8588 - val_loss: 22.2565 - val_accuracy: 0.8796\n",
      "Epoch 2/300\n",
      "30/30 [==============================] - 0s 7ms/step - loss: 0.2933 - accuracy: 0.8808 - val_loss: 5.5015 - val_accuracy: 0.8796\n",
      "Epoch 3/300\n",
      "30/30 [==============================] - 0s 7ms/step - loss: 0.2820 - accuracy: 0.8894 - val_loss: 1.8451 - val_accuracy: 0.8796\n",
      "Epoch 4/300\n",
      "30/30 [==============================] - 0s 7ms/step - loss: 0.2673 - accuracy: 0.8949 - val_loss: 0.9080 - val_accuracy: 0.8796\n",
      "Epoch 5/300\n",
      "30/30 [==============================] - 0s 7ms/step - loss: 0.2511 - accuracy: 0.8997 - val_loss: 0.4611 - val_accuracy: 0.8827\n",
      "Epoch 6/300\n",
      "30/30 [==============================] - 0s 7ms/step - loss: 0.2466 - accuracy: 0.9048 - val_loss: 0.2551 - val_accuracy: 0.8920\n",
      "Epoch 7/300\n",
      "30/30 [==============================] - 0s 7ms/step - loss: 0.2373 - accuracy: 0.9055 - val_loss: 0.2455 - val_accuracy: 0.8920\n",
      "Epoch 8/300\n",
      "30/30 [==============================] - 0s 7ms/step - loss: 0.2313 - accuracy: 0.9052 - val_loss: 0.2316 - val_accuracy: 0.8981\n",
      "Epoch 9/300\n",
      "30/30 [==============================] - 0s 7ms/step - loss: 0.2304 - accuracy: 0.9103 - val_loss: 0.2434 - val_accuracy: 0.9012\n",
      "Epoch 10/300\n",
      "30/30 [==============================] - 0s 8ms/step - loss: 0.2191 - accuracy: 0.9086 - val_loss: 0.2243 - val_accuracy: 0.9136\n",
      "Epoch 11/300\n",
      "30/30 [==============================] - 0s 7ms/step - loss: 0.2218 - accuracy: 0.9097 - val_loss: 0.2062 - val_accuracy: 0.9228\n",
      "Epoch 12/300\n",
      "30/30 [==============================] - 0s 7ms/step - loss: 0.2124 - accuracy: 0.9131 - val_loss: 0.2056 - val_accuracy: 0.9198\n",
      "Epoch 13/300\n",
      "30/30 [==============================] - 0s 7ms/step - loss: 0.2206 - accuracy: 0.9090 - val_loss: 0.2032 - val_accuracy: 0.9167\n",
      "Epoch 14/300\n",
      "30/30 [==============================] - 0s 7ms/step - loss: 0.2110 - accuracy: 0.9110 - val_loss: 0.1992 - val_accuracy: 0.9228\n",
      "Epoch 15/300\n",
      "30/30 [==============================] - 0s 7ms/step - loss: 0.2125 - accuracy: 0.9148 - val_loss: 0.1947 - val_accuracy: 0.9259\n",
      "Epoch 16/300\n",
      "30/30 [==============================] - 0s 7ms/step - loss: 0.2115 - accuracy: 0.9121 - val_loss: 0.1919 - val_accuracy: 0.9290\n",
      "Epoch 17/300\n",
      "30/30 [==============================] - 0s 7ms/step - loss: 0.2059 - accuracy: 0.9131 - val_loss: 0.1936 - val_accuracy: 0.9290\n",
      "Epoch 18/300\n",
      "30/30 [==============================] - 0s 7ms/step - loss: 0.2036 - accuracy: 0.9155 - val_loss: 0.1947 - val_accuracy: 0.9290\n",
      "Epoch 19/300\n",
      "30/30 [==============================] - 0s 7ms/step - loss: 0.2053 - accuracy: 0.9145 - val_loss: 0.1965 - val_accuracy: 0.9321\n",
      "Epoch 20/300\n",
      "30/30 [==============================] - 0s 7ms/step - loss: 0.2000 - accuracy: 0.9151 - val_loss: 0.1897 - val_accuracy: 0.9352\n",
      "Epoch 21/300\n",
      "30/30 [==============================] - 0s 7ms/step - loss: 0.2048 - accuracy: 0.9158 - val_loss: 0.1922 - val_accuracy: 0.9321\n",
      "Epoch 22/300\n",
      "30/30 [==============================] - 0s 7ms/step - loss: 0.1996 - accuracy: 0.9162 - val_loss: 0.1870 - val_accuracy: 0.9352\n",
      "Epoch 23/300\n",
      "30/30 [==============================] - 0s 7ms/step - loss: 0.2061 - accuracy: 0.9176 - val_loss: 0.1946 - val_accuracy: 0.9259\n",
      "Epoch 24/300\n",
      "30/30 [==============================] - 0s 7ms/step - loss: 0.2060 - accuracy: 0.9158 - val_loss: 0.1927 - val_accuracy: 0.9259\n",
      "Epoch 25/300\n",
      "30/30 [==============================] - 0s 7ms/step - loss: 0.1963 - accuracy: 0.9165 - val_loss: 0.1910 - val_accuracy: 0.9290\n",
      "Epoch 26/300\n",
      "30/30 [==============================] - 0s 7ms/step - loss: 0.1975 - accuracy: 0.9176 - val_loss: 0.1934 - val_accuracy: 0.9167\n",
      "Epoch 27/300\n",
      "30/30 [==============================] - 0s 7ms/step - loss: 0.1946 - accuracy: 0.9210 - val_loss: 0.1927 - val_accuracy: 0.9321\n",
      "Epoch 28/300\n",
      "30/30 [==============================] - 0s 7ms/step - loss: 0.1902 - accuracy: 0.9176 - val_loss: 0.1865 - val_accuracy: 0.9259\n",
      "Epoch 29/300\n",
      "30/30 [==============================] - 0s 7ms/step - loss: 0.1979 - accuracy: 0.9134 - val_loss: 0.1854 - val_accuracy: 0.9259\n",
      "Epoch 30/300\n",
      "30/30 [==============================] - 0s 7ms/step - loss: 0.1922 - accuracy: 0.9182 - val_loss: 0.1894 - val_accuracy: 0.9228\n",
      "Epoch 31/300\n",
      "30/30 [==============================] - 0s 7ms/step - loss: 0.1917 - accuracy: 0.9203 - val_loss: 0.1818 - val_accuracy: 0.9321\n",
      "Epoch 32/300\n",
      "30/30 [==============================] - 0s 7ms/step - loss: 0.1953 - accuracy: 0.9176 - val_loss: 0.1845 - val_accuracy: 0.9352\n",
      "Epoch 33/300\n",
      "30/30 [==============================] - 0s 7ms/step - loss: 0.1895 - accuracy: 0.9213 - val_loss: 0.1839 - val_accuracy: 0.9352\n",
      "Epoch 34/300\n",
      "30/30 [==============================] - 0s 7ms/step - loss: 0.1952 - accuracy: 0.9200 - val_loss: 0.1854 - val_accuracy: 0.9290\n",
      "Epoch 35/300\n",
      "30/30 [==============================] - 0s 7ms/step - loss: 0.1903 - accuracy: 0.9196 - val_loss: 0.1859 - val_accuracy: 0.9321\n",
      "Epoch 36/300\n",
      "30/30 [==============================] - 0s 8ms/step - loss: 0.1975 - accuracy: 0.9200 - val_loss: 0.1844 - val_accuracy: 0.9290\n",
      "Epoch 37/300\n",
      "30/30 [==============================] - 0s 7ms/step - loss: 0.1932 - accuracy: 0.9206 - val_loss: 0.1851 - val_accuracy: 0.9290\n",
      "Epoch 38/300\n",
      "30/30 [==============================] - 0s 7ms/step - loss: 0.1883 - accuracy: 0.9162 - val_loss: 0.1842 - val_accuracy: 0.9321\n",
      "Epoch 39/300\n",
      "30/30 [==============================] - 0s 7ms/step - loss: 0.1908 - accuracy: 0.9196 - val_loss: 0.1914 - val_accuracy: 0.9228\n",
      "Epoch 40/300\n",
      "30/30 [==============================] - 0s 7ms/step - loss: 0.1905 - accuracy: 0.9193 - val_loss: 0.1857 - val_accuracy: 0.9290\n",
      "Epoch 41/300\n",
      "30/30 [==============================] - 0s 7ms/step - loss: 0.1840 - accuracy: 0.9189 - val_loss: 0.1835 - val_accuracy: 0.9259\n",
      "Epoch 00041: early stopping\n",
      "<tensorflow.python.keras.callbacks.History object at 0x7f535025e550>\n"
     ]
    },
    {
     "data": {
      "image/png": "[encoded data removed]",
      "text/plain": [
       "<Figure size 1080x360 with 1 Axes>"
      ]
     },
     "metadata": {
      "needs_background": "light"
     },
     "output_type": "display_data"
    },
    {
     "data": {
      "image/png": "[encoded data removed]",
      "text/plain": [
       "<Figure size 1080x360 with 1 Axes>"
      ]
     },
     "metadata": {
      "needs_background": "light"
     },
     "output_type": "display_data"
    }
   ],
   "source": [
    "from utils.model import best_model\n",
    "model_best = best_model(train_x, test_x, train_y, test_y,input_shape=20, \n",
    "                        batch=100,epoch=300,lr=1e-1,decay=1e-2,momentum=0.8,af='relu',\n",
    "                        units_L=2,dropout=0.2,units_num=100,warm_up=0)"
   ]
  },
  {
   "cell_type": "code",
   "execution_count": 7,
   "metadata": {
    "scrolled": true
   },
   "outputs": [
    {
     "name": "stdout",
     "output_type": "stream",
     "text": [
      "(1079, 1)\n",
      "WARNING:tensorflow:From /ssd1/nn/HRV/utils/visualize.py:37: Sequential.predict_classes (from tensorflow.python.keras.engine.sequential) is deprecated and will be removed after 2021-01-01.\n",
      "Instructions for updating:\n",
      "Please use instead:* `np.argmax(model.predict(x), axis=-1)`,   if your model does multi-class classification   (e.g. if it uses a `softmax` last-layer activation).* `(model.predict(x) > 0.5).astype(\"int32\")`,   if your model does binary classification   (e.g. if it uses a `sigmoid` last-layer activation).\n",
      "=== Accuracy ===\n",
      "Accuracy (train): 0.928903\n",
      "Accuracy (test): 0.931418\n",
      "\n",
      "\n",
      "=== Precision ===\n",
      "Precision (train): 0.826415\n",
      "Precision (test): 0.835165\n",
      "\n",
      "\n",
      "=== Recall ===\n",
      "Recall (train): 0.543424\n",
      "Recall (test): 0.562963\n",
      "\n",
      "\n",
      "=== F1 score ===\n",
      "F1 score (train): 0.655689\n",
      "F1 score (test): 0.672566\n",
      "\n",
      "\n",
      "=== Cohens Kappa ===\n",
      "Cohens kappa (train): 0.617925\n",
      "Cohens kappa (test): 0.635879\n",
      "\n",
      "\n",
      "=== ROC AUC ===\n",
      "ROC AUC for training dataset: 0.957970\n",
      "ROC AUC for testing dataset: 0.926954\n",
      "\n",
      "\n",
      "=== Confusion matrix for train datset ===\n",
      "[[2786   46]\n",
      " [ 184  219]]\n",
      "\n",
      "\n",
      "=== Confusion matrix for test datset ===\n",
      "[[929  15]\n",
      " [ 59  76]]\n"
     ]
    },
    {
     "data": {
      "image/png": "[encoded data removed]",
      "text/plain": [
       "<Figure size 432x288 with 1 Axes>"
      ]
     },
     "metadata": {
      "needs_background": "light"
     },
     "output_type": "display_data"
    }
   ],
   "source": [
    "from utils.visualize import visualize\n",
    "# predict probabilities for test set\n",
    "yhat_probs_train = model_best.predict(train_x, verbose=0)\n",
    "yhat_probs_test = model_best.predict(test_x, verbose=0)\n",
    "print(yhat_probs_test.shape)\n",
    "yhat_classes_train,yhat_classes_test=visualize(yhat_probs_train,yhat_probs_test,model_best,train_x,train_y,test_x,test_y)"
   ]
  },
  {
   "cell_type": "code",
   "execution_count": 40,
   "metadata": {},
   "outputs": [
    {
     "name": "stdout",
     "output_type": "stream",
     "text": [
      "      index  ground_truth    sofa3m\n",
      "0      1180             0  0.013867\n",
      "1      3099             0  0.002480\n",
      "2      2605             0  0.005263\n",
      "3      4128             0  0.000929\n",
      "4      1322             0  0.013401\n",
      "...     ...           ...       ...\n",
      "3230   2192             0  0.011081\n",
      "3231   3639             0  0.009185\n",
      "3232   2368             0  0.001610\n",
      "3233   4192             0  0.000010\n",
      "3234   3093             0  0.009598\n",
      "\n",
      "[3235 rows x 3 columns]\n"
     ]
    }
   ],
   "source": [
    "datalist=[\"Seps3\",\"Siov1\",\"Sipt7\"]\n",
    "dataTrue=[\"sofa3m\",\"si1m\",\"si0.7m'\"]\n",
    "datatype=datalist[0]\n",
    "dataT=dataTrue[0]\n",
    "pre_test= pd.DataFrame(yhat_probs_test,columns = [dataT])\n",
    "pre_train= pd.DataFrame(yhat_probs_train,columns = [dataT])\n",
    "true_test= pd.DataFrame(test_y)\n",
    "true_test.columns=[\"ground_truth\"]\n",
    "true_train= pd.DataFrame(train_y)\n",
    "true_train.columns=[\"ground_truth\"]\n",
    "train = pd.concat([true_train.reset_index(),pre_train],axis=1)\n",
    "test = pd.concat([true_test.reset_index(),pre_test],axis=1)\n",
    "print(train)"
   ]
  },
  {
   "cell_type": "code",
   "execution_count": 41,
   "metadata": {},
   "outputs": [],
   "source": [
    "# true_train.to_csv(\"dataset/outcome_csv/%s_train_true.csv\"%(datatype),index=False)\n",
    "# pre_train.to_csv(\"dataset/outcome_csv/%s_train_pre.csv\"%(datatype),index=False)\n",
    "# true_test.to_csv(\"dataset/outcome_csv/%s_test_true.csv\"%(datatype),index=False)\n",
    "# pre_test.to_csv(\"dataset/outcome_csv/%s_test_pre.csv\"%(datatype),index=False)\n",
    "\n",
    "train.to_csv(\"dataset/outcome_csv/%s_train.csv\"%(datatype),index=False)\n",
    "test.to_csv(\"dataset/outcome_csv/%s_test.csv\"%(datatype),index=False)"
   ]
  },
  {
   "cell_type": "code",
   "execution_count": null,
   "metadata": {},
   "outputs": [],
   "source": []
  }
 ],
 "metadata": {
  "kernelspec": {
   "display_name": "Python 3",
   "language": "python",
   "name": "python3"
  },
  "language_info": {
   "codemirror_mode": {
    "name": "ipython",
    "version": 3
   },
   "file_extension": ".py",
   "mimetype": "text/x-python",
   "name": "python",
   "nbconvert_exporter": "python",
   "pygments_lexer": "ipython3",
   "version": "3.7.9"
  }
 },
 "nbformat": 4,
 "nbformat_minor": 4
}
