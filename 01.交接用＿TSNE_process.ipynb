{
 "cells": [
  {
   "cell_type": "code",
   "execution_count": 1,
   "metadata": {},
   "outputs": [],
   "source": [
    "import pandas as pd\n",
    "import numpy as np\n",
    "from Bio import SeqIO\n",
    "from tqdm.notebook import tqdm"
   ]
  },
  {
   "cell_type": "code",
   "execution_count": 2,
   "metadata": {},
   "outputs": [],
   "source": [
    "# loading  onehot covid sequnece csv data.\n",
    "source_covid_csv_data = pd.read_csv('/media/john/DatasetCGRD/20221004-covid-data/diff-may-june-for-data-20220902-with-rm-0-sd-20220914-clean.csv')"
   ]
  },
  {
   "cell_type": "code",
   "execution_count": 3,
   "metadata": {},
   "outputs": [],
   "source": [
    "source_covid_csv_data_col = source_covid_csv_data.columns\n",
    "source_covid_csv_data_diff = source_covid_csv_data[source_covid_csv_data_col[0]]\n",
    "source_covid_csv_data_sequnce = source_covid_csv_data[source_covid_csv_data_col[1::]].values\n",
    "# del source_covid_csv_data"
   ]
  },
  {
   "cell_type": "code",
   "execution_count": 4,
   "metadata": {},
   "outputs": [
    {
     "name": "stdout",
     "output_type": "stream",
     "text": [
      "{'T': 0, 'C': 1, 'A': 2, 'G': 3, 'N': 4, '-': 5}\n"
     ]
    },
    {
     "data": {
      "application/vnd.jupyter.widget-view+json": {
       "model_id": "e885ebadce8c4f86af9f50ab1d7903b9",
       "version_major": 2,
       "version_minor": 0
      },
      "text/plain": [
       "  0%|          | 0/20592 [00:00<?, ?it/s]"
      ]
     },
     "metadata": {},
     "output_type": "display_data"
    },
    {
     "name": "stdout",
     "output_type": "stream",
     "text": [
      "(20592, 29247)\n"
     ]
    }
   ],
   "source": [
    "# # only tcga rna unit\n",
    "def clean(x):\n",
    "\tx = x.upper() \n",
    "\t\n",
    "\tif x == 'T' or x == 'A' or x == 'G' or x == 'C' or x == '-' or x == 'N':\n",
    "\t\treturn x\n",
    "\n",
    "\tif x == 'U' or x == 'Y':\n",
    "\t\treturn 'T'\n",
    "\t\n",
    "\tif x == 'K' or x == 'S':\n",
    "\t\treturn 'G'\n",
    "\n",
    "\tif x == 'M' or x == 'R' or x == 'W' or x == 'H' or x=='V' or x=='D':\n",
    "\t\treturn 'A'\n",
    "\n",
    "\tif x== 'B':\n",
    "\t\treturn 'C'\n",
    "from itertools import product\n",
    "dict_search = {}\n",
    "for idx, i in enumerate('TCAGN-'):\n",
    "\n",
    "    dict_search[i] = idx\n",
    "print(dict_search)\n",
    "from tqdm.notebook import tqdm\n",
    "num_new_sequences =[]\n",
    "for k in tqdm(source_covid_csv_data_sequnce):\n",
    "\ttemp_store=[]\n",
    "\tfor j in k:\n",
    "\t\ttemp_store.append(dict_search[clean(j)])\n",
    "\tnum_new_sequences.append(temp_store)\n",
    "total_sequence_array = np.array(num_new_sequences)\n",
    "del num_new_sequences, source_covid_csv_data, source_covid_csv_data_sequnce\n",
    "print(total_sequence_array.shape)"
   ]
  },
  {
   "cell_type": "code",
   "execution_count": 6,
   "metadata": {},
   "outputs": [
    {
     "name": "stdout",
     "output_type": "stream",
     "text": [
      "Total .shape: (20592, 29247)\n",
      "Train .shape: (1000, 29247)\n"
     ]
    }
   ],
   "source": [
    "total_sequence_array.shape\n",
    "train_sequence_array = total_sequence_array[0:1000]\n",
    "print(\"Total .shape: {}\".format(total_sequence_array.shape))\n",
    "print(\"Train .shape: {}\".format(train_sequence_array.shape))"
   ]
  },
  {
   "cell_type": "code",
   "execution_count": 7,
   "metadata": {},
   "outputs": [
    {
     "name": "stderr",
     "output_type": "stream",
     "text": [
      "/home/john/anaconda3/envs/deepinsight/lib/python3.7/site-packages/sklearn/manifold/_t_sne.py:783: FutureWarning: The default initialization in TSNE will change from 'random' to 'pca' in 1.2.\n",
      "  FutureWarning,\n",
      "/home/john/anaconda3/envs/deepinsight/lib/python3.7/site-packages/sklearn/manifold/_t_sne.py:793: FutureWarning: The default learning rate in TSNE will change from 200.0 to 'auto' in 1.2.\n",
      "  FutureWarning,\n",
      "/home/john/anaconda3/envs/deepinsight/lib/python3.7/site-packages/sklearn/manifold/_t_sne.py:827: FutureWarning: 'square_distances' has been introduced in 0.24 to help phase out legacy squaring behavior. The 'legacy' setting will be removed in 1.1 (renaming of 0.26), and the default setting will be changed to True. In 1.3, 'square_distances' will be removed altogether, and distances will be squared by default. Set 'square_distances'=True to silence this warning.\n",
      "  FutureWarning,\n"
     ]
    }
   ],
   "source": [
    "# https://github.com/alok-ai-lab/pyDeepInsight << Detail code\n",
    "# CPU TSNE\n",
    "from pyDeepInsight.image_transformer import ImageTransformer, LogScaler\n",
    "from sklearn.manifold import TSNE\n",
    "from tqdm.notebook import tqdm\n",
    "ln = LogScaler()\n",
    "X_train_norm = ln.fit_transform(train_sequence_array)\n",
    "tsne = TSNE(n_components=2, perplexity=50, metric='cosine',\n",
    "            random_state=1701, n_jobs=-1)\n",
    "\n",
    "it = ImageTransformer(feature_extractor=tsne, pixels=100)\n",
    "X_train_img = it.fit_transform(X_train_norm)"
   ]
  },
  {
   "cell_type": "code",
   "execution_count": null,
   "metadata": {},
   "outputs": [],
   "source": [
    "# Save TSNE model\n",
    "# Scickit Learn tsne model dosen't had save function, only can save model value format\n",
    "import pickle as pk, os\n",
    "save_model_path = './deepinsight_location_npy/'\n",
    "save_name = 'BA-20000-tsne-binary-perplexity=50-pixel=100.pkl'\n",
    "pk.dump(it, open(os.path.join(save_model_path, save_name),\"wb\"))"
   ]
  },
  {
   "cell_type": "code",
   "execution_count": 8,
   "metadata": {},
   "outputs": [
    {
     "name": "stdout",
     "output_type": "stream",
     "text": [
      "(100, 100)\n",
      "(29247, 2)\n"
     ]
    },
    {
     "data": {
      "text/plain": [
       "5526"
      ]
     },
     "execution_count": 8,
     "metadata": {},
     "output_type": "execute_result"
    }
   ],
   "source": [
    "print(it.feature_density_matrix().shape)\n",
    "print(it.coords().shape)\n",
    "np.sum(np.array(it.feature_density_matrix())>0)"
   ]
  },
  {
   "cell_type": "code",
   "execution_count": 11,
   "metadata": {},
   "outputs": [
    {
     "data": {
      "image/png": "[encoded data removed]",
      "text/plain": [
       "<Figure size 1800x504 with 4 Axes>"
      ]
     },
     "metadata": {
      "needs_background": "light"
     },
     "output_type": "display_data"
    }
   ],
   "source": [
    "import matplotlib.pyplot as plt\n",
    "fig, ax = plt.subplots(1, 4, figsize=(25, 7))\n",
    "for i in range(0,4):\n",
    "    ax[i].imshow(X_train_img[i])\n",
    "    ax[i].title.set_text(\"Train[{}] \".format(i))\n",
    "plt.tight_layout()"
   ]
  },
  {
   "cell_type": "code",
   "execution_count": 19,
   "metadata": {},
   "outputs": [
    {
     "data": {
      "text/plain": [
       "(20592, 100, 100, 3)"
      ]
     },
     "execution_count": 19,
     "metadata": {},
     "output_type": "execute_result"
    }
   ],
   "source": [
    "# transform total sequnce to image\n",
    "total_sequence_tsne_image_ = it.transform(total_sequence_array)\n",
    "total_sequence_tsne_image_.shape"
   ]
  },
  {
   "cell_type": "code",
   "execution_count": 20,
   "metadata": {},
   "outputs": [],
   "source": [
    "# multiclass_nactg multiclass_totalunit\n",
    "# save_path = './np_image_totalunit/multiclass_nactg_200px/'\n",
    "save_path = './np_image_totalunit/BA-20000-tsne-binary-perplexity=50-pixel=100/'\n",
    "if not os.path.exists(save_path):\n",
    "    os.mkdir(save_path)\n",
    "if not os.path.exists(os.path.join(save_path,'image_npy')):\n",
    "    os.mkdir(os.path.join(save_path,'image_npy'))\n",
    "\n",
    "\n",
    "np.save(f'{save_path}/label.npy', source_covid_csv_data_diff.values)\n",
    "for idx, image in enumerate(total_sequence_tsne_image_):\n",
    "    if (idx)<10:\n",
    "        np.save(f\"{save_path}/image_npy/0000{idx}.npy\", image)\n",
    "    elif (idx)<100:\n",
    "        np.save(f\"{save_path}/image_npy/000{idx}.npy\", image)\n",
    "    elif (idx)<1000:\n",
    "        np.save(f\"{save_path}/image_npy/00{idx}.npy\", image)\n",
    "    elif (idx)<10000:\n",
    "        np.save(f\"{save_path}/image_npy/0{idx}.npy\", image)\n",
    "    else:\n",
    "        np.save(f\"{save_path}/image_npy/{idx}.npy\", image)"
   ]
  },
  {
   "cell_type": "code",
   "execution_count": 22,
   "metadata": {},
   "outputs": [],
   "source": [
    "#save total sequnce data to numpy\n",
    "np.save(f\"{save_path}/total_seq_array\", total_sequence_array)"
   ]
  },
  {
   "cell_type": "code",
   "execution_count": null,
   "metadata": {},
   "outputs": [],
   "source": []
  }
 ],
 "metadata": {
  "kernelspec": {
   "display_name": "Python 3.7.11 ('deepinsight')",
   "language": "python",
   "name": "python3"
  },
  "language_info": {
   "codemirror_mode": {
    "name": "ipython",
    "version": 3
   },
   "file_extension": ".py",
   "mimetype": "text/x-python",
   "name": "python",
   "nbconvert_exporter": "python",
   "pygments_lexer": "ipython3",
   "version": "3.7.11"
  },
  "orig_nbformat": 4,
  "vscode": {
   "interpreter": {
    "hash": "c7e03d6feef9f460a8719d2376e3019088330392fc43676d10494b1071d44477"
   }
  }
 },
 "nbformat": 4,
 "nbformat_minor": 2
}
