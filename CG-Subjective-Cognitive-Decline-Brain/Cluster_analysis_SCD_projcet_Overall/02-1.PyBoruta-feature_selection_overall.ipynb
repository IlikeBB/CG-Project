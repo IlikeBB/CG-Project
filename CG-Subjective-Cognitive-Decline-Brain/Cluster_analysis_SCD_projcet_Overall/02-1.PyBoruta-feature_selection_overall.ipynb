{
 "cells": [
  {
   "cell_type": "code",
   "execution_count": 1,
   "metadata": {},
   "outputs": [],
   "source": [
    "import pandas as pd, numpy as np, scipy, os, itertools, sys\n",
    "from sklearn.ensemble import RandomForestRegressor\n",
    "from boruta import BorutaPy\n",
    "sys.path.append('..')\n",
    "from func import loaders\n",
    "from import_library import *"
   ]
  },
  {
   "cell_type": "code",
   "execution_count": 2,
   "metadata": {},
   "outputs": [],
   "source": [
    "outcome_df = pd.read_csv('../data/clinical data/clinical_data_2.csv')[['subj', 'AD8主觀認知障礙[0-1,>=2]', 'MOCA客觀認知測驗分數[<=23,>=24]']]\n",
    "data_type ='mean' #mean, var\n",
    "ld_excel = loaders(data_type = data_type)\n",
    "ld_mat = loaders(data_type=data_type)\n",
    "raw_data_path = '/Volumes/DatasetCGRD/SCD/data/image data/dFC matrix matlab/'\n",
    "for next_path in sorted(os.listdir(raw_data_path)):\n",
    "    if 'C0018FC_z.mat' not in next_path:\n",
    "        ld_mat.load_mat(data_path = os.path.join(raw_data_path,next_path))\n",
    "alff_index, alff_value, alff_columns = ld_excel.load_csv(data_path=f'../data/mdALFF matrix excel/mdALFF_{data_type}.csv')\n",
    "fc_value = ld_mat.callback()"
   ]
  },
  {
   "cell_type": "code",
   "execution_count": 3,
   "metadata": {},
   "outputs": [
    {
     "name": "stdout",
     "output_type": "stream",
     "text": [
      "FC mean Feature Selection: AD8主觀認知障礙[0-1,>=2]\n",
      "AD8主觀認知障礙[0-1,>=2]\n",
      "FC mean Feature Selection: MOCA客觀認知測驗分數[<=23,>=24]\n",
      "MOCA客觀認知測驗分數[<=23,>=24]\n"
     ]
    }
   ],
   "source": [
    "model_stack_ALFF = [None, None]\n",
    "model_stack_FC = [None, None]\n",
    "model_feature_stack = []\n",
    "for idx, outcome_name in enumerate(['AD8主觀認知障礙[0-1,>=2]', 'MOCA客觀認知測驗分數[<=23,>=24]']):\n",
    "# for idx, outcome_name in enumerate(['AD8主觀認知障礙[0-1,>=2]']):\n",
    "    forest = RandomForestRegressor(max_depth = 5, n_jobs=-1, \n",
    "                        random_state=123)\n",
    "    # FC feature selection\n",
    "    print(f\"FC {data_type} Feature Selection:\", outcome_name)\n",
    "    print(outcome_name)\n",
    "    feat_selector_fc = BorutaPy(forest, verbose=0, random_state=123, max_iter=10)\n",
    "    feat_selector_fc.fit(fc_value, np.array(outcome_df[outcome_name]))\n",
    "    model_stack_FC[idx] = (feat_selector_fc)\n",
    "    ranking_stack = []\n",
    "    for (value, colum) in zip(feat_selector_fc.ranking_, [f'FC_{data_type}_{i}' for i in range (fc_value.shape[1])]):\n",
    "        ranking_stack.append([value, colum])\n",
    "    ranking_stack = sorted(ranking_stack)\n",
    "    pd_rs = pd.DataFrame(ranking_stack, columns=['rank', 'feature_location'])\n",
    "    pd_rs.to_csv(f'./dataset/{outcome_name}_{data_type}_fc.csv', index=False)\n",
    "    model_feature_stack.append(pd_rs)\n",
    "\n",
    "    # # ALFF feature selection\n",
    "    # print(f\"ALFF {data_type} Feature Selection:\", outcome_name)\n",
    "    # feat_selector_alff = BorutaPy(forest, verbose=0, random_state=123, max_iter=10, alpha=0.01, two_step=True)\n",
    "    # feat_selector_alff.fit(np.array(alff_value), np.array(outcome_df[outcome_name]))\n",
    "    # model_stack_ALFF[idx] = feat_selector_alff\n",
    "\n",
    "    # ranking_stack = []\n",
    "    # for (value, colum) in zip(feat_selector_alff.ranking_,alff_value.columns.tolist()):\n",
    "    #     ranking_stack.append([value, colum])\n",
    "    # ranking_stack = sorted(ranking_stack)\n",
    "    # pd_rs = pd.DataFrame(ranking_stack, columns=['rank', 'feature_location'])\n",
    "    # pd_rs.to_csv(f'./dataset/{outcome_name}_{data_type}_overall.csv', index=False)\n",
    "    # model_feature_stack.append(pd_rs)"
   ]
  },
  {
   "cell_type": "code",
   "execution_count": 4,
   "metadata": {},
   "outputs": [
    {
     "name": "stdout",
     "output_type": "stream",
     "text": [
      "AD8主觀認知障礙[0-1,>=2] mean\n",
      "    rank feature_location\n",
      "0      2    FC_mean_23144\n",
      "1      2    FC_mean_36058\n",
      "2      2    FC_mean_39614\n",
      "3      3    FC_mean_29892\n",
      "4      4     FC_mean_1650\n",
      "5      5    FC_mean_17588\n",
      "6      5    FC_mean_39295\n",
      "7      8    FC_mean_27356\n",
      "8      8    FC_mean_30439\n",
      "9      8    FC_mean_37665\n",
      "10    10     FC_mean_3501\n",
      "11    11    FC_mean_22649\n",
      "12    12    FC_mean_43425\n",
      "13    13    FC_mean_16908\n",
      "14    14    FC_mean_22795\n",
      "15    15    FC_mean_28991\n",
      "16    16    FC_mean_42558\n",
      "17    17    FC_mean_30944\n",
      "18    18    FC_mean_29673\n",
      "19    18    FC_mean_39380\n",
      "20    20    FC_mean_27225\n",
      "21    20    FC_mean_42975\n",
      "22    22    FC_mean_17522\n",
      "23    23    FC_mean_39606\n",
      "24    24    FC_mean_27359\n",
      "25    25    FC_mean_24034\n",
      "26    26    FC_mean_17269\n",
      "27    27    FC_mean_37054\n",
      "28    28    FC_mean_41667\n",
      "29    29    FC_mean_22650\n",
      "\n",
      "\n",
      "MOCA客觀認知測驗分數[<=23,>=24] mean\n",
      "    rank feature_location\n",
      "0      2     FC_mean_2995\n",
      "1      3     FC_mean_3611\n",
      "2      4     FC_mean_6495\n",
      "3      5    FC_mean_14903\n",
      "4      5     FC_mean_7865\n",
      "5      7    FC_mean_14776\n",
      "6      8    FC_mean_38349\n",
      "7      9    FC_mean_38318\n",
      "8     10     FC_mean_9328\n",
      "9     11     FC_mean_6256\n",
      "10    12    FC_mean_16340\n",
      "11    13    FC_mean_26645\n",
      "12    14    FC_mean_41539\n",
      "13    14       FC_mean_71\n",
      "14    16    FC_mean_26704\n",
      "15    16    FC_mean_43061\n",
      "16    18    FC_mean_38646\n",
      "17    19    FC_mean_41024\n",
      "18    20    FC_mean_13402\n",
      "19    20    FC_mean_16327\n",
      "20    22     FC_mean_5409\n",
      "21    23    FC_mean_38089\n",
      "22    24    FC_mean_14134\n",
      "23    25    FC_mean_42777\n",
      "24    26    FC_mean_38272\n",
      "25    27    FC_mean_20717\n",
      "26    28    FC_mean_16074\n",
      "27    29    FC_mean_38134\n",
      "28    30    FC_mean_43090\n",
      "29    31     FC_mean_1533\n",
      "\n",
      "\n"
     ]
    }
   ],
   "source": [
    "for i in zip(model_feature_stack, ['AD8主觀認知障礙[0-1,>=2]', 'MOCA客觀認知測驗分數[<=23,>=24]']):\n",
    "    print(i[1], data_type)\n",
    "    print(i[0].head(30))\n",
    "    print('\\n')"
   ]
  },
  {
   "cell_type": "code",
   "execution_count": null,
   "metadata": {},
   "outputs": [],
   "source": []
  }
 ],
 "metadata": {
  "kernelspec": {
   "display_name": "Python 3.8.13 ('SCD')",
   "language": "python",
   "name": "python3"
  },
  "language_info": {
   "codemirror_mode": {
    "name": "ipython",
    "version": 3
   },
   "file_extension": ".py",
   "mimetype": "text/x-python",
   "name": "python",
   "nbconvert_exporter": "python",
   "pygments_lexer": "ipython3",
   "version": "3.8.13"
  },
  "orig_nbformat": 4,
  "vscode": {
   "interpreter": {
    "hash": "96597a6526da840026ef28ca2cf7af0f0d1e8ac414b3707ac9b8ff8e95828e7e"
   }
  }
 },
 "nbformat": 4,
 "nbformat_minor": 2
}
