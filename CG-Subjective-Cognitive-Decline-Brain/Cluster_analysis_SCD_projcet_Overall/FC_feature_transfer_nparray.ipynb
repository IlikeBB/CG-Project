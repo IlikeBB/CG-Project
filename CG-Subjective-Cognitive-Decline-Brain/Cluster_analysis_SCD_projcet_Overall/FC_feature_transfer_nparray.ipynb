{
 "cells": [
  {
   "cell_type": "code",
   "execution_count": 1,
   "metadata": {},
   "outputs": [],
   "source": [
    "import pandas as pd\n",
    "import numpy as np\n",
    "import itertools, scipy\n",
    "from itertools import compress\n",
    "from operator import concat"
   ]
  },
  {
   "cell_type": "code",
   "execution_count": 2,
   "metadata": {},
   "outputs": [],
   "source": [
    "data_type ='mean' #mat, csv, mix\n",
    "# dataloader\n",
    "clinical_data = pd.read_csv('/Users/monoaki/Documents/vs_code/Subjective-Cognitive-Decline-Brain/data/clinical data/clinical_data_2.csv')[['subj', 'AD8主觀認知障礙[0-1,>=2]', 'MOCA客觀認知測驗分數[<=23,>=24]', 'HADS_A焦慮程度', 'HADS_D憂鬱程度']]\n",
    "raw_data_path = '/Users/monoaki/Documents/vs_code/Subjective-Cognitive-Decline-Brain/data/dFC matrix matlab/' #raw_data_path = './data/image data/dFC matrix matlab/'\n",
    "# feature selection process\n",
    "rank_threshold = 10000\n",
    "feature_selection_df_savepath = '../feature_selection_result'\n",
    "class loaders:\n",
    "    def __init__(self, data_type='mat' ,mat_dtype='FCM_mean'):\n",
    "        self.data_type = data_type\n",
    "        if mat_dtype=='mean':\n",
    "            md ='FCM_mean'\n",
    "            self.feature_filter_list = []\n",
    "        elif mat_dtype=='var':\n",
    "            md = 'FCM_var'\n",
    "            self.feature_filter_list = []\n",
    "        else:\n",
    "            md = None\n",
    "            self.feature_filter_list = []\n",
    "        self.mat_dtype = md\n",
    "        self.concat_mat_array = []\n",
    "        self.concat_mat_array_mean = []\n",
    "        self.concat_mat_array_var = []\n",
    "        \n",
    "\n",
    "    def feature_filter(self, patient_value, load_path = feature_selection_df_savepath, outcome_name = None, data_type = None):\n",
    "        feature_rank_df = pd.read_csv('{}/{}_{}_{}.csv'.format(load_path, outcome_name,data_type, 'fc'), index_col=False)\n",
    "        filter_feature_list = [feature_rank_df['rank'].values<=rank_threshold][0]\n",
    "        new_patient_value = []\n",
    "        new_feature = list(compress(feature_rank_df['feature_location'].values, filter_feature_list))\n",
    "        new_patient_value = list(compress(patient_value, filter_feature_list))\n",
    "        return np.array(new_patient_value), new_feature\n",
    "\n",
    "    def mat_process(self, data):\n",
    "        get_data = []\n",
    "        for idx, i in enumerate(data):\n",
    "            if len(i[idx+1::])!=0:\n",
    "                get_data.append(list(i[idx+1::]))\n",
    "        get_data = list(itertools.chain(*get_data))\n",
    "        return np.array(get_data)\n",
    "\n",
    "    def load_mat(self, data_path=None, outcome_name = \"AD8主觀認知障礙[0-1,>=2]\"):\n",
    "        mat = scipy.io.loadmat(data_path)\n",
    "        if data_type=='mix':\n",
    "            get_value_m, get_value_v = mat['FCM_mean'], mat['FCM_var']\n",
    "            get_value_m, get_value_v = self.mat_process(get_value_m), self.mat_process(get_value_v)\n",
    "            get_value_m, feature_m = self.feature_filter(get_value_m, load_path = feature_selection_df_savepath, outcome_name = outcome_name, data_type = 'mean')\n",
    "            get_value_v, feature_v = self.feature_filter(get_value_v, load_path = feature_selection_df_savepath, outcome_name = outcome_name, data_type = 'var')\n",
    "            self.feature_filter_list = feature_m + feature_v\n",
    "            self.concat_mat_array_mean.append(get_value_m)\n",
    "            self.concat_mat_array_var.append(get_value_v)\n",
    "        else:\n",
    "            get_value = mat[self.mat_dtype ]\n",
    "            get_value = self.mat_process(get_value)\n",
    "            get_value, feature = self.feature_filter(get_value, load_path = feature_selection_df_savepath, outcome_name = outcome_name, data_type = data_type)\n",
    "            self.feature_filter_list = feature\n",
    "            self.concat_mat_array.append(get_value)\n",
    "\n",
    "    def callback(self,):\n",
    "        if data_type=='mix':\n",
    "            concat_mat_array = np.concatenate((np.array(self.concat_mat_array_var).astype(np.float16),np.array(self.concat_mat_array_mean).astype(np.float16)), axis=1)\n",
    "            return concat_mat_array, self.feature_filter_list\n",
    "        else:\n",
    "            return np.array(self.concat_mat_array).astype(np.float16), self.feature_filter_list"
   ]
  },
  {
   "cell_type": "code",
   "execution_count": 3,
   "metadata": {},
   "outputs": [],
   "source": [
    "ld = loaders(data_type = 'mat', mat_dtype = data_type)\n",
    "for next_path in sorted(os.listdir(raw_data_path)):\n",
    "    if 'mat' in next_path:\n",
    "        ld.load_mat(data_path = os.path.join(raw_data_path,next_path))"
   ]
  },
  {
   "cell_type": "code",
   "execution_count": 4,
   "metadata": {},
   "outputs": [
    {
     "name": "stdout",
     "output_type": "stream",
     "text": [
      "(84, 15005)\n",
      "(84, 15005)\n"
     ]
    }
   ],
   "source": [
    "for outcome_name in [\"AD8主觀認知障礙[0-1,>=2]\", \"MOCA客觀認知測驗分數[<=23,>=24]\"]:\n",
    "    label_ = clinical_data[outcome_name]\n",
    "    if 'MOCA' in outcome_name:\n",
    "        label_s = [1 if (i>=24)  else 0  for i in list(label_)]\n",
    "    elif 'AD8' in outcome_name:\n",
    "        label_s = [1 if i>=2 else 0 for i in list(label_)]\n",
    "        label_ = label_+1\n",
    "    df = pd.DataFrame(ld.callback()[0], columns = ld.callback()[1])\n",
    "    df['outcome'] = label_\n",
    "    df.insert(0, \"subj\", clinical_data['subj'], allow_duplicates=True)\n",
    "    print(df.shape)\n",
    "    df.to_csv(f'../../R/dataset/{outcome_name}_{data_type}_{rank_threshold}_FC.csv', index=False)"
   ]
  },
  {
   "cell_type": "code",
   "execution_count": null,
   "metadata": {},
   "outputs": [],
   "source": []
  }
 ],
 "metadata": {
  "kernelspec": {
   "display_name": "Python 3.8.13 ('SCD')",
   "language": "python",
   "name": "python3"
  },
  "language_info": {
   "codemirror_mode": {
    "name": "ipython",
    "version": 3
   },
   "file_extension": ".py",
   "mimetype": "text/x-python",
   "name": "python",
   "nbconvert_exporter": "python",
   "pygments_lexer": "ipython3",
   "version": "3.8.13"
  },
  "orig_nbformat": 4,
  "vscode": {
   "interpreter": {
    "hash": "96597a6526da840026ef28ca2cf7af0f0d1e8ac414b3707ac9b8ff8e95828e7e"
   }
  }
 },
 "nbformat": 4,
 "nbformat_minor": 2
}
