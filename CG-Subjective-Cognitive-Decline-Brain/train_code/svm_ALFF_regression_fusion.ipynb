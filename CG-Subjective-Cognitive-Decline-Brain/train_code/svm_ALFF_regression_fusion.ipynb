{
 "cells": [
  {
   "cell_type": "code",
   "execution_count": 1,
   "metadata": {},
   "outputs": [],
   "source": [
    "from import_library import *"
   ]
  },
  {
   "cell_type": "code",
   "execution_count": 2,
   "metadata": {},
   "outputs": [
    {
     "name": "stdout",
     "output_type": "stream",
     "text": [
      "CPU count: 24\n"
     ]
    }
   ],
   "source": [
    "print(\"CPU count: {}\".format(multiprocessing.cpu_count()))"
   ]
  },
  {
   "cell_type": "code",
   "execution_count": 5,
   "metadata": {},
   "outputs": [
    {
     "name": "stdout",
     "output_type": "stream",
     "text": [
      "(84, 600)\n"
     ]
    }
   ],
   "source": [
    "data_type ='mix' #mat, csv, mix\n",
    "\n",
    "# dataloader\n",
    "clinical_data = pd.read_csv('./data/clinical data/clinical_data_2.csv')[['subj', 'AD8主觀認知障礙[0-1,>=2]', 'MOCA客觀認知測驗分數[<=23,>=24]', 'HADS_A焦慮程度', 'HADS_D憂鬱程度']]\n",
    "raw_data_path = './data/mdALFF matrix excel/' #raw_data_path = './data/image data/dFC matrix matlab/'\n",
    "if data_type!='mix':\n",
    "    next_path =f'mdALFF_{data_type}.csv' #next_path ='C0005FC_z.mat't'\n",
    "else:\n",
    "    pass\n",
    "def loader_(data_path = None, data_type='mat' ,mat_dtype='FCM_mean'):\n",
    "    if '.mat' in data_path:\n",
    "        mat = scipy.io.loadmat(data_path)\n",
    "        get_value = mat[mat_dtype ]\n",
    "        return get_value.shape\n",
    "\n",
    "    else:\n",
    "        pd_tb = pd.read_csv(data_path)\n",
    "        pd_patient_index = pd_tb[pd_tb.columns[0]]\n",
    "        pd_patient_value = pd_tb[pd_tb.columns[1::]]\n",
    "        return pd_patient_value\n",
    "\n",
    "if data_type == 'mix':\n",
    "    var_mean_stack = [loader_(data_path = os.path.join(raw_data_path,\"mdALFF_var.csv\")),loader_(data_path = os.path.join(raw_data_path,\"mdALFF_mean.csv\"))]\n",
    "    patient_value = np.concatenate([np.array(var_mean_stack[0]),np.array(var_mean_stack[1])], axis=1)\n",
    "else:\n",
    "    patient_value = loader_(data_path = os.path.join(raw_data_path, next_path))\n",
    "patient_value_index = clinical_data['subj']\n",
    "\n",
    "\n",
    "print(patient_value.shape)"
   ]
  },
  {
   "cell_type": "code",
   "execution_count": 4,
   "metadata": {},
   "outputs": [],
   "source": [
    "# model list\n",
    "def model_list(grid=False, seed=123):\n",
    "    # svr_param = {'kernel' : ('linear', 'poly', 'rbf', 'sigmoid'),'C' : [1,5,10],'degree' : [3,8],'coef0' : [0.01,10,0.5],'gamma' : ('auto','scale')}\n",
    "    # SVR_ = SVR()\n",
    "    \n",
    "    xgbr_param = {'nthread':[4], 'objective':['reg:squarederror'], 'learning_rate': [.03, 0.05, .07], 'max_depth': [1,3,5,7,9,11,13,15,17,19,21,23,25,27,29,31], 'min_child_weight': [4], \n",
    "                                    'subsample': [0.7], 'colsample_bytree': [0.7], 'n_estimators': [400, 450, 500, 550, 600, 660]}\n",
    "    XGBR_ =XGBRegressor(random_state = seed)\n",
    "\n",
    "    lgbmr_param =  {'num_leaves': [7, 14, 21], 'learning_rate': [0.05, 0.005], 'max_depth': [10, 15, 25], \n",
    "                                        'min_data_in_leaf':[10, 15, 25], 'feature_fraction': [0.6, 0.8, 0.9],'cat_smooth': [1,10, 15, 20, 35], 'verbose': [-1]}\n",
    "    \n",
    "    lgbmr_param =  {'learning_rate': [0.01, 0.05, 0.001,0.005], 'max_depth': [1,3,5,7,9,11,13,15,17,19,21,23,25,27,29,31], 'verbose': [-1]}\n",
    "    \n",
    "    \n",
    "    LGBMR_ = LGBMRegressor(random_state=seed, verbose=-1)\n",
    "\n",
    "    # mlpr_param =  {'hidden_layer_sizes': [(25), (50), (100)]}\n",
    "\n",
    "\n",
    "    mlpr_param =  {'hidden_layer_sizes': [(25), (50), (75),(100), (25, 50), (50,100), (25, 50, 75),(50, 75, 100)], 'learning_rate_init': [0.01, 0.03, 0.001, 0.003, 0.0001, 0.0003],\n",
    "                                        'activation': ['relu', 'tanh'], 'solver': ['adam', 'lbfgs'], 'learning_rate' : ['constant', 'adaptive', 'invscaling']}\n",
    "\n",
    "    MLPR_ = MLPRegressor(activation = 'relu', solver = 'adam', max_iter=20000, random_state=seed, early_stopping=True, validation_fraction=0.50, verbose=0)\n",
    "\n",
    "    if grid ==True:\n",
    "        # model_stack = {\"SVR\":[SVR_, svr_param], \"XBGR\":[XGBR_, xgbr_param], \"LGBMR\": [LGBMR_, lgbmr_param]}\n",
    "        model_stack = {\"MLPR\":[MLPR_, mlpr_param], \"XBGR\":[XGBR_, xgbr_param], \"LGBMR\": [LGBMR_, lgbmr_param]}\n",
    "        # model_stack = {\"XBGR\":[XGBR_, xgbr_param], \"LGBMR\": [LGBMR_, lgbmr_param]}\n",
    "    else:\n",
    "        # model_stack = {\"SVR\":SVR_, \"XBGR\":XGBR_, \"LGBMR\": LGBMR_}\n",
    "        # model_stack = {\"XBGR\":XGBR_, \"LGBMR\": LGBMR_}\n",
    "        model_stack = {\"MLPR\":MLPR_, \"XBGR\":XGBR_, \"LGBMR\": LGBMR_}\n",
    "    return model_stack"
   ]
  },
  {
   "cell_type": "code",
   "execution_count": 6,
   "metadata": {},
   "outputs": [
    {
     "name": "stdout",
     "output_type": "stream",
     "text": [
      "Outcome: AD8主觀認知障礙[0-1,>=2]\n",
      "--Start Training MLPR model--\n",
      "Scoring -0.6803627859255585\n",
      "Best parameter : [{'activation': 'tanh', 'hidden_layer_sizes': (25, 50), 'learning_rate': 'constant', 'learning_rate_init': 0.01, 'solver': 'lbfgs'}]\n",
      "\n",
      "Valid integer pred result:  [1 1 2 1 3 1 2 1 2 1 0 1 2 2 1 1 1 4 3 2 4 1 1 2 1 1 1 2 2 0 2 0]\n",
      "Valid ground truth stacks:  [8 5 4 1 4 4 1 1 1 1 7 1 5 1 1 1 3 2 6 3 3 1 6 1 3 7 5 1 2 1 2 1]\n",
      "Train MAE:  0.00088  ||  MSE:  0.0  ||  MAPE:  0.00052\n",
      "Valid MAE:  1.787  ||  MSE:  6.2802  ||  MAPE:  0.64141\n",
      "----------------------------------------------------\n",
      "\n",
      "\n",
      "Outcome: AD8主觀認知障礙[0-1,>=2]\n",
      "--Start Training XBGR model--\n",
      "Scoring -0.8852092770238718\n",
      "Best parameter : [{'colsample_bytree': 0.7, 'learning_rate': 0.05, 'max_depth': 1, 'min_child_weight': 4, 'n_estimators': 450, 'nthread': 4, 'objective': 'reg:squarederror', 'subsample': 0.7}]\n",
      "\n",
      "Valid integer pred result:  [3 2 3 2 2 2 3 2 3 1 2 2 3 3 3 2 2 4 2 3 3 2 1 1 2 2 2 3 2 3 2 1]\n",
      "Valid ground truth stacks:  [8 5 4 1 4 4 1 1 1 1 7 1 5 1 1 1 3 2 6 3 3 1 6 1 3 7 5 1 2 1 2 1]\n",
      "Train MAE:  0.01223  ||  MSE:  0.00175  ||  MAPE:  0.00673\n",
      "Valid MAE:  1.83284  ||  MSE:  4.9602  ||  MAPE:  0.93964\n",
      "----------------------------------------------------\n",
      "\n",
      "\n",
      "Outcome: AD8主觀認知障礙[0-1,>=2]\n",
      "--Start Training LGBMR model--\n",
      "Scoring -1.054138630089717\n",
      "Best parameter : [{'learning_rate': 0.01, 'max_depth': 1, 'verbose': -1}]\n",
      "\n",
      "Valid integer pred result:  [2 2 2 2 2 2 2 2 2 2 2 2 2 2 2 2 2 2 2 2 2 2 2 2 2 2 2 2 2 2 2 2]\n",
      "Valid ground truth stacks:  [8 5 4 1 4 4 1 1 1 1 7 1 5 1 1 1 3 2 6 3 3 1 6 1 3 7 5 1 2 1 2 1]\n",
      "Train MAE:  1.85848  ||  MSE:  5.27367  ||  MAPE:  1.03724\n",
      "Valid MAE:  1.83569  ||  MSE:  4.64871  ||  MAPE:  1.02063\n",
      "----------------------------------------------------\n",
      "\n",
      "\n",
      "Outcome: MOCA客觀認知測驗分數[<=23,>=24]\n",
      "--Start Training MLPR model--\n",
      "Scoring -0.13107049031333642\n",
      "Best parameter : [{'activation': 'relu', 'hidden_layer_sizes': (50, 75, 100), 'learning_rate': 'constant', 'learning_rate_init': 0.001, 'solver': 'adam'}]\n",
      "\n",
      "Valid integer pred result:  [25 25 26 24 26 25 25 24 24 25 24 26 25 25 25 26 26 25 27 24 25 25 25 24\n",
      " 26 26 26 25 25 25 25 24]\n",
      "Valid ground truth stacks:  [29 26 24 25 28 26 18 21 23 24 29 20 29 27 30 23 30 27 28 26 29 26 29 22\n",
      " 25 24 30 25 21 22 22 22]\n",
      "Train MAE:  3.12539  ||  MSE:  13.09717  ||  MAPE:  0.12886\n",
      "Valid MAE:  2.65811  ||  MSE:  10.05532  ||  MAPE:  0.1104\n",
      "----------------------------------------------------\n",
      "\n",
      "\n",
      "Outcome: MOCA客觀認知測驗分數[<=23,>=24]\n",
      "--Start Training XBGR model--\n",
      "Scoring -0.12829809805569428\n",
      "Best parameter : [{'colsample_bytree': 0.7, 'learning_rate': 0.03, 'max_depth': 1, 'min_child_weight': 4, 'n_estimators': 450, 'nthread': 4, 'objective': 'reg:squarederror', 'subsample': 0.7}]\n",
      "\n",
      "Valid integer pred result:  [24 25 25 26 24 26 24 24 26 24 25 24 26 23 25 26 25 25 24 26 23 24 26 24\n",
      " 26 25 24 24 25 24 24 26]\n",
      "Valid ground truth stacks:  [29 26 24 25 28 26 18 21 23 24 29 20 29 27 30 23 30 27 28 26 29 26 29 22\n",
      " 25 24 30 25 21 22 22 22]\n",
      "Train MAE:  0.1059  ||  MSE:  0.0338  ||  MAPE:  0.00442\n",
      "Valid MAE:  2.95979  ||  MSE:  11.58596  ||  MAPE:  0.11991\n",
      "----------------------------------------------------\n",
      "\n",
      "\n",
      "Outcome: MOCA客觀認知測驗分數[<=23,>=24]\n",
      "--Start Training LGBMR model--\n",
      "Scoring -0.14143681141848058\n",
      "Best parameter : [{'learning_rate': 0.01, 'max_depth': 1, 'verbose': -1}]\n",
      "\n",
      "Valid integer pred result:  [25 25 25 25 25 25 25 25 25 25 25 25 25 25 25 25 25 25 25 25 25 25 25 25\n",
      " 25 25 25 25 25 25 25 25]\n",
      "Valid ground truth stacks:  [29 26 24 25 28 26 18 21 23 24 29 20 29 27 30 23 30 27 28 26 29 26 29 22\n",
      " 25 24 30 25 21 22 22 22]\n",
      "Train MAE:  3.07804  ||  MSE:  12.88866  ||  MAPE:  0.12699\n",
      "Valid MAE:  2.75  ||  MSE:  10.47626  ||  MAPE:  0.11344\n",
      "----------------------------------------------------\n",
      "\n",
      "\n"
     ]
    }
   ],
   "source": [
    "grid =True\n",
    "def fxn():\n",
    "    warnings.warn(\"deprecated\", DeprecationWarning)\n",
    "if True:\n",
    "    with warnings.catch_warnings():\n",
    "        warnings.simplefilter(\"ignore\")\n",
    "        fxn()\n",
    "        # classification : AD8 [0-1, >=2]{0,1}, MOCA [<=23, >=24]{0,1}\n",
    "        # outcome_name = 'MOCA客觀認知測驗分數[<=23,>=24]' #AD8主觀認知障礙[0-1,>=2], MOCA客觀認知測驗分數[<=23,>=24]\n",
    "        model_stack = model_list(grid=grid)\n",
    "        kfold = KFold(n_splits=4)\n",
    "        for outcome_name in [\"AD8主觀認知障礙[0-1,>=2]\", \"MOCA客觀認知測驗分數[<=23,>=24]\"]:\n",
    "            for model in model_stack:\n",
    "                if model in ['MLPR', 'XBGR', 'LGBMR']:\n",
    "                    label_ = clinical_data[outcome_name]\n",
    "                    print(\"Outcome: {}\".format(outcome_name))\n",
    "                    print(\"--Start Training {} model--\".format(model))\n",
    "                    if 'MOCA' in outcome_name:\n",
    "                        label_s = [1 if (i>=24)  else 0  for i in list(label_)]\n",
    "                    elif 'AD8' in outcome_name:\n",
    "                        label_s = [1 if i>=2 else 0 for i in list(label_)]\n",
    "                        label_ = label_+1\n",
    "                    X_train, X_test, Y_label, _  = train_test_split(patient_value, list(label_s) , stratify=list(label_s), random_state=123)\n",
    "                    y_train, y_test, _, _ = train_test_split(list(label_), list(label_s) , stratify=list(label_s), random_state=123)\n",
    "                    X_train, X_valid, _, _ = train_test_split(X_train, list(Y_label) , stratify=list(Y_label), test_size=0.5, random_state=123)\n",
    "                    y_train, y_valid, _, _ = train_test_split(y_train, list(Y_label) , stratify=list(Y_label), test_size=0.5,random_state=123)\n",
    "\n",
    "                    if grid==False:\n",
    "                        if model in 'MLPR':\n",
    "                            model = model_stack[model].fit(X_train, y_train)\n",
    "                        else:\n",
    "                            \n",
    "                            model = model_stack[model].fit(np.array(X_train), np.array(y_train), eval_set=[[np.array(X_valid), np.array(y_valid)]], eval_metric=\"mape\", verbose=False)\n",
    "                        train_pred =  model.predict(X_train)\n",
    "                        \n",
    "                        test_pred =  model.predict(X_valid)\n",
    "                    else:\n",
    "                        GridModel = GridSearchCV(model_stack[model][0],model_stack[model][1], cv=kfold, n_jobs=-1, verbose=-1, refit = 'neg_mean_squared_error', scoring=['neg_mean_squared_error','neg_mean_absolute_percentage_error'],\n",
    "                                                 return_train_score=True)\n",
    "                        GridModel = GridSearchCV(model_stack[model][0],model_stack[model][1], cv=kfold, n_jobs=-1, verbose=-1, refit = 'neg_mean_absolute_percentage_error', scoring=\"neg_mean_absolute_percentage_error\",\n",
    "                                                 return_train_score=True)\n",
    "                        GridModel.fit(np.array(X_train).astype(np.float16), np.array(y_train).astype(np.int8))\n",
    "                        param_grid = model_stack[model][1]\n",
    "                        # print(\"Grid Metric\", GridModel.cv_results_.keys())\n",
    "                        # for res_ in GridModel.cv_results_:\n",
    "                        #     if 'test_score' in res_:\n",
    "                        #         print(res_,GridModel.cv_results_[res_])\n",
    "                        print(\"Scoring\", GridModel.best_score_)\n",
    "                        print('Best parameter : [{}]\\n'.format(GridModel.best_params_))\n",
    "                        train_pred =  GridModel.predict(X_train)\n",
    "                        test_pred =  GridModel.predict(X_valid)\n",
    "\n",
    "                    print(\"Valid integer pred result: \",np.array(test_pred).astype(np.int8))\n",
    "                    print(\"Valid ground truth stacks: \",np.array(y_valid))\n",
    "                    print('Train MAE: ', round(metrics.mean_absolute_error(y_train,train_pred), 5),' || ','MSE: ',round(metrics.mean_squared_error(y_train,train_pred),5),' || ','MAPE: ',round(metrics.mean_absolute_percentage_error(y_train,train_pred),5))\n",
    "                    print('Valid MAE: ', round(metrics.mean_absolute_error(y_valid,test_pred), 5),' || ','MSE: ',round(metrics.mean_squared_error(y_valid,test_pred),5),' || ','MAPE: ',round(metrics.mean_absolute_percentage_error(y_valid,test_pred),5))\n",
    "                    # print('Test MAE: ', round(metrics.mean_absolute_error(y_test,test_pred), 5),' || ','MSE: ',round(metrics.mean_squared_error(y_test,test_pred),5),' || ','MAPE: ',round(metrics.mean_absolute_percentage_error(y_test,test_pred),5))\n",
    "                    print('----------------------------------------------------')\n",
    "                print('\\n')\n",
    "                "
   ]
  },
  {
   "cell_type": "code",
   "execution_count": 7,
   "metadata": {},
   "outputs": [
    {
     "data": {
      "text/plain": [
       "-0.9104568366666667"
      ]
     },
     "execution_count": 7,
     "metadata": {},
     "output_type": "execute_result"
    }
   ],
   "source": [
    "np.mean([-0.76256473, -0.92615425, -1.04265153])"
   ]
  },
  {
   "cell_type": "code",
   "execution_count": null,
   "metadata": {},
   "outputs": [],
   "source": []
  }
 ],
 "metadata": {
  "kernelspec": {
   "display_name": "Python 3.7.13 ('SCD')",
   "language": "python",
   "name": "python3"
  },
  "language_info": {
   "codemirror_mode": {
    "name": "ipython",
    "version": 3
   },
   "file_extension": ".py",
   "mimetype": "text/x-python",
   "name": "python",
   "nbconvert_exporter": "python",
   "pygments_lexer": "ipython3",
   "version": "3.7.13"
  },
  "orig_nbformat": 4,
  "vscode": {
   "interpreter": {
    "hash": "cbdb981c21ad674d5d7cccac22161c0c4dbafc3564596111daa16bfc4bf9df64"
   }
  }
 },
 "nbformat": 4,
 "nbformat_minor": 2
}
