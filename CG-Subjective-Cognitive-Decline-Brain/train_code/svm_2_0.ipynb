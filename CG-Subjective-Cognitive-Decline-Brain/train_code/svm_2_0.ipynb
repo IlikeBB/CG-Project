{
 "cells": [
  {
   "cell_type": "code",
   "execution_count": 2,
   "metadata": {},
   "outputs": [],
   "source": [
    "from import_library import *"
   ]
  },
  {
   "cell_type": "code",
   "execution_count": 3,
   "metadata": {},
   "outputs": [
    {
     "name": "stdout",
     "output_type": "stream",
     "text": [
      "CPU count: 16\n"
     ]
    }
   ],
   "source": [
    "print(\"CPU count: {}\".format(multiprocessing.cpu_count()))"
   ]
  },
  {
   "cell_type": "code",
   "execution_count": 4,
   "metadata": {},
   "outputs": [],
   "source": [
    "data_type ='mat' #mat, csv, mix\n",
    "# dataloader\n",
    "clinical_data = pd.read_csv('./data/clinical data/clinical_data_2.csv')[['subj', 'AD8主觀認知障礙[0-1,>=2]', 'MOCA客觀認知測驗分數[<=23,>=24]', 'HADS_A焦慮程度', 'HADS_D憂鬱程度']]\n",
    "raw_data_path = './data/mdALFF matrix excel/' #raw_data_path = './data/image data/dFC matrix matlab/'\n",
    "next_path ='mdALFF.csv' #next_path ='C0005FC_z.mat't'\n",
    "def loader_(data_path = None, data_type='mat' ,mat_dtype='FCM_mean'):\n",
    "    if '.mat' in data_path:\n",
    "        mat = scipy.io.loadmat(data_path)\n",
    "        get_value = mat[mat_dtype ]\n",
    "        return get_value.shape\n",
    "\n",
    "    else:\n",
    "        pd_tb = pd.read_csv(data_path)\n",
    "        pd_patient_index = pd_tb[pd_tb.columns[0]]\n",
    "        pd_patient_value = pd_tb[pd_tb.columns[1::]]\n",
    "        return pd_patient_index, pd_patient_value\n",
    "_, patient_value = loader_(data_path = os.path.join(raw_data_path,next_path))\n",
    "patient_value_index = clinical_data['subj']"
   ]
  },
  {
   "cell_type": "code",
   "execution_count": 5,
   "metadata": {},
   "outputs": [],
   "source": [
    "# model list\n",
    "def model_list(grid=False, seed=123):\n",
    "    # svr_param = {'kernel' : ('linear', 'poly', 'rbf', 'sigmoid'),'C' : [1,5,10],'degree' : [3,8],'coef0' : [0.01,10,0.5],'gamma' : ('auto','scale')}\n",
    "    # SVR_ = SVR()\n",
    "    \n",
    "    xgbr_param = {'nthread':[4], 'objective':['reg:squarederror'], 'learning_rate': [.03, 0.05, .07], 'max_depth': [1,3,5,7,9,11,13,15,17,19,21,23,25,27,29,31], 'min_child_weight': [4], \n",
    "                                    'subsample': [0.7], 'colsample_bytree': [0.7], 'n_estimators': [400, 450, 500, 550, 600, 660]}\n",
    "    XGBR_ =XGBRegressor(random_state = seed,learning_rate = 0.1, max_depth = 5, min_child_weight = 1, \n",
    "                        subsample = 0.6, colsample_bytree = 0.8, gamma = 0, reg_alhpa = 0, reg_lambda = 1,verbosity=0)\n",
    "\n",
    "    # lgbmr_param =  {'num_leaves': [7, 14, 21], 'learning_rate': [0.05, 0.005], 'max_depth': [10, 15, 25], \n",
    "    #                                     'min_data_in_leaf':[10, 15, 25], 'feature_fraction': [0.6, 0.8, 0.9],'cat_smooth': [1,10, 15, 20, 35], 'verbose': [-1]}\n",
    "    lgbmr_param =  {'learning_rate': [0.01, 0.05, 0.001,0.005], 'max_depth': [1,3,5,7,9,11,13,15,17,19,21,23,25,27,29,31], 'verbose': [-1]}\n",
    "    \n",
    "    \n",
    "    LGBMR_ = LGBMRegressor(random_state=seed)\n",
    "    \n",
    "    mlpr_param =  {'hidden_layer_sizes': [(25), (50)]}\n",
    "\n",
    "    # mlpr_param =  {'hidden_layer_sizes': [(25), (50), (75),(100), (25, 50), (50,100), (25, 50, 75),(50, 75, 100)], 'learning_rate_init': [0.01, 0.03, 0.001, 0.003, 0.0001, 0.0003],\n",
    "    #                                     'activation': ['relu', 'tanh'], 'solver': ['adam', 'lbfgs'], 'learning_rate' : ['constant', 'adaptive', 'invscaling']}\n",
    "\n",
    "    MLPR_ = MLPRegressor(hidden_layer_sizes =(50,100), activation = 'relu', solver = 'adam', max_iter=20000, random_state=seed, early_stopping=True, validation_fraction=0.25)\n",
    "d\n",
    "    if grid ==True:\n",
    "        # model_stack = {\"SVR\":[SVR_, svr_param], \"XBGR\":[XGBR_, xgbr_param], \"LGBMR\": [LGBMR_, lgbmr_param]}\n",
    "        model_stack = {\"MLPR\":[MLPR_, mlpr_param], \"XBGR\":[XGBR_, xgbr_param], \"LGBMR\": [LGBMR_, lgbmr_param]}\n",
    "        # model_stack = {\"XBGR\":[XGBR_, xgbr_param], \"LGBMR\": [LGBMR_, lgbmr_param]}\n",
    "    else:\n",
    "        # model_stack = {\"SVR\":SVR_, \"XBGR\":XGBR_, \"LGBMR\": LGBMR_}\n",
    "        # model_stack = {\"XBGR\":XGBR_, \"LGBMR\": LGBMR_}\n",
    "        model_stack = {\"MLPR\":MLPR_, \"XBGR\":XGBR_, \"LGBMR\": LGBMR_}\n",
    "    return model_stack"
   ]
  },
  {
   "cell_type": "code",
   "execution_count": 7,
   "metadata": {},
   "outputs": [
    {
     "name": "stdout",
     "output_type": "stream",
     "text": [
      "Outcome: AD8主觀認知障礙[0-1,>=2]\n",
      "--Start Training MLPR model--\n",
      "Grid Metric -5.016191305043084\n",
      "Best parameter : [{'hidden_layer_sizes': 50}]\n",
      "\n",
      "Train MAE:  1.89883  ||  MSE:  4.91967  ||  MAPE:  1.16352\n",
      "Test MAE:  2.03723  ||  MSE:  5.45535  ||  MAPE:  1.15703\n",
      "----------------------------------------------------\n",
      "Outcome: MOCA客觀認知測驗分數[<=23,>=24]\n",
      "--Start Training MLPR model--\n",
      "Grid Metric -15.018565397783306\n",
      "Best parameter : [{'hidden_layer_sizes': 25}]\n",
      "\n",
      "Train MAE:  3.04599  ||  MSE:  12.9196  ||  MAPE:  0.12463\n",
      "Test MAE:  3.11183  ||  MSE:  15.14516  ||  MAPE:  0.14286\n",
      "----------------------------------------------------\n"
     ]
    }
   ],
   "source": [
    "def fxn():\n",
    "    warnings.warn(\"deprecated\", DeprecationWarning)\n",
    "if True:\n",
    "    with warnings.catch_warnings():\n",
    "        warnings.simplefilter(\"ignore\")\n",
    "        fxn()\n",
    "        # classification : AD8 [0-1, >=2]{0,1}, MOCA [<=23, >=24]{0,1}\n",
    "        # outcome_name = 'MOCA客觀認知測驗分數[<=23,>=24]' #AD8主觀認知障礙[0-1,>=2], MOCA客觀認知測驗分數[<=23,>=24]\n",
    "        model_stack = model_list(grid=True)\n",
    "        kfold = KFold(n_splits=3)\n",
    "        for outcome_name in [\"AD8主觀認知障礙[0-1,>=2]\", \"MOCA客觀認知測驗分數[<=23,>=24]\"]:\n",
    "            for model in model_stack:\n",
    "                if model in ['MLPR']:\n",
    "                    label_ = clinical_data[outcome_name]\n",
    "                    print(\"Outcome: {}\".format(outcome_name))\n",
    "                    print(\"--Start Training {} model--\".format(model))\n",
    "                    if 'MOCA' in outcome_name:\n",
    "                        label_s = [1 if (i>=24)  else 0  for i in list(label_)]\n",
    "                    elif 'AD8' in outcome_name:\n",
    "                        label_s = [1 if i>=2 else 0 for i in list(label_)]\n",
    "                        label_ = label_+1\n",
    "                    X_train, X_test, Y_label, _  = train_test_split(patient_value, list(label_s) , stratify=list(label_s), random_state=123)\n",
    "                    y_train, y_test, _, _ = train_test_split(list(label_), list(label_s) , stratify=list(label_s), random_state=123)\n",
    "                    # X_train, X_valid, _, _ = train_test_split(X_train, list(Y_label) , stratify=list(Y_label), random_state=123)\n",
    "                    # y_train, y_valid, _, _ = train_test_split(y_train, list(Y_label) , stratify=list(Y_label), random_state=123)\n",
    "\n",
    "                    GridModel = GridSearchCV(model_stack[model][0],model_stack[model][1], cv=kfold, n_jobs=-1, verbose=-1, refit = 'neg_mean_squared_error', scoring=['neg_mean_squared_error','neg_mean_absolute_percentage_error'],\n",
    "                                             return_train_score=True)\n",
    "                    GridModel.fit(np.array(X_train).astype(np.float16), np.array(y_train).astype(np.int8))\n",
    "                    param_grid = model_stack[model][1]\n",
    "                    print(\"Grid Metric\", GridModel.best_score_)\n",
    "                    print('Best parameter : [{}]\\n'.format(GridModel.best_params_))\n",
    "                    train_pred =  GridModel.predict(X_train)\n",
    "                    test_pred =  GridModel.predict(X_test)\n",
    "                    # print(\"Data Length. Training : {} || Validation: {}\".format(len(y_train), len(y_valid)))\n",
    "                    # model_stack[model].fit(X_train, y_train, verbose=0)\n",
    "                    # val_pred =  model_stack[model].predict(X_valid)\n",
    "                    # train_pred =  model_stack[model].predict(X_train)\n",
    "\n",
    "                    print('Train MAE: ', round(metrics.mean_absolute_error(y_train,train_pred), 5),' || ','MSE: ',round(metrics.mean_squared_error(y_train,train_pred),5),' || ','MAPE: ',round(metrics.mean_absolute_percentage_error(y_train,train_pred),5))\n",
    "                    print('Test MAE: ', round(metrics.mean_absolute_error(y_test,test_pred), 5),' || ','MSE: ',round(metrics.mean_squared_error(y_test,test_pred),5),' || ','MAPE: ',round(metrics.mean_absolute_percentage_error(y_test,test_pred),5))\n",
    "                    print('----------------------------------------------------')"
   ]
  },
  {
   "cell_type": "code",
   "execution_count": null,
   "metadata": {},
   "outputs": [],
   "source": []
  }
 ],
 "metadata": {
  "kernelspec": {
   "display_name": "Python 3.7.13 ('SCD')",
   "language": "python",
   "name": "python3"
  },
  "language_info": {
   "codemirror_mode": {
    "name": "ipython",
    "version": 3
   },
   "file_extension": ".py",
   "mimetype": "text/x-python",
   "name": "python",
   "nbconvert_exporter": "python",
   "pygments_lexer": "ipython3",
   "version": "3.7.13"
  },
  "orig_nbformat": 4,
  "vscode": {
   "interpreter": {
    "hash": "cbdb981c21ad674d5d7cccac22161c0c4dbafc3564596111daa16bfc4bf9df64"
   }
  }
 },
 "nbformat": 4,
 "nbformat_minor": 2
}
