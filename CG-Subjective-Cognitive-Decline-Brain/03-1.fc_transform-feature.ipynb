{
 "cells": [
  {
   "cell_type": "code",
   "execution_count": 1,
   "metadata": {},
   "outputs": [
    {
     "name": "stdout",
     "output_type": "stream",
     "text": [
      "(300, 300)\n"
     ]
    }
   ],
   "source": [
    "from import_library import *\n",
    "alff_dataframe_colums = pd.read_csv('./data/mdALFF matrix excel/mdALFF_var.csv').columns.tolist()[1::]\n",
    "alff_dataframe_colums_matrix = []\n",
    "for id_x, x in enumerate(alff_dataframe_colums):\n",
    "    temp =[]\n",
    "    for id_y, y in enumerate(alff_dataframe_colums):\n",
    "        temp.append(\"[{}, {}]\".format(x,y))\n",
    "    alff_dataframe_colums_matrix.append(temp)\n",
    "class loaders:\n",
    "    def __init__(self, data_type='mat' ,mat_dtype='FCM_mean'):\n",
    "        self.data_type = data_type\n",
    "        if mat_dtype=='mean':\n",
    "            md ='FCM_mean'\n",
    "        else:\n",
    "            md = 'FCM_var'\n",
    "        self.mat_dtype = md\n",
    "        self.concat_mat_array = []\n",
    "    def mat_process(self, data):\n",
    "        get_data = []\n",
    "        print(data.shape)\n",
    "        for idx, i in enumerate(data):\n",
    "            if len(i[idx+1::])!=0:\n",
    "                get_data.append(list(i[idx+1::]))\n",
    "        get_data = list(itertools.chain(*get_data))\n",
    "        # print([idx for idx, i in enumerate(get_data) if (i>-2)==False])\n",
    "        return get_data\n",
    "    def load_mat(self, data_path=None):\n",
    "        mat = scipy.io.loadmat(data_path)\n",
    "        get_value = mat[self.mat_dtype ]\n",
    "        get_value = self.mat_process(get_value)\n",
    "        self.concat_mat_array.append(get_value)\n",
    "    def callback(self,):\n",
    "        return np.array(self.concat_mat_array).astype(np.float16)\n",
    "ld = loaders(data_type='mat', mat_dtype='mean')\n",
    "ld.load_mat('./data/dFC matrix matlab/C0005FC_z.mat')\n",
    "default = ld.callback()"
   ]
  },
  {
   "cell_type": "code",
   "execution_count": 2,
   "metadata": {},
   "outputs": [
    {
     "name": "stdout",
     "output_type": "stream",
     "text": [
      "(300, 300)\n"
     ]
    }
   ],
   "source": [
    "alff_dataframe_colums_matrix = np.array(ld.mat_process(np.array(alff_dataframe_colums_matrix)))"
   ]
  },
  {
   "cell_type": "code",
   "execution_count": 3,
   "metadata": {},
   "outputs": [],
   "source": [
    "(pd.DataFrame(alff_dataframe_colums_matrix, columns=['[x, y]'])).to_csv('FC_xy_feature_location.csv')"
   ]
  },
  {
   "cell_type": "code",
   "execution_count": null,
   "metadata": {},
   "outputs": [],
   "source": []
  }
 ],
 "metadata": {
  "kernelspec": {
   "display_name": "Python 3.8.13 ('SCD')",
   "language": "python",
   "name": "python3"
  },
  "language_info": {
   "codemirror_mode": {
    "name": "ipython",
    "version": 3
   },
   "file_extension": ".py",
   "mimetype": "text/x-python",
   "name": "python",
   "nbconvert_exporter": "python",
   "pygments_lexer": "ipython3",
   "version": "3.8.13"
  },
  "orig_nbformat": 4,
  "vscode": {
   "interpreter": {
    "hash": "10c3faef828834e4c5e120dd15dbe204a0137949b98382ac6655655cd9a06899"
   }
  }
 },
 "nbformat": 4,
 "nbformat_minor": 2
}
