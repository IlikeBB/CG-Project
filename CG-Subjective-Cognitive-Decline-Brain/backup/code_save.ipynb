{
 "cells": [
  {
   "cell_type": "code",
   "execution_count": null,
   "metadata": {},
   "outputs": [],
   "source": [
    "# outcome_name = 'MOCA客觀認知測驗分數[<=23,>=24]' #AD8主觀認知障礙[0-1,>=2], MOCA客觀認知測驗分數[<=23,>=24]\n",
    "# label_ = clinical_data[outcome_name]\n",
    "# print('MOCA  ||Std: {0} || Med: {1} || Avg: {2} ||Min - Max: [{3}-{4}]'.format(round(np.std(label_),5), round(np.median(label_),5), round(np.mean(label_),5), np.min(label_), np.max(label_)),'\\n-------------------------------------------------------------------------------------------------------')\n",
    "# label_s = [1 if i>=24 else 0 for i in list(label_)]\n",
    "# X_train, X_test, y_train, y_test = train_test_split(label_, list(label_s) , stratify=list(label_s), random_state=123)\n",
    "# X_train, X_valid, y_train, y_valid = train_test_split(X_train, list(y_train) , stratify=list(y_train), random_state=123)\n",
    "# print(\"MOCA train label\",list(X_train))\n",
    "# print(\"MOCA train class\",list(y_train))\n",
    "# print('||Std: {0} || Med: {1}    || Avg: {2}   ||Min - Max: [{3}-{4}]'.format(round(np.std(X_train),5), round(np.median(X_train),5), round(np.mean(X_train),5), np.min(X_train), np.max(X_train)),'\\n-------------------------------------------------------------------------------------------------------')\n",
    "# print(\"MOCA valid label\",list(X_valid))\n",
    "# print(\"MOCA valid class\",list(y_valid))\n",
    "# print('||Std: {0} || Med: {1}    || Avg: {2}   ||Min - Max: [{3}-{4}]'.format(round(np.std(X_valid),5), round(np.median(X_valid),5), round(np.mean(X_valid),5), np.min(X_valid), np.max(X_valid)),'\\n-------------------------------------------------------------------------------------------------------')\n",
    "# print(\"MOCA test   label\",list(X_test))\n",
    "# print(\"MOCA test   class\",list(y_test))\n",
    "# print('||Std: {0} || Med: {1}    || Avg: {2}   ||Min - Max: [{3}-{4}]'.format(round(np.std(X_test),5), round(np.median(X_test),5), round(np.mean(X_test),5), np.min(X_test), np.max(X_test)),'\\n-------------------------------------------------------------------------------------------------------')\n",
    "# print('\\n')\n",
    "\n",
    "# outcome_name = 'AD8主觀認知障礙[0-1,>=2]' #AD8主觀認知障礙[0-1,>=2], MOCA客觀認知測驗分數[<=23,>=24]\n",
    "# label_ = clinical_data[outcome_name]\n",
    "# print('AD8  ||Std: {0} || Med: {1} || Avg: {2} ||Min - Max: [{3}-{4}]'.format(round(np.std(label_),5), round(np.median(label_),5), round(np.mean(label_),5), np.min(label_), np.max(label_)),'\\n-------------------------------------------------------------------------------------------------------')\n",
    "# label_s = [1 if i>=2 else 0 for i in list(label_)]\n",
    "# X_train, X_test, y_train, y_test = train_test_split(label_, list(label_s) , stratify=list(label_s), random_state=123)\n",
    "# X_train, X_valid, y_train, y_valid = train_test_split(X_train, list(y_train) , stratify=list(y_train), random_state=123)\n",
    "# print(\"AD8 train label\",list(X_train))\n",
    "# print(\"AD8 train class\",list(y_train))\n",
    "# print('||Std: {0} || Med: {1}    || Avg: {2}   ||Min - Max: [{3}-{4}]'.format(round(np.std(X_train),5), round(np.median(X_train),5), round(np.mean(X_train),5), np.min(X_train), np.max(X_train)),'\\n-------------------------------------------------------------------------------------------------------')\n",
    "# print(\"AD8 valid label\",list(X_valid))\n",
    "# print(\"AD8 valid class\",list(y_valid))\n",
    "# print('||Std: {0} || Med: {1}    || Avg: {2}   ||Min - Max: [{3}-{4}]'.format(round(np.std(X_valid),5), round(np.median(X_valid),5), round(np.mean(X_valid),5), np.min(X_valid), np.max(X_valid)),'\\n-------------------------------------------------------------------------------------------------------')\n",
    "# print(\"AD8 test   label\",list(X_test))\n",
    "# print(\"AD8 test   class\",list(y_test))\n",
    "# print('||Std: {0} || Med: {1}    || Avg: {2}   ||Min - Max: [{3}-{4}]'.format(round(np.std(X_test),5), round(np.median(X_test),5), round(np.mean(X_test),5), np.min(X_test), np.max(X_test)),'\\n-------------------------------------------------------------------------------------------------------')"
   ]
  }
 ],
 "metadata": {
  "language_info": {
   "name": "python"
  },
  "orig_nbformat": 4
 },
 "nbformat": 4,
 "nbformat_minor": 2
}
