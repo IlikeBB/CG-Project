{
 "cells": [
  {
   "cell_type": "code",
   "execution_count": 1,
   "metadata": {},
   "outputs": [],
   "source": [
    "import sys\n",
    "sys.path.append('..')\n",
    "from import_library import *"
   ]
  },
  {
   "cell_type": "code",
   "execution_count": 2,
   "metadata": {},
   "outputs": [],
   "source": [
    "data_type ='var' #mat, csv, mix\n",
    "\n",
    "# dataloader\n",
    "clinical_data = pd.read_csv('../data/clinical data/clinical_data_2.csv')[['subj', 'AD8主觀認知障礙[0-1,>=2]', 'MOCA客觀認知測驗分數[<=23,>=24]', 'HADS_A焦慮程度', 'HADS_D憂鬱程度']]\n",
    "raw_data_path = '../data/mdALFF matrix excel/' #raw_data_path = './data/image data/dFC matrix matlab/'\n",
    "if data_type!='mix':\n",
    "    next_path =f'mdALFF_{data_type}.csv' #next_path ='C0005FC_z.mat't'\n",
    "else:\n",
    "    pass\n",
    "def loader_(data_path = None, data_type='mat' ,mat_dtype='FCM_mean'):\n",
    "    if '.mat' in data_path:\n",
    "        mat = scipy.io.loadmat(data_path)\n",
    "        get_value = mat[mat_dtype ]\n",
    "        return get_value.shape\n",
    "\n",
    "    else:\n",
    "        pd_tb = pd.read_csv(data_path)\n",
    "        pd_patient_index = pd_tb[pd_tb.columns[0]]\n",
    "        # pd_patient_value = pd_tb[pd_tb.columns[1::]]\n",
    "        pd_patient_value = pd_tb\n",
    "        return pd_patient_index, pd_patient_value\n",
    "_, patient_value = loader_(data_path = os.path.join(raw_data_path,next_path))\n",
    "patient_value_index = clinical_data['subj']"
   ]
  },
  {
   "cell_type": "code",
   "execution_count": 3,
   "metadata": {},
   "outputs": [],
   "source": [
    "for outcome_name in [\"AD8主觀認知障礙[0-1,>=2]\", \"MOCA客觀認知測驗分數[<=23,>=24]\"]:\n",
    "    label_ = clinical_data[outcome_name]\n",
    "    if 'MOCA' in outcome_name:\n",
    "        label_s = [1 if (i>=24)  else 0  for i in list(label_)]\n",
    "    elif 'AD8' in outcome_name:\n",
    "        label_s = [1 if i  >=2 else 0 for i in list(label_)]\n",
    "    label_ = label_+1\n",
    "    X_train, X_test, Y_label, _  = train_test_split(patient_value, list(label_s) , stratify=list(label_s), random_state=123)\n",
    "    y_train, y_test, _, _ = train_test_split(list(label_), list(label_s) , stratify=list(label_s), random_state=123)\n",
    "    X_train, X_valid, _, _ = train_test_split(X_train, list(Y_label) , stratify=list(Y_label), test_size=0.5, random_state=123)\n",
    "    y_train, y_valid, _, _ = train_test_split(y_train, list(Y_label) , stratify=list(Y_label), test_size=0.5,random_state=123)\n",
    "    X_train['outcome'] = np.array(y_train)\n",
    "    X_valid['outcome'] = np.array(y_valid)\n",
    "    X_test['outcome'] = np.array(y_test)\n",
    "    # concat_df = pd.concat(X_train, )\n",
    "    X_train['data_type'] = ['train' for i in range(len(X_train))]\n",
    "    X_valid['data_type'] = ['valid' for i in range(len(X_valid))]\n",
    "    X_test['data_type'] = ['test' for i in range(len(X_test))]\n",
    "    df_concat = pd.concat([X_train, X_valid])\n",
    "    df_concat.to_csv(f'../../R/dataset/{outcome_name}[{data_type}].csv', index=False)"
   ]
  },
  {
   "cell_type": "code",
   "execution_count": null,
   "metadata": {},
   "outputs": [],
   "source": []
  }
 ],
 "metadata": {
  "kernelspec": {
   "display_name": "Python 3.8.13 ('SCD')",
   "language": "python",
   "name": "python3"
  },
  "language_info": {
   "codemirror_mode": {
    "name": "ipython",
    "version": 3
   },
   "file_extension": ".py",
   "mimetype": "text/x-python",
   "name": "python",
   "nbconvert_exporter": "python",
   "pygments_lexer": "ipython3",
   "version": "3.8.13"
  },
  "orig_nbformat": 4,
  "vscode": {
   "interpreter": {
    "hash": "96597a6526da840026ef28ca2cf7af0f0d1e8ac414b3707ac9b8ff8e95828e7e"
   }
  }
 },
 "nbformat": 4,
 "nbformat_minor": 2
}
