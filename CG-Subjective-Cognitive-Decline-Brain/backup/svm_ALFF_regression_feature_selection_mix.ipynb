{
 "cells": [
  {
   "cell_type": "code",
   "execution_count": 1,
   "metadata": {},
   "outputs": [],
   "source": [
    "from import_library import *\n",
    "from model_stack import model_list"
   ]
  },
  {
   "cell_type": "code",
   "execution_count": 2,
   "metadata": {},
   "outputs": [
    {
     "name": "stdout",
     "output_type": "stream",
     "text": [
      "CPU count: 8\n"
     ]
    }
   ],
   "source": [
    "print(\"CPU count: {}\".format(multiprocessing.cpu_count()))"
   ]
  },
  {
   "cell_type": "code",
   "execution_count": 3,
   "metadata": {},
   "outputs": [],
   "source": [
    "from itertools import compress\n",
    "# feature selection process\n",
    "rank_threshold = 80\n",
    "def feature_filter(patient_value, load_path = None,outcome_name = None, data_type_ = 'mean'):\n",
    "    feature_rank_df = pd.read_csv('{}/{}_{}_{}.csv'.format(load_path, outcome_name,data_type_, 'alff'), index_col=False)\n",
    "    filter_feature_list = [feature_rank_df['rank'].values<=rank_threshold][0]\n",
    "    feature_columns = patient_value.columns.tolist()\n",
    "    patient_value = patient_value[list(compress(feature_columns, filter_feature_list))]\n",
    "\n",
    "    feature_columns = list(compress(feature_columns, filter_feature_list))\n",
    "    return patient_value, feature_columns"
   ]
  },
  {
   "cell_type": "code",
   "execution_count": 4,
   "metadata": {},
   "outputs": [],
   "source": [
    "data_type ='mix' #mat, csv, mix\n",
    "feature_selection_df_savepath = './feature_selection_result'\n",
    "# dataloader\n",
    "clinical_data = pd.read_csv('./data/clinical data/clinical_data_2.csv')[['subj', 'AD8主觀認知障礙[0-1,>=2]', 'MOCA客觀認知測驗分數[<=23,>=24]', 'HADS_A焦慮程度', 'HADS_D憂鬱程度']]\n",
    "raw_data_path = './data/mdALFF matrix excel/' #raw_data_path = './data/image data/dFC matrix matlab/'\n",
    "if data_type!='mix':\n",
    "    next_path =f'mdALFF_{data_type}.csv' #next_path ='C0005FC_z.mat't'\n",
    "else:\n",
    "    next_path = ['mdALFF_mean.csv', 'mdALFF_var.csv']\n",
    "def loader_(data_path = None ,mat_dtype='FCM_mean', outcome_name = None):\n",
    "    if data_type =='mix':\n",
    "        pd_tb_1, pd_tb_2 = pd.read_csv(data_path[0]), pd.read_csv(data_path[1])\n",
    "        pd_patient_index_1, pd_patient_index_2 = pd_tb_1[pd_tb_1.columns[0]]+'_1', pd_tb_2[pd_tb_2.columns[0]]+'_2'\n",
    "        pd_patient_value_1, pd_patient_value_2 = pd_tb_1[pd_tb_1.columns[1::]], pd_tb_2[pd_tb_2.columns[1::]]\n",
    "        pd_patient_value_1, col_1 = feature_filter(pd_patient_value_1, load_path = feature_selection_df_savepath, outcome_name = outcome_name, data_type_ = 'mean', )\n",
    "        pd_patient_value_2, col_2 = feature_filter(pd_patient_value_2, load_path = feature_selection_df_savepath, outcome_name = outcome_name, data_type_ = 'var', )\n",
    "        pd_patient_value_mix = pd.DataFrame(np.concatenate((pd_patient_value_1, pd_patient_value_2), axis=1), columns=col_1+col_2)\n",
    "        return col_1+col_2, pd_patient_value_mix\n",
    "\n",
    "    else:\n",
    "        pd_tb = pd.read_csv(data_path)\n",
    "        pd_patient_index = pd_tb[pd_tb.columns[0]]\n",
    "        pd_patient_value = pd_tb[pd_tb.columns[1::]]\n",
    "        return pd_patient_index, pd_patient_value"
   ]
  },
  {
   "cell_type": "code",
   "execution_count": 5,
   "metadata": {},
   "outputs": [
    {
     "name": "stdout",
     "output_type": "stream",
     "text": [
      "train:  (31, 16)\n",
      "valid:  (32, 16)\n",
      "Feature Number: 16\n",
      "ALFF Outcome: AD8主觀認知障礙[0-1,>=2][mix] - cut rank point: 8 - GridSearch: False\n",
      "--Start Training MLPR model--\n",
      "----------------------------------------------------\n",
      "train:  (31, 16)\n",
      "valid:  (32, 16)\n",
      "Feature Number: 16\n",
      "ALFF Outcome: AD8主觀認知障礙[0-1,>=2][mix] - cut rank point: 8 - GridSearch: False\n",
      "--Start Training XBGR model--\n",
      "----------------------------------------------------\n",
      "train:  (31, 16)\n",
      "valid:  (32, 16)\n",
      "Feature Number: 16\n",
      "ALFF Outcome: AD8主觀認知障礙[0-1,>=2][mix] - cut rank point: 8 - GridSearch: False\n",
      "--Start Training LGBMR model--\n",
      "----------------------------------------------------\n",
      "train:  (31, 14)\n",
      "valid:  (32, 14)\n",
      "Feature Number: 14\n",
      "ALFF Outcome: MOCA客觀認知測驗分數[<=23,>=24][mix] - cut rank point: 8 - GridSearch: False\n",
      "--Start Training MLPR model--\n",
      "----------------------------------------------------\n",
      "train:  (31, 14)\n",
      "valid:  (32, 14)\n",
      "Feature Number: 14\n",
      "ALFF Outcome: MOCA客觀認知測驗分數[<=23,>=24][mix] - cut rank point: 8 - GridSearch: False\n",
      "--Start Training XBGR model--\n",
      "----------------------------------------------------\n",
      "train:  (31, 14)\n",
      "valid:  (32, 14)\n",
      "Feature Number: 14\n",
      "ALFF Outcome: MOCA客觀認知測驗分數[<=23,>=24][mix] - cut rank point: 8 - GridSearch: False\n",
      "--Start Training LGBMR model--\n",
      "----------------------------------------------------\n"
     ]
    }
   ],
   "source": [
    "grid =False\n",
    "\n",
    "grid_stack = []\n",
    "result_dict={'outcome':[], 'model':[], 'Reg:mae(train)':[], 'Reg:mae(valid)': [], 'Reg:mse(train)':[], 'Reg:mse(valid)': [], 'Reg:mape(train)':[], 'Reg:mape(valid)': [], }\n",
    "def fxn():\n",
    "    warnings.warn(\"deprecated\", DeprecationWarning)\n",
    "if True:\n",
    "    with warnings.catch_warnings():\n",
    "        warnings.simplefilter(\"ignore\")\n",
    "        fxn()\n",
    "        # classification : AD8 [0-1, >=2]{0,1}, MOCA [<=23, >=24]{0,1}\n",
    "        # outcome_name = 'MOCA客觀認知測驗分數[<=23,>=24]' #AD8主觀認知障礙[0-1,>=2], MOCA客觀認知測驗分數[<=23,>=24]\n",
    "        model_stack = model_list(grid=grid)\n",
    "        kfold = KFold(n_splits=4)\n",
    "        for outcome_name in [\"AD8主觀認知障礙[0-1,>=2]\", \"MOCA客觀認知測驗分數[<=23,>=24]\"]:\n",
    "            for model in model_stack:\n",
    "                if model in ['MLPR', 'XBGR', 'LGBMR']:\n",
    "                    result_dict['outcome'].append(outcome_name)\n",
    "                    result_dict['model'].append(model)\n",
    "                    label_ = clinical_data[outcome_name]\n",
    "                    if 'MOCA' in outcome_name:\n",
    "                        label_s = [1 if (i>=24)  else 0  for i in list(label_)]\n",
    "                    elif 'AD8' in outcome_name:\n",
    "                        label_s = [1 if i>=2 else 0 for i in list(label_)]\n",
    "                        label_ = label_+1\n",
    "                    if data_type!='mix':\n",
    "                        _, patient_value = loader_(data_path = os.path.join(raw_data_path,next_path))\n",
    "                    else:\n",
    "                        _, patient_value = loader_(data_path = [os.path.join(raw_data_path,next_path[0]),os.path.join(raw_data_path,next_path[1])], outcome_name=outcome_name)\n",
    "                    # patientlse:\n",
    "                    #     print(\"_value_index = clinical_data['subj']\n",
    "                    X_train, X_test, Y_label, _  = train_test_split(patient_value, list(label_s) , stratify=list(label_s), random_state=123)\n",
    "                    y_train, y_test, _, _ = train_test_split(list(label_), list(label_s) , stratify=list(label_s), random_state=123)\n",
    "                    X_train, X_valid, _, _ = train_test_split(X_train, list(Y_label) , stratify=list(Y_label), test_size=0.5, random_state=123)\n",
    "                    y_train, y_valid, _, _ = train_test_split(y_train, list(Y_label) , stratify=list(Y_label), test_size=0.5,random_state=123)\n",
    "                    print(\"train: \",X_train.shape)\n",
    "                    print(\"valid: \",X_valid.shape)\n",
    "                    print(\"Feature Number: {}\".format(X_train.shape[1]))\n",
    "                    if grid==False:\n",
    "                        print(\"ALFF Outcome: {}[{}] - cut rank point: {} - GridSearch: {}\".format(outcome_name, data_type, rank_threshold, grid))\n",
    "                        print(\"--Start Training {} model--\".format(model))\n",
    "                        if model in 'MLPR':\n",
    "                            model = model_stack[model].fit(X_train, y_train)\n",
    "                        else:\n",
    "                            \n",
    "                            model = model_stack[model].fit(np.array(X_train), np.array(y_train), eval_set=[[np.array(X_valid), np.array(y_valid)]], eval_metric=\"mape\", verbose=False)\n",
    "                        train_pred =  model.predict(X_train)\n",
    "                        \n",
    "                        valid_pred =  model.predict(X_valid)\n",
    "                    else:\n",
    "                        print(\"ALFF Outcome: {}[{}] - cut rank point: {} - GridSearch: {}\".format(outcome_name, data_type, rank_threshold, grid))\n",
    "                        print(\"--Start Training {} model--\".format(model))\n",
    "                        GridModel = GridSearchCV(model_stack[model][0],model_stack[model][1], cv=kfold, verbose=-1, refit = 'neg_mean_absolute_percentage_error', scoring=\"neg_mean_absolute_percentage_error\",\n",
    "                                                 return_train_score=True)\n",
    "                        GridModel.fit(np.array(X_train).astype(np.float16), np.array(y_train).astype(np.int8))\n",
    "                        param_grid = model_stack[model][1]\n",
    "                        print('Best parameter : [{}]\\n'.format(GridModel.best_params_))\n",
    "                        train_pred =  GridModel.predict(X_train)\n",
    "                        valid_pred =  GridModel.predict(X_valid)\n",
    "                        print(\"Data Length. Training : {} || Validation: {}\".format(len(y_train), len(y_valid)))\n",
    "                        print(\"pass\",model)\n",
    "                        grid_stack.append(GridModel)\n",
    "                    \n",
    "                    result_dict['Reg:mae(train)'].append(round(metrics.mean_absolute_error(y_train,train_pred), 5))\n",
    "                    result_dict['Reg:mae(valid)'].append(round(metrics.mean_absolute_error(y_valid,valid_pred), 5))\n",
    "                    result_dict['Reg:mse(train)'].append(round(metrics.mean_squared_error(y_train,train_pred),5))\n",
    "                    result_dict['Reg:mse(valid)'].append(round(metrics.mean_squared_error(y_valid,valid_pred),5))\n",
    "                    result_dict['Reg:mape(train)'].append(round(metrics.mean_absolute_percentage_error(y_train,train_pred),5))\n",
    "                    result_dict['Reg:mape(valid)'].append(round(metrics.mean_absolute_percentage_error(y_valid,valid_pred),5))\n",
    "\n",
    "                    # print('Train MAE: ', round(metrics.mean_absolute_error(y_train,train_pred), 5),' || ','MSE: ',round(metrics.mean_squared_error(y_train,train_pred),5),' || ','MAPE: ',round(metrics.mean_absolute_percentage_error(y_train,train_pred),5))\n",
    "                    # print('Valid MAE: ', round(metrics.mean_absolute_error(y_valid,test_pred), 5),' || ','MSE: ',round(metrics.mean_squared_error(y_valid,test_pred),5),' || ','MAPE: ',round(metrics.mean_absolute_percentage_error(y_valid,test_pred),5))\n",
    "                    # print('Test MAE: ', round(metrics.mean_absolute_error(y_test,test_pred), 5),' || ','MSE: ',round(metrics.mean_squared_error(y_test,test_pred),5),' || ','MAPE: ',round(metrics.mean_absolute_percentage_error(y_test,test_pred),5))\n",
    "                    print('----------------------------------------------------')\n",
    "                # print('\\n')\n",
    "                "
   ]
  },
  {
   "cell_type": "code",
   "execution_count": 6,
   "metadata": {},
   "outputs": [],
   "source": [
    "for i in grid_stack:\n",
    "    print(i.best_params_)\n",
    "    print('----------------------------------------------------------------------------------------------------------------------------------------')"
   ]
  },
  {
   "cell_type": "code",
   "execution_count": 7,
   "metadata": {},
   "outputs": [
    {
     "data": {
      "text/plain": [
       "{'outcome': ['AD8主觀認知障礙[0-1,>=2]',\n",
       "  'AD8主觀認知障礙[0-1,>=2]',\n",
       "  'AD8主觀認知障礙[0-1,>=2]',\n",
       "  'MOCA客觀認知測驗分數[<=23,>=24]',\n",
       "  'MOCA客觀認知測驗分數[<=23,>=24]',\n",
       "  'MOCA客觀認知測驗分數[<=23,>=24]'],\n",
       " 'model': ['MLPR', 'XBGR', 'LGBMR', 'MLPR', 'XBGR', 'LGBMR'],\n",
       " 'Reg:mae(train)': [1.79531, 0.00034, 1.85848, 3.12931, 0.00033, 3.07804],\n",
       " 'Reg:mae(valid)': [1.73157, 1.55122, 1.83569, 3.06267, 2.92333, 2.75],\n",
       " 'Reg:mse(train)': [5.95239, 0.0, 5.27367, 13.44134, 0.0, 12.88866],\n",
       " 'Reg:mse(valid)': [5.08062, 3.8377, 4.64871, 13.93395, 13.23919, 10.47626],\n",
       " 'Reg:mape(train)': [0.71219, 0.0002, 1.03724, 0.12458, 1e-05, 0.12699],\n",
       " 'Reg:mape(valid)': [0.69168, 0.71052, 1.02063, 0.12112, 0.1195, 0.11344]}"
      ]
     },
     "execution_count": 7,
     "metadata": {},
     "output_type": "execute_result"
    }
   ],
   "source": [
    "result_dict"
   ]
  },
  {
   "cell_type": "code",
   "execution_count": 8,
   "metadata": {},
   "outputs": [
    {
     "data": {
      "text/html": [
       "<style type=\"text/css\">\n",
       "</style>\n",
       "<table id=\"T_2b9fc\">\n",
       "  <caption>AD8/MOCA - [ALFF - mix - Grid: False]</caption>\n",
       "  <thead>\n",
       "    <tr>\n",
       "      <th class=\"blank level0\" >&nbsp;</th>\n",
       "      <th id=\"T_2b9fc_level0_col0\" class=\"col_heading level0 col0\" >outcome</th>\n",
       "      <th id=\"T_2b9fc_level0_col1\" class=\"col_heading level0 col1\" >model</th>\n",
       "      <th id=\"T_2b9fc_level0_col2\" class=\"col_heading level0 col2\" >Reg:mae(train)</th>\n",
       "      <th id=\"T_2b9fc_level0_col3\" class=\"col_heading level0 col3\" >Reg:mae(valid)</th>\n",
       "      <th id=\"T_2b9fc_level0_col4\" class=\"col_heading level0 col4\" >Reg:mse(train)</th>\n",
       "      <th id=\"T_2b9fc_level0_col5\" class=\"col_heading level0 col5\" >Reg:mse(valid)</th>\n",
       "      <th id=\"T_2b9fc_level0_col6\" class=\"col_heading level0 col6\" >Reg:mape(train)</th>\n",
       "      <th id=\"T_2b9fc_level0_col7\" class=\"col_heading level0 col7\" >Reg:mape(valid)</th>\n",
       "    </tr>\n",
       "  </thead>\n",
       "  <tbody>\n",
       "    <tr>\n",
       "      <th id=\"T_2b9fc_level0_row0\" class=\"row_heading level0 row0\" >0</th>\n",
       "      <td id=\"T_2b9fc_row0_col0\" class=\"data row0 col0\" >AD8主觀認知障礙[0-1,>=2]</td>\n",
       "      <td id=\"T_2b9fc_row0_col1\" class=\"data row0 col1\" >MLPR</td>\n",
       "      <td id=\"T_2b9fc_row0_col2\" class=\"data row0 col2\" >1.795310</td>\n",
       "      <td id=\"T_2b9fc_row0_col3\" class=\"data row0 col3\" >1.731570</td>\n",
       "      <td id=\"T_2b9fc_row0_col4\" class=\"data row0 col4\" >5.952390</td>\n",
       "      <td id=\"T_2b9fc_row0_col5\" class=\"data row0 col5\" >5.080620</td>\n",
       "      <td id=\"T_2b9fc_row0_col6\" class=\"data row0 col6\" >0.712190</td>\n",
       "      <td id=\"T_2b9fc_row0_col7\" class=\"data row0 col7\" >0.691680</td>\n",
       "    </tr>\n",
       "    <tr>\n",
       "      <th id=\"T_2b9fc_level0_row1\" class=\"row_heading level0 row1\" >1</th>\n",
       "      <td id=\"T_2b9fc_row1_col0\" class=\"data row1 col0\" >AD8主觀認知障礙[0-1,>=2]</td>\n",
       "      <td id=\"T_2b9fc_row1_col1\" class=\"data row1 col1\" >XBGR</td>\n",
       "      <td id=\"T_2b9fc_row1_col2\" class=\"data row1 col2\" >0.000340</td>\n",
       "      <td id=\"T_2b9fc_row1_col3\" class=\"data row1 col3\" >1.551220</td>\n",
       "      <td id=\"T_2b9fc_row1_col4\" class=\"data row1 col4\" >0.000000</td>\n",
       "      <td id=\"T_2b9fc_row1_col5\" class=\"data row1 col5\" >3.837700</td>\n",
       "      <td id=\"T_2b9fc_row1_col6\" class=\"data row1 col6\" >0.000200</td>\n",
       "      <td id=\"T_2b9fc_row1_col7\" class=\"data row1 col7\" >0.710520</td>\n",
       "    </tr>\n",
       "    <tr>\n",
       "      <th id=\"T_2b9fc_level0_row2\" class=\"row_heading level0 row2\" >2</th>\n",
       "      <td id=\"T_2b9fc_row2_col0\" class=\"data row2 col0\" >AD8主觀認知障礙[0-1,>=2]</td>\n",
       "      <td id=\"T_2b9fc_row2_col1\" class=\"data row2 col1\" >LGBMR</td>\n",
       "      <td id=\"T_2b9fc_row2_col2\" class=\"data row2 col2\" >1.858480</td>\n",
       "      <td id=\"T_2b9fc_row2_col3\" class=\"data row2 col3\" >1.835690</td>\n",
       "      <td id=\"T_2b9fc_row2_col4\" class=\"data row2 col4\" >5.273670</td>\n",
       "      <td id=\"T_2b9fc_row2_col5\" class=\"data row2 col5\" >4.648710</td>\n",
       "      <td id=\"T_2b9fc_row2_col6\" class=\"data row2 col6\" >1.037240</td>\n",
       "      <td id=\"T_2b9fc_row2_col7\" class=\"data row2 col7\" >1.020630</td>\n",
       "    </tr>\n",
       "    <tr>\n",
       "      <th id=\"T_2b9fc_level0_row3\" class=\"row_heading level0 row3\" >3</th>\n",
       "      <td id=\"T_2b9fc_row3_col0\" class=\"data row3 col0\" >MOCA客觀認知測驗分數[<=23,>=24]</td>\n",
       "      <td id=\"T_2b9fc_row3_col1\" class=\"data row3 col1\" >MLPR</td>\n",
       "      <td id=\"T_2b9fc_row3_col2\" class=\"data row3 col2\" >3.129310</td>\n",
       "      <td id=\"T_2b9fc_row3_col3\" class=\"data row3 col3\" >3.062670</td>\n",
       "      <td id=\"T_2b9fc_row3_col4\" class=\"data row3 col4\" >13.441340</td>\n",
       "      <td id=\"T_2b9fc_row3_col5\" class=\"data row3 col5\" >13.933950</td>\n",
       "      <td id=\"T_2b9fc_row3_col6\" class=\"data row3 col6\" >0.124580</td>\n",
       "      <td id=\"T_2b9fc_row3_col7\" class=\"data row3 col7\" >0.121120</td>\n",
       "    </tr>\n",
       "    <tr>\n",
       "      <th id=\"T_2b9fc_level0_row4\" class=\"row_heading level0 row4\" >4</th>\n",
       "      <td id=\"T_2b9fc_row4_col0\" class=\"data row4 col0\" >MOCA客觀認知測驗分數[<=23,>=24]</td>\n",
       "      <td id=\"T_2b9fc_row4_col1\" class=\"data row4 col1\" >XBGR</td>\n",
       "      <td id=\"T_2b9fc_row4_col2\" class=\"data row4 col2\" >0.000330</td>\n",
       "      <td id=\"T_2b9fc_row4_col3\" class=\"data row4 col3\" >2.923330</td>\n",
       "      <td id=\"T_2b9fc_row4_col4\" class=\"data row4 col4\" >0.000000</td>\n",
       "      <td id=\"T_2b9fc_row4_col5\" class=\"data row4 col5\" >13.239190</td>\n",
       "      <td id=\"T_2b9fc_row4_col6\" class=\"data row4 col6\" >0.000010</td>\n",
       "      <td id=\"T_2b9fc_row4_col7\" class=\"data row4 col7\" >0.119500</td>\n",
       "    </tr>\n",
       "    <tr>\n",
       "      <th id=\"T_2b9fc_level0_row5\" class=\"row_heading level0 row5\" >5</th>\n",
       "      <td id=\"T_2b9fc_row5_col0\" class=\"data row5 col0\" >MOCA客觀認知測驗分數[<=23,>=24]</td>\n",
       "      <td id=\"T_2b9fc_row5_col1\" class=\"data row5 col1\" >LGBMR</td>\n",
       "      <td id=\"T_2b9fc_row5_col2\" class=\"data row5 col2\" >3.078040</td>\n",
       "      <td id=\"T_2b9fc_row5_col3\" class=\"data row5 col3\" >2.750000</td>\n",
       "      <td id=\"T_2b9fc_row5_col4\" class=\"data row5 col4\" >12.888660</td>\n",
       "      <td id=\"T_2b9fc_row5_col5\" class=\"data row5 col5\" >10.476260</td>\n",
       "      <td id=\"T_2b9fc_row5_col6\" class=\"data row5 col6\" >0.126990</td>\n",
       "      <td id=\"T_2b9fc_row5_col7\" class=\"data row5 col7\" >0.113440</td>\n",
       "    </tr>\n",
       "  </tbody>\n",
       "</table>\n"
      ],
      "text/plain": [
       "<pandas.io.formats.style.Styler at 0x12daf1640>"
      ]
     },
     "execution_count": 8,
     "metadata": {},
     "output_type": "execute_result"
    }
   ],
   "source": [
    "result_df = pd.DataFrame(result_dict) \n",
    "result_df.style.set_caption(\"AD8/MOCA - [ALFF - {} - Grid: {}]\".format(data_type, grid))"
   ]
  },
  {
   "cell_type": "code",
   "execution_count": null,
   "metadata": {},
   "outputs": [],
   "source": []
  }
 ],
 "metadata": {
  "kernelspec": {
   "display_name": "Python 3.8.13 ('SCD')",
   "language": "python",
   "name": "python3"
  },
  "language_info": {
   "codemirror_mode": {
    "name": "ipython",
    "version": 3
   },
   "file_extension": ".py",
   "mimetype": "text/x-python",
   "name": "python",
   "nbconvert_exporter": "python",
   "pygments_lexer": "ipython3",
   "version": "3.8.13"
  },
  "orig_nbformat": 4,
  "vscode": {
   "interpreter": {
    "hash": "96597a6526da840026ef28ca2cf7af0f0d1e8ac414b3707ac9b8ff8e95828e7e"
   }
  }
 },
 "nbformat": 4,
 "nbformat_minor": 2
}
