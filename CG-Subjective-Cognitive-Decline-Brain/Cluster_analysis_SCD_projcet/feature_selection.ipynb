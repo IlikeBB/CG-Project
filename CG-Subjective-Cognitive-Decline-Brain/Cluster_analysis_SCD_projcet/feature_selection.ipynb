{
 "cells": [
  {
   "cell_type": "code",
   "execution_count": 1,
   "metadata": {},
   "outputs": [],
   "source": [
    "import pandas as pd, numpy as np, scipy, os, itertools, sys\n",
    "from sklearn.ensemble import RandomForestRegressor\n",
    "from boruta import BorutaPy\n",
    "sys.path.append('..')\n",
    "from func import loaders\n",
    "from import_library import *"
   ]
  },
  {
   "cell_type": "code",
   "execution_count": 2,
   "metadata": {},
   "outputs": [],
   "source": [
    "outcome_df = pd.read_csv('../data/clinical data/clinical_data_2.csv')[['subj', 'AD8主觀認知障礙[0-1,>=2]', 'MOCA客觀認知測驗分數[<=23,>=24]']]\n",
    "data_type ='var' #mean, var\n",
    "ld_excel = loaders(data_type = data_type)\n",
    "ld_mat = loaders(data_type=data_type)\n",
    "raw_data_path = '/Volumes/DatasetCGRD/SCD/data/image data/dFC matrix matlab/'\n",
    "for next_path in sorted(os.listdir(raw_data_path)):\n",
    "    if 'C0018FC_z.mat' not in next_path:\n",
    "        ld_mat.load_mat(data_path = os.path.join(raw_data_path,next_path))\n",
    "alff_index, alff_value, alff_columns = ld_excel.load_csv(data_path=f'../data/mdALFF matrix excel/mdALFF_{data_type}.csv')\n",
    "fc_value = ld_mat.callback()"
   ]
  },
  {
   "cell_type": "code",
   "execution_count": 3,
   "metadata": {},
   "outputs": [
    {
     "name": "stdout",
     "output_type": "stream",
     "text": [
      "ALFF var Feature Selection: AD8主觀認知障礙[0-1,>=2]\n",
      "ALFF var Feature Selection: MOCA客觀認知測驗分數[<=23,>=24]\n"
     ]
    }
   ],
   "source": [
    "model_stack_ALFF = [None, None]\n",
    "model_stack_FC = [None, None]\n",
    "model_feature_stack = []\n",
    "for idx, outcome_name in enumerate(['AD8主觀認知障礙[0-1,>=2]', 'MOCA客觀認知測驗分數[<=23,>=24]']):\n",
    "# for idx, outcome_name in enumerate(['AD8主觀認知障礙[0-1,>=2]']):\n",
    "    forest = RandomForestRegressor(max_depth = 5, n_jobs=-1, \n",
    "                        random_state=123)\n",
    "    # FC feature selection\n",
    "    print(f\"FC {data_type} Feature Selection:\", outcome_name)\n",
    "    print(outcome_name)\n",
    "    feat_selector_fc = BorutaPy(forest, verbose=0, random_state=123, max_iter=10)\n",
    "    feat_selector_fc.fit(fc_value, np.array(outcome_df[outcome_name]))\n",
    "    model_stack_FC[idx] = (feat_selector_fc)\n",
    "    ranking_stack = []\n",
    "    for (value, colum) in zip(feat_selector_fc.ranking_, [f'FC_{data_type}_{i}' for i in range (fc_value.shape[1])]):\n",
    "        ranking_stack.append([value, colum])\n",
    "    # ranking_stack = sorted(ranking_stack)\n",
    "    pd_rs = pd.DataFrame(ranking_stack, columns=['rank', 'feature_location'])\n",
    "    pd_rs.to_csv(f'./dataset/{outcome_name}_{data_type}_fc.csv', index=False)\n",
    "    model_feature_stack.append(pd_rs)\n",
    "\n",
    "    # # ALFF feature selection\n",
    "    # print(f\"ALFF {data_type} Feature Selection:\", outcome_name)\n",
    "    # feat_selector_alff = BorutaPy(forest, verbose=0, random_state=123, max_iter=10, alpha=0.01, two_step=True)\n",
    "    # feat_selector_alff.fit(np.array(alff_value), np.array(outcome_df[outcome_name]))\n",
    "    # model_stack_ALFF[idx] = feat_selector_alff\n",
    "\n",
    "    # ranking_stack = []\n",
    "    # for (value, colum) in zip(feat_selector_alff.ranking_,alff_value.columns.tolist()):\n",
    "    #     ranking_stack.append([value, colum])\n",
    "    # ranking_stack = sorted(ranking_stack)\n",
    "    # pd_rs = pd.DataFrame(ranking_stack, columns=['rank', 'feature_location'])\n",
    "    # pd_rs.to_csv(f'./dataset/{outcome_name}_{data_type}_overall.csv', index=False)\n",
    "    # model_feature_stack.append(pd_rs)"
   ]
  },
  {
   "cell_type": "code",
   "execution_count": 4,
   "metadata": {},
   "outputs": [
    {
     "name": "stdout",
     "output_type": "stream",
     "text": [
      "AD8主觀認知障礙[0-1,>=2] var\n",
      "    rank       feature_location\n",
      "0      2             164_Visual\n",
      "1      2  253_SomatomotorDorsal\n",
      "2      2            75_Auditory\n",
      "3      3             149_Visual\n",
      "4      4   211_VentralAttention\n",
      "5      5     177_FrontoParietal\n",
      "6      6             159_Visual\n",
      "7      7  46_SomatomotorLateral\n",
      "8      8        135_DefaultMode\n",
      "9     10             171_Visual\n",
      "10    10        277_DefaultMode\n",
      "11    10         91_DefaultMode\n",
      "12    12   29_SomatomotorDorsal\n",
      "13    13   35_SomatomotorDorsal\n",
      "14    14   260_CinguloOpercular\n",
      "15    15        131_DefaultMode\n",
      "16    16             161_Visual\n",
      "17    16            76_Auditory\n",
      "18    18             146_Visual\n",
      "19    18   257_VentralAttention\n",
      "20    20  300_SomatomotorDorsal\n",
      "21    21   267_CinguloOpercular\n",
      "22    22        120_DefaultMode\n",
      "23    22             157_Visual\n",
      "24    24             247_Reward\n",
      "25    25             156_Visual\n",
      "26    26            73_Auditory\n",
      "27    26         95_DefaultMode\n",
      "28    28           248_Salience\n",
      "29    28   30_SomatomotorDorsal\n",
      "\n",
      "\n",
      "MOCA客觀認知測驗分數[<=23,>=24] var\n",
      "    rank        feature_location\n",
      "0      2     53_CinguloOpercular\n",
      "1      3         277_DefaultMode\n",
      "2      4  270_SomatomotorLateral\n",
      "3      5              244_Reward\n",
      "4      6         111_DefaultMode\n",
      "5      7      187_FrontoParietal\n",
      "6      8  236_MedialTemporalLobe\n",
      "7     10              152_Visual\n",
      "8     10              161_Visual\n",
      "9     10     56_CinguloOpercular\n",
      "10    12     61_CinguloOpercular\n",
      "11    13   299_SomatomotorDorsal\n",
      "12    14    16_SomatomotorDorsal\n",
      "13    14    219_VentralAttention\n",
      "14    16    267_CinguloOpercular\n",
      "15    17              240_Reward\n",
      "16    18              163_Visual\n",
      "17    18              174_Visual\n",
      "18    21         239_DefaultMode\n",
      "19    21          83_DefaultMode\n",
      "20    21          96_DefaultMode\n",
      "21    23    268_CinguloOpercular\n",
      "22    24         116_DefaultMode\n",
      "23    25         282_DefaultMode\n",
      "24    26         238_DefaultMode\n",
      "25    27    29_SomatomotorDorsal\n",
      "26    28     227_DorsalAttention\n",
      "27    29     52_CinguloOpercular\n",
      "28    30              141_Visual\n",
      "29    31    32_SomatomotorDorsal\n",
      "\n",
      "\n"
     ]
    }
   ],
   "source": [
    "for i in zip(model_feature_stack, ['AD8主觀認知障礙[0-1,>=2]', 'MOCA客觀認知測驗分數[<=23,>=24]']):\n",
    "    print(i[1], data_type)\n",
    "    print(i[0].head(30))\n",
    "    print('\\n')"
   ]
  },
  {
   "cell_type": "code",
   "execution_count": null,
   "metadata": {},
   "outputs": [],
   "source": []
  }
 ],
 "metadata": {
  "kernelspec": {
   "display_name": "Python 3.8.13 ('SCD')",
   "language": "python",
   "name": "python3"
  },
  "language_info": {
   "codemirror_mode": {
    "name": "ipython",
    "version": 3
   },
   "file_extension": ".py",
   "mimetype": "text/x-python",
   "name": "python",
   "nbconvert_exporter": "python",
   "pygments_lexer": "ipython3",
   "version": "3.8.13"
  },
  "orig_nbformat": 4,
  "vscode": {
   "interpreter": {
    "hash": "96597a6526da840026ef28ca2cf7af0f0d1e8ac414b3707ac9b8ff8e95828e7e"
   }
  }
 },
 "nbformat": 4,
 "nbformat_minor": 2
}
