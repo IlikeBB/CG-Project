{
 "cells": [
  {
   "cell_type": "code",
   "execution_count": 1,
   "metadata": {},
   "outputs": [],
   "source": [
    "import pandas as pd, numpy as np, scipy, os, itertools\n",
    "from sklearn.ensemble import RandomForestRegressor\n",
    "from boruta import BorutaPy\n",
    "from func import loaders"
   ]
  },
  {
   "cell_type": "code",
   "execution_count": 2,
   "metadata": {},
   "outputs": [],
   "source": [
    "outcome_df = pd.read_csv('./data/clinical data/clinical_data_2.csv')[['subj', 'AD8主觀認知障礙[0-1,>=2]', 'MOCA客觀認知測驗分數[<=23,>=24]']]\n",
    "data_type ='mean' #mean, var\n",
    "ld_excel = loaders(data_type = data_type)\n",
    "ld_mat = loaders(data_type=data_type)\n",
    "raw_data_path = './data/dFC matrix matlab/'\n",
    "for next_path in sorted(os.listdir(raw_data_path)):\n",
    "    if 'C0018FC_z.mat' not in next_path:\n",
    "        ld_mat.load_mat(data_path = os.path.join(raw_data_path,next_path))\n",
    "alff_index, alff_value, alff_columns = ld_excel.load_csv(data_path=f'./data/mdALFF matrix excel/mdALFF_{data_type}.csv')\n",
    "fc_value = ld_mat.callback()"
   ]
  },
  {
   "cell_type": "code",
   "execution_count": 3,
   "metadata": {},
   "outputs": [
    {
     "name": "stdout",
     "output_type": "stream",
     "text": [
      "ALFF mean Feature Selection: AD8主觀認知障礙[0-1,>=2]\n",
      "ALFF mean Feature Selection: MOCA客觀認知測驗分數[<=23,>=24]\n"
     ]
    }
   ],
   "source": [
    "from import_library import *\n",
    "\n",
    "def data_spilt(patient_value, label_, outcome_name = 'AD8主觀認知障礙[0-1,>=2'):\n",
    "    if 'MOCA' in outcome_name:\n",
    "        label_s = [1 if (i>=24)  else 0  for i in list(label_)]\n",
    "    elif 'AD8' in outcome_name:\n",
    "        label_s = [1 if i>=2 else 0 for i in list(label_)]\n",
    "        label_ = label_+1\n",
    "    X_train, X_test, Y_label, _  = train_test_split(patient_value, list(label_s) , stratify=list(label_s), random_state=123)\n",
    "    y_train, y_test, _, _ = train_test_split(list(label_), list(label_s) , stratify=list(label_s), random_state=123)\n",
    "    return X_train, y_train, X_test, y_test\n",
    "    # 1.feature selection for total dataset or train dataset\n",
    "    # 2.feature selection overfitting?[boruta]. depth?\n",
    "    # 3._add_shadows_get_imp\n",
    "\n",
    "model_stack_ALFF = [None, None]\n",
    "model_stack_FC = [None, None]\n",
    "model_feature_stack = []\n",
    "for idx, outcome_name in enumerate(['AD8主觀認知障礙[0-1,>=2]', 'MOCA客觀認知測驗分數[<=23,>=24]']):\n",
    "# for idx, outcome_name in enumerate(['AD8主觀認知障礙[0-1,>=2]']):\n",
    "    forest = RandomForestRegressor(max_depth = 5, n_jobs=-1, \n",
    "                        random_state=123, criterion = 'absolute_error')\n",
    "    # FC feature selection\n",
    "    print(f\"FC {data_type} Feature Selection:\", outcome_name)\n",
    "    X, y, _, _ = data_spilt(fc_value, outcome_df[outcome_name], outcome_name,)\n",
    "    feat_selector_fc = BorutaPy(forest, verbose=0, random_state=123, max_iter=10)\n",
    "    feat_selector_fc.fit(np.array(X), np.array(y))\n",
    "    model_stack_FC[idx] = (feat_selector_fc)\n",
    "    # feature_df = pd.DataFrame([f'FC_{data_type}_{i}' for i in range (fc_value.shape[1])], columns=['features'])\n",
    "    # feature_df['rank'] = feat_selector_fc.ranking_\n",
    "    # feature_df = feature_df.sort_values(by=['rank']).reset_index()\n",
    "    # feature_df.to_csv(f'./feature_selection/{outcome_name}_FC_{data_type}_feature-selection.csv')\n",
    "    ranking_stack = []\n",
    "    for (value, colum) in zip(feat_selector_fc.ranking_, [f'FC_{data_type}_{i}' for i in range (fc_value.shape[1])]):\n",
    "        ranking_stack.append([value, colum])\n",
    "    # ranking_stack = sorted(ranking_stack)\n",
    "    pd_rs = pd.DataFrame(ranking_stack, columns=['rank', 'feature_location'])\n",
    "    pd_rs.to_csv(f'./feature_selection_result/{outcome_name}_{data_type}_fc.csv', index=False)\n",
    "    model_feature_stack.append(pd_rs)\n",
    "\n",
    "    # ALFF feature selection\n",
    "    print(f\"ALFF {data_type} Feature Selection:\", outcome_name)\n",
    "    X, y, _, _  = data_spilt(alff_value, outcome_df[outcome_name], outcome_name = outcome_name)\n",
    "    feat_selector_alff = BorutaPy(forest, verbose=0, random_state=123, max_iter=10, alpha=0.01, two_step=True)\n",
    "    feat_selector_alff.fit(np.array(X), np.array(y))\n",
    "    model_stack_ALFF[idx] = feat_selector_alff\n",
    "    # feature_df = pd.DataFrame(alff_columns.tolist(), columns=['features'])\n",
    "    # feature_df['rank'] = feat_selector_alff.ranking_\n",
    "    # feature_df = feature_df.sort_values(by=['rank']).reset_index()\n",
    "    # feature_df.to_csv(f'./feature_selection/{outcome_name}_ALFF_{data_type}_feature-selection.csv')\n",
    "    ranking_stack = []\n",
    "    for (value, colum) in zip(feat_selector_alff.ranking_,X.columns.tolist()):\n",
    "        ranking_stack.append([value, colum])\n",
    "    ranking_stack = sorted(ranking_stack)\n",
    "    pd_rs = pd.DataFrame(ranking_stack, columns=['rank', 'feature_location'])\n",
    "    pd_rs.to_csv(f'./feature_selection_result/{outcome_name}_{data_type}_RFabsolute_error.csv', index=False)\n",
    "    model_feature_stack.append(pd_rs)"
   ]
  },
  {
   "cell_type": "code",
   "execution_count": 4,
   "metadata": {},
   "outputs": [
    {
     "name": "stdout",
     "output_type": "stream",
     "text": [
      "AD8主觀認知障礙[0-1,>=2]\n",
      "   rank      feature_location\n",
      "0     2    288_FrontoParietal\n",
      "1     3  211_VentralAttention\n",
      "2     4  13_SomatomotorDorsal\n",
      "3     5    285_FrontoParietal\n",
      "4     6          248_Salience\n",
      "5     7   65_CinguloOpercular\n",
      "6     8       279_DefaultMode\n",
      "7     9       277_DefaultMode\n",
      "8    10  18_SomatomotorDorsal\n",
      "9    11            143_Visual\n",
      "\n",
      "\n",
      "MOCA客觀認知測驗分數[<=23,>=24]\n",
      "   rank        feature_location\n",
      "0     2     60_CinguloOpercular\n",
      "1     3  255_SomatomotorLateral\n",
      "2     4            205_Salience\n",
      "3     5            6_unassigned\n",
      "4     6         129_DefaultMode\n",
      "5     7         111_DefaultMode\n",
      "6     8              143_Visual\n",
      "7     9              240_Reward\n",
      "8    10             77_Auditory\n",
      "9    11          86_DefaultMode\n",
      "\n",
      "\n"
     ]
    }
   ],
   "source": [
    "for i in zip(model_feature_stack, ['AD8主觀認知障礙[0-1,>=2]', 'MOCA客觀認知測驗分數[<=23,>=24]']):\n",
    "    print(i[1])\n",
    "    print(i[0].head(10))\n",
    "    print('\\n')"
   ]
  },
  {
   "cell_type": "code",
   "execution_count": 5,
   "metadata": {},
   "outputs": [],
   "source": [
    "# for idx, i in enumerate(model_feature_stack):\n",
    "#     rank_sorted = i['rank'].tolist()\n",
    "#     rank_value = [max(rank_sorted)-i for i in rank_sorted]\n",
    "#     model_feature_stack[idx]['rank_value'] = rank_value"
   ]
  },
  {
   "cell_type": "code",
   "execution_count": 6,
   "metadata": {},
   "outputs": [],
   "source": [
    "# import matplotlib.pyplot as plt\n",
    "# plt_title = [f\"FC {data_type} Feature Selection: AD8\", f\"ALFF {data_type} Feature Selection: AD8\", f\"FC {data_type} Feature Selection: MOCA\", f\"ALFF {data_type} Feature Selection: MOCA\"]\n",
    "# for idx, i in enumerate(plt_title):\n",
    "#     fig = plt.figure(figsize=(40,5))\n",
    "#     plt.title(i) # 圖的標題\n",
    "#     plt.xlabel(\"x axis\", fontsize=10) # x軸的名稱\n",
    "\n",
    "#     plt.ylabel(\"y axis\", fontsize=10) # y軸的名稱\n",
    "#     plt.bar( model_feature_stack[idx]['feature_location'].tolist()[:100], model_feature_stack[idx]['rank_value'].head(100).values) # 繪製長條圖\n",
    "#     plt.xticks(rotation=90)\n",
    "#     plt.show() # 顯現圖形"
   ]
  },
  {
   "cell_type": "code",
   "execution_count": 7,
   "metadata": {},
   "outputs": [],
   "source": [
    "# new_df = pd.DataFrame(X.columns.tolist(), columns =['feature_location'])"
   ]
  },
  {
   "cell_type": "code",
   "execution_count": 8,
   "metadata": {},
   "outputs": [],
   "source": [
    "# print(model_stack_ALFF[0].importance_history_[8])"
   ]
  },
  {
   "cell_type": "code",
   "execution_count": 9,
   "metadata": {},
   "outputs": [],
   "source": [
    "# for model_, d_t in zip(model_stack_FC['BorutaPy'],[f'FC {data_type} - AD8', f'FC {data_type} - MOCA']):\n",
    "#     print('-----BorutaPy ',d_t,'-----')\n",
    "#     X, y, _, _ = data_spilt(fc_value, outcome_df[outcome_name], outcome_name,)\n",
    "#     X = pd.DataFrame(X, columns=[f'FC_{data_type}_{i}' for i in range (fc_value.shape[1])])\n",
    "#     green_area = X.columns[model_.support_].to_list()\n",
    "#     blue_area  = X.columns[model_.support_weak_].to_list()\n",
    "#     print('features in the green area:', green_area)\n",
    "#     print('features in the blue area:', blue_area)"
   ]
  },
  {
   "cell_type": "code",
   "execution_count": 10,
   "metadata": {},
   "outputs": [],
   "source": [
    "# for model_, d_t in zip(model_stack_ALFF['BorutaPy'],[f'ALFF {data_type} - AD8', f'ALFF {data_type} - MOCA']):\n",
    "#     print('-----BorutaPy ',d_t,'-----')\n",
    "#     X, y, _, _  = data_spilt(alff_value, outcome_df[outcome_name], outcome_name = outcome_name)\n",
    "#     green_area = X.columns[model_.support_].to_list()\n",
    "#     blue_area  = X.columns[model_.support_weak_].to_list()\n",
    "#     print('features in the green area:', green_area)\n",
    "#     print('features in the blue area:', blue_area)"
   ]
  }
 ],
 "metadata": {
  "kernelspec": {
   "display_name": "Python 3.6.13 ('SGD')",
   "language": "python",
   "name": "python3"
  },
  "language_info": {
   "codemirror_mode": {
    "name": "ipython",
    "version": 3
   },
   "file_extension": ".py",
   "mimetype": "text/x-python",
   "name": "python",
   "nbconvert_exporter": "python",
   "pygments_lexer": "ipython3",
   "version": "3.6.13"
  },
  "orig_nbformat": 4,
  "vscode": {
   "interpreter": {
    "hash": "4665f7484a0bffeb453a5c4a3f9172c008eba4e225e0a746b21d144b5d5fbcdb"
   }
  }
 },
 "nbformat": 4,
 "nbformat_minor": 2
}
