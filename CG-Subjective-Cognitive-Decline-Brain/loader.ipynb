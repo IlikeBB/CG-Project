{
 "cells": [
  {
   "cell_type": "code",
   "execution_count": 1,
   "metadata": {},
   "outputs": [],
   "source": [
    "import scipy.io\n",
    "mat = scipy.io.loadmat('./data/image data/dFC matrix matlab/C0005FC_z.mat') "
   ]
  },
  {
   "cell_type": "code",
   "execution_count": 2,
   "metadata": {},
   "outputs": [
    {
     "data": {
      "text/plain": [
       "{'__header__': b'MATLAB 5.0 MAT-file, Platform: MACI64, Created on: Mon Jun 20 16:06:49 2022',\n",
       " '__version__': '1.0',\n",
       " '__globals__': [],\n",
       " 'FCM_mean': array([[        inf,  0.31928765, -0.08054767, ...,  0.07644688,\n",
       "          0.07029403,  0.12109675],\n",
       "        [ 0.31928765,         inf, -0.06968087, ...,  0.1537808 ,\n",
       "          0.06058801,  0.28147821],\n",
       "        [-0.08054767, -0.06968087,         inf, ..., -0.18634432,\n",
       "         -0.05420762, -0.09843596],\n",
       "        ...,\n",
       "        [ 0.07644688,  0.1537808 , -0.18634432, ...,         inf,\n",
       "          0.31283168,  0.15261696],\n",
       "        [ 0.07029403,  0.06058801, -0.05420762, ...,  0.31283168,\n",
       "                 inf,  0.06209362],\n",
       "        [ 0.12109675,  0.28147821, -0.09843596, ...,  0.15261696,\n",
       "          0.06209362,         inf]]),\n",
       " 'FCM_var': array([[       nan, 0.062678  , 0.06741703, ..., 0.0269129 , 0.02758238,\n",
       "         0.03469393],\n",
       "        [0.062678  ,        nan, 0.01979667, ..., 0.20465379, 0.0684642 ,\n",
       "         0.00500151],\n",
       "        [0.06741703, 0.01979667,        nan, ..., 0.08185479, 0.05097265,\n",
       "         0.05285794],\n",
       "        ...,\n",
       "        [0.0269129 , 0.20465379, 0.08185479, ...,        nan, 0.15247479,\n",
       "         0.08474012],\n",
       "        [0.02758238, 0.0684642 , 0.05097265, ..., 0.15247479,        nan,\n",
       "         0.05561549],\n",
       "        [0.03469393, 0.00500151, 0.05285794, ..., 0.08474012, 0.05561549,\n",
       "                nan]])}"
      ]
     },
     "execution_count": 2,
     "metadata": {},
     "output_type": "execute_result"
    }
   ],
   "source": [
    "mat"
   ]
  },
  {
   "cell_type": "code",
   "execution_count": 3,
   "metadata": {},
   "outputs": [
    {
     "data": {
      "text/plain": [
       "dict_keys(['__header__', '__version__', '__globals__', 'FCM_mean', 'FCM_var'])"
      ]
     },
     "execution_count": 3,
     "metadata": {},
     "output_type": "execute_result"
    }
   ],
   "source": [
    "mat.keys()"
   ]
  },
  {
   "cell_type": "code",
   "execution_count": 4,
   "metadata": {},
   "outputs": [
    {
     "data": {
      "text/plain": [
       "((300, 300),\n",
       " array([[        inf,  0.31928765, -0.08054767, ...,  0.07644688,\n",
       "          0.07029403,  0.12109675],\n",
       "        [ 0.31928765,         inf, -0.06968087, ...,  0.1537808 ,\n",
       "          0.06058801,  0.28147821],\n",
       "        [-0.08054767, -0.06968087,         inf, ..., -0.18634432,\n",
       "         -0.05420762, -0.09843596],\n",
       "        ...,\n",
       "        [ 0.07644688,  0.1537808 , -0.18634432, ...,         inf,\n",
       "          0.31283168,  0.15261696],\n",
       "        [ 0.07029403,  0.06058801, -0.05420762, ...,  0.31283168,\n",
       "                 inf,  0.06209362],\n",
       "        [ 0.12109675,  0.28147821, -0.09843596, ...,  0.15261696,\n",
       "          0.06209362,         inf]]))"
      ]
     },
     "execution_count": 4,
     "metadata": {},
     "output_type": "execute_result"
    }
   ],
   "source": [
    "fcm_mean = mat['FCM_mean']\n",
    "mat['FCM_mean'].shape, mat['FCM_mean']"
   ]
  },
  {
   "cell_type": "code",
   "execution_count": 5,
   "metadata": {},
   "outputs": [
    {
     "data": {
      "text/plain": [
       "((300, 300),\n",
       " array([[       nan, 0.062678  , 0.06741703, ..., 0.0269129 , 0.02758238,\n",
       "         0.03469393],\n",
       "        [0.062678  ,        nan, 0.01979667, ..., 0.20465379, 0.0684642 ,\n",
       "         0.00500151],\n",
       "        [0.06741703, 0.01979667,        nan, ..., 0.08185479, 0.05097265,\n",
       "         0.05285794],\n",
       "        ...,\n",
       "        [0.0269129 , 0.20465379, 0.08185479, ...,        nan, 0.15247479,\n",
       "         0.08474012],\n",
       "        [0.02758238, 0.0684642 , 0.05097265, ..., 0.15247479,        nan,\n",
       "         0.05561549],\n",
       "        [0.03469393, 0.00500151, 0.05285794, ..., 0.08474012, 0.05561549,\n",
       "                nan]]))"
      ]
     },
     "execution_count": 5,
     "metadata": {},
     "output_type": "execute_result"
    }
   ],
   "source": [
    "mat['FCM_var'].shape, mat['FCM_var']"
   ]
  },
  {
   "cell_type": "code",
   "execution_count": null,
   "metadata": {},
   "outputs": [],
   "source": []
  },
  {
   "cell_type": "code",
   "execution_count": null,
   "metadata": {},
   "outputs": [],
   "source": []
  }
 ],
 "metadata": {
  "kernelspec": {
   "display_name": "Python 3.7.9 ('MNI-SGD')",
   "language": "python",
   "name": "python3"
  },
  "language_info": {
   "codemirror_mode": {
    "name": "ipython",
    "version": 3
   },
   "file_extension": ".py",
   "mimetype": "text/x-python",
   "name": "python",
   "nbconvert_exporter": "python",
   "pygments_lexer": "ipython3",
   "version": "3.7.9"
  },
  "orig_nbformat": 4,
  "vscode": {
   "interpreter": {
    "hash": "a9a9f6540bf554a35b2c82ffc2252af7952963494c5548299b5ab247ef9e2099"
   }
  }
 },
 "nbformat": 4,
 "nbformat_minor": 2
}
