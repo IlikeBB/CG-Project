{
 "cells": [
  {
   "cell_type": "code",
   "execution_count": null,
   "metadata": {},
   "outputs": [],
   "source": [
    "import zipfile, os, cv2\n",
    "import numpy as np\n",
    "import tensorflow as tf\n",
    "tf.executing_eagerly()\n",
    "from tensorflow import keras\n",
    "# Display\n",
    "from IPython.display import Image\n",
    "import matplotlib.pyplot as plt\n",
    "import matplotlib.cm as cm\n",
    "from keras import backend as K\n",
    "K.set_image_data_format('channels_last')"
   ]
  },
  {
   "cell_type": "code",
   "execution_count": null,
   "metadata": {},
   "outputs": [],
   "source": [
    "# np.save('np_multi/image_arr', image_arr)\n",
    "# np.save('np_multi/mask_arr', mask_arr)\n",
    "image_arr = np.load('np_multi/image_arr_cv1.npy').astype(np.float32)\n",
    "mask_arr = np.load('np_multi/mask__arr_cv1.npy').astype(np.float32)\n",
    "print(image_arr.shape, mask_arr.shape)\n",
    "image_arr = np.transpose(image_arr, (0,3,1,2,4))\n",
    "mask_arr = np.transpose(mask_arr, (0,3,1,2,4))\n",
    "print(image_arr.shape, mask_arr.shape)"
   ]
  },
  {
   "cell_type": "code",
   "execution_count": null,
   "metadata": {},
   "outputs": [],
   "source": [
    "x_train = image_arr[:60]\n",
    "y_train = mask_arr[:60]\n",
    "x_val = image_arr[60:]\n",
    "y_val = mask_arr[60:]"
   ]
  },
  {
   "cell_type": "code",
   "execution_count": null,
   "metadata": {},
   "outputs": [],
   "source": [
    "# 3d shape to 2d shape\n",
    "print(x_train.shape, x_val.shape)\n",
    "imgs_train = np.reshape(x_train,(x_train.shape[0]*x_train.shape[1],192,192,1))\n",
    "imgs_mask_train = np.reshape(y_train,(y_train.shape[0]*y_train.shape[1],192,192,1))\n",
    "imgs_valid = np.reshape(x_val,(x_val.shape[0]*x_val.shape[1],192,192,1))\n",
    "imgs_mask_valid = np.reshape(y_val,(y_val.shape[0]*y_val.shape[1],192,192,1))\n",
    "print(imgs_train.shape, imgs_valid.shape)\n",
    "# image_arr = np.transpose(image_arr,(0,2,3,1))\n",
    "# mask_arr = np.transpose(mask_arr,(0,2,3,1))"
   ]
  },
  {
   "cell_type": "code",
   "execution_count": null,
   "metadata": {},
   "outputs": [],
   "source": [
    "from keras.preprocessing.image import ImageDataGenerator\n",
    "image_aug = ImageDataGenerator(\n",
    "#             rotation_range = 20,\n",
    "#             brightness_range=[0.5, 1.5],\n",
    "            )\n",
    "\n",
    "mask_aug = ImageDataGenerator(\n",
    "#             rotation_range = 20,\n",
    "#             brightness_range=[1, 1.5]\n",
    "            )"
   ]
  },
  {
   "cell_type": "code",
   "execution_count": null,
   "metadata": {},
   "outputs": [],
   "source": [
    "seed=1\n",
    "batch_size=32\n",
    "X_train_datagen = image_aug.flow(imgs_train, batch_size=batch_size, seed=seed)\n",
    "Y_train_datagen = mask_aug.flow(imgs_mask_train, batch_size=batch_size, seed=seed)\n",
    "train_generator = zip(X_train_datagen, Y_train_datagen)\n",
    "\n",
    "X_valid_datagen = image_aug.flow(imgs_valid, batch_size=batch_size, seed=seed)\n",
    "Y_valid_datagen = mask_aug.flow(imgs_mask_valid, batch_size=batch_size, seed=seed)\n",
    "valid_generator = zip(X_valid_datagen, Y_valid_datagen)"
   ]
  },
  {
   "cell_type": "code",
   "execution_count": null,
   "metadata": {},
   "outputs": [],
   "source": [
    "# num_batch = 32\n",
    "# for i,batch in enumerate(X_valid_datagen):\n",
    "#     if(i >= num_batch):\n",
    "#         break"
   ]
  },
  {
   "cell_type": "code",
   "execution_count": null,
   "metadata": {},
   "outputs": [],
   "source": [
    "def dice_coef(y_true, y_pred, smooth=1):\n",
    "    y_true_f = K.flatten(y_true)\n",
    "    y_pred_f = K.flatten(y_pred)\n",
    "    intersection = K.sum(y_true_f * y_pred_f)\n",
    "    return (2. * intersection + smooth) / (K.sum(y_true_f) + K.sum(y_pred_f) + smooth)\n",
    "\n",
    "def dice_coef_loss(y_true, y_pred):\n",
    "    return 1 - dice_coef(y_true, y_pred)\n",
    "\n",
    "def dice_p_bce(in_gt, in_pred):\n",
    "    return 1e-3*binary_crossentropy(in_gt, in_pred) - dice_coef(in_gt, in_pred)\n",
    "\n",
    "def tversky(y_true, y_pred, smooth=1, alpha=0.7):\n",
    "    y_true_pos = K.flatten(y_true)\n",
    "    y_pred_pos = K.flatten(y_pred)\n",
    "    true_pos = K.sum(y_true_pos * y_pred_pos)\n",
    "    false_neg = K.sum(y_true_pos * (1 - y_pred_pos))\n",
    "    false_pos = K.sum((1 - y_true_pos) * y_pred_pos)\n",
    "    return (true_pos + smooth) / (true_pos + alpha * false_neg + (1 - alpha) * false_pos + smooth)\n",
    "\n",
    "def tversky_loss(y_true, y_pred):\n",
    "    return 1 - tversky(y_true, y_pred)\n",
    "\n",
    "def focal_tversky_loss(y_true, y_pred, gamma=2.):\n",
    "    tv = tversky(y_true, y_pred)\n",
    "    return K.pow((1 - tv), gamma)\n",
    "\n",
    "def precision(y_true, y_pred):\n",
    "    true_positives = K.sum(K.round(K.clip(y_true * y_pred, 0, 1)))\n",
    "    predicted_positives = K.sum(K.round(K.clip(y_pred, 0, 1)))\n",
    "    precision = true_positives / (predicted_positives + K.epsilon())\n",
    "    return precision\n",
    "\n",
    "def recall(y_true, y_pred):\n",
    "    true_positives = K.sum(K.round(K.clip(y_true * y_pred, 0, 1)))\n",
    "    possible_positives = K.sum(K.round(K.clip(y_true, 0, 1)))\n",
    "    recall = true_positives / (possible_positives + K.epsilon())\n",
    "    return recall"
   ]
  },
  {
   "cell_type": "code",
   "execution_count": null,
   "metadata": {},
   "outputs": [],
   "source": [
    "from model_2D_unet import *\n",
    "# fitting shape [[slice, w, h, c], class]\n",
    "model = get_unet()\n",
    "# model.compile(optimizer=Adam(lr=1e-5, beta_1=0.9, beta_2=0.999, epsilon=1e-08, decay=0.000000199), \n",
    "#            loss='binary_crossentropy', metrics=['accuracy',dice_coef])\n",
    "learning_rate = 1e-5\n",
    "epoch = 30\n",
    "learning_decay_rate = learning_rate/epoch\n",
    "model.compile(optimizer=Adam(lr=learning_rate, beta_1=0.9, beta_2=0.999, epsilon=None, \n",
    "                             decay=learning_decay_rate, amsgrad=False), \n",
    "           loss=dice_p_bce, metrics=['accuracy',dice_coef])"
   ]
  },
  {
   "cell_type": "code",
   "execution_count": null,
   "metadata": {},
   "outputs": [],
   "source": [
    "from keras.callbacks import ModelCheckpoint, TensorBoard\n",
    "weight_dir = 'checkpoint'\n",
    "if not os.path.exists(weight_dir):\n",
    "    os.mkdir(weight_dir)\n",
    "# checkpoint_name = 'Unet_mri-epoch:{epoch:02d}-loss:{loss:.2f}-Dice:{dice_coef:.4f}.hdf5'\n",
    "checkpoint_name = 'Unet_mri-best_cv1_noaug_u_2d'\n",
    "model_checkpoint = ModelCheckpoint(os.path.join(weight_dir+'/metric_try2',f\"{checkpoint_name}.hdf5\"), \n",
    "                                   monitor='val_loss', mode=\"auto\", verbose=0, save_best_only=True)\n",
    "logdir = os.path.join(\"checkpoint/tensorboard/\", checkpoint_name)\n",
    "tensorboard_callback = keras.callbacks.TensorBoard(log_dir=logdir,histogram_freq=1,\n",
    "                                         embeddings_freq=0,embeddings_layer_names=None,)\n"
   ]
  },
  {
   "cell_type": "code",
   "execution_count": null,
   "metadata": {},
   "outputs": [],
   "source": [
    "print('-'*30,'\\nFitting model...\\n','-'*30)\n",
    "# history = model.fit(imgs_train, imgs_mask_train, batch_size=1, epochs=epoch, verbose=1, \n",
    "#                     shuffle=True, validation_data=(imgs_valid,imgs_mask_valid), \n",
    "#                     callbacks=[model_checkpoint,tensorboard_callback])\n",
    "\n",
    "history = model.fit_generator(train_generator, epochs=epoch, verbose=1,\n",
    "                    steps_per_epoch= len(imgs_train)//1,\n",
    "                    shuffle=True, validation_data=valid_generator,\n",
    "                    validation_steps= len(imgs_valid)//1,          \n",
    "                    callbacks=[model_checkpoint,tensorboard_callback])\n",
    "\n",
    "\n",
    "# history = model.fit(train_dataset, epochs=epoch, verbose=2, \n",
    "#                     shuffle=True, validation_data=validation_dataset, \n",
    "#                     callbacks=[model_checkpoint,tensorboard_callback])\n"
   ]
  },
  {
   "cell_type": "code",
   "execution_count": null,
   "metadata": {},
   "outputs": [],
   "source": [
    "print('-'*30)\n",
    "print('Loading and preprocessing test data...')\n",
    "print('-'*30)\n",
    "\n",
    "\n",
    "imgs_test = imgs_valid\n",
    "imgs_mask_test = imgs_mask_valid\n",
    "\n",
    "\n",
    "print('-'*30)\n",
    "print('Loading saved weights...')\n",
    "print('-'*30)\n",
    "\n",
    "model = get_unet()\n",
    "weight_dir = 'checkpoint/metric_try2'\n",
    "checkpoint_name = checkpoint_name+'.hdf5'\n",
    "model.load_weights(os.path.join(weight_dir,checkpoint_name ))"
   ]
  },
  {
   "cell_type": "code",
   "execution_count": null,
   "metadata": {},
   "outputs": [],
   "source": [
    "Results = model.predict(imgs_test, batch_size=1, verbose=1)"
   ]
  },
  {
   "cell_type": "code",
   "execution_count": null,
   "metadata": {},
   "outputs": [],
   "source": [
    "Results.shape"
   ]
  },
  {
   "cell_type": "code",
   "execution_count": null,
   "metadata": {
    "scrolled": false
   },
   "outputs": [],
   "source": [
    "import matplotlib.pyplot as plt\n",
    "for j in range(Results.shape[0]):\n",
    "        if np.max(imgs_test[j])>0:\n",
    "            plt.figure(figsize=(10,4))\n",
    "            plt.subplot(1,3,1)\n",
    "            plt.imshow(np.squeeze(imgs_test[j]))\n",
    "            plt.title('Original Image')\n",
    "            plt.subplot(1,3,2)\n",
    "            plt.imshow(np.squeeze(imgs_mask_test[j]))\n",
    "            plt.title('Original Mask')\n",
    "            plt.subplot(1,3,3)\n",
    "            plt.imshow(np.squeeze(Results[j]) > .5)\n",
    "            plt.title('Prediction')\n",
    "            plt.show()"
   ]
  },
  {
   "cell_type": "code",
   "execution_count": null,
   "metadata": {},
   "outputs": [],
   "source": []
  }
 ],
 "metadata": {
  "kernelspec": {
   "display_name": "Python 3",
   "language": "python",
   "name": "python3"
  },
  "language_info": {
   "codemirror_mode": {
    "name": "ipython",
    "version": 3
   },
   "file_extension": ".py",
   "mimetype": "text/x-python",
   "name": "python",
   "nbconvert_exporter": "python",
   "pygments_lexer": "ipython3",
   "version": "3.7.9"
  }
 },
 "nbformat": 4,
 "nbformat_minor": 4
}
