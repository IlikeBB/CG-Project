{
 "cells": [
  {
   "cell_type": "code",
   "execution_count": 24,
   "metadata": {},
   "outputs": [],
   "source": [
    "import os, sys, numpy as np\n",
    "import tensorflow as tf\n",
    "from keras.utils.np_utils import to_categorical\n",
    "from tensorflow import keras\n",
    "import matplotlib.pyplot as plt\n",
    "from mpl_toolkits import mplot3d\n",
    "from ipywidgets import interact\n",
    "from sklearn.model_selection import train_test_split"
   ]
  },
  {
   "cell_type": "code",
   "execution_count": 32,
   "metadata": {},
   "outputs": [
    {
     "name": "stdout",
     "output_type": "stream",
     "text": [
      "(132, 32, 192, 192) (132, 32, 192, 192)\n"
     ]
    }
   ],
   "source": [
    "image = np.load('np_multi/image_arr_154.npy')\n",
    "mask_ = np.load('np_multi/mask_arr_154.npy')\n",
    "print(image.shape, mask_.shape)"
   ]
  },
  {
   "cell_type": "code",
   "execution_count": 33,
   "metadata": {},
   "outputs": [],
   "source": [
    "# !git clone https://github.com/dhuy228/augmented-volumetric-image-generator"
   ]
  },
  {
   "cell_type": "code",
   "execution_count": 27,
   "metadata": {},
   "outputs": [
    {
     "name": "stdout",
     "output_type": "stream",
     "text": [
      "(86, 192, 192, 32) (86, 192, 192, 32)\n"
     ]
    }
   ],
   "source": [
    "# transpose (0,1,2,3) -> (0,2,3,1) = (86,32,192,192) -> (86,192,192,32)\n",
    "image2 = np.transpose(image,(0,2,3,1))\n",
    "mask2_ = np.transpose(mask_,(0,2,3,1))\n",
    "print(image2.shape, mask2_.shape)"
   ]
  },
  {
   "cell_type": "code",
   "execution_count": 28,
   "metadata": {},
   "outputs": [],
   "source": [
    "image = np.expand_dims(image2, axis=-1)\n",
    "mask_ = np.expand_dims(mask2_, axis=-1)"
   ]
  },
  {
   "cell_type": "code",
   "execution_count": 29,
   "metadata": {},
   "outputs": [
    {
     "name": "stdout",
     "output_type": "stream",
     "text": [
      "(86, 192, 192, 32, 1) (86, 192, 192, 32, 1)\n"
     ]
    }
   ],
   "source": [
    "print(image.shape, mask_.shape)"
   ]
  },
  {
   "cell_type": "code",
   "execution_count": 30,
   "metadata": {},
   "outputs": [
    {
     "name": "stdout",
     "output_type": "stream",
     "text": [
      "11713967.742753647\n",
      "11713967.742753647\n"
     ]
    }
   ],
   "source": [
    "from augmented import generator\n",
    "XX = image\n",
    "YY = mask_\n",
    "# XX = np.random.rand(86, 32, 192, 192, 1)\n",
    "# YY = np.random.rand(86, 32, 192, 192, 1)\n",
    "print(np.sum(XX))\n",
    "threshold = 0.5\n",
    "# XX = XX>threshold\n",
    "# YY = YY>threshold\n",
    "print(np.sum(XX))"
   ]
  },
  {
   "cell_type": "code",
   "execution_count": 31,
   "metadata": {
    "scrolled": true
   },
   "outputs": [
    {
     "data": {
      "application/vnd.jupyter.widget-view+json": {
       "model_id": "053a71ff62fb4e51a832b394c5ea2043",
       "version_major": 2,
       "version_minor": 0
      },
      "text/plain": [
       "interactive(children=(IntSlider(value=15, description='i', max=31), Output()), _dom_classes=('widget-interact'…"
      ]
     },
     "metadata": {},
     "output_type": "display_data"
    }
   ],
   "source": [
    "%matplotlib inline\n",
    "def browse_image(images, labels):\n",
    "#     shape = depth, height, wight\n",
    "    n = images.shape[2]\n",
    "    \n",
    "    def view_image(i):\n",
    "        \n",
    "        fig, ax = plt.subplots(nrows = 1, ncols = 2)\n",
    "        ax[0].imshow(images[...,i], cmap = 'gray', interpolation = 'nearest')\n",
    "        ax[0].set_title('X Slice: %s' %i)\n",
    "        ax[1].imshow(labels[...,i], cmap = 'gray', interpolation = 'nearest')\n",
    "        ax[1].set_title('Y Slice: %s' %i)\n",
    "    interact(view_image, i = (0,n-1))\n",
    "browse_image(XX[20,...,0], YY[20,...,0])"
   ]
  },
  {
   "cell_type": "code",
   "execution_count": 9,
   "metadata": {},
   "outputs": [],
   "source": [
    "S1 = mask_[:30]*1\n",
    "S2 = mask_[30:50]*2\n",
    "S3 = mask_[50:]*3\n",
    "Class_data = np.concatenate((S1,S2,S3),axis=0)\n",
    "Class_data = to_categorical(Class_data,4,dtype='uint8')"
   ]
  },
  {
   "cell_type": "code",
   "execution_count": 20,
   "metadata": {},
   "outputs": [],
   "source": [
    "seed = 42\n",
    "bs = 1\n",
    "X_train_c, X_valid_c, Y_train_c, Y_valid_c = train_test_split(XX, Class_data, test_size = 0.2, \n",
    "                                                              random_state = 20)"
   ]
  },
  {
   "cell_type": "code",
   "execution_count": 21,
   "metadata": {},
   "outputs": [
    {
     "name": "stdout",
     "output_type": "stream",
     "text": [
      "(68, 192, 192, 32, 4)\n",
      "1\n",
      "5.849462509155273\n"
     ]
    }
   ],
   "source": [
    "print(Y_train_c.shape)\n",
    "print(np.max(Y_train_c))\n",
    "print(np.max(X_train_c))\n",
    "# print(Y_train_c[0])"
   ]
  },
  {
   "cell_type": "code",
   "execution_count": 12,
   "metadata": {},
   "outputs": [],
   "source": [
    "image_aug = generator.customImageDataGenerator(rotation_range = 20)\n",
    "mask_aug = generator.customImageDataGenerator(rotation_range = 20)"
   ]
  },
  {
   "cell_type": "code",
   "execution_count": 16,
   "metadata": {},
   "outputs": [],
   "source": [
    "X_train_datagen = image_aug.flow(X_train_c, batch_size=bs, seed=seed)\n",
    "Y_train_datagen = mask_aug.flow(Y_train_c, batch_size=bs, seed=seed)\n",
    "train_generator = zip(X_train_datagen, Y_train_datagen)\n",
    "\n",
    "X_valid_datagen = image_aug.flow(X_valid_c, batch_size=bs, seed=seed,\n",
    "                                save_to_dir='temp/')\n",
    "Y_valid_datagen = mask_aug.flow(Y_valid_c, batch_size=bs, seed=seed)\n",
    "valid_generator = zip(X_valid_datagen, Y_valid_datagen)"
   ]
  },
  {
   "cell_type": "code",
   "execution_count": null,
   "metadata": {},
   "outputs": [],
   "source": []
  }
 ],
 "metadata": {
  "kernelspec": {
   "display_name": "Python 3",
   "language": "python",
   "name": "python3"
  },
  "language_info": {
   "codemirror_mode": {
    "name": "ipython",
    "version": 3
   },
   "file_extension": ".py",
   "mimetype": "text/x-python",
   "name": "python",
   "nbconvert_exporter": "python",
   "pygments_lexer": "ipython3",
   "version": "3.7.9"
  }
 },
 "nbformat": 4,
 "nbformat_minor": 4
}
