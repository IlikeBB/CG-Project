{
 "cells": [
  {
   "cell_type": "code",
   "execution_count": 1,
   "metadata": {},
   "outputs": [],
   "source": [
    "import numpy as np\n",
    "brightness_range=[0.5,1.5]"
   ]
  },
  {
   "cell_type": "code",
   "execution_count": 2,
   "metadata": {},
   "outputs": [],
   "source": [
    "def apply_brightness_shift(x, brightness):\n",
    "    \"\"\"Performs a brightness shift.\n",
    "    # Arguments\n",
    "        x: Input tensor. Must be 3D.\n",
    "        brightness: Float. The new brightness value.\n",
    "        channel_axis: Index of axis for channels in the input tensor.\n",
    "    # Returns\n",
    "        Numpy image tensor.\n",
    "    # Raises\n",
    "        ValueError if `brightness_range` isn't a tuple.\n",
    "    \"\"\"\n",
    "    x = array_to_img(x)\n",
    "    x = imgenhancer_Brightness = ImageEnhance.Brightness(x)\n",
    "    x = imgenhancer_Brightness.enhance(brightness)\n",
    "    x = img_to_array(x)\n",
    "    return x"
   ]
  },
  {
   "cell_type": "code",
   "execution_count": 3,
   "metadata": {},
   "outputs": [
    {
     "ename": "NameError",
     "evalue": "name 'x' is not defined",
     "output_type": "error",
     "traceback": [
      "\u001b[0;31m---------------------------------------------------------------------------\u001b[0m",
      "\u001b[0;31mNameError\u001b[0m                                 Traceback (most recent call last)",
      "\u001b[0;32m<ipython-input-3-f6da7cb0abc6>\u001b[0m in \u001b[0;36m<module>\u001b[0;34m\u001b[0m\n\u001b[1;32m      2\u001b[0m     brightness = np.random.uniform(brightness_range[0],\n\u001b[1;32m      3\u001b[0m                                    brightness_range[1])\n\u001b[0;32m----> 4\u001b[0;31m     \u001b[0mx\u001b[0m \u001b[0;34m=\u001b[0m \u001b[0mapply_brightness_shift\u001b[0m\u001b[0;34m(\u001b[0m\u001b[0mx\u001b[0m\u001b[0;34m,\u001b[0m \u001b[0mbrightness\u001b[0m\u001b[0;34m)\u001b[0m\u001b[0;34m\u001b[0m\u001b[0;34m\u001b[0m\u001b[0m\n\u001b[0m",
      "\u001b[0;31mNameError\u001b[0m: name 'x' is not defined"
     ]
    }
   ],
   "source": [
    "if np.random.random() < 0.5:\n",
    "    brightness = np.random.uniform(brightness_range[0],\n",
    "                                   brightness_range[1])\n",
    "    x = apply_brightness_shift(x, brightness)"
   ]
  },
  {
   "cell_type": "code",
   "execution_count": null,
   "metadata": {},
   "outputs": [],
   "source": []
  }
 ],
 "metadata": {
  "kernelspec": {
   "display_name": "Python 3",
   "language": "python",
   "name": "python3"
  },
  "language_info": {
   "codemirror_mode": {
    "name": "ipython",
    "version": 3
   },
   "file_extension": ".py",
   "mimetype": "text/x-python",
   "name": "python",
   "nbconvert_exporter": "python",
   "pygments_lexer": "ipython3",
   "version": "3.7.9"
  }
 },
 "nbformat": 4,
 "nbformat_minor": 4
}
